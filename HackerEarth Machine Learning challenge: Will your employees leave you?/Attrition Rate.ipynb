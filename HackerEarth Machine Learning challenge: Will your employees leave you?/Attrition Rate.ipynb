{
 "cells": [
  {
   "cell_type": "code",
   "execution_count": 1,
   "metadata": {},
   "outputs": [],
   "source": [
    "import numpy as np\n",
    "import pandas as pd\n",
    "import matplotlib.pyplot as plt\n",
    "import seaborn as sns"
   ]
  },
  {
   "cell_type": "code",
   "execution_count": 2,
   "metadata": {},
   "outputs": [],
   "source": [
    "train = pd.read_csv(\"Dataset/Train.csv\")\n",
    "test = pd.read_csv(\"Dataset/Test.csv\")"
   ]
  },
  {
   "cell_type": "code",
   "execution_count": 3,
   "metadata": {},
   "outputs": [
    {
     "name": "stdout",
     "output_type": "stream",
     "text": [
      "Size of Train Data:  7000\n",
      "Size of Test Data:  3000\n"
     ]
    }
   ],
   "source": [
    "print(\"Size of Train Data: \", len(train))\n",
    "print(\"Size of Test Data: \", len(test))"
   ]
  },
  {
   "cell_type": "code",
   "execution_count": 4,
   "metadata": {},
   "outputs": [
    {
     "name": "stdout",
     "output_type": "stream",
     "text": [
      "List of Columns:\t['Employee_ID', 'Gender', 'Age', 'Education_Level', 'Relationship_Status', 'Hometown', 'Unit', 'Decision_skill_possess', 'Time_of_service', 'Time_since_promotion', 'growth_rate', 'Travel_Rate', 'Post_Level', 'Pay_Scale', 'Compensation_and_Benefits', 'Work_Life_balance', 'VAR1', 'VAR2', 'VAR3', 'VAR4', 'VAR5', 'VAR6', 'VAR7', 'Attrition_rate']\n",
      "\n",
      "How many colums:  24\n"
     ]
    }
   ],
   "source": [
    "print(\"List of Columns:\", end = '\\t')\n",
    "print(list(train.columns))\n",
    "print()\n",
    "print(\"How many colums: \", len(list(train.columns)))"
   ]
  },
  {
   "cell_type": "code",
   "execution_count": 5,
   "metadata": {},
   "outputs": [
    {
     "data": {
      "text/html": [
       "<div>\n",
       "<style scoped>\n",
       "    .dataframe tbody tr th:only-of-type {\n",
       "        vertical-align: middle;\n",
       "    }\n",
       "\n",
       "    .dataframe tbody tr th {\n",
       "        vertical-align: top;\n",
       "    }\n",
       "\n",
       "    .dataframe thead th {\n",
       "        text-align: right;\n",
       "    }\n",
       "</style>\n",
       "<table border=\"1\" class=\"dataframe\">\n",
       "  <thead>\n",
       "    <tr style=\"text-align: right;\">\n",
       "      <th></th>\n",
       "      <th>Employee_ID</th>\n",
       "      <th>Gender</th>\n",
       "      <th>Age</th>\n",
       "      <th>Education_Level</th>\n",
       "      <th>Relationship_Status</th>\n",
       "      <th>Hometown</th>\n",
       "      <th>Unit</th>\n",
       "      <th>Decision_skill_possess</th>\n",
       "      <th>Time_of_service</th>\n",
       "      <th>Time_since_promotion</th>\n",
       "      <th>...</th>\n",
       "      <th>Compensation_and_Benefits</th>\n",
       "      <th>Work_Life_balance</th>\n",
       "      <th>VAR1</th>\n",
       "      <th>VAR2</th>\n",
       "      <th>VAR3</th>\n",
       "      <th>VAR4</th>\n",
       "      <th>VAR5</th>\n",
       "      <th>VAR6</th>\n",
       "      <th>VAR7</th>\n",
       "      <th>Attrition_rate</th>\n",
       "    </tr>\n",
       "  </thead>\n",
       "  <tbody>\n",
       "    <tr>\n",
       "      <th>0</th>\n",
       "      <td>EID_23371</td>\n",
       "      <td>F</td>\n",
       "      <td>42.0</td>\n",
       "      <td>4</td>\n",
       "      <td>Married</td>\n",
       "      <td>Franklin</td>\n",
       "      <td>IT</td>\n",
       "      <td>Conceptual</td>\n",
       "      <td>4.0</td>\n",
       "      <td>4</td>\n",
       "      <td>...</td>\n",
       "      <td>type2</td>\n",
       "      <td>3.0</td>\n",
       "      <td>4</td>\n",
       "      <td>0.7516</td>\n",
       "      <td>1.8688</td>\n",
       "      <td>2.0</td>\n",
       "      <td>4</td>\n",
       "      <td>5</td>\n",
       "      <td>3</td>\n",
       "      <td>0.1841</td>\n",
       "    </tr>\n",
       "    <tr>\n",
       "      <th>1</th>\n",
       "      <td>EID_18000</td>\n",
       "      <td>M</td>\n",
       "      <td>24.0</td>\n",
       "      <td>3</td>\n",
       "      <td>Single</td>\n",
       "      <td>Springfield</td>\n",
       "      <td>Logistics</td>\n",
       "      <td>Analytical</td>\n",
       "      <td>5.0</td>\n",
       "      <td>4</td>\n",
       "      <td>...</td>\n",
       "      <td>type2</td>\n",
       "      <td>4.0</td>\n",
       "      <td>3</td>\n",
       "      <td>-0.9612</td>\n",
       "      <td>-0.4537</td>\n",
       "      <td>2.0</td>\n",
       "      <td>3</td>\n",
       "      <td>5</td>\n",
       "      <td>3</td>\n",
       "      <td>0.0670</td>\n",
       "    </tr>\n",
       "    <tr>\n",
       "      <th>2</th>\n",
       "      <td>EID_3891</td>\n",
       "      <td>F</td>\n",
       "      <td>58.0</td>\n",
       "      <td>3</td>\n",
       "      <td>Married</td>\n",
       "      <td>Clinton</td>\n",
       "      <td>Quality</td>\n",
       "      <td>Conceptual</td>\n",
       "      <td>27.0</td>\n",
       "      <td>3</td>\n",
       "      <td>...</td>\n",
       "      <td>type2</td>\n",
       "      <td>1.0</td>\n",
       "      <td>4</td>\n",
       "      <td>-0.9612</td>\n",
       "      <td>-0.4537</td>\n",
       "      <td>3.0</td>\n",
       "      <td>3</td>\n",
       "      <td>8</td>\n",
       "      <td>3</td>\n",
       "      <td>0.0851</td>\n",
       "    </tr>\n",
       "    <tr>\n",
       "      <th>3</th>\n",
       "      <td>EID_17492</td>\n",
       "      <td>F</td>\n",
       "      <td>26.0</td>\n",
       "      <td>3</td>\n",
       "      <td>Single</td>\n",
       "      <td>Lebanon</td>\n",
       "      <td>Human Resource Management</td>\n",
       "      <td>Behavioral</td>\n",
       "      <td>4.0</td>\n",
       "      <td>3</td>\n",
       "      <td>...</td>\n",
       "      <td>type2</td>\n",
       "      <td>1.0</td>\n",
       "      <td>3</td>\n",
       "      <td>-1.8176</td>\n",
       "      <td>-0.4537</td>\n",
       "      <td>NaN</td>\n",
       "      <td>3</td>\n",
       "      <td>7</td>\n",
       "      <td>3</td>\n",
       "      <td>0.0668</td>\n",
       "    </tr>\n",
       "    <tr>\n",
       "      <th>4</th>\n",
       "      <td>EID_22534</td>\n",
       "      <td>F</td>\n",
       "      <td>31.0</td>\n",
       "      <td>1</td>\n",
       "      <td>Married</td>\n",
       "      <td>Springfield</td>\n",
       "      <td>Logistics</td>\n",
       "      <td>Conceptual</td>\n",
       "      <td>5.0</td>\n",
       "      <td>4</td>\n",
       "      <td>...</td>\n",
       "      <td>type3</td>\n",
       "      <td>3.0</td>\n",
       "      <td>1</td>\n",
       "      <td>0.7516</td>\n",
       "      <td>-0.4537</td>\n",
       "      <td>2.0</td>\n",
       "      <td>2</td>\n",
       "      <td>8</td>\n",
       "      <td>2</td>\n",
       "      <td>0.1827</td>\n",
       "    </tr>\n",
       "  </tbody>\n",
       "</table>\n",
       "<p>5 rows × 24 columns</p>\n",
       "</div>"
      ],
      "text/plain": [
       "  Employee_ID Gender   Age  Education_Level Relationship_Status     Hometown  \\\n",
       "0   EID_23371      F  42.0                4             Married     Franklin   \n",
       "1   EID_18000      M  24.0                3              Single  Springfield   \n",
       "2    EID_3891      F  58.0                3             Married      Clinton   \n",
       "3   EID_17492      F  26.0                3              Single      Lebanon   \n",
       "4   EID_22534      F  31.0                1             Married  Springfield   \n",
       "\n",
       "                        Unit Decision_skill_possess  Time_of_service  \\\n",
       "0                         IT             Conceptual              4.0   \n",
       "1                  Logistics             Analytical              5.0   \n",
       "2                    Quality             Conceptual             27.0   \n",
       "3  Human Resource Management             Behavioral              4.0   \n",
       "4                  Logistics             Conceptual              5.0   \n",
       "\n",
       "   Time_since_promotion  ...  Compensation_and_Benefits  Work_Life_balance  \\\n",
       "0                     4  ...                      type2                3.0   \n",
       "1                     4  ...                      type2                4.0   \n",
       "2                     3  ...                      type2                1.0   \n",
       "3                     3  ...                      type2                1.0   \n",
       "4                     4  ...                      type3                3.0   \n",
       "\n",
       "   VAR1    VAR2    VAR3  VAR4  VAR5  VAR6  VAR7  Attrition_rate  \n",
       "0     4  0.7516  1.8688   2.0     4     5     3          0.1841  \n",
       "1     3 -0.9612 -0.4537   2.0     3     5     3          0.0670  \n",
       "2     4 -0.9612 -0.4537   3.0     3     8     3          0.0851  \n",
       "3     3 -1.8176 -0.4537   NaN     3     7     3          0.0668  \n",
       "4     1  0.7516 -0.4537   2.0     2     8     2          0.1827  \n",
       "\n",
       "[5 rows x 24 columns]"
      ]
     },
     "execution_count": 5,
     "metadata": {},
     "output_type": "execute_result"
    }
   ],
   "source": [
    "train.head()"
   ]
  },
  {
   "cell_type": "code",
   "execution_count": 6,
   "metadata": {},
   "outputs": [
    {
     "data": {
      "text/html": [
       "<div>\n",
       "<style scoped>\n",
       "    .dataframe tbody tr th:only-of-type {\n",
       "        vertical-align: middle;\n",
       "    }\n",
       "\n",
       "    .dataframe tbody tr th {\n",
       "        vertical-align: top;\n",
       "    }\n",
       "\n",
       "    .dataframe thead th {\n",
       "        text-align: right;\n",
       "    }\n",
       "</style>\n",
       "<table border=\"1\" class=\"dataframe\">\n",
       "  <thead>\n",
       "    <tr style=\"text-align: right;\">\n",
       "      <th></th>\n",
       "      <th>Employee_ID</th>\n",
       "      <th>Gender</th>\n",
       "      <th>Age</th>\n",
       "      <th>Education_Level</th>\n",
       "      <th>Relationship_Status</th>\n",
       "      <th>Hometown</th>\n",
       "      <th>Unit</th>\n",
       "      <th>Decision_skill_possess</th>\n",
       "      <th>Time_of_service</th>\n",
       "      <th>Time_since_promotion</th>\n",
       "      <th>...</th>\n",
       "      <th>Pay_Scale</th>\n",
       "      <th>Compensation_and_Benefits</th>\n",
       "      <th>Work_Life_balance</th>\n",
       "      <th>VAR1</th>\n",
       "      <th>VAR2</th>\n",
       "      <th>VAR3</th>\n",
       "      <th>VAR4</th>\n",
       "      <th>VAR5</th>\n",
       "      <th>VAR6</th>\n",
       "      <th>VAR7</th>\n",
       "    </tr>\n",
       "  </thead>\n",
       "  <tbody>\n",
       "    <tr>\n",
       "      <th>0</th>\n",
       "      <td>EID_22713</td>\n",
       "      <td>F</td>\n",
       "      <td>32.0</td>\n",
       "      <td>5</td>\n",
       "      <td>Single</td>\n",
       "      <td>Springfield</td>\n",
       "      <td>R&amp;D</td>\n",
       "      <td>Conceptual</td>\n",
       "      <td>7.0</td>\n",
       "      <td>4</td>\n",
       "      <td>...</td>\n",
       "      <td>4.0</td>\n",
       "      <td>type2</td>\n",
       "      <td>1.0</td>\n",
       "      <td>3</td>\n",
       "      <td>-0.9612</td>\n",
       "      <td>-0.4537</td>\n",
       "      <td>2.0</td>\n",
       "      <td>1</td>\n",
       "      <td>8</td>\n",
       "      <td>4</td>\n",
       "    </tr>\n",
       "    <tr>\n",
       "      <th>1</th>\n",
       "      <td>EID_9658</td>\n",
       "      <td>M</td>\n",
       "      <td>65.0</td>\n",
       "      <td>2</td>\n",
       "      <td>Single</td>\n",
       "      <td>Lebanon</td>\n",
       "      <td>IT</td>\n",
       "      <td>Directive</td>\n",
       "      <td>41.0</td>\n",
       "      <td>2</td>\n",
       "      <td>...</td>\n",
       "      <td>1.0</td>\n",
       "      <td>type2</td>\n",
       "      <td>1.0</td>\n",
       "      <td>4</td>\n",
       "      <td>-0.9612</td>\n",
       "      <td>0.7075</td>\n",
       "      <td>1.0</td>\n",
       "      <td>2</td>\n",
       "      <td>8</td>\n",
       "      <td>2</td>\n",
       "    </tr>\n",
       "    <tr>\n",
       "      <th>2</th>\n",
       "      <td>EID_22203</td>\n",
       "      <td>M</td>\n",
       "      <td>52.0</td>\n",
       "      <td>3</td>\n",
       "      <td>Married</td>\n",
       "      <td>Springfield</td>\n",
       "      <td>Sales</td>\n",
       "      <td>Directive</td>\n",
       "      <td>21.0</td>\n",
       "      <td>3</td>\n",
       "      <td>...</td>\n",
       "      <td>8.0</td>\n",
       "      <td>type3</td>\n",
       "      <td>1.0</td>\n",
       "      <td>4</td>\n",
       "      <td>-0.1048</td>\n",
       "      <td>0.7075</td>\n",
       "      <td>2.0</td>\n",
       "      <td>1</td>\n",
       "      <td>9</td>\n",
       "      <td>3</td>\n",
       "    </tr>\n",
       "    <tr>\n",
       "      <th>3</th>\n",
       "      <td>EID_7652</td>\n",
       "      <td>M</td>\n",
       "      <td>50.0</td>\n",
       "      <td>5</td>\n",
       "      <td>Single</td>\n",
       "      <td>Washington</td>\n",
       "      <td>Marketing</td>\n",
       "      <td>Analytical</td>\n",
       "      <td>11.0</td>\n",
       "      <td>4</td>\n",
       "      <td>...</td>\n",
       "      <td>2.0</td>\n",
       "      <td>type0</td>\n",
       "      <td>4.0</td>\n",
       "      <td>3</td>\n",
       "      <td>-0.1048</td>\n",
       "      <td>0.7075</td>\n",
       "      <td>2.0</td>\n",
       "      <td>2</td>\n",
       "      <td>8</td>\n",
       "      <td>3</td>\n",
       "    </tr>\n",
       "    <tr>\n",
       "      <th>4</th>\n",
       "      <td>EID_6516</td>\n",
       "      <td>F</td>\n",
       "      <td>44.0</td>\n",
       "      <td>3</td>\n",
       "      <td>Married</td>\n",
       "      <td>Franklin</td>\n",
       "      <td>R&amp;D</td>\n",
       "      <td>Conceptual</td>\n",
       "      <td>12.0</td>\n",
       "      <td>4</td>\n",
       "      <td>...</td>\n",
       "      <td>2.0</td>\n",
       "      <td>type2</td>\n",
       "      <td>4.0</td>\n",
       "      <td>4</td>\n",
       "      <td>1.6081</td>\n",
       "      <td>0.7075</td>\n",
       "      <td>2.0</td>\n",
       "      <td>2</td>\n",
       "      <td>7</td>\n",
       "      <td>4</td>\n",
       "    </tr>\n",
       "  </tbody>\n",
       "</table>\n",
       "<p>5 rows × 23 columns</p>\n",
       "</div>"
      ],
      "text/plain": [
       "  Employee_ID Gender   Age  Education_Level Relationship_Status     Hometown  \\\n",
       "0   EID_22713      F  32.0                5              Single  Springfield   \n",
       "1    EID_9658      M  65.0                2              Single      Lebanon   \n",
       "2   EID_22203      M  52.0                3             Married  Springfield   \n",
       "3    EID_7652      M  50.0                5              Single   Washington   \n",
       "4    EID_6516      F  44.0                3             Married     Franklin   \n",
       "\n",
       "        Unit Decision_skill_possess  Time_of_service  Time_since_promotion  \\\n",
       "0        R&D             Conceptual              7.0                     4   \n",
       "1         IT              Directive             41.0                     2   \n",
       "2      Sales              Directive             21.0                     3   \n",
       "3  Marketing             Analytical             11.0                     4   \n",
       "4        R&D             Conceptual             12.0                     4   \n",
       "\n",
       "   ...  Pay_Scale  Compensation_and_Benefits  Work_Life_balance  VAR1    VAR2  \\\n",
       "0  ...        4.0                      type2                1.0     3 -0.9612   \n",
       "1  ...        1.0                      type2                1.0     4 -0.9612   \n",
       "2  ...        8.0                      type3                1.0     4 -0.1048   \n",
       "3  ...        2.0                      type0                4.0     3 -0.1048   \n",
       "4  ...        2.0                      type2                4.0     4  1.6081   \n",
       "\n",
       "     VAR3  VAR4  VAR5  VAR6  VAR7  \n",
       "0 -0.4537   2.0     1     8     4  \n",
       "1  0.7075   1.0     2     8     2  \n",
       "2  0.7075   2.0     1     9     3  \n",
       "3  0.7075   2.0     2     8     3  \n",
       "4  0.7075   2.0     2     7     4  \n",
       "\n",
       "[5 rows x 23 columns]"
      ]
     },
     "execution_count": 6,
     "metadata": {},
     "output_type": "execute_result"
    }
   ],
   "source": [
    "test.head()"
   ]
  },
  {
   "cell_type": "markdown",
   "metadata": {},
   "source": [
    "### Pre-processing Steps\n",
    "* check for Nan Value and replace"
   ]
  },
  {
   "cell_type": "code",
   "execution_count": 7,
   "metadata": {},
   "outputs": [
    {
     "name": "stdout",
     "output_type": "stream",
     "text": [
      "<class 'pandas.core.frame.DataFrame'>\n",
      "RangeIndex: 7000 entries, 0 to 6999\n",
      "Data columns (total 24 columns):\n",
      "Employee_ID                  7000 non-null object\n",
      "Gender                       7000 non-null object\n",
      "Age                          6588 non-null float64\n",
      "Education_Level              7000 non-null int64\n",
      "Relationship_Status          7000 non-null object\n",
      "Hometown                     7000 non-null object\n",
      "Unit                         7000 non-null object\n",
      "Decision_skill_possess       7000 non-null object\n",
      "Time_of_service              6856 non-null float64\n",
      "Time_since_promotion         7000 non-null int64\n",
      "growth_rate                  7000 non-null int64\n",
      "Travel_Rate                  7000 non-null int64\n",
      "Post_Level                   7000 non-null int64\n",
      "Pay_Scale                    6991 non-null float64\n",
      "Compensation_and_Benefits    7000 non-null object\n",
      "Work_Life_balance            6989 non-null float64\n",
      "VAR1                         7000 non-null int64\n",
      "VAR2                         6423 non-null float64\n",
      "VAR3                         7000 non-null float64\n",
      "VAR4                         6344 non-null float64\n",
      "VAR5                         7000 non-null int64\n",
      "VAR6                         7000 non-null int64\n",
      "VAR7                         7000 non-null int64\n",
      "Attrition_rate               7000 non-null float64\n",
      "dtypes: float64(8), int64(9), object(7)\n",
      "memory usage: 1.3+ MB\n"
     ]
    }
   ],
   "source": [
    "train.info()"
   ]
  },
  {
   "cell_type": "code",
   "execution_count": 8,
   "metadata": {},
   "outputs": [
    {
     "data": {
      "text/plain": [
       "Employee_ID                    0\n",
       "Gender                         0\n",
       "Age                          412\n",
       "Education_Level                0\n",
       "Relationship_Status            0\n",
       "Hometown                       0\n",
       "Unit                           0\n",
       "Decision_skill_possess         0\n",
       "Time_of_service              144\n",
       "Time_since_promotion           0\n",
       "growth_rate                    0\n",
       "Travel_Rate                    0\n",
       "Post_Level                     0\n",
       "Pay_Scale                      9\n",
       "Compensation_and_Benefits      0\n",
       "Work_Life_balance             11\n",
       "VAR1                           0\n",
       "VAR2                         577\n",
       "VAR3                           0\n",
       "VAR4                         656\n",
       "VAR5                           0\n",
       "VAR6                           0\n",
       "VAR7                           0\n",
       "Attrition_rate                 0\n",
       "dtype: int64"
      ]
     },
     "execution_count": 8,
     "metadata": {},
     "output_type": "execute_result"
    }
   ],
   "source": [
    "train.isna().sum()"
   ]
  },
  {
   "cell_type": "code",
   "execution_count": 9,
   "metadata": {},
   "outputs": [],
   "source": [
    "train = train.drop('VAR2',axis=1)\n",
    "test = test.drop('VAR2',axis=1)\n",
    "train = train.drop('VAR4', axis=1)\n",
    "test = test.drop('VAR4', axis=1)"
   ]
  },
  {
   "cell_type": "markdown",
   "metadata": {},
   "source": [
    "### We have missing values in Age, Time_of_service and Work_Life_balance and all are of type float64"
   ]
  },
  {
   "cell_type": "code",
   "execution_count": 10,
   "metadata": {},
   "outputs": [],
   "source": [
    "import math\n",
    "work_life_fill = float(math.floor(train['Work_Life_balance'].mean()))\n",
    "age_fill = float(math.ceil(train['Age'].mean()))\n",
    "service_fill = float(math.floor(train['Time_of_service'].mean()))"
   ]
  },
  {
   "cell_type": "code",
   "execution_count": 11,
   "metadata": {},
   "outputs": [
    {
     "name": "stdout",
     "output_type": "stream",
     "text": [
      "2.0 40.0 13.0\n"
     ]
    }
   ],
   "source": [
    "print(work_life_fill,age_fill,service_fill)"
   ]
  },
  {
   "cell_type": "code",
   "execution_count": 12,
   "metadata": {},
   "outputs": [],
   "source": [
    "train['Work_Life_balance'] = train['Work_Life_balance'].fillna(work_life_fill)\n",
    "train['Age'] = train['Age'].fillna(age_fill)\n",
    "train['Time_of_service'] = train['Time_of_service'].fillna(service_fill)"
   ]
  },
  {
   "cell_type": "code",
   "execution_count": 13,
   "metadata": {},
   "outputs": [
    {
     "data": {
      "text/plain": [
       "Employee_ID                   True\n",
       "Gender                        True\n",
       "Age                           True\n",
       "Education_Level               True\n",
       "Relationship_Status           True\n",
       "Hometown                      True\n",
       "Unit                          True\n",
       "Decision_skill_possess        True\n",
       "Time_of_service               True\n",
       "Time_since_promotion          True\n",
       "growth_rate                   True\n",
       "Travel_Rate                   True\n",
       "Post_Level                    True\n",
       "Pay_Scale                    False\n",
       "Compensation_and_Benefits     True\n",
       "Work_Life_balance             True\n",
       "VAR1                          True\n",
       "VAR3                          True\n",
       "VAR5                          True\n",
       "VAR6                          True\n",
       "VAR7                          True\n",
       "Attrition_rate                True\n",
       "dtype: bool"
      ]
     },
     "execution_count": 13,
     "metadata": {},
     "output_type": "execute_result"
    }
   ],
   "source": [
    "train.isna().sum() == 0"
   ]
  },
  {
   "cell_type": "code",
   "execution_count": 14,
   "metadata": {},
   "outputs": [],
   "source": [
    "test['Work_Life_balance'] = test['Work_Life_balance'].fillna(work_life_fill)\n",
    "test['Age'] = test['Age'].fillna(age_fill)\n",
    "test['Time_of_service'] = test['Time_of_service'].fillna(service_fill)"
   ]
  },
  {
   "cell_type": "code",
   "execution_count": 15,
   "metadata": {},
   "outputs": [
    {
     "data": {
      "text/plain": [
       "Employee_ID                  0\n",
       "Gender                       0\n",
       "Age                          0\n",
       "Education_Level              0\n",
       "Relationship_Status          0\n",
       "Hometown                     0\n",
       "Unit                         0\n",
       "Decision_skill_possess       0\n",
       "Time_of_service              0\n",
       "Time_since_promotion         0\n",
       "growth_rate                  0\n",
       "Travel_Rate                  0\n",
       "Post_Level                   0\n",
       "Pay_Scale                    3\n",
       "Compensation_and_Benefits    0\n",
       "Work_Life_balance            0\n",
       "VAR1                         0\n",
       "VAR3                         0\n",
       "VAR5                         0\n",
       "VAR6                         0\n",
       "VAR7                         0\n",
       "dtype: int64"
      ]
     },
     "execution_count": 15,
     "metadata": {},
     "output_type": "execute_result"
    }
   ],
   "source": [
    "test.isna().sum()"
   ]
  },
  {
   "cell_type": "code",
   "execution_count": 16,
   "metadata": {},
   "outputs": [],
   "source": [
    "pay_fill = float(math.floor(train['Pay_Scale'].mean()))\n",
    "test['Pay_Scale'] = test['Pay_Scale'].fillna(pay_fill)\n",
    "train['Pay_Scale'] = train['Pay_Scale'].fillna(pay_fill)"
   ]
  },
  {
   "cell_type": "code",
   "execution_count": 17,
   "metadata": {},
   "outputs": [],
   "source": [
    "train_ID = train['Employee_ID']\n",
    "train = train.drop('Employee_ID',axis=1)\n",
    "test_ID = test['Employee_ID']\n",
    "test = test.drop('Employee_ID',axis=1)"
   ]
  },
  {
   "cell_type": "markdown",
   "metadata": {},
   "source": [
    "#### Now there are no missing values, Next step is to deal with categorical data"
   ]
  },
  {
   "cell_type": "code",
   "execution_count": 18,
   "metadata": {},
   "outputs": [
    {
     "name": "stdout",
     "output_type": "stream",
     "text": [
      "<class 'pandas.core.frame.DataFrame'>\n",
      "RangeIndex: 7000 entries, 0 to 6999\n",
      "Data columns (total 21 columns):\n",
      "Gender                       7000 non-null object\n",
      "Age                          7000 non-null float64\n",
      "Education_Level              7000 non-null int64\n",
      "Relationship_Status          7000 non-null object\n",
      "Hometown                     7000 non-null object\n",
      "Unit                         7000 non-null object\n",
      "Decision_skill_possess       7000 non-null object\n",
      "Time_of_service              7000 non-null float64\n",
      "Time_since_promotion         7000 non-null int64\n",
      "growth_rate                  7000 non-null int64\n",
      "Travel_Rate                  7000 non-null int64\n",
      "Post_Level                   7000 non-null int64\n",
      "Pay_Scale                    7000 non-null float64\n",
      "Compensation_and_Benefits    7000 non-null object\n",
      "Work_Life_balance            7000 non-null float64\n",
      "VAR1                         7000 non-null int64\n",
      "VAR3                         7000 non-null float64\n",
      "VAR5                         7000 non-null int64\n",
      "VAR6                         7000 non-null int64\n",
      "VAR7                         7000 non-null int64\n",
      "Attrition_rate               7000 non-null float64\n",
      "dtypes: float64(6), int64(9), object(6)\n",
      "memory usage: 1.1+ MB\n"
     ]
    }
   ],
   "source": [
    "train.info()"
   ]
  },
  {
   "cell_type": "markdown",
   "metadata": {},
   "source": [
    "#### Categorical object with object type are : Gender, Relationship_Status, Hometown, Unit, Decision_skill_possess, Compensation_and_Benefits."
   ]
  },
  {
   "cell_type": "code",
   "execution_count": 19,
   "metadata": {},
   "outputs": [
    {
     "data": {
      "text/plain": [
       "F    4114\n",
       "M    2886\n",
       "Name: Gender, dtype: int64"
      ]
     },
     "execution_count": 19,
     "metadata": {},
     "output_type": "execute_result"
    }
   ],
   "source": [
    "train['Gender'].value_counts()"
   ]
  },
  {
   "cell_type": "code",
   "execution_count": 20,
   "metadata": {},
   "outputs": [],
   "source": [
    "train['Gender'] = train['Gender'].map({'M':-1, 'F': 1})\n",
    "test['Gender'] = test['Gender'].map({'M':-1, 'F': 1})"
   ]
  },
  {
   "cell_type": "code",
   "execution_count": 21,
   "metadata": {},
   "outputs": [
    {
     "data": {
      "text/plain": [
       "Married    4520\n",
       "Single     2480\n",
       "Name: Relationship_Status, dtype: int64"
      ]
     },
     "execution_count": 21,
     "metadata": {},
     "output_type": "execute_result"
    }
   ],
   "source": [
    "train['Relationship_Status'].value_counts()"
   ]
  },
  {
   "cell_type": "code",
   "execution_count": 22,
   "metadata": {},
   "outputs": [],
   "source": [
    "train['Relationship_Status'] = train['Relationship_Status'].map({'Married':1, 'Single': -1})\n",
    "test['Relationship_Status'] = test['Relationship_Status'].map({'Married':-1, 'Single': 1})"
   ]
  },
  {
   "cell_type": "code",
   "execution_count": 23,
   "metadata": {},
   "outputs": [
    {
     "data": {
      "text/plain": [
       "Lebanon        2070\n",
       "Springfield    1736\n",
       "Franklin       1523\n",
       "Washington     1106\n",
       "Clinton         565\n",
       "Name: Hometown, dtype: int64"
      ]
     },
     "execution_count": 23,
     "metadata": {},
     "output_type": "execute_result"
    }
   ],
   "source": [
    "train['Hometown'].value_counts()"
   ]
  },
  {
   "cell_type": "code",
   "execution_count": 24,
   "metadata": {},
   "outputs": [],
   "source": [
    "train['Hometown'] = train['Hometown'].map({'Lebanon':4, 'Springfield': 3, 'Franklin': 2, 'Washington': 1, 'Clinton': 0})\n",
    "test['Hometown'] = test['Hometown'].map({'Lebanon':4, 'Springfield': 3, 'Franklin': 2, 'Washington': 1, 'Clinton': 0})"
   ]
  },
  {
   "cell_type": "code",
   "execution_count": 25,
   "metadata": {},
   "outputs": [
    {
     "data": {
      "text/plain": [
       "IT                           1394\n",
       "Logistics                    1173\n",
       "Sales                         943\n",
       "Operarions                    706\n",
       "R&D                           680\n",
       "Purchasing                    504\n",
       "Accounting and Finance        496\n",
       "Human Resource Management     344\n",
       "Marketing                     212\n",
       "Production                    211\n",
       "Quality                       193\n",
       "Security                      144\n",
       "Name: Unit, dtype: int64"
      ]
     },
     "execution_count": 25,
     "metadata": {},
     "output_type": "execute_result"
    }
   ],
   "source": [
    "train['Unit'].value_counts()"
   ]
  },
  {
   "cell_type": "code",
   "execution_count": 26,
   "metadata": {},
   "outputs": [],
   "source": [
    "train['Unit'] = train['Unit'].map({'IT':11,'Logistics':10,'Sales':9,'Operarions':8,'R&D':7,'Purchasing':6,'Accounting and Finance':5,'Human Resource Management':4,'Marketing':3,'Production':2,'Quality':1,'Security':0})\n",
    "test['Unit'] = test['Unit'].map({'IT':11,'Logistics':10,'Sales':9,'Operarions':8,'R&D':7,'Purchasing':6,'Accounting and Finance':5,'Human Resource Management':4,'Marketing':3,'Production':2,'Quality':1,'Security':0})"
   ]
  },
  {
   "cell_type": "code",
   "execution_count": 27,
   "metadata": {},
   "outputs": [
    {
     "data": {
      "text/plain": [
       "Conceptual    1756\n",
       "Analytical    1755\n",
       "Directive     1753\n",
       "Behavioral    1736\n",
       "Name: Decision_skill_possess, dtype: int64"
      ]
     },
     "execution_count": 27,
     "metadata": {},
     "output_type": "execute_result"
    }
   ],
   "source": [
    "train['Decision_skill_possess'].value_counts()"
   ]
  },
  {
   "cell_type": "markdown",
   "metadata": {},
   "source": [
    "#### We will get_dummies for Decision_skill_possess"
   ]
  },
  {
   "cell_type": "code",
   "execution_count": 28,
   "metadata": {},
   "outputs": [
    {
     "data": {
      "text/plain": [
       "type2    3945\n",
       "type3    2382\n",
       "type4     353\n",
       "type0     187\n",
       "type1     133\n",
       "Name: Compensation_and_Benefits, dtype: int64"
      ]
     },
     "execution_count": 28,
     "metadata": {},
     "output_type": "execute_result"
    }
   ],
   "source": [
    "train['Compensation_and_Benefits'].value_counts()"
   ]
  },
  {
   "cell_type": "code",
   "execution_count": 29,
   "metadata": {},
   "outputs": [],
   "source": [
    "train['Compensation_and_Benefits'] = train['Compensation_and_Benefits'].map({'type2':4,'type3':3,'type4':2,'type0':1,'type1':0})\n",
    "test['Compensation_and_Benefits'] = test['Compensation_and_Benefits'].map({'type2':4,'type3':3,'type4':2,'type0':1,'type1':0})"
   ]
  },
  {
   "cell_type": "code",
   "execution_count": 30,
   "metadata": {},
   "outputs": [
    {
     "data": {
      "text/html": [
       "<div>\n",
       "<style scoped>\n",
       "    .dataframe tbody tr th:only-of-type {\n",
       "        vertical-align: middle;\n",
       "    }\n",
       "\n",
       "    .dataframe tbody tr th {\n",
       "        vertical-align: top;\n",
       "    }\n",
       "\n",
       "    .dataframe thead th {\n",
       "        text-align: right;\n",
       "    }\n",
       "</style>\n",
       "<table border=\"1\" class=\"dataframe\">\n",
       "  <thead>\n",
       "    <tr style=\"text-align: right;\">\n",
       "      <th></th>\n",
       "      <th>Gender</th>\n",
       "      <th>Age</th>\n",
       "      <th>Education_Level</th>\n",
       "      <th>Relationship_Status</th>\n",
       "      <th>Hometown</th>\n",
       "      <th>Unit</th>\n",
       "      <th>Decision_skill_possess</th>\n",
       "      <th>Time_of_service</th>\n",
       "      <th>Time_since_promotion</th>\n",
       "      <th>growth_rate</th>\n",
       "      <th>...</th>\n",
       "      <th>Post_Level</th>\n",
       "      <th>Pay_Scale</th>\n",
       "      <th>Compensation_and_Benefits</th>\n",
       "      <th>Work_Life_balance</th>\n",
       "      <th>VAR1</th>\n",
       "      <th>VAR3</th>\n",
       "      <th>VAR5</th>\n",
       "      <th>VAR6</th>\n",
       "      <th>VAR7</th>\n",
       "      <th>Attrition_rate</th>\n",
       "    </tr>\n",
       "  </thead>\n",
       "  <tbody>\n",
       "    <tr>\n",
       "      <th>0</th>\n",
       "      <td>1</td>\n",
       "      <td>42.0</td>\n",
       "      <td>4</td>\n",
       "      <td>1</td>\n",
       "      <td>2</td>\n",
       "      <td>11</td>\n",
       "      <td>Conceptual</td>\n",
       "      <td>4.0</td>\n",
       "      <td>4</td>\n",
       "      <td>33</td>\n",
       "      <td>...</td>\n",
       "      <td>1</td>\n",
       "      <td>7.0</td>\n",
       "      <td>4</td>\n",
       "      <td>3.0</td>\n",
       "      <td>4</td>\n",
       "      <td>1.8688</td>\n",
       "      <td>4</td>\n",
       "      <td>5</td>\n",
       "      <td>3</td>\n",
       "      <td>0.1841</td>\n",
       "    </tr>\n",
       "    <tr>\n",
       "      <th>1</th>\n",
       "      <td>-1</td>\n",
       "      <td>24.0</td>\n",
       "      <td>3</td>\n",
       "      <td>-1</td>\n",
       "      <td>3</td>\n",
       "      <td>10</td>\n",
       "      <td>Analytical</td>\n",
       "      <td>5.0</td>\n",
       "      <td>4</td>\n",
       "      <td>36</td>\n",
       "      <td>...</td>\n",
       "      <td>3</td>\n",
       "      <td>6.0</td>\n",
       "      <td>4</td>\n",
       "      <td>4.0</td>\n",
       "      <td>3</td>\n",
       "      <td>-0.4537</td>\n",
       "      <td>3</td>\n",
       "      <td>5</td>\n",
       "      <td>3</td>\n",
       "      <td>0.0670</td>\n",
       "    </tr>\n",
       "    <tr>\n",
       "      <th>2</th>\n",
       "      <td>1</td>\n",
       "      <td>58.0</td>\n",
       "      <td>3</td>\n",
       "      <td>1</td>\n",
       "      <td>0</td>\n",
       "      <td>1</td>\n",
       "      <td>Conceptual</td>\n",
       "      <td>27.0</td>\n",
       "      <td>3</td>\n",
       "      <td>51</td>\n",
       "      <td>...</td>\n",
       "      <td>2</td>\n",
       "      <td>8.0</td>\n",
       "      <td>4</td>\n",
       "      <td>1.0</td>\n",
       "      <td>4</td>\n",
       "      <td>-0.4537</td>\n",
       "      <td>3</td>\n",
       "      <td>8</td>\n",
       "      <td>3</td>\n",
       "      <td>0.0851</td>\n",
       "    </tr>\n",
       "    <tr>\n",
       "      <th>3</th>\n",
       "      <td>1</td>\n",
       "      <td>26.0</td>\n",
       "      <td>3</td>\n",
       "      <td>-1</td>\n",
       "      <td>4</td>\n",
       "      <td>4</td>\n",
       "      <td>Behavioral</td>\n",
       "      <td>4.0</td>\n",
       "      <td>3</td>\n",
       "      <td>56</td>\n",
       "      <td>...</td>\n",
       "      <td>3</td>\n",
       "      <td>8.0</td>\n",
       "      <td>4</td>\n",
       "      <td>1.0</td>\n",
       "      <td>3</td>\n",
       "      <td>-0.4537</td>\n",
       "      <td>3</td>\n",
       "      <td>7</td>\n",
       "      <td>3</td>\n",
       "      <td>0.0668</td>\n",
       "    </tr>\n",
       "    <tr>\n",
       "      <th>4</th>\n",
       "      <td>1</td>\n",
       "      <td>31.0</td>\n",
       "      <td>1</td>\n",
       "      <td>1</td>\n",
       "      <td>3</td>\n",
       "      <td>10</td>\n",
       "      <td>Conceptual</td>\n",
       "      <td>5.0</td>\n",
       "      <td>4</td>\n",
       "      <td>62</td>\n",
       "      <td>...</td>\n",
       "      <td>3</td>\n",
       "      <td>2.0</td>\n",
       "      <td>3</td>\n",
       "      <td>3.0</td>\n",
       "      <td>1</td>\n",
       "      <td>-0.4537</td>\n",
       "      <td>2</td>\n",
       "      <td>8</td>\n",
       "      <td>2</td>\n",
       "      <td>0.1827</td>\n",
       "    </tr>\n",
       "  </tbody>\n",
       "</table>\n",
       "<p>5 rows × 21 columns</p>\n",
       "</div>"
      ],
      "text/plain": [
       "   Gender   Age  Education_Level  Relationship_Status  Hometown  Unit  \\\n",
       "0       1  42.0                4                    1         2    11   \n",
       "1      -1  24.0                3                   -1         3    10   \n",
       "2       1  58.0                3                    1         0     1   \n",
       "3       1  26.0                3                   -1         4     4   \n",
       "4       1  31.0                1                    1         3    10   \n",
       "\n",
       "  Decision_skill_possess  Time_of_service  Time_since_promotion  growth_rate  \\\n",
       "0             Conceptual              4.0                     4           33   \n",
       "1             Analytical              5.0                     4           36   \n",
       "2             Conceptual             27.0                     3           51   \n",
       "3             Behavioral              4.0                     3           56   \n",
       "4             Conceptual              5.0                     4           62   \n",
       "\n",
       "   ...  Post_Level  Pay_Scale  Compensation_and_Benefits  Work_Life_balance  \\\n",
       "0  ...           1        7.0                          4                3.0   \n",
       "1  ...           3        6.0                          4                4.0   \n",
       "2  ...           2        8.0                          4                1.0   \n",
       "3  ...           3        8.0                          4                1.0   \n",
       "4  ...           3        2.0                          3                3.0   \n",
       "\n",
       "   VAR1    VAR3  VAR5  VAR6  VAR7  Attrition_rate  \n",
       "0     4  1.8688     4     5     3          0.1841  \n",
       "1     3 -0.4537     3     5     3          0.0670  \n",
       "2     4 -0.4537     3     8     3          0.0851  \n",
       "3     3 -0.4537     3     7     3          0.0668  \n",
       "4     1 -0.4537     2     8     2          0.1827  \n",
       "\n",
       "[5 rows x 21 columns]"
      ]
     },
     "execution_count": 30,
     "metadata": {},
     "output_type": "execute_result"
    }
   ],
   "source": [
    "train.head()"
   ]
  },
  {
   "cell_type": "code",
   "execution_count": 31,
   "metadata": {},
   "outputs": [],
   "source": [
    "train = pd.get_dummies(train)\n",
    "test = pd.get_dummies(test)"
   ]
  },
  {
   "cell_type": "code",
   "execution_count": 32,
   "metadata": {},
   "outputs": [
    {
     "data": {
      "text/html": [
       "<div>\n",
       "<style scoped>\n",
       "    .dataframe tbody tr th:only-of-type {\n",
       "        vertical-align: middle;\n",
       "    }\n",
       "\n",
       "    .dataframe tbody tr th {\n",
       "        vertical-align: top;\n",
       "    }\n",
       "\n",
       "    .dataframe thead th {\n",
       "        text-align: right;\n",
       "    }\n",
       "</style>\n",
       "<table border=\"1\" class=\"dataframe\">\n",
       "  <thead>\n",
       "    <tr style=\"text-align: right;\">\n",
       "      <th></th>\n",
       "      <th>Gender</th>\n",
       "      <th>Age</th>\n",
       "      <th>Education_Level</th>\n",
       "      <th>Relationship_Status</th>\n",
       "      <th>Hometown</th>\n",
       "      <th>Unit</th>\n",
       "      <th>Time_of_service</th>\n",
       "      <th>Time_since_promotion</th>\n",
       "      <th>growth_rate</th>\n",
       "      <th>Travel_Rate</th>\n",
       "      <th>...</th>\n",
       "      <th>VAR1</th>\n",
       "      <th>VAR3</th>\n",
       "      <th>VAR5</th>\n",
       "      <th>VAR6</th>\n",
       "      <th>VAR7</th>\n",
       "      <th>Attrition_rate</th>\n",
       "      <th>Decision_skill_possess_Analytical</th>\n",
       "      <th>Decision_skill_possess_Behavioral</th>\n",
       "      <th>Decision_skill_possess_Conceptual</th>\n",
       "      <th>Decision_skill_possess_Directive</th>\n",
       "    </tr>\n",
       "  </thead>\n",
       "  <tbody>\n",
       "    <tr>\n",
       "      <th>0</th>\n",
       "      <td>1</td>\n",
       "      <td>42.0</td>\n",
       "      <td>4</td>\n",
       "      <td>1</td>\n",
       "      <td>2</td>\n",
       "      <td>11</td>\n",
       "      <td>4.0</td>\n",
       "      <td>4</td>\n",
       "      <td>33</td>\n",
       "      <td>1</td>\n",
       "      <td>...</td>\n",
       "      <td>4</td>\n",
       "      <td>1.8688</td>\n",
       "      <td>4</td>\n",
       "      <td>5</td>\n",
       "      <td>3</td>\n",
       "      <td>0.1841</td>\n",
       "      <td>0</td>\n",
       "      <td>0</td>\n",
       "      <td>1</td>\n",
       "      <td>0</td>\n",
       "    </tr>\n",
       "    <tr>\n",
       "      <th>1</th>\n",
       "      <td>-1</td>\n",
       "      <td>24.0</td>\n",
       "      <td>3</td>\n",
       "      <td>-1</td>\n",
       "      <td>3</td>\n",
       "      <td>10</td>\n",
       "      <td>5.0</td>\n",
       "      <td>4</td>\n",
       "      <td>36</td>\n",
       "      <td>0</td>\n",
       "      <td>...</td>\n",
       "      <td>3</td>\n",
       "      <td>-0.4537</td>\n",
       "      <td>3</td>\n",
       "      <td>5</td>\n",
       "      <td>3</td>\n",
       "      <td>0.0670</td>\n",
       "      <td>1</td>\n",
       "      <td>0</td>\n",
       "      <td>0</td>\n",
       "      <td>0</td>\n",
       "    </tr>\n",
       "    <tr>\n",
       "      <th>2</th>\n",
       "      <td>1</td>\n",
       "      <td>58.0</td>\n",
       "      <td>3</td>\n",
       "      <td>1</td>\n",
       "      <td>0</td>\n",
       "      <td>1</td>\n",
       "      <td>27.0</td>\n",
       "      <td>3</td>\n",
       "      <td>51</td>\n",
       "      <td>0</td>\n",
       "      <td>...</td>\n",
       "      <td>4</td>\n",
       "      <td>-0.4537</td>\n",
       "      <td>3</td>\n",
       "      <td>8</td>\n",
       "      <td>3</td>\n",
       "      <td>0.0851</td>\n",
       "      <td>0</td>\n",
       "      <td>0</td>\n",
       "      <td>1</td>\n",
       "      <td>0</td>\n",
       "    </tr>\n",
       "    <tr>\n",
       "      <th>3</th>\n",
       "      <td>1</td>\n",
       "      <td>26.0</td>\n",
       "      <td>3</td>\n",
       "      <td>-1</td>\n",
       "      <td>4</td>\n",
       "      <td>4</td>\n",
       "      <td>4.0</td>\n",
       "      <td>3</td>\n",
       "      <td>56</td>\n",
       "      <td>1</td>\n",
       "      <td>...</td>\n",
       "      <td>3</td>\n",
       "      <td>-0.4537</td>\n",
       "      <td>3</td>\n",
       "      <td>7</td>\n",
       "      <td>3</td>\n",
       "      <td>0.0668</td>\n",
       "      <td>0</td>\n",
       "      <td>1</td>\n",
       "      <td>0</td>\n",
       "      <td>0</td>\n",
       "    </tr>\n",
       "    <tr>\n",
       "      <th>4</th>\n",
       "      <td>1</td>\n",
       "      <td>31.0</td>\n",
       "      <td>1</td>\n",
       "      <td>1</td>\n",
       "      <td>3</td>\n",
       "      <td>10</td>\n",
       "      <td>5.0</td>\n",
       "      <td>4</td>\n",
       "      <td>62</td>\n",
       "      <td>1</td>\n",
       "      <td>...</td>\n",
       "      <td>1</td>\n",
       "      <td>-0.4537</td>\n",
       "      <td>2</td>\n",
       "      <td>8</td>\n",
       "      <td>2</td>\n",
       "      <td>0.1827</td>\n",
       "      <td>0</td>\n",
       "      <td>0</td>\n",
       "      <td>1</td>\n",
       "      <td>0</td>\n",
       "    </tr>\n",
       "  </tbody>\n",
       "</table>\n",
       "<p>5 rows × 24 columns</p>\n",
       "</div>"
      ],
      "text/plain": [
       "   Gender   Age  Education_Level  Relationship_Status  Hometown  Unit  \\\n",
       "0       1  42.0                4                    1         2    11   \n",
       "1      -1  24.0                3                   -1         3    10   \n",
       "2       1  58.0                3                    1         0     1   \n",
       "3       1  26.0                3                   -1         4     4   \n",
       "4       1  31.0                1                    1         3    10   \n",
       "\n",
       "   Time_of_service  Time_since_promotion  growth_rate  Travel_Rate  ...  VAR1  \\\n",
       "0              4.0                     4           33            1  ...     4   \n",
       "1              5.0                     4           36            0  ...     3   \n",
       "2             27.0                     3           51            0  ...     4   \n",
       "3              4.0                     3           56            1  ...     3   \n",
       "4              5.0                     4           62            1  ...     1   \n",
       "\n",
       "     VAR3  VAR5  VAR6  VAR7  Attrition_rate  \\\n",
       "0  1.8688     4     5     3          0.1841   \n",
       "1 -0.4537     3     5     3          0.0670   \n",
       "2 -0.4537     3     8     3          0.0851   \n",
       "3 -0.4537     3     7     3          0.0668   \n",
       "4 -0.4537     2     8     2          0.1827   \n",
       "\n",
       "   Decision_skill_possess_Analytical  Decision_skill_possess_Behavioral  \\\n",
       "0                                  0                                  0   \n",
       "1                                  1                                  0   \n",
       "2                                  0                                  0   \n",
       "3                                  0                                  1   \n",
       "4                                  0                                  0   \n",
       "\n",
       "   Decision_skill_possess_Conceptual  Decision_skill_possess_Directive  \n",
       "0                                  1                                 0  \n",
       "1                                  0                                 0  \n",
       "2                                  1                                 0  \n",
       "3                                  0                                 0  \n",
       "4                                  1                                 0  \n",
       "\n",
       "[5 rows x 24 columns]"
      ]
     },
     "execution_count": 32,
     "metadata": {},
     "output_type": "execute_result"
    }
   ],
   "source": [
    "train.head()"
   ]
  },
  {
   "cell_type": "markdown",
   "metadata": {},
   "source": [
    "#### Feature Selection and Statistical Analysis"
   ]
  },
  {
   "cell_type": "code",
   "execution_count": 33,
   "metadata": {},
   "outputs": [
    {
     "data": {
      "text/plain": [
       "Gender                               0\n",
       "Age                                  0\n",
       "Education_Level                      0\n",
       "Relationship_Status                  0\n",
       "Hometown                             0\n",
       "Unit                                 0\n",
       "Time_of_service                      0\n",
       "Time_since_promotion                 0\n",
       "growth_rate                          0\n",
       "Travel_Rate                          0\n",
       "Post_Level                           0\n",
       "Pay_Scale                            0\n",
       "Compensation_and_Benefits            0\n",
       "Work_Life_balance                    0\n",
       "VAR1                                 0\n",
       "VAR3                                 0\n",
       "VAR5                                 0\n",
       "VAR6                                 0\n",
       "VAR7                                 0\n",
       "Decision_skill_possess_Analytical    0\n",
       "Decision_skill_possess_Behavioral    0\n",
       "Decision_skill_possess_Conceptual    0\n",
       "Decision_skill_possess_Directive     0\n",
       "dtype: int64"
      ]
     },
     "execution_count": 33,
     "metadata": {},
     "output_type": "execute_result"
    }
   ],
   "source": [
    "test.isna().sum()"
   ]
  },
  {
   "cell_type": "code",
   "execution_count": 34,
   "metadata": {},
   "outputs": [
    {
     "data": {
      "text/html": [
       "<div>\n",
       "<style scoped>\n",
       "    .dataframe tbody tr th:only-of-type {\n",
       "        vertical-align: middle;\n",
       "    }\n",
       "\n",
       "    .dataframe tbody tr th {\n",
       "        vertical-align: top;\n",
       "    }\n",
       "\n",
       "    .dataframe thead th {\n",
       "        text-align: right;\n",
       "    }\n",
       "</style>\n",
       "<table border=\"1\" class=\"dataframe\">\n",
       "  <thead>\n",
       "    <tr style=\"text-align: right;\">\n",
       "      <th></th>\n",
       "      <th>count</th>\n",
       "      <th>mean</th>\n",
       "      <th>std</th>\n",
       "      <th>min</th>\n",
       "      <th>25%</th>\n",
       "      <th>50%</th>\n",
       "      <th>75%</th>\n",
       "      <th>max</th>\n",
       "    </tr>\n",
       "  </thead>\n",
       "  <tbody>\n",
       "    <tr>\n",
       "      <th>Gender</th>\n",
       "      <td>7000.0</td>\n",
       "      <td>0.175429</td>\n",
       "      <td>0.984562</td>\n",
       "      <td>-1.0000</td>\n",
       "      <td>-1.0000</td>\n",
       "      <td>1.00000</td>\n",
       "      <td>1.0000</td>\n",
       "      <td>1.0000</td>\n",
       "    </tr>\n",
       "    <tr>\n",
       "      <th>Age</th>\n",
       "      <td>7000.0</td>\n",
       "      <td>39.645000</td>\n",
       "      <td>13.200655</td>\n",
       "      <td>19.0000</td>\n",
       "      <td>28.0000</td>\n",
       "      <td>40.00000</td>\n",
       "      <td>51.0000</td>\n",
       "      <td>65.0000</td>\n",
       "    </tr>\n",
       "    <tr>\n",
       "      <th>Education_Level</th>\n",
       "      <td>7000.0</td>\n",
       "      <td>3.187857</td>\n",
       "      <td>1.065102</td>\n",
       "      <td>1.0000</td>\n",
       "      <td>3.0000</td>\n",
       "      <td>3.00000</td>\n",
       "      <td>4.0000</td>\n",
       "      <td>5.0000</td>\n",
       "    </tr>\n",
       "    <tr>\n",
       "      <th>Relationship_Status</th>\n",
       "      <td>7000.0</td>\n",
       "      <td>0.291429</td>\n",
       "      <td>0.956661</td>\n",
       "      <td>-1.0000</td>\n",
       "      <td>-1.0000</td>\n",
       "      <td>1.00000</td>\n",
       "      <td>1.0000</td>\n",
       "      <td>1.0000</td>\n",
       "    </tr>\n",
       "    <tr>\n",
       "      <th>Hometown</th>\n",
       "      <td>7000.0</td>\n",
       "      <td>2.520000</td>\n",
       "      <td>1.281229</td>\n",
       "      <td>0.0000</td>\n",
       "      <td>2.0000</td>\n",
       "      <td>3.00000</td>\n",
       "      <td>4.0000</td>\n",
       "      <td>4.0000</td>\n",
       "    </tr>\n",
       "    <tr>\n",
       "      <th>Unit</th>\n",
       "      <td>7000.0</td>\n",
       "      <td>7.727143</td>\n",
       "      <td>2.973735</td>\n",
       "      <td>0.0000</td>\n",
       "      <td>6.0000</td>\n",
       "      <td>9.00000</td>\n",
       "      <td>10.0000</td>\n",
       "      <td>11.0000</td>\n",
       "    </tr>\n",
       "    <tr>\n",
       "      <th>Time_of_service</th>\n",
       "      <td>7000.0</td>\n",
       "      <td>13.377143</td>\n",
       "      <td>10.257162</td>\n",
       "      <td>0.0000</td>\n",
       "      <td>5.0000</td>\n",
       "      <td>10.00000</td>\n",
       "      <td>20.0000</td>\n",
       "      <td>43.0000</td>\n",
       "    </tr>\n",
       "    <tr>\n",
       "      <th>Time_since_promotion</th>\n",
       "      <td>7000.0</td>\n",
       "      <td>2.367143</td>\n",
       "      <td>1.149395</td>\n",
       "      <td>0.0000</td>\n",
       "      <td>1.0000</td>\n",
       "      <td>2.00000</td>\n",
       "      <td>3.0000</td>\n",
       "      <td>4.0000</td>\n",
       "    </tr>\n",
       "    <tr>\n",
       "      <th>growth_rate</th>\n",
       "      <td>7000.0</td>\n",
       "      <td>47.064286</td>\n",
       "      <td>15.761406</td>\n",
       "      <td>20.0000</td>\n",
       "      <td>33.0000</td>\n",
       "      <td>47.00000</td>\n",
       "      <td>61.0000</td>\n",
       "      <td>74.0000</td>\n",
       "    </tr>\n",
       "    <tr>\n",
       "      <th>Travel_Rate</th>\n",
       "      <td>7000.0</td>\n",
       "      <td>0.817857</td>\n",
       "      <td>0.648205</td>\n",
       "      <td>0.0000</td>\n",
       "      <td>0.0000</td>\n",
       "      <td>1.00000</td>\n",
       "      <td>1.0000</td>\n",
       "      <td>2.0000</td>\n",
       "    </tr>\n",
       "    <tr>\n",
       "      <th>Post_Level</th>\n",
       "      <td>7000.0</td>\n",
       "      <td>2.798000</td>\n",
       "      <td>1.163721</td>\n",
       "      <td>1.0000</td>\n",
       "      <td>2.0000</td>\n",
       "      <td>3.00000</td>\n",
       "      <td>3.0000</td>\n",
       "      <td>5.0000</td>\n",
       "    </tr>\n",
       "    <tr>\n",
       "      <th>Pay_Scale</th>\n",
       "      <td>7000.0</td>\n",
       "      <td>6.006286</td>\n",
       "      <td>2.057112</td>\n",
       "      <td>1.0000</td>\n",
       "      <td>5.0000</td>\n",
       "      <td>6.00000</td>\n",
       "      <td>8.0000</td>\n",
       "      <td>10.0000</td>\n",
       "    </tr>\n",
       "    <tr>\n",
       "      <th>Compensation_and_Benefits</th>\n",
       "      <td>7000.0</td>\n",
       "      <td>3.402714</td>\n",
       "      <td>0.854273</td>\n",
       "      <td>0.0000</td>\n",
       "      <td>3.0000</td>\n",
       "      <td>4.00000</td>\n",
       "      <td>4.0000</td>\n",
       "      <td>4.0000</td>\n",
       "    </tr>\n",
       "    <tr>\n",
       "      <th>Work_Life_balance</th>\n",
       "      <td>7000.0</td>\n",
       "      <td>2.387286</td>\n",
       "      <td>1.122009</td>\n",
       "      <td>1.0000</td>\n",
       "      <td>1.0000</td>\n",
       "      <td>2.00000</td>\n",
       "      <td>3.0000</td>\n",
       "      <td>5.0000</td>\n",
       "    </tr>\n",
       "    <tr>\n",
       "      <th>VAR1</th>\n",
       "      <td>7000.0</td>\n",
       "      <td>3.098571</td>\n",
       "      <td>0.836377</td>\n",
       "      <td>1.0000</td>\n",
       "      <td>3.0000</td>\n",
       "      <td>3.00000</td>\n",
       "      <td>3.0000</td>\n",
       "      <td>5.0000</td>\n",
       "    </tr>\n",
       "    <tr>\n",
       "      <th>VAR3</th>\n",
       "      <td>7000.0</td>\n",
       "      <td>-0.013606</td>\n",
       "      <td>0.986933</td>\n",
       "      <td>-2.7762</td>\n",
       "      <td>-0.4537</td>\n",
       "      <td>-0.45370</td>\n",
       "      <td>0.7075</td>\n",
       "      <td>1.8688</td>\n",
       "    </tr>\n",
       "    <tr>\n",
       "      <th>VAR5</th>\n",
       "      <td>7000.0</td>\n",
       "      <td>2.834143</td>\n",
       "      <td>0.938945</td>\n",
       "      <td>1.0000</td>\n",
       "      <td>2.0000</td>\n",
       "      <td>3.00000</td>\n",
       "      <td>3.0000</td>\n",
       "      <td>5.0000</td>\n",
       "    </tr>\n",
       "    <tr>\n",
       "      <th>VAR6</th>\n",
       "      <td>7000.0</td>\n",
       "      <td>7.101286</td>\n",
       "      <td>1.164262</td>\n",
       "      <td>5.0000</td>\n",
       "      <td>6.0000</td>\n",
       "      <td>7.00000</td>\n",
       "      <td>8.0000</td>\n",
       "      <td>9.0000</td>\n",
       "    </tr>\n",
       "    <tr>\n",
       "      <th>VAR7</th>\n",
       "      <td>7000.0</td>\n",
       "      <td>3.257000</td>\n",
       "      <td>0.925319</td>\n",
       "      <td>1.0000</td>\n",
       "      <td>3.0000</td>\n",
       "      <td>3.00000</td>\n",
       "      <td>4.0000</td>\n",
       "      <td>5.0000</td>\n",
       "    </tr>\n",
       "    <tr>\n",
       "      <th>Attrition_rate</th>\n",
       "      <td>7000.0</td>\n",
       "      <td>0.189376</td>\n",
       "      <td>0.185753</td>\n",
       "      <td>0.0000</td>\n",
       "      <td>0.0704</td>\n",
       "      <td>0.14265</td>\n",
       "      <td>0.2350</td>\n",
       "      <td>0.9959</td>\n",
       "    </tr>\n",
       "    <tr>\n",
       "      <th>Decision_skill_possess_Analytical</th>\n",
       "      <td>7000.0</td>\n",
       "      <td>0.250714</td>\n",
       "      <td>0.433455</td>\n",
       "      <td>0.0000</td>\n",
       "      <td>0.0000</td>\n",
       "      <td>0.00000</td>\n",
       "      <td>1.0000</td>\n",
       "      <td>1.0000</td>\n",
       "    </tr>\n",
       "    <tr>\n",
       "      <th>Decision_skill_possess_Behavioral</th>\n",
       "      <td>7000.0</td>\n",
       "      <td>0.248000</td>\n",
       "      <td>0.431883</td>\n",
       "      <td>0.0000</td>\n",
       "      <td>0.0000</td>\n",
       "      <td>0.00000</td>\n",
       "      <td>0.0000</td>\n",
       "      <td>1.0000</td>\n",
       "    </tr>\n",
       "    <tr>\n",
       "      <th>Decision_skill_possess_Conceptual</th>\n",
       "      <td>7000.0</td>\n",
       "      <td>0.250857</td>\n",
       "      <td>0.433537</td>\n",
       "      <td>0.0000</td>\n",
       "      <td>0.0000</td>\n",
       "      <td>0.00000</td>\n",
       "      <td>1.0000</td>\n",
       "      <td>1.0000</td>\n",
       "    </tr>\n",
       "    <tr>\n",
       "      <th>Decision_skill_possess_Directive</th>\n",
       "      <td>7000.0</td>\n",
       "      <td>0.250429</td>\n",
       "      <td>0.433291</td>\n",
       "      <td>0.0000</td>\n",
       "      <td>0.0000</td>\n",
       "      <td>0.00000</td>\n",
       "      <td>1.0000</td>\n",
       "      <td>1.0000</td>\n",
       "    </tr>\n",
       "  </tbody>\n",
       "</table>\n",
       "</div>"
      ],
      "text/plain": [
       "                                    count       mean        std      min  \\\n",
       "Gender                             7000.0   0.175429   0.984562  -1.0000   \n",
       "Age                                7000.0  39.645000  13.200655  19.0000   \n",
       "Education_Level                    7000.0   3.187857   1.065102   1.0000   \n",
       "Relationship_Status                7000.0   0.291429   0.956661  -1.0000   \n",
       "Hometown                           7000.0   2.520000   1.281229   0.0000   \n",
       "Unit                               7000.0   7.727143   2.973735   0.0000   \n",
       "Time_of_service                    7000.0  13.377143  10.257162   0.0000   \n",
       "Time_since_promotion               7000.0   2.367143   1.149395   0.0000   \n",
       "growth_rate                        7000.0  47.064286  15.761406  20.0000   \n",
       "Travel_Rate                        7000.0   0.817857   0.648205   0.0000   \n",
       "Post_Level                         7000.0   2.798000   1.163721   1.0000   \n",
       "Pay_Scale                          7000.0   6.006286   2.057112   1.0000   \n",
       "Compensation_and_Benefits          7000.0   3.402714   0.854273   0.0000   \n",
       "Work_Life_balance                  7000.0   2.387286   1.122009   1.0000   \n",
       "VAR1                               7000.0   3.098571   0.836377   1.0000   \n",
       "VAR3                               7000.0  -0.013606   0.986933  -2.7762   \n",
       "VAR5                               7000.0   2.834143   0.938945   1.0000   \n",
       "VAR6                               7000.0   7.101286   1.164262   5.0000   \n",
       "VAR7                               7000.0   3.257000   0.925319   1.0000   \n",
       "Attrition_rate                     7000.0   0.189376   0.185753   0.0000   \n",
       "Decision_skill_possess_Analytical  7000.0   0.250714   0.433455   0.0000   \n",
       "Decision_skill_possess_Behavioral  7000.0   0.248000   0.431883   0.0000   \n",
       "Decision_skill_possess_Conceptual  7000.0   0.250857   0.433537   0.0000   \n",
       "Decision_skill_possess_Directive   7000.0   0.250429   0.433291   0.0000   \n",
       "\n",
       "                                       25%       50%      75%      max  \n",
       "Gender                             -1.0000   1.00000   1.0000   1.0000  \n",
       "Age                                28.0000  40.00000  51.0000  65.0000  \n",
       "Education_Level                     3.0000   3.00000   4.0000   5.0000  \n",
       "Relationship_Status                -1.0000   1.00000   1.0000   1.0000  \n",
       "Hometown                            2.0000   3.00000   4.0000   4.0000  \n",
       "Unit                                6.0000   9.00000  10.0000  11.0000  \n",
       "Time_of_service                     5.0000  10.00000  20.0000  43.0000  \n",
       "Time_since_promotion                1.0000   2.00000   3.0000   4.0000  \n",
       "growth_rate                        33.0000  47.00000  61.0000  74.0000  \n",
       "Travel_Rate                         0.0000   1.00000   1.0000   2.0000  \n",
       "Post_Level                          2.0000   3.00000   3.0000   5.0000  \n",
       "Pay_Scale                           5.0000   6.00000   8.0000  10.0000  \n",
       "Compensation_and_Benefits           3.0000   4.00000   4.0000   4.0000  \n",
       "Work_Life_balance                   1.0000   2.00000   3.0000   5.0000  \n",
       "VAR1                                3.0000   3.00000   3.0000   5.0000  \n",
       "VAR3                               -0.4537  -0.45370   0.7075   1.8688  \n",
       "VAR5                                2.0000   3.00000   3.0000   5.0000  \n",
       "VAR6                                6.0000   7.00000   8.0000   9.0000  \n",
       "VAR7                                3.0000   3.00000   4.0000   5.0000  \n",
       "Attrition_rate                      0.0704   0.14265   0.2350   0.9959  \n",
       "Decision_skill_possess_Analytical   0.0000   0.00000   1.0000   1.0000  \n",
       "Decision_skill_possess_Behavioral   0.0000   0.00000   0.0000   1.0000  \n",
       "Decision_skill_possess_Conceptual   0.0000   0.00000   1.0000   1.0000  \n",
       "Decision_skill_possess_Directive    0.0000   0.00000   1.0000   1.0000  "
      ]
     },
     "execution_count": 34,
     "metadata": {},
     "output_type": "execute_result"
    }
   ],
   "source": [
    "train.describe().T"
   ]
  },
  {
   "cell_type": "code",
   "execution_count": 35,
   "metadata": {},
   "outputs": [
    {
     "data": {
      "text/plain": [
       "Text(0.5, 1.0, 'Correlation between features')"
      ]
     },
     "execution_count": 35,
     "metadata": {},
     "output_type": "execute_result"
    },
    {
     "data": {
      "image/png": "[encoded data removed]",
      "text/plain": [
       "<Figure size 1440x1440 with 2 Axes>"
      ]
     },
     "metadata": {
      "needs_background": "light"
     },
     "output_type": "display_data"
    }
   ],
   "source": [
    "plt.figure(figsize=(20,20))\n",
    "corr = train.corr()\n",
    "sns.heatmap(corr, \n",
    "            xticklabels=corr.columns.values,\n",
    "            yticklabels=corr.columns.values, square=True,annot=True,linecolor=\"black\") #cmap='YlGnBu',\n",
    "plt.title(\"Correlation between features\")"
   ]
  },
  {
   "cell_type": "code",
   "execution_count": 36,
   "metadata": {},
   "outputs": [],
   "source": [
    "train = train.drop('Time_of_service',axis=1)\n",
    "test = test.drop('Time_of_service',axis=1)"
   ]
  },
  {
   "cell_type": "code",
   "execution_count": 37,
   "metadata": {},
   "outputs": [
    {
     "data": {
      "text/plain": [
       "23"
      ]
     },
     "execution_count": 37,
     "metadata": {},
     "output_type": "execute_result"
    }
   ],
   "source": [
    "len(list(train.columns))"
   ]
  },
  {
   "cell_type": "code",
   "execution_count": 38,
   "metadata": {},
   "outputs": [],
   "source": [
    "corr_target = corr['Attrition_rate']"
   ]
  },
  {
   "cell_type": "code",
   "execution_count": 39,
   "metadata": {},
   "outputs": [
    {
     "data": {
      "text/plain": [
       "Gender                              -0.028544\n",
       "Age                                 -0.015130\n",
       "Education_Level                     -0.008143\n",
       "Relationship_Status                 -0.009107\n",
       "Hometown                            -0.000013\n",
       "Unit                                -0.013088\n",
       "Time_of_service                     -0.016327\n",
       "Time_since_promotion                 0.013880\n",
       "growth_rate                          0.014247\n",
       "Travel_Rate                         -0.012608\n",
       "Post_Level                           0.016402\n",
       "Pay_Scale                           -0.015221\n",
       "Compensation_and_Benefits           -0.012186\n",
       "Work_Life_balance                    0.020809\n",
       "VAR1                                -0.008073\n",
       "VAR3                                 0.001245\n",
       "VAR5                                -0.004770\n",
       "VAR6                                -0.003130\n",
       "VAR7                                -0.015299\n",
       "Attrition_rate                       1.000000\n",
       "Decision_skill_possess_Analytical   -0.002822\n",
       "Decision_skill_possess_Behavioral   -0.027524\n",
       "Decision_skill_possess_Conceptual    0.016568\n",
       "Decision_skill_possess_Directive     0.013680\n",
       "Name: Attrition_rate, dtype: float64"
      ]
     },
     "execution_count": 39,
     "metadata": {},
     "output_type": "execute_result"
    }
   ],
   "source": [
    "corr_target\n",
    "relevant_features = corr_target[corr_target>-0.05]\n",
    "relevant_features"
   ]
  },
  {
   "cell_type": "code",
   "execution_count": 40,
   "metadata": {},
   "outputs": [],
   "source": [
    "train = train.drop('VAR1',axis=1)\n",
    "train = train.drop('Travel_Rate',axis=1)\n",
    "test = test.drop('VAR1',axis=1)\n",
    "test = test.drop('Travel_Rate',axis=1)"
   ]
  },
  {
   "cell_type": "code",
   "execution_count": 41,
   "metadata": {},
   "outputs": [
    {
     "data": {
      "text/plain": [
       "21"
      ]
     },
     "execution_count": 41,
     "metadata": {},
     "output_type": "execute_result"
    }
   ],
   "source": [
    "len(list(train.columns))"
   ]
  },
  {
   "cell_type": "markdown",
   "metadata": {},
   "source": [
    "#### Missing Values Hadling, Categorical data handling and and feature selection is done. "
   ]
  },
  {
   "cell_type": "markdown",
   "metadata": {},
   "source": [
    "###\n",
    "### Candidates for regression models : \n",
    "* Linear Regression\n",
    "* SVM regressor\n",
    "* Lasso Regression\n",
    "* Ridge Regression"
   ]
  },
  {
   "cell_type": "code",
   "execution_count": 42,
   "metadata": {},
   "outputs": [
    {
     "data": {
      "text/html": [
       "<div>\n",
       "<style scoped>\n",
       "    .dataframe tbody tr th:only-of-type {\n",
       "        vertical-align: middle;\n",
       "    }\n",
       "\n",
       "    .dataframe tbody tr th {\n",
       "        vertical-align: top;\n",
       "    }\n",
       "\n",
       "    .dataframe thead th {\n",
       "        text-align: right;\n",
       "    }\n",
       "</style>\n",
       "<table border=\"1\" class=\"dataframe\">\n",
       "  <thead>\n",
       "    <tr style=\"text-align: right;\">\n",
       "      <th></th>\n",
       "      <th>Gender</th>\n",
       "      <th>Age</th>\n",
       "      <th>Education_Level</th>\n",
       "      <th>Relationship_Status</th>\n",
       "      <th>Hometown</th>\n",
       "      <th>Unit</th>\n",
       "      <th>Time_since_promotion</th>\n",
       "      <th>growth_rate</th>\n",
       "      <th>Post_Level</th>\n",
       "      <th>Pay_Scale</th>\n",
       "      <th>...</th>\n",
       "      <th>Work_Life_balance</th>\n",
       "      <th>VAR3</th>\n",
       "      <th>VAR5</th>\n",
       "      <th>VAR6</th>\n",
       "      <th>VAR7</th>\n",
       "      <th>Attrition_rate</th>\n",
       "      <th>Decision_skill_possess_Analytical</th>\n",
       "      <th>Decision_skill_possess_Behavioral</th>\n",
       "      <th>Decision_skill_possess_Conceptual</th>\n",
       "      <th>Decision_skill_possess_Directive</th>\n",
       "    </tr>\n",
       "  </thead>\n",
       "  <tbody>\n",
       "    <tr>\n",
       "      <th>2801</th>\n",
       "      <td>-1</td>\n",
       "      <td>50.0</td>\n",
       "      <td>3</td>\n",
       "      <td>1</td>\n",
       "      <td>1</td>\n",
       "      <td>8</td>\n",
       "      <td>4</td>\n",
       "      <td>29</td>\n",
       "      <td>2</td>\n",
       "      <td>5.0</td>\n",
       "      <td>...</td>\n",
       "      <td>2.0</td>\n",
       "      <td>0.7075</td>\n",
       "      <td>2</td>\n",
       "      <td>8</td>\n",
       "      <td>3</td>\n",
       "      <td>0.8000</td>\n",
       "      <td>0</td>\n",
       "      <td>0</td>\n",
       "      <td>0</td>\n",
       "      <td>1</td>\n",
       "    </tr>\n",
       "    <tr>\n",
       "      <th>2628</th>\n",
       "      <td>-1</td>\n",
       "      <td>35.0</td>\n",
       "      <td>4</td>\n",
       "      <td>1</td>\n",
       "      <td>2</td>\n",
       "      <td>5</td>\n",
       "      <td>2</td>\n",
       "      <td>33</td>\n",
       "      <td>5</td>\n",
       "      <td>7.0</td>\n",
       "      <td>...</td>\n",
       "      <td>1.0</td>\n",
       "      <td>0.7075</td>\n",
       "      <td>3</td>\n",
       "      <td>7</td>\n",
       "      <td>3</td>\n",
       "      <td>0.0609</td>\n",
       "      <td>1</td>\n",
       "      <td>0</td>\n",
       "      <td>0</td>\n",
       "      <td>0</td>\n",
       "    </tr>\n",
       "    <tr>\n",
       "      <th>752</th>\n",
       "      <td>1</td>\n",
       "      <td>49.0</td>\n",
       "      <td>5</td>\n",
       "      <td>1</td>\n",
       "      <td>0</td>\n",
       "      <td>10</td>\n",
       "      <td>3</td>\n",
       "      <td>70</td>\n",
       "      <td>1</td>\n",
       "      <td>8.0</td>\n",
       "      <td>...</td>\n",
       "      <td>1.0</td>\n",
       "      <td>-1.6150</td>\n",
       "      <td>3</td>\n",
       "      <td>7</td>\n",
       "      <td>3</td>\n",
       "      <td>0.1121</td>\n",
       "      <td>0</td>\n",
       "      <td>0</td>\n",
       "      <td>1</td>\n",
       "      <td>0</td>\n",
       "    </tr>\n",
       "    <tr>\n",
       "      <th>207</th>\n",
       "      <td>1</td>\n",
       "      <td>52.0</td>\n",
       "      <td>3</td>\n",
       "      <td>1</td>\n",
       "      <td>2</td>\n",
       "      <td>5</td>\n",
       "      <td>3</td>\n",
       "      <td>69</td>\n",
       "      <td>3</td>\n",
       "      <td>2.0</td>\n",
       "      <td>...</td>\n",
       "      <td>3.0</td>\n",
       "      <td>-0.4537</td>\n",
       "      <td>5</td>\n",
       "      <td>7</td>\n",
       "      <td>3</td>\n",
       "      <td>0.1718</td>\n",
       "      <td>1</td>\n",
       "      <td>0</td>\n",
       "      <td>0</td>\n",
       "      <td>0</td>\n",
       "    </tr>\n",
       "    <tr>\n",
       "      <th>5903</th>\n",
       "      <td>-1</td>\n",
       "      <td>19.0</td>\n",
       "      <td>1</td>\n",
       "      <td>1</td>\n",
       "      <td>2</td>\n",
       "      <td>10</td>\n",
       "      <td>0</td>\n",
       "      <td>66</td>\n",
       "      <td>3</td>\n",
       "      <td>2.0</td>\n",
       "      <td>...</td>\n",
       "      <td>5.0</td>\n",
       "      <td>0.7075</td>\n",
       "      <td>3</td>\n",
       "      <td>8</td>\n",
       "      <td>3</td>\n",
       "      <td>0.1176</td>\n",
       "      <td>1</td>\n",
       "      <td>0</td>\n",
       "      <td>0</td>\n",
       "      <td>0</td>\n",
       "    </tr>\n",
       "  </tbody>\n",
       "</table>\n",
       "<p>5 rows × 21 columns</p>\n",
       "</div>"
      ],
      "text/plain": [
       "      Gender   Age  Education_Level  Relationship_Status  Hometown  Unit  \\\n",
       "2801      -1  50.0                3                    1         1     8   \n",
       "2628      -1  35.0                4                    1         2     5   \n",
       "752        1  49.0                5                    1         0    10   \n",
       "207        1  52.0                3                    1         2     5   \n",
       "5903      -1  19.0                1                    1         2    10   \n",
       "\n",
       "      Time_since_promotion  growth_rate  Post_Level  Pay_Scale  ...  \\\n",
       "2801                     4           29           2        5.0  ...   \n",
       "2628                     2           33           5        7.0  ...   \n",
       "752                      3           70           1        8.0  ...   \n",
       "207                      3           69           3        2.0  ...   \n",
       "5903                     0           66           3        2.0  ...   \n",
       "\n",
       "      Work_Life_balance    VAR3  VAR5  VAR6  VAR7  Attrition_rate  \\\n",
       "2801                2.0  0.7075     2     8     3          0.8000   \n",
       "2628                1.0  0.7075     3     7     3          0.0609   \n",
       "752                 1.0 -1.6150     3     7     3          0.1121   \n",
       "207                 3.0 -0.4537     5     7     3          0.1718   \n",
       "5903                5.0  0.7075     3     8     3          0.1176   \n",
       "\n",
       "      Decision_skill_possess_Analytical  Decision_skill_possess_Behavioral  \\\n",
       "2801                                  0                                  0   \n",
       "2628                                  1                                  0   \n",
       "752                                   0                                  0   \n",
       "207                                   1                                  0   \n",
       "5903                                  1                                  0   \n",
       "\n",
       "      Decision_skill_possess_Conceptual  Decision_skill_possess_Directive  \n",
       "2801                                  0                                 1  \n",
       "2628                                  0                                 0  \n",
       "752                                   1                                 0  \n",
       "207                                   0                                 0  \n",
       "5903                                  0                                 0  \n",
       "\n",
       "[5 rows x 21 columns]"
      ]
     },
     "execution_count": 42,
     "metadata": {},
     "output_type": "execute_result"
    }
   ],
   "source": [
    "from sklearn.utils import shuffle\n",
    "dataset = shuffle(train)\n",
    "dataset.head()"
   ]
  },
  {
   "cell_type": "code",
   "execution_count": 43,
   "metadata": {},
   "outputs": [],
   "source": [
    "label = dataset['Attrition_rate']\n",
    "train = dataset.drop('Attrition_rate',axis=1)"
   ]
  },
  {
   "cell_type": "markdown",
   "metadata": {},
   "source": [
    "#### Split Dataset and choose between SVM regressor and linear regression"
   ]
  },
  {
   "cell_type": "code",
   "execution_count": 44,
   "metadata": {},
   "outputs": [],
   "source": [
    "from sklearn.model_selection import train_test_split\n",
    "from sklearn import svm\n",
    "from sklearn.linear_model import LinearRegression"
   ]
  },
  {
   "cell_type": "code",
   "execution_count": 45,
   "metadata": {},
   "outputs": [
    {
     "data": {
      "text/plain": [
       "7000"
      ]
     },
     "execution_count": 45,
     "metadata": {},
     "output_type": "execute_result"
    }
   ],
   "source": [
    "len(train)"
   ]
  },
  {
   "cell_type": "code",
   "execution_count": 46,
   "metadata": {},
   "outputs": [],
   "source": [
    "train_x,validation_x,train_y,validation_y = train_test_split(train,label,test_size=0.28,random_state=0) "
   ]
  },
  {
   "cell_type": "code",
   "execution_count": 47,
   "metadata": {},
   "outputs": [
    {
     "name": "stdout",
     "output_type": "stream",
     "text": [
      "length of train data :  5039\n",
      "length of validation data :  1961\n"
     ]
    }
   ],
   "source": [
    "print(\"length of train data : \", len(train_x))\n",
    "print(\"length of validation data : \", len(validation_x))"
   ]
  },
  {
   "cell_type": "markdown",
   "metadata": {},
   "source": [
    "#### Linear Regression Baseline"
   ]
  },
  {
   "cell_type": "code",
   "execution_count": 48,
   "metadata": {},
   "outputs": [],
   "source": [
    "model1 = LinearRegression()"
   ]
  },
  {
   "cell_type": "code",
   "execution_count": 49,
   "metadata": {},
   "outputs": [
    {
     "data": {
      "text/plain": [
       "Gender                               0\n",
       "Age                                  0\n",
       "Education_Level                      0\n",
       "Relationship_Status                  0\n",
       "Hometown                             0\n",
       "Unit                                 0\n",
       "Time_since_promotion                 0\n",
       "growth_rate                          0\n",
       "Post_Level                           0\n",
       "Pay_Scale                            0\n",
       "Compensation_and_Benefits            0\n",
       "Work_Life_balance                    0\n",
       "VAR3                                 0\n",
       "VAR5                                 0\n",
       "VAR6                                 0\n",
       "VAR7                                 0\n",
       "Decision_skill_possess_Analytical    0\n",
       "Decision_skill_possess_Behavioral    0\n",
       "Decision_skill_possess_Conceptual    0\n",
       "Decision_skill_possess_Directive     0\n",
       "dtype: int64"
      ]
     },
     "execution_count": 49,
     "metadata": {},
     "output_type": "execute_result"
    }
   ],
   "source": [
    "train_x.isna().sum()"
   ]
  },
  {
   "cell_type": "code",
   "execution_count": 50,
   "metadata": {},
   "outputs": [
    {
     "data": {
      "text/plain": [
       "LinearRegression(copy_X=True, fit_intercept=True, n_jobs=None,\n",
       "         normalize=False)"
      ]
     },
     "execution_count": 50,
     "metadata": {},
     "output_type": "execute_result"
    }
   ],
   "source": [
    "model1.fit(train_x,train_y)"
   ]
  },
  {
   "cell_type": "code",
   "execution_count": 51,
   "metadata": {},
   "outputs": [],
   "source": [
    "predict_y = model1.predict(validation_x)"
   ]
  },
  {
   "cell_type": "code",
   "execution_count": 52,
   "metadata": {},
   "outputs": [],
   "source": [
    "def root_mean_squared_error(actual,predict):\n",
    "    differences = [(x-y)**2 for (x,y) in zip(actual,predict)]\n",
    "    return math.sqrt(sum(differences)/len(differences))"
   ]
  },
  {
   "cell_type": "code",
   "execution_count": 53,
   "metadata": {},
   "outputs": [],
   "source": [
    "def performance(actual,predict):\n",
    "    return 100*max(0,1-root_mean_squared_error(list(actual),predict.tolist()))\n",
    "    "
   ]
  },
  {
   "cell_type": "code",
   "execution_count": 54,
   "metadata": {},
   "outputs": [
    {
     "data": {
      "text/plain": [
       "81.43937805662281"
      ]
     },
     "execution_count": 54,
     "metadata": {},
     "output_type": "execute_result"
    }
   ],
   "source": [
    "performance(validation_y,predict_y)"
   ]
  },
  {
   "cell_type": "markdown",
   "metadata": {},
   "source": [
    "### SVR Baseline Model"
   ]
  },
  {
   "cell_type": "code",
   "execution_count": 55,
   "metadata": {},
   "outputs": [
    {
     "name": "stderr",
     "output_type": "stream",
     "text": [
      "C:\\Users\\alsrivas\\AppData\\Local\\Continuum\\anaconda3\\lib\\site-packages\\sklearn\\svm\\base.py:196: FutureWarning: The default value of gamma will change from 'auto' to 'scale' in version 0.22 to account better for unscaled features. Set gamma explicitly to 'auto' or 'scale' to avoid this warning.\n",
      "  \"avoid this warning.\", FutureWarning)\n"
     ]
    },
    {
     "data": {
      "text/plain": [
       "SVR(C=1.0, cache_size=200, coef0=0.0, degree=3, epsilon=0.1,\n",
       "  gamma='auto_deprecated', kernel='rbf', max_iter=-1, shrinking=True,\n",
       "  tol=0.001, verbose=False)"
      ]
     },
     "execution_count": 55,
     "metadata": {},
     "output_type": "execute_result"
    }
   ],
   "source": [
    "model2 = svm.SVR()\n",
    "model2.fit(train_x,train_y)"
   ]
  },
  {
   "cell_type": "code",
   "execution_count": 56,
   "metadata": {},
   "outputs": [],
   "source": [
    "predict_svr = model2.predict(validation_x)"
   ]
  },
  {
   "cell_type": "code",
   "execution_count": 57,
   "metadata": {},
   "outputs": [
    {
     "data": {
      "text/plain": [
       "79.57954381458462"
      ]
     },
     "execution_count": 57,
     "metadata": {},
     "output_type": "execute_result"
    }
   ],
   "source": [
    "performance(validation_y,predict_svr)"
   ]
  },
  {
   "cell_type": "markdown",
   "metadata": {},
   "source": [
    "#### Ridge Regression Baseline: "
   ]
  },
  {
   "cell_type": "code",
   "execution_count": 58,
   "metadata": {},
   "outputs": [],
   "source": [
    "from sklearn.linear_model import Ridge"
   ]
  },
  {
   "cell_type": "code",
   "execution_count": 59,
   "metadata": {},
   "outputs": [],
   "source": [
    "model3 = Ridge()"
   ]
  },
  {
   "cell_type": "code",
   "execution_count": 60,
   "metadata": {},
   "outputs": [
    {
     "data": {
      "text/plain": [
       "Ridge(alpha=1.0, copy_X=True, fit_intercept=True, max_iter=None,\n",
       "   normalize=False, random_state=None, solver='auto', tol=0.001)"
      ]
     },
     "execution_count": 60,
     "metadata": {},
     "output_type": "execute_result"
    }
   ],
   "source": [
    "model3.fit(train_x,train_y)"
   ]
  },
  {
   "cell_type": "code",
   "execution_count": 61,
   "metadata": {},
   "outputs": [
    {
     "data": {
      "text/plain": [
       "81.43942702626084"
      ]
     },
     "execution_count": 61,
     "metadata": {},
     "output_type": "execute_result"
    }
   ],
   "source": [
    "predict_ridge = model3.predict(validation_x)\n",
    "performance(validation_y,predict_ridge)"
   ]
  },
  {
   "cell_type": "markdown",
   "metadata": {},
   "source": [
    "#### Lasso Model Baseline"
   ]
  },
  {
   "cell_type": "code",
   "execution_count": 62,
   "metadata": {},
   "outputs": [],
   "source": [
    "from sklearn.linear_model import Lasso"
   ]
  },
  {
   "cell_type": "code",
   "execution_count": 63,
   "metadata": {},
   "outputs": [],
   "source": [
    "model4 = Lasso()"
   ]
  },
  {
   "cell_type": "code",
   "execution_count": 64,
   "metadata": {},
   "outputs": [
    {
     "data": {
      "text/plain": [
       "Lasso(alpha=1.0, copy_X=True, fit_intercept=True, max_iter=1000,\n",
       "   normalize=False, positive=False, precompute=False, random_state=None,\n",
       "   selection='cyclic', tol=0.0001, warm_start=False)"
      ]
     },
     "execution_count": 64,
     "metadata": {},
     "output_type": "execute_result"
    }
   ],
   "source": [
    "model4.fit(train_x,train_y)"
   ]
  },
  {
   "cell_type": "code",
   "execution_count": 65,
   "metadata": {},
   "outputs": [],
   "source": [
    "predict_lasso = model4.predict(validation_x)"
   ]
  },
  {
   "cell_type": "code",
   "execution_count": 66,
   "metadata": {},
   "outputs": [
    {
     "data": {
      "text/plain": [
       "81.54534299195362"
      ]
     },
     "execution_count": 66,
     "metadata": {},
     "output_type": "execute_result"
    }
   ],
   "source": [
    "performance(validation_y,predict_lasso)"
   ]
  },
  {
   "cell_type": "markdown",
   "metadata": {},
   "source": [
    "#### We will choose Lasso Regression for parameter search"
   ]
  },
  {
   "cell_type": "code",
   "execution_count": 67,
   "metadata": {},
   "outputs": [],
   "source": [
    "alpha_lasso = [0.001,0.01, 0.1, 1, 10, 100]\n",
    "fit_lasso = [True, False]\n",
    "selection_lasso = ['cyclic', 'random']\n",
    "model_performance = []"
   ]
  },
  {
   "cell_type": "code",
   "execution_count": 68,
   "metadata": {},
   "outputs": [],
   "source": [
    "best_model = None\n",
    "best_performance = None\n",
    "for i in alpha_lasso:\n",
    "    for j in fit_lasso:\n",
    "        for k in selection_lasso:\n",
    "            model = Lasso(alpha=i,fit_intercept=j,selection=k)\n",
    "            model.fit(train_x,train_y)\n",
    "            predictY = model.predict(validation_x)\n",
    "            model_per = performance(validation_y,predictY)\n",
    "            model_performance.append((model_per,model))\n",
    "            if best_model is None:\n",
    "                best_model = model\n",
    "                best_performance = model_per\n",
    "            elif best_performance < model_per:\n",
    "                best_performance = model_per\n",
    "                best_model = model"
   ]
  },
  {
   "cell_type": "code",
   "execution_count": 69,
   "metadata": {},
   "outputs": [
    {
     "data": {
      "text/plain": [
       "81.54534299195362"
      ]
     },
     "execution_count": 69,
     "metadata": {},
     "output_type": "execute_result"
    }
   ],
   "source": [
    "best_performance"
   ]
  },
  {
   "cell_type": "code",
   "execution_count": 70,
   "metadata": {},
   "outputs": [],
   "source": [
    "selected_model_lasso = sorted(model_performance, key=lambda x: x[0],reverse=True)[0]"
   ]
  },
  {
   "cell_type": "code",
   "execution_count": 71,
   "metadata": {},
   "outputs": [
    {
     "data": {
      "text/plain": [
       "(81.54534299195362,\n",
       " Lasso(alpha=0.1, copy_X=True, fit_intercept=True, max_iter=1000,\n",
       "    normalize=False, positive=False, precompute=False, random_state=None,\n",
       "    selection='cyclic', tol=0.0001, warm_start=False))"
      ]
     },
     "execution_count": 71,
     "metadata": {},
     "output_type": "execute_result"
    }
   ],
   "source": [
    "selected_model_lasso"
   ]
  },
  {
   "cell_type": "markdown",
   "metadata": {},
   "source": [
    "#### Parameter search for Ridge"
   ]
  },
  {
   "cell_type": "code",
   "execution_count": 72,
   "metadata": {},
   "outputs": [],
   "source": [
    "alpha_ridge = [0.0001,0.001,0.01,0.1,1,10,100,1000,10000]\n",
    "fit_ridge = [True, False]\n",
    "solver_ridge = ['auto','svd','cholesky','lsqr','sparse_cg','sag','saga']\n",
    "model_performance_ridge = []"
   ]
  },
  {
   "cell_type": "code",
   "execution_count": 73,
   "metadata": {},
   "outputs": [],
   "source": [
    "best_model = None\n",
    "best_performance = None\n",
    "for i in alpha_ridge:\n",
    "    for j in fit_ridge:\n",
    "        for k in solver_ridge:\n",
    "            model = Ridge(alpha=i,fit_intercept=j,solver=k)\n",
    "            model.fit(train_x,train_y)\n",
    "            predictY = model.predict(validation_x)\n",
    "            model_per = performance(validation_y,predictY)\n",
    "            model_performance_ridge.append((model_per,model))\n",
    "            if best_model is None:\n",
    "                best_model = model\n",
    "                best_performance = model_per\n",
    "            elif best_performance < model_per:\n",
    "                best_performance = model_per\n",
    "                best_model = model"
   ]
  },
  {
   "cell_type": "code",
   "execution_count": 74,
   "metadata": {},
   "outputs": [
    {
     "data": {
      "text/plain": [
       "81.51437892053231"
      ]
     },
     "execution_count": 74,
     "metadata": {},
     "output_type": "execute_result"
    }
   ],
   "source": [
    "best_performance"
   ]
  },
  {
   "cell_type": "code",
   "execution_count": 75,
   "metadata": {},
   "outputs": [],
   "source": [
    "selected_model_ridge = sorted(model_performance_ridge, key=lambda x: x[0],reverse=True)[0]"
   ]
  },
  {
   "cell_type": "code",
   "execution_count": 76,
   "metadata": {},
   "outputs": [
    {
     "data": {
      "text/plain": [
       "(81.51437892053231,\n",
       " Ridge(alpha=10000, copy_X=True, fit_intercept=True, max_iter=None,\n",
       "    normalize=False, random_state=None, solver='saga', tol=0.001))"
      ]
     },
     "execution_count": 76,
     "metadata": {},
     "output_type": "execute_result"
    }
   ],
   "source": [
    "selected_model_ridge"
   ]
  },
  {
   "cell_type": "markdown",
   "metadata": {},
   "source": [
    "#### So, Selected model is ridge"
   ]
  },
  {
   "cell_type": "code",
   "execution_count": 77,
   "metadata": {},
   "outputs": [
    {
     "name": "stdout",
     "output_type": "stream",
     "text": [
      "RMSE on validation data using selected ridge model is :  81.51437892053231\n"
     ]
    }
   ],
   "source": [
    "print(\"RMSE on validation data using selected ridge model is : \", selected_model_ridge[0])"
   ]
  },
  {
   "cell_type": "code",
   "execution_count": 78,
   "metadata": {},
   "outputs": [],
   "source": [
    "selected_model = Ridge(alpha=10000, copy_X=True, fit_intercept=True, max_iter=None,\n",
    "    normalize=False, random_state=None, solver='sag', tol=0.001)"
   ]
  },
  {
   "cell_type": "code",
   "execution_count": 79,
   "metadata": {},
   "outputs": [
    {
     "data": {
      "text/plain": [
       "Ridge(alpha=10000, copy_X=True, fit_intercept=True, max_iter=None,\n",
       "   normalize=False, random_state=None, solver='sag', tol=0.001)"
      ]
     },
     "execution_count": 79,
     "metadata": {},
     "output_type": "execute_result"
    }
   ],
   "source": [
    "selected_model.fit(train,label)"
   ]
  },
  {
   "cell_type": "code",
   "execution_count": 80,
   "metadata": {},
   "outputs": [],
   "source": [
    "predict_test = selected_model.predict(test).tolist()"
   ]
  },
  {
   "cell_type": "code",
   "execution_count": 81,
   "metadata": {},
   "outputs": [
    {
     "data": {
      "text/plain": [
       "list"
      ]
     },
     "execution_count": 81,
     "metadata": {},
     "output_type": "execute_result"
    }
   ],
   "source": [
    "type(predict_test)"
   ]
  },
  {
   "cell_type": "code",
   "execution_count": 82,
   "metadata": {},
   "outputs": [
    {
     "name": "stdout",
     "output_type": "stream",
     "text": [
      "3000   3000\n"
     ]
    }
   ],
   "source": [
    "print(len(test_ID), \" \", len(predict_test))"
   ]
  },
  {
   "cell_type": "code",
   "execution_count": 83,
   "metadata": {},
   "outputs": [],
   "source": [
    "import csv\n",
    "with open('submission.csv', 'w', newline='') as file:\n",
    "    writer = csv.writer(file)\n",
    "    writer.writerow([\"Employee_ID\", \"Attrition_rate\"])\n",
    "    for i in range(3000):\n",
    "        writer.writerow([test_ID[i],predict_test[i]])"
   ]
  }
 ],
 "metadata": {
  "kernelspec": {
   "display_name": "Python 3",
   "language": "python",
   "name": "python3"
  },
  "language_info": {
   "codemirror_mode": {
    "name": "ipython",
    "version": 3
   },
   "file_extension": ".py",
   "mimetype": "text/x-python",
   "name": "python",
   "nbconvert_exporter": "python",
   "pygments_lexer": "ipython3",
   "version": "3.7.3"
  }
 },
 "nbformat": 4,
 "nbformat_minor": 2
}
