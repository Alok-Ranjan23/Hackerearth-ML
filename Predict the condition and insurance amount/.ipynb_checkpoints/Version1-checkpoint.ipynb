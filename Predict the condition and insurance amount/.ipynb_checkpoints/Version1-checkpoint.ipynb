{
 "cells": [
  {
   "cell_type": "code",
   "execution_count": 1,
   "metadata": {},
   "outputs": [],
   "source": [
    "import numpy as np\n",
    "import pandas as pd\n",
    "import cv2 as cv\n",
    "import mahotas as mt\n",
    "import os\n",
    "import glob\n",
    "import matplotlib.pyplot as plt\n",
    "import seaborn as sns"
   ]
  },
  {
   "cell_type": "code",
   "execution_count": 2,
   "metadata": {},
   "outputs": [
    {
     "name": "stdout",
     "output_type": "stream",
     "text": [
      "NUMPY Version: 1.19.2\n",
      "Pandas Version: 1.1.3\n",
      "OPENCV Version: 3.4.1\n",
      "Mahotas Version: 1.4.11\n",
      "Seaborn version: 0.11.0\n"
     ]
    }
   ],
   "source": [
    "print('NUMPY Version: {}'.format(np.__version__))\n",
    "print('Pandas Version: {}'.format(pd.__version__))\n",
    "print('OPENCV Version: {}'.format(cv.__version__))\n",
    "print('Mahotas Version: {}'.format(mt.__version__))\n",
    "print('Seaborn version: {}'.format(sns.__version__))"
   ]
  },
  {
   "cell_type": "code",
   "execution_count": 3,
   "metadata": {},
   "outputs": [],
   "source": [
    "CURRENT_LOC = os.getcwd()"
   ]
  },
  {
   "cell_type": "code",
   "execution_count": 4,
   "metadata": {},
   "outputs": [
    {
     "name": "stdout",
     "output_type": "stream",
     "text": [
      "C:\\Users\\alsrivas\\Desktop\\LEARN\\Hackerearth-ML\\Predict the condition and insurance amount\n"
     ]
    }
   ],
   "source": [
    "print(CURRENT_LOC)"
   ]
  },
  {
   "cell_type": "code",
   "execution_count": 5,
   "metadata": {},
   "outputs": [
    {
     "name": "stdout",
     "output_type": "stream",
     "text": [
      "['.ipynb_checkpoints', 'dataset', 'My_first.csv', 'My_second.csv', 'Version1.ipynb']\n"
     ]
    }
   ],
   "source": [
    "print(os.listdir(CURRENT_LOC))"
   ]
  },
  {
   "cell_type": "code",
   "execution_count": 6,
   "metadata": {},
   "outputs": [],
   "source": [
    "DATASET_LOC = os.path.join(CURRENT_LOC,'dataset')"
   ]
  },
  {
   "cell_type": "code",
   "execution_count": 7,
   "metadata": {},
   "outputs": [
    {
     "name": "stdout",
     "output_type": "stream",
     "text": [
      "['sample_submission.csv', 'test.csv', 'testImages', 'train.csv', 'trainImages']\n"
     ]
    }
   ],
   "source": [
    "print(os.listdir(DATASET_LOC))"
   ]
  },
  {
   "cell_type": "code",
   "execution_count": 8,
   "metadata": {},
   "outputs": [],
   "source": [
    "TRAIN_DATASET = os.path.join(DATASET_LOC,'train.csv')\n",
    "TEST_DATASET = os.path.join(DATASET_LOC,'test.csv')"
   ]
  },
  {
   "cell_type": "markdown",
   "metadata": {},
   "source": [
    "### 1. READ TRAIN and TEST Datasets"
   ]
  },
  {
   "cell_type": "code",
   "execution_count": 9,
   "metadata": {},
   "outputs": [],
   "source": [
    "train = pd.read_csv(TRAIN_DATASET)\n",
    "test = pd.read_csv(TEST_DATASET)"
   ]
  },
  {
   "cell_type": "code",
   "execution_count": 10,
   "metadata": {},
   "outputs": [
    {
     "name": "stdout",
     "output_type": "stream",
     "text": [
      "TRAIN DATASET SHAPE:  (1399, 8)\n",
      "TRAIN DATASET ATTRIBUTES:  ['Image_path', 'Insurance_company', 'Cost_of_vehicle', 'Min_coverage', 'Expiry_date', 'Max_coverage', 'Condition', 'Amount']\n",
      "\n",
      "\n",
      "TEST DATASET SHAPE:  (600, 6)\n",
      "TEST DATASET ATTRIBUTES:  ['Image_path', 'Insurance_company', 'Cost_of_vehicle', 'Min_coverage', 'Expiry_date', 'Max_coverage']\n"
     ]
    }
   ],
   "source": [
    "print(\"TRAIN DATASET SHAPE: \", train.shape)\n",
    "print(\"TRAIN DATASET ATTRIBUTES: \", list(train.columns))\n",
    "print(end='\\n\\n')\n",
    "print(\"TEST DATASET SHAPE: \", test.shape)\n",
    "print(\"TEST DATASET ATTRIBUTES: \", list(test.columns))"
   ]
  },
  {
   "cell_type": "code",
   "execution_count": 11,
   "metadata": {},
   "outputs": [
    {
     "data": {
      "text/html": [
       "<div>\n",
       "<style scoped>\n",
       "    .dataframe tbody tr th:only-of-type {\n",
       "        vertical-align: middle;\n",
       "    }\n",
       "\n",
       "    .dataframe tbody tr th {\n",
       "        vertical-align: top;\n",
       "    }\n",
       "\n",
       "    .dataframe thead th {\n",
       "        text-align: right;\n",
       "    }\n",
       "</style>\n",
       "<table border=\"1\" class=\"dataframe\">\n",
       "  <thead>\n",
       "    <tr style=\"text-align: right;\">\n",
       "      <th></th>\n",
       "      <th>Image_path</th>\n",
       "      <th>Insurance_company</th>\n",
       "      <th>Cost_of_vehicle</th>\n",
       "      <th>Min_coverage</th>\n",
       "      <th>Expiry_date</th>\n",
       "      <th>Max_coverage</th>\n",
       "      <th>Condition</th>\n",
       "      <th>Amount</th>\n",
       "    </tr>\n",
       "  </thead>\n",
       "  <tbody>\n",
       "    <tr>\n",
       "      <th>0</th>\n",
       "      <td>img_4513976.jpg</td>\n",
       "      <td>BQ</td>\n",
       "      <td>41500.0</td>\n",
       "      <td>1037.5</td>\n",
       "      <td>2026-12-03</td>\n",
       "      <td>36142.68</td>\n",
       "      <td>0</td>\n",
       "      <td>0.0</td>\n",
       "    </tr>\n",
       "    <tr>\n",
       "      <th>1</th>\n",
       "      <td>img_7764995.jpg</td>\n",
       "      <td>BQ</td>\n",
       "      <td>50700.0</td>\n",
       "      <td>1267.5</td>\n",
       "      <td>2025-07-10</td>\n",
       "      <td>12753.00</td>\n",
       "      <td>1</td>\n",
       "      <td>6194.0</td>\n",
       "    </tr>\n",
       "    <tr>\n",
       "      <th>2</th>\n",
       "      <td>img_451308.jpg</td>\n",
       "      <td>A</td>\n",
       "      <td>49500.0</td>\n",
       "      <td>1237.5</td>\n",
       "      <td>2022-08-11</td>\n",
       "      <td>43102.68</td>\n",
       "      <td>0</td>\n",
       "      <td>0.0</td>\n",
       "    </tr>\n",
       "    <tr>\n",
       "      <th>3</th>\n",
       "      <td>img_7768372.jpg</td>\n",
       "      <td>A</td>\n",
       "      <td>33500.0</td>\n",
       "      <td>837.5</td>\n",
       "      <td>2022-08-02</td>\n",
       "      <td>8453.00</td>\n",
       "      <td>1</td>\n",
       "      <td>7699.0</td>\n",
       "    </tr>\n",
       "    <tr>\n",
       "      <th>4</th>\n",
       "      <td>img_7765274.jpg</td>\n",
       "      <td>AC</td>\n",
       "      <td>27600.0</td>\n",
       "      <td>690.0</td>\n",
       "      <td>2026-05-01</td>\n",
       "      <td>6978.00</td>\n",
       "      <td>1</td>\n",
       "      <td>8849.0</td>\n",
       "    </tr>\n",
       "  </tbody>\n",
       "</table>\n",
       "</div>"
      ],
      "text/plain": [
       "        Image_path Insurance_company  Cost_of_vehicle  Min_coverage  \\\n",
       "0  img_4513976.jpg                BQ          41500.0        1037.5   \n",
       "1  img_7764995.jpg                BQ          50700.0        1267.5   \n",
       "2   img_451308.jpg                 A          49500.0        1237.5   \n",
       "3  img_7768372.jpg                 A          33500.0         837.5   \n",
       "4  img_7765274.jpg                AC          27600.0         690.0   \n",
       "\n",
       "  Expiry_date  Max_coverage  Condition  Amount  \n",
       "0  2026-12-03      36142.68          0     0.0  \n",
       "1  2025-07-10      12753.00          1  6194.0  \n",
       "2  2022-08-11      43102.68          0     0.0  \n",
       "3  2022-08-02       8453.00          1  7699.0  \n",
       "4  2026-05-01       6978.00          1  8849.0  "
      ]
     },
     "execution_count": 11,
     "metadata": {},
     "output_type": "execute_result"
    }
   ],
   "source": [
    "train.head()"
   ]
  },
  {
   "cell_type": "markdown",
   "metadata": {},
   "source": [
    "### Step 2: check for missing values in both Test and Train DataFrames"
   ]
  },
  {
   "cell_type": "code",
   "execution_count": 12,
   "metadata": {},
   "outputs": [
    {
     "data": {
      "text/plain": [
       "Image_path            0\n",
       "Insurance_company     0\n",
       "Cost_of_vehicle      89\n",
       "Min_coverage         89\n",
       "Expiry_date           0\n",
       "Max_coverage         89\n",
       "Condition             0\n",
       "Amount               11\n",
       "dtype: int64"
      ]
     },
     "execution_count": 12,
     "metadata": {},
     "output_type": "execute_result"
    }
   ],
   "source": [
    "train.isna().sum()"
   ]
  },
  {
   "cell_type": "code",
   "execution_count": 13,
   "metadata": {},
   "outputs": [
    {
     "data": {
      "text/plain": [
       "Image_path           0\n",
       "Insurance_company    0\n",
       "Cost_of_vehicle      0\n",
       "Min_coverage         0\n",
       "Expiry_date          0\n",
       "Max_coverage         0\n",
       "dtype: int64"
      ]
     },
     "execution_count": 13,
     "metadata": {},
     "output_type": "execute_result"
    }
   ],
   "source": [
    "test.isna().sum()"
   ]
  },
  {
   "cell_type": "code",
   "execution_count": 14,
   "metadata": {},
   "outputs": [
    {
     "data": {
      "text/plain": [
       "Image_path            0\n",
       "Insurance_company     0\n",
       "Cost_of_vehicle      89\n",
       "Min_coverage         89\n",
       "Expiry_date           0\n",
       "Max_coverage         89\n",
       "Condition             0\n",
       "Amount               11\n",
       "dtype: int64"
      ]
     },
     "execution_count": 14,
     "metadata": {},
     "output_type": "execute_result"
    }
   ],
   "source": [
    "train.isna().sum()"
   ]
  },
  {
   "cell_type": "code",
   "execution_count": 15,
   "metadata": {},
   "outputs": [
    {
     "data": {
      "text/plain": [
       "107     False\n",
       "148     False\n",
       "449     False\n",
       "461     False\n",
       "468     False\n",
       "482     False\n",
       "525     False\n",
       "734     False\n",
       "842     False\n",
       "1107    False\n",
       "1398    False\n",
       "Name: Condition, dtype: bool"
      ]
     },
     "execution_count": 15,
     "metadata": {},
     "output_type": "execute_result"
    }
   ],
   "source": [
    "train[train['Amount'].isna()==True]['Condition']==0"
   ]
  },
  {
   "cell_type": "code",
   "execution_count": 16,
   "metadata": {},
   "outputs": [],
   "source": [
    "train = train[~train['Amount'].isna()]"
   ]
  },
  {
   "cell_type": "code",
   "execution_count": 17,
   "metadata": {},
   "outputs": [
    {
     "data": {
      "text/plain": [
       "(1388, 8)"
      ]
     },
     "execution_count": 17,
     "metadata": {},
     "output_type": "execute_result"
    }
   ],
   "source": [
    "train.shape"
   ]
  },
  {
   "cell_type": "code",
   "execution_count": 18,
   "metadata": {},
   "outputs": [
    {
     "data": {
      "text/plain": [
       "Image_path            0\n",
       "Insurance_company     0\n",
       "Cost_of_vehicle      87\n",
       "Min_coverage         87\n",
       "Expiry_date           0\n",
       "Max_coverage         87\n",
       "Condition             0\n",
       "Amount                0\n",
       "dtype: int64"
      ]
     },
     "execution_count": 18,
     "metadata": {},
     "output_type": "execute_result"
    }
   ],
   "source": [
    "train.isna().sum()"
   ]
  },
  {
   "cell_type": "code",
   "execution_count": 19,
   "metadata": {},
   "outputs": [
    {
     "data": {
      "text/plain": [
       "True"
      ]
     },
     "execution_count": 19,
     "metadata": {},
     "output_type": "execute_result"
    }
   ],
   "source": [
    "list(train[train['Max_coverage'].isna()==True].index.values) == list(train[train['Min_coverage'].isna()==True].index.values)"
   ]
  },
  {
   "cell_type": "code",
   "execution_count": 20,
   "metadata": {},
   "outputs": [
    {
     "data": {
      "text/plain": [
       "True"
      ]
     },
     "execution_count": 20,
     "metadata": {},
     "output_type": "execute_result"
    }
   ],
   "source": [
    "list(train[train['Cost_of_vehicle'].isna()==True].index.values) == list(train[train['Min_coverage'].isna()==True].index.values)"
   ]
  },
  {
   "cell_type": "code",
   "execution_count": 21,
   "metadata": {},
   "outputs": [
    {
     "data": {
      "text/html": [
       "<div>\n",
       "<style scoped>\n",
       "    .dataframe tbody tr th:only-of-type {\n",
       "        vertical-align: middle;\n",
       "    }\n",
       "\n",
       "    .dataframe tbody tr th {\n",
       "        vertical-align: top;\n",
       "    }\n",
       "\n",
       "    .dataframe thead th {\n",
       "        text-align: right;\n",
       "    }\n",
       "</style>\n",
       "<table border=\"1\" class=\"dataframe\">\n",
       "  <thead>\n",
       "    <tr style=\"text-align: right;\">\n",
       "      <th></th>\n",
       "      <th>Image_path</th>\n",
       "      <th>Insurance_company</th>\n",
       "      <th>Cost_of_vehicle</th>\n",
       "      <th>Min_coverage</th>\n",
       "      <th>Expiry_date</th>\n",
       "      <th>Max_coverage</th>\n",
       "      <th>Condition</th>\n",
       "      <th>Amount</th>\n",
       "    </tr>\n",
       "  </thead>\n",
       "  <tbody>\n",
       "    <tr>\n",
       "      <th>8</th>\n",
       "      <td>img_7767281.jpg</td>\n",
       "      <td>DA</td>\n",
       "      <td>NaN</td>\n",
       "      <td>NaN</td>\n",
       "      <td>2028-06-07</td>\n",
       "      <td>NaN</td>\n",
       "      <td>1</td>\n",
       "      <td>513.0</td>\n",
       "    </tr>\n",
       "    <tr>\n",
       "      <th>13</th>\n",
       "      <td>img_7767681.jpg</td>\n",
       "      <td>DA</td>\n",
       "      <td>NaN</td>\n",
       "      <td>NaN</td>\n",
       "      <td>2026-05-28</td>\n",
       "      <td>NaN</td>\n",
       "      <td>1</td>\n",
       "      <td>7983.0</td>\n",
       "    </tr>\n",
       "    <tr>\n",
       "      <th>14</th>\n",
       "      <td>img_4536138.jpg</td>\n",
       "      <td>C</td>\n",
       "      <td>NaN</td>\n",
       "      <td>NaN</td>\n",
       "      <td>2022-01-12</td>\n",
       "      <td>NaN</td>\n",
       "      <td>1</td>\n",
       "      <td>6532.0</td>\n",
       "    </tr>\n",
       "    <tr>\n",
       "      <th>21</th>\n",
       "      <td>img_4636799.jpg</td>\n",
       "      <td>AC</td>\n",
       "      <td>NaN</td>\n",
       "      <td>NaN</td>\n",
       "      <td>2027-04-13</td>\n",
       "      <td>NaN</td>\n",
       "      <td>1</td>\n",
       "      <td>470.0</td>\n",
       "    </tr>\n",
       "    <tr>\n",
       "      <th>23</th>\n",
       "      <td>img_7768147.jpg</td>\n",
       "      <td>O</td>\n",
       "      <td>NaN</td>\n",
       "      <td>NaN</td>\n",
       "      <td>2024-08-21</td>\n",
       "      <td>NaN</td>\n",
       "      <td>1</td>\n",
       "      <td>7870.0</td>\n",
       "    </tr>\n",
       "    <tr>\n",
       "      <th>...</th>\n",
       "      <td>...</td>\n",
       "      <td>...</td>\n",
       "      <td>...</td>\n",
       "      <td>...</td>\n",
       "      <td>...</td>\n",
       "      <td>...</td>\n",
       "      <td>...</td>\n",
       "      <td>...</td>\n",
       "    </tr>\n",
       "    <tr>\n",
       "      <th>1250</th>\n",
       "      <td>img_4538123.jpg</td>\n",
       "      <td>O</td>\n",
       "      <td>NaN</td>\n",
       "      <td>NaN</td>\n",
       "      <td>2026-11-07</td>\n",
       "      <td>NaN</td>\n",
       "      <td>1</td>\n",
       "      <td>5775.0</td>\n",
       "    </tr>\n",
       "    <tr>\n",
       "      <th>1264</th>\n",
       "      <td>img_4635854.jpg</td>\n",
       "      <td>O</td>\n",
       "      <td>NaN</td>\n",
       "      <td>NaN</td>\n",
       "      <td>2028-02-17</td>\n",
       "      <td>NaN</td>\n",
       "      <td>1</td>\n",
       "      <td>395.0</td>\n",
       "    </tr>\n",
       "    <tr>\n",
       "      <th>1265</th>\n",
       "      <td>img_4514917.jpg</td>\n",
       "      <td>DA</td>\n",
       "      <td>NaN</td>\n",
       "      <td>NaN</td>\n",
       "      <td>2023-05-02</td>\n",
       "      <td>NaN</td>\n",
       "      <td>1</td>\n",
       "      <td>5922.0</td>\n",
       "    </tr>\n",
       "    <tr>\n",
       "      <th>1321</th>\n",
       "      <td>img_7765224.jpg</td>\n",
       "      <td>A</td>\n",
       "      <td>NaN</td>\n",
       "      <td>NaN</td>\n",
       "      <td>2025-11-21</td>\n",
       "      <td>NaN</td>\n",
       "      <td>1</td>\n",
       "      <td>2698.0</td>\n",
       "    </tr>\n",
       "    <tr>\n",
       "      <th>1372</th>\n",
       "      <td>img_4636777.jpg</td>\n",
       "      <td>A</td>\n",
       "      <td>NaN</td>\n",
       "      <td>NaN</td>\n",
       "      <td>2028-06-01</td>\n",
       "      <td>NaN</td>\n",
       "      <td>1</td>\n",
       "      <td>5752.0</td>\n",
       "    </tr>\n",
       "  </tbody>\n",
       "</table>\n",
       "<p>87 rows × 8 columns</p>\n",
       "</div>"
      ],
      "text/plain": [
       "           Image_path Insurance_company  Cost_of_vehicle  Min_coverage  \\\n",
       "8     img_7767281.jpg                DA              NaN           NaN   \n",
       "13    img_7767681.jpg                DA              NaN           NaN   \n",
       "14    img_4536138.jpg                 C              NaN           NaN   \n",
       "21    img_4636799.jpg                AC              NaN           NaN   \n",
       "23    img_7768147.jpg                 O              NaN           NaN   \n",
       "...               ...               ...              ...           ...   \n",
       "1250  img_4538123.jpg                 O              NaN           NaN   \n",
       "1264  img_4635854.jpg                 O              NaN           NaN   \n",
       "1265  img_4514917.jpg                DA              NaN           NaN   \n",
       "1321  img_7765224.jpg                 A              NaN           NaN   \n",
       "1372  img_4636777.jpg                 A              NaN           NaN   \n",
       "\n",
       "     Expiry_date  Max_coverage  Condition  Amount  \n",
       "8     2028-06-07           NaN          1   513.0  \n",
       "13    2026-05-28           NaN          1  7983.0  \n",
       "14    2022-01-12           NaN          1  6532.0  \n",
       "21    2027-04-13           NaN          1   470.0  \n",
       "23    2024-08-21           NaN          1  7870.0  \n",
       "...          ...           ...        ...     ...  \n",
       "1250  2026-11-07           NaN          1  5775.0  \n",
       "1264  2028-02-17           NaN          1   395.0  \n",
       "1265  2023-05-02           NaN          1  5922.0  \n",
       "1321  2025-11-21           NaN          1  2698.0  \n",
       "1372  2028-06-01           NaN          1  5752.0  \n",
       "\n",
       "[87 rows x 8 columns]"
      ]
     },
     "execution_count": 21,
     "metadata": {},
     "output_type": "execute_result"
    }
   ],
   "source": [
    "train[train['Max_coverage'].isna()==True]"
   ]
  },
  {
   "cell_type": "code",
   "execution_count": 22,
   "metadata": {},
   "outputs": [],
   "source": [
    "train = train[~train['Cost_of_vehicle'].isna()]"
   ]
  },
  {
   "cell_type": "code",
   "execution_count": 23,
   "metadata": {},
   "outputs": [
    {
     "data": {
      "text/plain": [
       "(1301, 8)"
      ]
     },
     "execution_count": 23,
     "metadata": {},
     "output_type": "execute_result"
    }
   ],
   "source": [
    "train.shape"
   ]
  },
  {
   "cell_type": "code",
   "execution_count": 24,
   "metadata": {},
   "outputs": [
    {
     "data": {
      "text/plain": [
       "Image_path           0\n",
       "Insurance_company    0\n",
       "Cost_of_vehicle      0\n",
       "Min_coverage         0\n",
       "Expiry_date          0\n",
       "Max_coverage         0\n",
       "Condition            0\n",
       "Amount               0\n",
       "dtype: int64"
      ]
     },
     "execution_count": 24,
     "metadata": {},
     "output_type": "execute_result"
    }
   ],
   "source": [
    "train.isna().sum()"
   ]
  },
  {
   "cell_type": "code",
   "execution_count": 25,
   "metadata": {},
   "outputs": [
    {
     "data": {
      "text/plain": [
       "Image_path           0\n",
       "Insurance_company    0\n",
       "Cost_of_vehicle      0\n",
       "Min_coverage         0\n",
       "Expiry_date          0\n",
       "Max_coverage         0\n",
       "dtype: int64"
      ]
     },
     "execution_count": 25,
     "metadata": {},
     "output_type": "execute_result"
    }
   ],
   "source": [
    "test.isna().sum()"
   ]
  },
  {
   "cell_type": "markdown",
   "metadata": {},
   "source": [
    "### Step 3: Extract textural based features from images."
   ]
  },
  {
   "cell_type": "code",
   "execution_count": 26,
   "metadata": {},
   "outputs": [
    {
     "data": {
      "text/html": [
       "<div>\n",
       "<style scoped>\n",
       "    .dataframe tbody tr th:only-of-type {\n",
       "        vertical-align: middle;\n",
       "    }\n",
       "\n",
       "    .dataframe tbody tr th {\n",
       "        vertical-align: top;\n",
       "    }\n",
       "\n",
       "    .dataframe thead th {\n",
       "        text-align: right;\n",
       "    }\n",
       "</style>\n",
       "<table border=\"1\" class=\"dataframe\">\n",
       "  <thead>\n",
       "    <tr style=\"text-align: right;\">\n",
       "      <th></th>\n",
       "      <th>Image_path</th>\n",
       "      <th>Insurance_company</th>\n",
       "      <th>Cost_of_vehicle</th>\n",
       "      <th>Min_coverage</th>\n",
       "      <th>Expiry_date</th>\n",
       "      <th>Max_coverage</th>\n",
       "      <th>Condition</th>\n",
       "      <th>Amount</th>\n",
       "    </tr>\n",
       "  </thead>\n",
       "  <tbody>\n",
       "    <tr>\n",
       "      <th>0</th>\n",
       "      <td>img_4513976.jpg</td>\n",
       "      <td>BQ</td>\n",
       "      <td>41500.0</td>\n",
       "      <td>1037.5</td>\n",
       "      <td>2026-12-03</td>\n",
       "      <td>36142.68</td>\n",
       "      <td>0</td>\n",
       "      <td>0.0</td>\n",
       "    </tr>\n",
       "    <tr>\n",
       "      <th>1</th>\n",
       "      <td>img_7764995.jpg</td>\n",
       "      <td>BQ</td>\n",
       "      <td>50700.0</td>\n",
       "      <td>1267.5</td>\n",
       "      <td>2025-07-10</td>\n",
       "      <td>12753.00</td>\n",
       "      <td>1</td>\n",
       "      <td>6194.0</td>\n",
       "    </tr>\n",
       "    <tr>\n",
       "      <th>2</th>\n",
       "      <td>img_451308.jpg</td>\n",
       "      <td>A</td>\n",
       "      <td>49500.0</td>\n",
       "      <td>1237.5</td>\n",
       "      <td>2022-08-11</td>\n",
       "      <td>43102.68</td>\n",
       "      <td>0</td>\n",
       "      <td>0.0</td>\n",
       "    </tr>\n",
       "    <tr>\n",
       "      <th>3</th>\n",
       "      <td>img_7768372.jpg</td>\n",
       "      <td>A</td>\n",
       "      <td>33500.0</td>\n",
       "      <td>837.5</td>\n",
       "      <td>2022-08-02</td>\n",
       "      <td>8453.00</td>\n",
       "      <td>1</td>\n",
       "      <td>7699.0</td>\n",
       "    </tr>\n",
       "    <tr>\n",
       "      <th>4</th>\n",
       "      <td>img_7765274.jpg</td>\n",
       "      <td>AC</td>\n",
       "      <td>27600.0</td>\n",
       "      <td>690.0</td>\n",
       "      <td>2026-05-01</td>\n",
       "      <td>6978.00</td>\n",
       "      <td>1</td>\n",
       "      <td>8849.0</td>\n",
       "    </tr>\n",
       "  </tbody>\n",
       "</table>\n",
       "</div>"
      ],
      "text/plain": [
       "        Image_path Insurance_company  Cost_of_vehicle  Min_coverage  \\\n",
       "0  img_4513976.jpg                BQ          41500.0        1037.5   \n",
       "1  img_7764995.jpg                BQ          50700.0        1267.5   \n",
       "2   img_451308.jpg                 A          49500.0        1237.5   \n",
       "3  img_7768372.jpg                 A          33500.0         837.5   \n",
       "4  img_7765274.jpg                AC          27600.0         690.0   \n",
       "\n",
       "  Expiry_date  Max_coverage  Condition  Amount  \n",
       "0  2026-12-03      36142.68          0     0.0  \n",
       "1  2025-07-10      12753.00          1  6194.0  \n",
       "2  2022-08-11      43102.68          0     0.0  \n",
       "3  2022-08-02       8453.00          1  7699.0  \n",
       "4  2026-05-01       6978.00          1  8849.0  "
      ]
     },
     "execution_count": 26,
     "metadata": {},
     "output_type": "execute_result"
    }
   ],
   "source": [
    "train.head()"
   ]
  },
  {
   "cell_type": "code",
   "execution_count": 27,
   "metadata": {},
   "outputs": [
    {
     "data": {
      "text/html": [
       "<div>\n",
       "<style scoped>\n",
       "    .dataframe tbody tr th:only-of-type {\n",
       "        vertical-align: middle;\n",
       "    }\n",
       "\n",
       "    .dataframe tbody tr th {\n",
       "        vertical-align: top;\n",
       "    }\n",
       "\n",
       "    .dataframe thead th {\n",
       "        text-align: right;\n",
       "    }\n",
       "</style>\n",
       "<table border=\"1\" class=\"dataframe\">\n",
       "  <thead>\n",
       "    <tr style=\"text-align: right;\">\n",
       "      <th></th>\n",
       "      <th>Image_path</th>\n",
       "      <th>Insurance_company</th>\n",
       "      <th>Cost_of_vehicle</th>\n",
       "      <th>Min_coverage</th>\n",
       "      <th>Expiry_date</th>\n",
       "      <th>Max_coverage</th>\n",
       "      <th>Condition</th>\n",
       "      <th>Amount</th>\n",
       "    </tr>\n",
       "  </thead>\n",
       "  <tbody>\n",
       "    <tr>\n",
       "      <th>1388</th>\n",
       "      <td>img_4636459.jpg</td>\n",
       "      <td>BC</td>\n",
       "      <td>31500.0</td>\n",
       "      <td>787.5</td>\n",
       "      <td>2023-03-09</td>\n",
       "      <td>7953.0</td>\n",
       "      <td>1</td>\n",
       "      <td>487.0</td>\n",
       "    </tr>\n",
       "    <tr>\n",
       "      <th>1389</th>\n",
       "      <td>img_4635689.jpg</td>\n",
       "      <td>RE</td>\n",
       "      <td>34900.0</td>\n",
       "      <td>872.5</td>\n",
       "      <td>2025-10-16</td>\n",
       "      <td>8803.0</td>\n",
       "      <td>1</td>\n",
       "      <td>4906.0</td>\n",
       "    </tr>\n",
       "    <tr>\n",
       "      <th>1390</th>\n",
       "      <td>img_4514832.jpg</td>\n",
       "      <td>AA</td>\n",
       "      <td>27100.0</td>\n",
       "      <td>677.5</td>\n",
       "      <td>2022-11-01</td>\n",
       "      <td>6853.0</td>\n",
       "      <td>1</td>\n",
       "      <td>3070.0</td>\n",
       "    </tr>\n",
       "    <tr>\n",
       "      <th>1391</th>\n",
       "      <td>img_4518854.jpg</td>\n",
       "      <td>RE</td>\n",
       "      <td>45200.0</td>\n",
       "      <td>1130.0</td>\n",
       "      <td>2025-06-07</td>\n",
       "      <td>11378.0</td>\n",
       "      <td>1</td>\n",
       "      <td>7440.0</td>\n",
       "    </tr>\n",
       "    <tr>\n",
       "      <th>1392</th>\n",
       "      <td>img_4638768.jpg</td>\n",
       "      <td>AC</td>\n",
       "      <td>26100.0</td>\n",
       "      <td>652.5</td>\n",
       "      <td>2028-01-06</td>\n",
       "      <td>6603.0</td>\n",
       "      <td>1</td>\n",
       "      <td>621.0</td>\n",
       "    </tr>\n",
       "    <tr>\n",
       "      <th>1393</th>\n",
       "      <td>img_4535755.jpg</td>\n",
       "      <td>AC</td>\n",
       "      <td>51500.0</td>\n",
       "      <td>1287.5</td>\n",
       "      <td>2022-01-07</td>\n",
       "      <td>12953.0</td>\n",
       "      <td>1</td>\n",
       "      <td>4058.0</td>\n",
       "    </tr>\n",
       "    <tr>\n",
       "      <th>1394</th>\n",
       "      <td>img_4637237.jpg</td>\n",
       "      <td>DA</td>\n",
       "      <td>52300.0</td>\n",
       "      <td>1307.5</td>\n",
       "      <td>2025-02-17</td>\n",
       "      <td>13153.0</td>\n",
       "      <td>1</td>\n",
       "      <td>4565.0</td>\n",
       "    </tr>\n",
       "    <tr>\n",
       "      <th>1395</th>\n",
       "      <td>img_4637000.jpg</td>\n",
       "      <td>BQ</td>\n",
       "      <td>41500.0</td>\n",
       "      <td>1037.5</td>\n",
       "      <td>2023-12-30</td>\n",
       "      <td>10453.0</td>\n",
       "      <td>1</td>\n",
       "      <td>3363.0</td>\n",
       "    </tr>\n",
       "    <tr>\n",
       "      <th>1396</th>\n",
       "      <td>img_4637503.jpg</td>\n",
       "      <td>AA</td>\n",
       "      <td>31400.0</td>\n",
       "      <td>785.0</td>\n",
       "      <td>2022-11-25</td>\n",
       "      <td>7928.0</td>\n",
       "      <td>1</td>\n",
       "      <td>5336.0</td>\n",
       "    </tr>\n",
       "    <tr>\n",
       "      <th>1397</th>\n",
       "      <td>img_4515101.jpg</td>\n",
       "      <td>A</td>\n",
       "      <td>33200.0</td>\n",
       "      <td>830.0</td>\n",
       "      <td>2022-10-10</td>\n",
       "      <td>8378.0</td>\n",
       "      <td>1</td>\n",
       "      <td>8734.0</td>\n",
       "    </tr>\n",
       "  </tbody>\n",
       "</table>\n",
       "</div>"
      ],
      "text/plain": [
       "           Image_path Insurance_company  Cost_of_vehicle  Min_coverage  \\\n",
       "1388  img_4636459.jpg                BC          31500.0         787.5   \n",
       "1389  img_4635689.jpg                RE          34900.0         872.5   \n",
       "1390  img_4514832.jpg                AA          27100.0         677.5   \n",
       "1391  img_4518854.jpg                RE          45200.0        1130.0   \n",
       "1392  img_4638768.jpg                AC          26100.0         652.5   \n",
       "1393  img_4535755.jpg                AC          51500.0        1287.5   \n",
       "1394  img_4637237.jpg                DA          52300.0        1307.5   \n",
       "1395  img_4637000.jpg                BQ          41500.0        1037.5   \n",
       "1396  img_4637503.jpg                AA          31400.0         785.0   \n",
       "1397  img_4515101.jpg                 A          33200.0         830.0   \n",
       "\n",
       "     Expiry_date  Max_coverage  Condition  Amount  \n",
       "1388  2023-03-09        7953.0          1   487.0  \n",
       "1389  2025-10-16        8803.0          1  4906.0  \n",
       "1390  2022-11-01        6853.0          1  3070.0  \n",
       "1391  2025-06-07       11378.0          1  7440.0  \n",
       "1392  2028-01-06        6603.0          1   621.0  \n",
       "1393  2022-01-07       12953.0          1  4058.0  \n",
       "1394  2025-02-17       13153.0          1  4565.0  \n",
       "1395  2023-12-30       10453.0          1  3363.0  \n",
       "1396  2022-11-25        7928.0          1  5336.0  \n",
       "1397  2022-10-10        8378.0          1  8734.0  "
      ]
     },
     "execution_count": 27,
     "metadata": {},
     "output_type": "execute_result"
    }
   ],
   "source": [
    "train.tail(10)"
   ]
  },
  {
   "cell_type": "code",
   "execution_count": 28,
   "metadata": {},
   "outputs": [],
   "source": [
    "train = train.reset_index()"
   ]
  },
  {
   "cell_type": "code",
   "execution_count": 29,
   "metadata": {},
   "outputs": [
    {
     "name": "stdout",
     "output_type": "stream",
     "text": [
      "['img_4511041.jpg', 'img_4511208.jpg', 'img_4511569.jpg', 'img_4511760.jpg', 'img_451186.jpg', 'img_45123.jpg', 'img_4512307.jpg', 'img_4512529.jpg', 'img_4513009.jpg', 'img_4513058.jpg', 'img_451308.jpg', 'img_4513168.jpg', 'img_4513328.jpg', 'img_4513344.jpg', 'img_4513423.jpg', 'img_451397.jpg', 'img_4513976.jpg', 'img_4514159.jpg', 'img_4514501.jpg', 'img_4514527.jpg', 'img_4514532.jpg', 'img_4514546.jpg', 'img_4514547.jpg', 'img_4514561.jpg', 'img_4514588.jpg', 'img_4514598.jpg', 'img_4514603.jpg', 'img_4514606.jpg', 'img_4514612.jpg', 'img_4514629.jpg', 'img_4514646.jpg', 'img_4514648.jpg', 'img_4514653.jpg', 'img_4514658.jpg', 'img_4514663.jpg', 'img_4514696.jpg', 'img_4514709.jpg', 'img_4514715.jpg', 'img_4514720.jpg', 'img_4514749.jpg', 'img_4514751.jpg', 'img_4514772.jpg', 'img_4514779.jpg', 'img_4514786.jpg', 'img_4514832.jpg', 'img_4514864.jpg', 'img_4514893.jpg', 'img_4514894.jpg', 'img_451490.jpg', 'img_4514917.jpg', 'img_4514957.jpg', 'img_4514974.jpg', 'img_4514998.jpg', 'img_4515002.jpg', 'img_4515006.jpg', 'img_4515058.jpg', 'img_4515065.jpg', 'img_4515082.jpg', 'img_4515084.jpg', 'img_4515101.jpg', 'img_4515115.jpg', 'img_4515160.jpg', 'img_4515172.jpg', 'img_4515178.jpg', 'img_4515179.jpg', 'img_4515205.jpg', 'img_4515215.jpg', 'img_4515218.jpg', 'img_4515227.jpg', 'img_4515232.jpg', 'img_4515236.jpg', 'img_4515238.jpg', 'img_4515244.jpg', 'img_4515247.jpg', 'img_4515282.jpg', 'img_4515289.jpg', 'img_4515300.jpg', 'img_4515301.jpg', 'img_4515331.jpg', 'img_4515334.jpg', 'img_4515380.jpg', 'img_4515385.jpg', 'img_4515403.jpg', 'img_4515407.jpg', 'img_4515408.jpg', 'img_4515414.jpg', 'img_4515455.jpg', 'img_4515475.jpg', 'img_4515485.jpg', 'img_451549.jpg', 'img_4515506.jpg', 'img_4515536.jpg', 'img_4515550.jpg', 'img_4515569.jpg', 'img_4515581.jpg', 'img_4515592.jpg', 'img_4515603.jpg', 'img_4515645.jpg', 'img_4515664.jpg', 'img_4515675.jpg', 'img_4515709.jpg', 'img_4515722.jpg', 'img_4515727.jpg', 'img_4515734.jpg', 'img_4515754.jpg', 'img_4515759.jpg', 'img_4515772.jpg', 'img_4515825.jpg', 'img_4515836.jpg', 'img_4515853.jpg', 'img_4515867.jpg', 'img_4515895.jpg', 'img_4515896.jpg', 'img_4515908.jpg', 'img_4515911.jpg', 'img_4515942.jpg', 'img_4515944.jpg', 'img_4515952.jpg', 'img_4515983.jpg', 'img_4515999.jpg', 'img_4516010.jpg', 'img_4516021.jpg', 'img_4516025.jpg', 'img_4516048.jpg', 'img_4516058.jpg', 'img_4516074.jpg', 'img_4516112.jpg', 'img_4516119.jpg', 'img_4516133.jpg', 'img_4516142.jpg', 'img_4516171.jpg', 'img_4516183.jpg', 'img_4516186.jpg', 'img_4516202.jpg', 'img_4516228.jpg', 'img_4516248.jpg', 'img_4516252.jpg', 'img_4516268.jpg', 'img_4516286.jpg', 'img_4516301.jpg', 'img_4516303.jpg', 'img_4516305.jpg', 'img_4516307.jpg', 'img_4516312.jpg', 'img_4516319.jpg', 'img_4516363.jpg', 'img_4516386.jpg', 'img_4516388.jpg', 'img_4516408.jpg', 'img_4516418.jpg', 'img_4516444.jpg', 'img_4516447.jpg', 'img_4516476.jpg', 'img_4516483.jpg', 'img_4516489.jpg', 'img_4516490.jpg', 'img_4516496.jpg', 'img_4516507.jpg', 'img_4516526.jpg', 'img_4516553.jpg', 'img_4516582.jpg', 'img_4516583.jpg', 'img_4516605.jpg', 'img_4516620.jpg', 'img_4516647.jpg', 'img_4516658.jpg', 'img_4516671.jpg', 'img_4516674.jpg', 'img_4516685.jpg', 'img_4516723.jpg', 'img_4516724.jpg', 'img_4516728.jpg', 'img_4516762.jpg', 'img_4516764.jpg', 'img_4516805.jpg', 'img_4516807.jpg', 'img_4516820.jpg', 'img_4516826.jpg', 'img_4516828.jpg', 'img_4516833.jpg', 'img_4516834.jpg', 'img_4516846.jpg', 'img_4516867.jpg', 'img_4516880.jpg', 'img_4516885.jpg', 'img_4516897.jpg', 'img_4516912.jpg', 'img_4516919.jpg', 'img_4516939.jpg', 'img_4516954.jpg', 'img_4516999.jpg', 'img_4517013.jpg', 'img_4517037.jpg', 'img_4517087.jpg', 'img_4517089.jpg', 'img_4517137.jpg', 'img_4517138.jpg', 'img_4517147.jpg', 'img_4517155.jpg', 'img_4517173.jpg', 'img_4517202.jpg', 'img_4517226.jpg', 'img_4517239.jpg', 'img_4517246.jpg', 'img_4517267.jpg', 'img_4517279.jpg', 'img_4517287.jpg', 'img_4517305.jpg', 'img_4517320.jpg', 'img_4517327.jpg', 'img_4517331.jpg', 'img_4517333.jpg', 'img_4517337.jpg', 'img_4517357.jpg', 'img_4517377.jpg', 'img_4517383.jpg', 'img_4517388.jpg', 'img_4517432.jpg', 'img_4517434.jpg', 'img_4517436.jpg', 'img_4517483.jpg', 'img_4517486.jpg', 'img_4517490.jpg', 'img_4517509.jpg', 'img_4517533.jpg', 'img_4517535.jpg', 'img_4517543.jpg', 'img_4517571.jpg', 'img_4517580.jpg', 'img_4517584.jpg', 'img_4517603.jpg', 'img_4517623.jpg', 'img_4517626.jpg', 'img_4517635.jpg', 'img_4517645.jpg', 'img_4517647.jpg', 'img_4517649.jpg', 'img_4517650.jpg', 'img_4517683.jpg', 'img_4517704.jpg', 'img_4517706.jpg', 'img_4517719.jpg', 'img_4517749.jpg', 'img_4517763.jpg', 'img_4517765.jpg', 'img_4517780.jpg', 'img_4517781.jpg', 'img_4517804.jpg', 'img_4517828.jpg', 'img_4517841.jpg', 'img_4517862.jpg', 'img_4517867.jpg', 'img_4517871.jpg', 'img_4517878.jpg', 'img_4517905.jpg', 'img_4517932.jpg', 'img_4517951.jpg', 'img_4517954.jpg', 'img_4517974.jpg', 'img_4517985.jpg', 'img_451799.jpg', 'img_4518002.jpg', 'img_4518028.jpg', 'img_4518055.jpg', 'img_4518065.jpg', 'img_4518084.jpg', 'img_4518126.jpg', 'img_4518130.jpg', 'img_4518142.jpg', 'img_4518146.jpg', 'img_4518177.jpg', 'img_4518199.jpg', 'img_4518225.jpg', 'img_4518247.jpg', 'img_4518251.jpg', 'img_4518268.jpg', 'img_4518269.jpg', 'img_4518270.jpg', 'img_4518271.jpg', 'img_4518276.jpg', 'img_4518280.jpg', 'img_4518289.jpg', 'img_4518299.jpg', 'img_4518317.jpg', 'img_4518329.jpg', 'img_4518363.jpg', 'img_4518384.jpg', 'img_4518390.jpg', 'img_4518452.jpg', 'img_4518454.jpg', 'img_4518464.jpg', 'img_4518511.jpg', 'img_4518543.jpg', 'img_4518557.jpg', 'img_4518559.jpg', 'img_4518573.jpg', 'img_4518647.jpg', 'img_4518648.jpg', 'img_4518665.jpg', 'img_4518696.jpg', 'img_4518698.jpg', 'img_4518722.jpg', 'img_4518736.jpg', 'img_4518755.jpg', 'img_4518769.jpg', 'img_4518779.jpg', 'img_4518784.jpg', 'img_4518790.jpg', 'img_4518793.jpg', 'img_4518801.jpg', 'img_4518854.jpg', 'img_4518858.jpg', 'img_4518863.jpg', 'img_4518867.jpg', 'img_4518874.jpg', 'img_4518887.jpg', 'img_4518901.jpg', 'img_4518929.jpg', 'img_4518933.jpg', 'img_4518948.jpg', 'img_4518965.jpg', 'img_4518976.jpg', 'img_4518990.jpg', 'img_4518994.jpg', 'img_4518996.jpg', 'img_4531097.jpg', 'img_4531551.jpg', 'img_4531694.jpg', 'img_453178.jpg', 'img_4531877.jpg', 'img_4532276.jpg', 'img_4532681.jpg', 'img_4532780.jpg', 'img_4532799.jpg', 'img_453360.jpg', 'img_4534505.jpg', 'img_4534506.jpg', 'img_4534531.jpg', 'img_4534543.jpg', 'img_4534554.jpg', 'img_453456.jpg', 'img_4534567.jpg', 'img_4534584.jpg', 'img_4534585.jpg', 'img_4534592.jpg', 'img_4534636.jpg', 'img_4534660.jpg', 'img_4534666.jpg', 'img_4534669.jpg', 'img_4534672.jpg', 'img_4534674.jpg', 'img_4534699.jpg', 'img_4534728.jpg', 'img_4534736.jpg', 'img_4534783.jpg', 'img_4534794.jpg', 'img_4534820.jpg', 'img_4534823.jpg', 'img_4534825.jpg', 'img_4534841.jpg', 'img_4534847.jpg', 'img_4534848.jpg', 'img_4534856.jpg', 'img_4534867.jpg', 'img_4534873.jpg', 'img_4534880.jpg', 'img_4534889.jpg', 'img_4534904.jpg', 'img_4534939.jpg', 'img_4534959.jpg', 'img_4534972.jpg', 'img_4534982.jpg', 'img_4534991.jpg', 'img_4535013.jpg', 'img_4535042.jpg', 'img_4535043.jpg', 'img_4535059.jpg', 'img_4535075.jpg', 'img_4535090.jpg', 'img_4535097.jpg', 'img_4535100.jpg', 'img_4535109.jpg', 'img_4535112.jpg', 'img_4535119.jpg', 'img_4535129.jpg', 'img_4535132.jpg', 'img_4535141.jpg', 'img_4535143.jpg', 'img_4535152.jpg', 'img_4535185.jpg', 'img_4535191.jpg', 'img_4535209.jpg', 'img_4535245.jpg', 'img_4535256.jpg', 'img_4535263.jpg', 'img_4535269.jpg', 'img_4535276.jpg', 'img_4535290.jpg', 'img_4535296.jpg', 'img_4535313.jpg', 'img_4535326.jpg', 'img_4535327.jpg', 'img_4535337.jpg', 'img_4535340.jpg', 'img_4535359.jpg', 'img_4535364.jpg', 'img_4535370.jpg', 'img_4535393.jpg', 'img_4535412.jpg', 'img_4535419.jpg', 'img_4535427.jpg', 'img_4535433.jpg', 'img_4535435.jpg', 'img_4535436.jpg', 'img_4535459.jpg', 'img_4535497.jpg', 'img_4535509.jpg', 'img_4535519.jpg', 'img_4535538.jpg', 'img_4535551.jpg', 'img_4535554.jpg', 'img_4535559.jpg', 'img_4535576.jpg', 'img_4535615.jpg', 'img_4535632.jpg', 'img_4535640.jpg', 'img_4535647.jpg', 'img_453565.jpg', 'img_4535665.jpg', 'img_4535672.jpg', 'img_4535673.jpg', 'img_4535687.jpg', 'img_4535711.jpg', 'img_4535719.jpg', 'img_4535741.jpg', 'img_4535743.jpg', 'img_4535755.jpg', 'img_4535758.jpg', 'img_4535764.jpg', 'img_4535766.jpg', 'img_4535773.jpg', 'img_4535788.jpg', 'img_4535790.jpg', 'img_4535793.jpg', 'img_4535801.jpg', 'img_4535815.jpg', 'img_4535832.jpg', 'img_4535834.jpg', 'img_4535845.jpg', 'img_4535859.jpg', 'img_4535879.jpg', 'img_4535897.jpg', 'img_4535916.jpg', 'img_4535932.jpg', 'img_4535946.jpg', 'img_4535962.jpg', 'img_4535981.jpg', 'img_4535986.jpg', 'img_4536037.jpg', 'img_4536062.jpg', 'img_4536090.jpg', 'img_4536123.jpg', 'img_4536128.jpg', 'img_4536131.jpg', 'img_4536138.jpg', 'img_4536152.jpg', 'img_4536163.jpg', 'img_4536164.jpg', 'img_4536177.jpg', 'img_4536180.jpg', 'img_4536187.jpg', 'img_4536195.jpg', 'img_4536217.jpg', 'img_4536250.jpg', 'img_4536255.jpg', 'img_4536282.jpg', 'img_4536291.jpg', 'img_4536302.jpg', 'img_4536308.jpg', 'img_4536309.jpg', 'img_4536328.jpg', 'img_4536339.jpg', 'img_4536341.jpg', 'img_4536350.jpg', 'img_4536360.jpg', 'img_4536383.jpg', 'img_4536390.jpg', 'img_4536398.jpg', 'img_4536412.jpg', 'img_4536462.jpg', 'img_4536503.jpg', 'img_4536514.jpg', 'img_4536532.jpg', 'img_4536562.jpg', 'img_4536568.jpg', 'img_4536610.jpg', 'img_4536632.jpg', 'img_4536637.jpg', 'img_4536642.jpg', 'img_4536648.jpg', 'img_4536649.jpg', 'img_4536673.jpg', 'img_4536678.jpg', 'img_4536693.jpg', 'img_4536696.jpg', 'img_4536716.jpg', 'img_4536721.jpg', 'img_4536731.jpg', 'img_4536746.jpg', 'img_4536751.jpg', 'img_4536758.jpg', 'img_4536788.jpg', 'img_4536797.jpg', 'img_4536804.jpg', 'img_4536813.jpg', 'img_4536819.jpg', 'img_4536822.jpg', 'img_4536824.jpg', 'img_4536839.jpg', 'img_4536853.jpg', 'img_4536890.jpg', 'img_4536902.jpg', 'img_4536915.jpg', 'img_4536929.jpg', 'img_4536949.jpg', 'img_4536981.jpg', 'img_4536983.jpg', 'img_4536992.jpg', 'img_4536993.jpg', 'img_4536997.jpg', 'img_4537007.jpg', 'img_4537019.jpg', 'img_4537020.jpg', 'img_4537024.jpg', 'img_4537039.jpg', 'img_4537054.jpg', 'img_4537058.jpg', 'img_4537091.jpg', 'img_4537093.jpg', 'img_4537105.jpg', 'img_4537126.jpg', 'img_4537127.jpg', 'img_4537128.jpg', 'img_4537145.jpg', 'img_4537166.jpg', 'img_4537167.jpg', 'img_4537170.jpg', 'img_4537174.jpg', 'img_4537191.jpg', 'img_4537213.jpg', 'img_4537220.jpg', 'img_4537240.jpg', 'img_4537244.jpg', 'img_4537249.jpg', 'img_4537253.jpg', 'img_4537262.jpg', 'img_4537266.jpg', 'img_4537268.jpg', 'img_4537286.jpg', 'img_4537335.jpg', 'img_4537343.jpg', 'img_4537363.jpg', 'img_4537378.jpg', 'img_4537427.jpg', 'img_4537429.jpg', 'img_4537447.jpg', 'img_4537465.jpg', 'img_4537473.jpg', 'img_4537476.jpg', 'img_4537477.jpg', 'img_4537481.jpg', 'img_4537508.jpg', 'img_4537510.jpg', 'img_4537526.jpg', 'img_4537534.jpg', 'img_4537561.jpg', 'img_4537578.jpg', 'img_4537605.jpg', 'img_4537620.jpg', 'img_4537631.jpg', 'img_4537658.jpg', 'img_4537660.jpg', 'img_4537664.jpg', 'img_4537670.jpg', 'img_4537685.jpg', 'img_4537687.jpg', 'img_4537692.jpg', 'img_4537703.jpg', 'img_4537725.jpg', 'img_4537743.jpg', 'img_4537767.jpg', 'img_4537770.jpg', 'img_4537787.jpg', 'img_4537810.jpg', 'img_4537822.jpg', 'img_4537835.jpg', 'img_4537837.jpg', 'img_4537895.jpg', 'img_4537896.jpg', 'img_4537902.jpg', 'img_4537913.jpg', 'img_4537920.jpg', 'img_4537944.jpg', 'img_4537950.jpg', 'img_4537961.jpg', 'img_4537962.jpg', 'img_4537993.jpg', 'img_4537999.jpg', 'img_4538000.jpg', 'img_4538003.jpg', 'img_4538033.jpg', 'img_4538034.jpg', 'img_4538093.jpg', 'img_4538102.jpg', 'img_4538109.jpg', 'img_4538112.jpg', 'img_4538113.jpg', 'img_4538123.jpg', 'img_4538164.jpg', 'img_4538179.jpg', 'img_4538189.jpg', 'img_4538194.jpg', 'img_4538196.jpg', 'img_4538208.jpg', 'img_4538209.jpg', 'img_4538210.jpg', 'img_4538221.jpg', 'img_4538230.jpg', 'img_4538234.jpg', 'img_4538246.jpg', 'img_4538260.jpg', 'img_4538265.jpg', 'img_4538290.jpg', 'img_4538291.jpg', 'img_4538309.jpg', 'img_4538312.jpg', 'img_4538327.jpg', 'img_4538360.jpg', 'img_4538362.jpg', 'img_4538364.jpg', 'img_4538414.jpg', 'img_4538445.jpg', 'img_4538458.jpg', 'img_4538469.jpg', 'img_4538470.jpg', 'img_4538486.jpg', 'img_4538491.jpg', 'img_4538536.jpg', 'img_4538550.jpg', 'img_4538554.jpg', 'img_4538588.jpg', 'img_4538596.jpg', 'img_4538608.jpg', 'img_4538615.jpg', 'img_4538616.jpg', 'img_4538633.jpg', 'img_4538635.jpg', 'img_4538655.jpg', 'img_4538687.jpg', 'img_4538697.jpg', 'img_4538705.jpg', 'img_4538708.jpg', 'img_4538731.jpg', 'img_4538739.jpg', 'img_4538742.jpg', 'img_4538751.jpg', 'img_4538773.jpg', 'img_4538797.jpg', 'img_4538798.jpg', 'img_4538815.jpg', 'img_4538821.jpg', 'img_4538841.jpg', 'img_4538845.jpg', 'img_4538847.jpg', 'img_4538861.jpg', 'img_4538897.jpg', 'img_4538903.jpg', 'img_4538918.jpg', 'img_4538923.jpg', 'img_4538940.jpg', 'img_4538944.jpg', 'img_4538945.jpg', 'img_4538958.jpg', 'img_4538959.jpg', 'img_4538985.jpg', 'img_4538992.jpg', 'img_4631479.jpg', 'img_4631517.jpg', 'img_4631978.jpg', 'img_4632253.jpg', 'img_4632335.jpg', 'img_4632362.jpg', 'img_4632365.jpg', 'img_4632686.jpg', 'img_4632689.jpg', 'img_4632733.jpg', 'img_4632741.jpg', 'img_4632759.jpg', 'img_4632958.jpg', 'img_4633067.jpg', 'img_4633454.jpg', 'img_4633906.jpg', 'img_4634006.jpg', 'img_4634206.jpg', 'img_4634227.jpg', 'img_4634342.jpg', 'img_4634389.jpg', 'img_4634520.jpg', 'img_4634524.jpg', 'img_4634525.jpg', 'img_4634526.jpg', 'img_4634545.jpg', 'img_4634563.jpg', 'img_4634565.jpg', 'img_4634566.jpg', 'img_4634569.jpg', 'img_4634579.jpg', 'img_4634599.jpg', 'img_4634600.jpg', 'img_4634605.jpg', 'img_4634621.jpg', 'img_4634667.jpg', 'img_4634684.jpg', 'img_4634694.jpg', 'img_4634748.jpg', 'img_4634763.jpg', 'img_4634776.jpg', 'img_4634777.jpg', 'img_4634822.jpg', 'img_4634831.jpg', 'img_4634850.jpg', 'img_4634855.jpg', 'img_4634857.jpg', 'img_4634870.jpg', 'img_4634885.jpg', 'img_4634888.jpg', 'img_4634910.jpg', 'img_4634938.jpg', 'img_4634943.jpg', 'img_4634973.jpg', 'img_4634983.jpg', 'img_4635001.jpg', 'img_4635034.jpg', 'img_4635037.jpg', 'img_4635047.jpg', 'img_4635057.jpg', 'img_4635087.jpg', 'img_4635123.jpg', 'img_4635131.jpg', 'img_4635167.jpg', 'img_4635183.jpg', 'img_4635194.jpg', 'img_4635195.jpg', 'img_4635198.jpg', 'img_4635200.jpg', 'img_4635206.jpg', 'img_4635210.jpg', 'img_4635213.jpg', 'img_4635217.jpg', 'img_4635220.jpg', 'img_4635250.jpg', 'img_4635293.jpg', 'img_4635305.jpg', 'img_4635315.jpg', 'img_4635324.jpg', 'img_4635356.jpg', 'img_4635386.jpg', 'img_4635394.jpg', 'img_4635396.jpg', 'img_4635410.jpg', 'img_4635465.jpg', 'img_4635494.jpg', 'img_4635522.jpg', 'img_4635527.jpg', 'img_4635529.jpg', 'img_4635531.jpg', 'img_4635549.jpg', 'img_4635552.jpg', 'img_4635558.jpg', 'img_4635562.jpg', 'img_4635564.jpg', 'img_4635567.jpg', 'img_4635578.jpg', 'img_4635586.jpg', 'img_4635588.jpg', 'img_4635607.jpg', 'img_4635617.jpg', 'img_4635622.jpg', 'img_4635642.jpg', 'img_4635663.jpg', 'img_4635680.jpg', 'img_4635683.jpg', 'img_4635689.jpg', 'img_4635703.jpg', 'img_4635721.jpg', 'img_4635728.jpg', 'img_4635761.jpg', 'img_4635779.jpg', 'img_4635781.jpg', 'img_4635792.jpg', 'img_4635806.jpg', 'img_4635807.jpg', 'img_4635814.jpg', 'img_4635824.jpg', 'img_4635842.jpg', 'img_4635849.jpg', 'img_4635850.jpg', 'img_4635854.jpg', 'img_4635865.jpg', 'img_4635892.jpg', 'img_4635898.jpg', 'img_4635910.jpg', 'img_4635923.jpg', 'img_4635940.jpg', 'img_4635954.jpg', 'img_4635955.jpg', 'img_4635963.jpg', 'img_4635987.jpg', 'img_4635995.jpg', 'img_4636005.jpg', 'img_4636012.jpg', 'img_4636027.jpg', 'img_4636051.jpg', 'img_4636065.jpg', 'img_4636071.jpg', 'img_4636072.jpg', 'img_4636081.jpg', 'img_4636092.jpg', 'img_4636095.jpg', 'img_4636101.jpg', 'img_4636110.jpg', 'img_4636122.jpg', 'img_4636135.jpg', 'img_4636143.jpg', 'img_4636156.jpg', 'img_4636159.jpg', 'img_4636168.jpg', 'img_4636232.jpg', 'img_4636257.jpg', 'img_4636259.jpg', 'img_4636278.jpg', 'img_4636285.jpg', 'img_4636333.jpg', 'img_4636375.jpg', 'img_4636380.jpg', 'img_4636384.jpg', 'img_4636391.jpg', 'img_4636396.jpg', 'img_4636402.jpg', 'img_4636406.jpg', 'img_4636416.jpg', 'img_4636427.jpg', 'img_4636445.jpg', 'img_4636459.jpg', 'img_4636461.jpg', 'img_4636466.jpg', 'img_4636473.jpg', 'img_4636484.jpg', 'img_4636487.jpg', 'img_4636502.jpg', 'img_4636510.jpg', 'img_4636523.jpg', 'img_4636527.jpg', 'img_463653.jpg', 'img_4636546.jpg', 'img_4636575.jpg', 'img_4636577.jpg', 'img_4636584.jpg', 'img_4636586.jpg', 'img_4636589.jpg', 'img_4636597.jpg', 'img_4636599.jpg', 'img_4636613.jpg', 'img_4636644.jpg', 'img_4636670.jpg', 'img_4636680.jpg', 'img_4636681.jpg', 'img_4636687.jpg', 'img_4636698.jpg', 'img_4636699.jpg', 'img_4636703.jpg', 'img_4636711.jpg', 'img_4636729.jpg', 'img_4636748.jpg', 'img_4636763.jpg', 'img_4636774.jpg', 'img_4636777.jpg', 'img_4636781.jpg', 'img_4636783.jpg', 'img_4636799.jpg', 'img_4636849.jpg', 'img_4636868.jpg', 'img_4636873.jpg', 'img_4636874.jpg', 'img_4636889.jpg', 'img_4636917.jpg', 'img_4636924.jpg', 'img_4636936.jpg', 'img_4636945.jpg', 'img_4636951.jpg', 'img_4637000.jpg', 'img_4637001.jpg', 'img_4637012.jpg', 'img_4637028.jpg', 'img_4637051.jpg', 'img_4637053.jpg', 'img_4637061.jpg', 'img_4637079.jpg', 'img_4637086.jpg', 'img_4637095.jpg', 'img_4637157.jpg', 'img_4637159.jpg', 'img_4637160.jpg', 'img_4637175.jpg', 'img_4637179.jpg', 'img_4637195.jpg', 'img_4637200.jpg', 'img_4637205.jpg', 'img_4637214.jpg', 'img_4637237.jpg', 'img_4637274.jpg', 'img_4637275.jpg', 'img_4637280.jpg', 'img_4637292.jpg', 'img_4637297.jpg', 'img_463730.jpg', 'img_4637304.jpg', 'img_4637313.jpg', 'img_4637315.jpg', 'img_4637345.jpg', 'img_4637347.jpg', 'img_4637370.jpg', 'img_4637389.jpg', 'img_4637392.jpg', 'img_4637399.jpg', 'img_4637423.jpg', 'img_4637438.jpg', 'img_4637443.jpg', 'img_4637449.jpg', 'img_4637500.jpg', 'img_4637503.jpg', 'img_4637513.jpg', 'img_4637514.jpg', 'img_4637531.jpg', 'img_4637536.jpg', 'img_4637557.jpg', 'img_4637564.jpg', 'img_4637573.jpg', 'img_4637595.jpg', 'img_4637608.jpg', 'img_4637611.jpg', 'img_4637613.jpg', 'img_4637617.jpg', 'img_4637619.jpg', 'img_4637643.jpg', 'img_4637674.jpg', 'img_4637680.jpg', 'img_4637693.jpg', 'img_4637697.jpg', 'img_4637714.jpg', 'img_4637722.jpg', 'img_4637727.jpg', 'img_4637728.jpg', 'img_4637735.jpg', 'img_4637739.jpg', 'img_4637756.jpg', 'img_4637766.jpg', 'img_4637790.jpg', 'img_4637794.jpg', 'img_4637873.jpg', 'img_4637927.jpg', 'img_4637933.jpg', 'img_4637941.jpg', 'img_4637947.jpg', 'img_4637980.jpg', 'img_4637989.jpg', 'img_4638007.jpg', 'img_4638016.jpg', 'img_4638023.jpg', 'img_4638025.jpg', 'img_4638035.jpg', 'img_4638059.jpg', 'img_4638067.jpg', 'img_4638091.jpg', 'img_4638128.jpg', 'img_4638141.jpg', 'img_4638144.jpg', 'img_4638150.jpg', 'img_4638152.jpg', 'img_4638154.jpg', 'img_4638171.jpg', 'img_4638178.jpg', 'img_4638182.jpg', 'img_4638186.jpg', 'img_4638190.jpg', 'img_4638203.jpg', 'img_4638215.jpg', 'img_4638254.jpg', 'img_4638264.jpg', 'img_4638286.jpg', 'img_4638296.jpg', 'img_4638318.jpg', 'img_4638321.jpg', 'img_4638322.jpg', 'img_4638336.jpg', 'img_4638337.jpg', 'img_4638367.jpg', 'img_4638388.jpg', 'img_4638392.jpg', 'img_4638395.jpg', 'img_4638398.jpg', 'img_4638400.jpg', 'img_4638411.jpg', 'img_4638416.jpg', 'img_4638424.jpg', 'img_4638428.jpg', 'img_4638440.jpg', 'img_4638449.jpg', 'img_4638463.jpg', 'img_4638465.jpg', 'img_4638479.jpg', 'img_4638484.jpg', 'img_4638487.jpg', 'img_4638496.jpg', 'img_4638503.jpg', 'img_4638508.jpg', 'img_4638510.jpg', 'img_4638518.jpg', 'img_4638520.jpg', 'img_4638542.jpg', 'img_4638552.jpg', 'img_4638561.jpg', 'img_4638563.jpg', 'img_4638566.jpg', 'img_4638578.jpg', 'img_4638583.jpg', 'img_4638603.jpg', 'img_4638613.jpg', 'img_4638641.jpg', 'img_4638662.jpg', 'img_4638686.jpg', 'img_4638688.jpg', 'img_4638701.jpg', 'img_4638711.jpg', 'img_4638717.jpg', 'img_4638718.jpg', 'img_4638723.jpg', 'img_4638757.jpg', 'img_4638758.jpg', 'img_4638759.jpg', 'img_4638768.jpg', 'img_4638780.jpg', 'img_4638805.jpg', 'img_4638816.jpg', 'img_4638824.jpg', 'img_4638825.jpg', 'img_4638853.jpg', 'img_4638873.jpg', 'img_4638879.jpg', 'img_4638884.jpg', 'img_4638889.jpg', 'img_4638902.jpg', 'img_4638904.jpg', 'img_4638960.jpg', 'img_4638978.jpg', 'img_4638987.jpg', 'img_7761263.jpg', 'img_7761396.jpg', 'img_7761480.jpg', 'img_7761878.jpg', 'img_7762023.jpg', 'img_7762199.jpg', 'img_7762221.jpg', 'img_7762972.jpg', 'img_7763076.jpg', 'img_7763281.jpg', 'img_7763290.jpg', 'img_7763565.jpg', 'img_7763604.jpg', 'img_7763724.jpg', 'img_7763870.jpg', 'img_7764027.jpg', 'img_7764067.jpg', 'img_7764511.jpg', 'img_7764514.jpg', 'img_7764537.jpg', 'img_7764577.jpg', 'img_7764578.jpg', 'img_7764586.jpg', 'img_7764604.jpg', 'img_7764614.jpg', 'img_7764615.jpg', 'img_7764639.jpg', 'img_7764641.jpg', 'img_7764657.jpg', 'img_7764668.jpg', 'img_7764681.jpg', 'img_7764685.jpg', 'img_7764686.jpg', 'img_7764700.jpg', 'img_7764716.jpg', 'img_7764722.jpg', 'img_7764738.jpg', 'img_7764743.jpg', 'img_7764765.jpg', 'img_7764768.jpg', 'img_7764785.jpg', 'img_7764788.jpg', 'img_7764804.jpg', 'img_7764807.jpg', 'img_7764865.jpg', 'img_7764878.jpg', 'img_7764883.jpg', 'img_7764906.jpg', 'img_7764918.jpg', 'img_7764921.jpg', 'img_7764922.jpg', 'img_7764927.jpg', 'img_7764931.jpg', 'img_7764941.jpg', 'img_7764945.jpg', 'img_7764962.jpg', 'img_7764966.jpg', 'img_7764977.jpg', 'img_7764995.jpg', 'img_7765003.jpg', 'img_7765008.jpg', 'img_7765012.jpg', 'img_7765014.jpg', 'img_7765016.jpg', 'img_7765018.jpg', 'img_7765041.jpg', 'img_7765044.jpg', 'img_7765048.jpg', 'img_7765049.jpg', 'img_7765078.jpg', 'img_7765094.jpg', 'img_7765120.jpg', 'img_7765153.jpg', 'img_7765163.jpg', 'img_7765176.jpg', 'img_7765211.jpg', 'img_7765224.jpg', 'img_7765233.jpg', 'img_7765274.jpg', 'img_7765307.jpg', 'img_7765341.jpg', 'img_7765362.jpg', 'img_7765381.jpg', 'img_7765387.jpg', 'img_7765420.jpg', 'img_7765424.jpg', 'img_7765426.jpg', 'img_7765429.jpg', 'img_7765442.jpg', 'img_7765460.jpg', 'img_7765469.jpg', 'img_7765484.jpg', 'img_7765486.jpg', 'img_7765492.jpg', 'img_7765498.jpg', 'img_7765500.jpg', 'img_7765503.jpg', 'img_7765513.jpg', 'img_7765516.jpg', 'img_7765577.jpg', 'img_7765585.jpg', 'img_7765600.jpg', 'img_7765604.jpg', 'img_7765610.jpg', 'img_7765611.jpg', 'img_7765649.jpg', 'img_7765693.jpg', 'img_7765714.jpg', 'img_7765718.jpg', 'img_7765763.jpg', 'img_7765775.jpg', 'img_7765785.jpg', 'img_7765840.jpg', 'img_7765851.jpg', 'img_7765858.jpg', 'img_7765866.jpg', 'img_7765876.jpg', 'img_7765882.jpg', 'img_7765913.jpg', 'img_7765919.jpg', 'img_7765921.jpg', 'img_7765929.jpg', 'img_7765945.jpg', 'img_7765953.jpg', 'img_7765969.jpg', 'img_7765970.jpg', 'img_7765978.jpg', 'img_7766004.jpg', 'img_7766013.jpg', 'img_7766015.jpg', 'img_7766017.jpg', 'img_7766030.jpg', 'img_7766034.jpg', 'img_7766040.jpg', 'img_7766056.jpg', 'img_7766060.jpg', 'img_7766073.jpg', 'img_7766083.jpg', 'img_7766097.jpg', 'img_7766098.jpg', 'img_7766117.jpg', 'img_7766132.jpg', 'img_7766166.jpg', 'img_7766179.jpg', 'img_7766198.jpg', 'img_7766214.jpg', 'img_7766221.jpg', 'img_7766226.jpg', 'img_7766227.jpg', 'img_7766239.jpg', 'img_7766243.jpg', 'img_7766260.jpg', 'img_7766264.jpg', 'img_7766266.jpg', 'img_7766274.jpg', 'img_7766289.jpg', 'img_7766299.jpg', 'img_7766330.jpg', 'img_7766332.jpg', 'img_7766356.jpg', 'img_7766373.jpg', 'img_7766400.jpg', 'img_7766421.jpg', 'img_7766478.jpg', 'img_7766492.jpg', 'img_7766505.jpg', 'img_7766535.jpg', 'img_7766536.jpg', 'img_7766559.jpg', 'img_7766571.jpg', 'img_7766573.jpg', 'img_7766611.jpg', 'img_7766612.jpg', 'img_7766618.jpg', 'img_7766622.jpg', 'img_7766630.jpg', 'img_7766640.jpg', 'img_7766661.jpg', 'img_7766666.jpg', 'img_7766691.jpg', 'img_7766704.jpg', 'img_7766717.jpg', 'img_7766719.jpg', 'img_7766720.jpg', 'img_7766726.jpg', 'img_7766733.jpg', 'img_7766738.jpg', 'img_7766740.jpg', 'img_7766741.jpg', 'img_7766747.jpg', 'img_7766789.jpg', 'img_7766798.jpg', 'img_7766802.jpg', 'img_7766808.jpg', 'img_7766818.jpg', 'img_7766825.jpg', 'img_7766831.jpg', 'img_7766860.jpg', 'img_7766870.jpg', 'img_7766876.jpg', 'img_7766892.jpg', 'img_7766895.jpg', 'img_7766907.jpg', 'img_7766913.jpg', 'img_7766920.jpg', 'img_7766932.jpg', 'img_7766934.jpg', 'img_7766946.jpg', 'img_7766995.jpg', 'img_7767017.jpg', 'img_7767062.jpg', 'img_7767067.jpg', 'img_7767135.jpg', 'img_7767148.jpg', 'img_7767215.jpg', 'img_7767238.jpg', 'img_7767269.jpg', 'img_7767272.jpg', 'img_7767281.jpg', 'img_7767299.jpg', 'img_7767301.jpg', 'img_7767311.jpg', 'img_7767352.jpg', 'img_7767358.jpg', 'img_7767360.jpg', 'img_7767368.jpg', 'img_7767402.jpg', 'img_7767403.jpg', 'img_7767408.jpg', 'img_7767420.jpg', 'img_7767424.jpg', 'img_7767430.jpg', 'img_7767441.jpg', 'img_7767445.jpg', 'img_7767450.jpg', 'img_7767471.jpg', 'img_7767484.jpg', 'img_7767495.jpg', 'img_7767504.jpg', 'img_7767519.jpg', 'img_7767583.jpg', 'img_7767634.jpg', 'img_7767655.jpg', 'img_7767681.jpg', 'img_7767708.jpg', 'img_7767729.jpg', 'img_7767755.jpg', 'img_7767776.jpg', 'img_7767807.jpg', 'img_7767831.jpg', 'img_7767840.jpg', 'img_7767844.jpg', 'img_7767857.jpg', 'img_7767858.jpg', 'img_7767860.jpg', 'img_7767865.jpg', 'img_7767874.jpg', 'img_7767957.jpg', 'img_7767990.jpg', 'img_7767995.jpg', 'img_7768013.jpg', 'img_7768042.jpg', 'img_7768048.jpg', 'img_7768060.jpg', 'img_7768062.jpg', 'img_7768082.jpg', 'img_7768090.jpg', 'img_7768100.jpg', 'img_7768103.jpg', 'img_7768147.jpg', 'img_7768165.jpg', 'img_7768172.jpg', 'img_7768183.jpg', 'img_7768191.jpg', 'img_7768219.jpg', 'img_776823.jpg', 'img_7768235.jpg', 'img_7768237.jpg', 'img_7768259.jpg', 'img_7768274.jpg', 'img_7768285.jpg', 'img_7768302.jpg', 'img_7768310.jpg', 'img_7768334.jpg', 'img_7768342.jpg', 'img_7768372.jpg', 'img_7768376.jpg', 'img_7768415.jpg', 'img_7768431.jpg', 'img_7768446.jpg', 'img_7768476.jpg', 'img_7768493.jpg', 'img_7768500.jpg', 'img_7768558.jpg', 'img_7768562.jpg', 'img_7768568.jpg', 'img_7768574.jpg', 'img_7768586.jpg', 'img_7768590.jpg', 'img_7768598.jpg', 'img_7768601.jpg', 'img_7768622.jpg', 'img_7768625.jpg', 'img_7768667.jpg', 'img_7768700.jpg', 'img_7768709.jpg', 'img_7768710.jpg', 'img_7768712.jpg', 'img_7768728.jpg', 'img_7768734.jpg', 'img_7768761.jpg', 'img_7768762.jpg', 'img_7768786.jpg', 'img_7768800.jpg', 'img_7768830.jpg', 'img_7768831.jpg', 'img_7768834.jpg', 'img_7768835.jpg', 'img_7768837.jpg', 'img_7768859.jpg', 'img_7768866.jpg', 'img_7768888.jpg', 'img_7768905.jpg', 'img_7768927.jpg', 'img_7768936.jpg', 'img_7768949.jpg', 'img_7768950.jpg', 'img_7768951.jpg', 'img_7768963.jpg', 'img_7768974.jpg', 'img_7768981.jpg', 'img_7768988.jpg', 'img_7769000.jpg']\n"
     ]
    }
   ],
   "source": [
    "TRAIN_IMAGE_PATH = os.path.join(DATASET_LOC,'trainImages')\n",
    "print(os.listdir(TRAIN_IMAGE_PATH))\n",
    "os.chdir(TRAIN_IMAGE_PATH)"
   ]
  },
  {
   "cell_type": "code",
   "execution_count": 30,
   "metadata": {},
   "outputs": [],
   "source": [
    "image = cv.imread('img_4511041.jpg')"
   ]
  },
  {
   "cell_type": "code",
   "execution_count": 31,
   "metadata": {},
   "outputs": [
    {
     "name": "stdout",
     "output_type": "stream",
     "text": [
      "shape of an image (187, 300, 3), type of an image <class 'numpy.ndarray'>\n"
     ]
    }
   ],
   "source": [
    "print('shape of an image {}, type of an image {}'.format(image.shape,type(image)))"
   ]
  },
  {
   "cell_type": "code",
   "execution_count": 32,
   "metadata": {},
   "outputs": [],
   "source": [
    "def extract_haralick(image):\n",
    "    ##Texture Feature\n",
    "    gray = cv.cvtColor(image,cv.COLOR_BGR2GRAY)\n",
    "    textures = mt.features.haralick(gray)\n",
    "    ht_mean = textures.mean(axis = 0)\n",
    "    return(ht_mean)"
   ]
  },
  {
   "cell_type": "code",
   "execution_count": 33,
   "metadata": {},
   "outputs": [
    {
     "data": {
      "text/plain": [
       "array([ 6.47266558e-04,  2.24033181e+03,  7.27876287e-01,  4.11703897e+03,\n",
       "        2.29558054e-01,  1.48968566e+02,  1.42278241e+04,  8.52978754e+00,\n",
       "        1.32032117e+01,  2.11340019e-04,  5.61946853e+00, -2.51891430e-01,\n",
       "        9.83776139e-01])"
      ]
     },
     "execution_count": 33,
     "metadata": {},
     "output_type": "execute_result"
    }
   ],
   "source": [
    "extract_haralick(image)"
   ]
  },
  {
   "cell_type": "code",
   "execution_count": 34,
   "metadata": {},
   "outputs": [],
   "source": [
    "train = train.drop('index',axis=1)"
   ]
  },
  {
   "cell_type": "code",
   "execution_count": 35,
   "metadata": {},
   "outputs": [
    {
     "data": {
      "text/html": [
       "<div>\n",
       "<style scoped>\n",
       "    .dataframe tbody tr th:only-of-type {\n",
       "        vertical-align: middle;\n",
       "    }\n",
       "\n",
       "    .dataframe tbody tr th {\n",
       "        vertical-align: top;\n",
       "    }\n",
       "\n",
       "    .dataframe thead th {\n",
       "        text-align: right;\n",
       "    }\n",
       "</style>\n",
       "<table border=\"1\" class=\"dataframe\">\n",
       "  <thead>\n",
       "    <tr style=\"text-align: right;\">\n",
       "      <th></th>\n",
       "      <th>Image_path</th>\n",
       "      <th>Insurance_company</th>\n",
       "      <th>Cost_of_vehicle</th>\n",
       "      <th>Min_coverage</th>\n",
       "      <th>Expiry_date</th>\n",
       "      <th>Max_coverage</th>\n",
       "      <th>Condition</th>\n",
       "      <th>Amount</th>\n",
       "    </tr>\n",
       "  </thead>\n",
       "  <tbody>\n",
       "    <tr>\n",
       "      <th>0</th>\n",
       "      <td>img_4513976.jpg</td>\n",
       "      <td>BQ</td>\n",
       "      <td>41500.0</td>\n",
       "      <td>1037.5</td>\n",
       "      <td>2026-12-03</td>\n",
       "      <td>36142.68</td>\n",
       "      <td>0</td>\n",
       "      <td>0.0</td>\n",
       "    </tr>\n",
       "    <tr>\n",
       "      <th>1</th>\n",
       "      <td>img_7764995.jpg</td>\n",
       "      <td>BQ</td>\n",
       "      <td>50700.0</td>\n",
       "      <td>1267.5</td>\n",
       "      <td>2025-07-10</td>\n",
       "      <td>12753.00</td>\n",
       "      <td>1</td>\n",
       "      <td>6194.0</td>\n",
       "    </tr>\n",
       "    <tr>\n",
       "      <th>2</th>\n",
       "      <td>img_451308.jpg</td>\n",
       "      <td>A</td>\n",
       "      <td>49500.0</td>\n",
       "      <td>1237.5</td>\n",
       "      <td>2022-08-11</td>\n",
       "      <td>43102.68</td>\n",
       "      <td>0</td>\n",
       "      <td>0.0</td>\n",
       "    </tr>\n",
       "    <tr>\n",
       "      <th>3</th>\n",
       "      <td>img_7768372.jpg</td>\n",
       "      <td>A</td>\n",
       "      <td>33500.0</td>\n",
       "      <td>837.5</td>\n",
       "      <td>2022-08-02</td>\n",
       "      <td>8453.00</td>\n",
       "      <td>1</td>\n",
       "      <td>7699.0</td>\n",
       "    </tr>\n",
       "    <tr>\n",
       "      <th>4</th>\n",
       "      <td>img_7765274.jpg</td>\n",
       "      <td>AC</td>\n",
       "      <td>27600.0</td>\n",
       "      <td>690.0</td>\n",
       "      <td>2026-05-01</td>\n",
       "      <td>6978.00</td>\n",
       "      <td>1</td>\n",
       "      <td>8849.0</td>\n",
       "    </tr>\n",
       "  </tbody>\n",
       "</table>\n",
       "</div>"
      ],
      "text/plain": [
       "        Image_path Insurance_company  Cost_of_vehicle  Min_coverage  \\\n",
       "0  img_4513976.jpg                BQ          41500.0        1037.5   \n",
       "1  img_7764995.jpg                BQ          50700.0        1267.5   \n",
       "2   img_451308.jpg                 A          49500.0        1237.5   \n",
       "3  img_7768372.jpg                 A          33500.0         837.5   \n",
       "4  img_7765274.jpg                AC          27600.0         690.0   \n",
       "\n",
       "  Expiry_date  Max_coverage  Condition  Amount  \n",
       "0  2026-12-03      36142.68          0     0.0  \n",
       "1  2025-07-10      12753.00          1  6194.0  \n",
       "2  2022-08-11      43102.68          0     0.0  \n",
       "3  2022-08-02       8453.00          1  7699.0  \n",
       "4  2026-05-01       6978.00          1  8849.0  "
      ]
     },
     "execution_count": 35,
     "metadata": {},
     "output_type": "execute_result"
    }
   ],
   "source": [
    "train.head()"
   ]
  },
  {
   "cell_type": "code",
   "execution_count": 36,
   "metadata": {},
   "outputs": [
    {
     "name": "stdout",
     "output_type": "stream",
     "text": [
      "img_4513976.jpg img_7764995.jpg img_451308.jpg img_7768372.jpg img_7765274.jpg img_4537770.jpg img_7765649.jpg img_4518199.jpg img_4638641.jpg img_4516058.jpg img_4518648.jpg img_7766913.jpg img_4518874.jpg img_4635293.jpg img_7765970.jpg img_7762199.jpg img_4535519.jpg img_7767990.jpg img_4632686.jpg img_4535509.jpg img_4535313.jpg img_4634520.jpg img_4637794.jpg img_4511760.jpg img_4638583.jpg img_7766747.jpg img_7767634.jpg img_4634006.jpg img_4635315.jpg img_4514720.jpg img_4516826.jpg img_4634526.jpg img_7766892.jpg img_4517202.jpg img_4636586.jpg img_4515867.jpg img_7767424.jpg img_7768927.jpg img_4535185.jpg img_4515236.jpg img_4636599.jpg img_4516363.jpg img_4534505.jpg img_7765429.jpg img_4537743.jpg img_4535263.jpg img_4538633.jpg img_7765969.jpg img_4517623.jpg img_4537170.jpg img_4534867.jpg img_4516954.jpg img_7766040.jpg img_4536981.jpg img_4638321.jpg img_7765387.jpg img_4638960.jpg img_7766299.jpg img_4636575.jpg img_4535665.jpg img_4537837.jpg img_4516490.jpg img_4634855.jpg img_4536721.jpg img_7768835.jpg img_4515084.jpg img_4634973.jpg img_4536037.jpg img_4633906.jpg img_7768013.jpg img_4638520.jpg img_4538608.jpg img_4637304.jpg img_4637399.jpg img_7768905.jpg img_4638411.jpg img_7768598.jpg img_4538221.jpg img_4636072.jpg img_4637933.jpg img_4518990.jpg img_4636391.jpg img_7767238.jpg img_7767420.jpg img_4536217.jpg img_4537902.jpg img_4518269.jpg img_7765953.jpg img_7768302.jpg img_7767352.jpg img_4517580.jpg img_7766738.jpg img_7766818.jpg img_4537913.jpg img_4538616.jpg img_4532780.jpg img_4635779.jpg img_4514779.jpg img_4538944.jpg img_4635324.jpg img_4518002.jpg img_4517173.jpg img_4635761.jpg img_4638780.jpg img_4517267.jpg img_4635549.jpg img_7768100.jpg img_4538536.jpg img_7766017.jpg img_4515645.jpg img_4517535.jpg img_4535773.jpg img_4535100.jpg img_4516674.jpg img_4534841.jpg img_7766166.jpg img_7768888.jpg img_7764514.jpg img_4515485.jpg img_4637275.jpg img_4635356.jpg img_4538588.jpg img_7763281.jpg img_7765163.jpg img_7768710.jpg img_4535832.jpg img_4516807.jpg img_4515160.jpg img_4535879.jpg img_7765094.jpg img_7767269.jpg img_7765876.jpg img_4518146.jpg img_4518271.jpg img_4635213.jpg img_7765048.jpg img_4636071.jpg img_4637714.jpg img_4636143.jpg img_7768866.jpg img_7768709.jpg img_4515218.jpg img_4516112.jpg img_4517279.jpg img_4516723.jpg img_4537213.jpg img_4537447.jpg img_4635386.jpg img_4535764.jpg img_4536824.jpg img_4635683.jpg img_4535112.jpg img_4538635.jpg img_7768048.jpg img_4634206.jpg img_7761263.jpg img_4514998.jpg img_4637297.jpg img_7768558.jpg img_4535845.jpg img_4635703.jpg img_4535946.jpg img_4636936.jpg img_4535119.jpg img_4536187.jpg img_4637053.jpg img_4535013.jpg img_4517155.jpg img_7765500.jpg img_4636005.jpg img_4637941.jpg img_4538260.jpg img_4516685.jpg img_4635792.jpg img_4516526.jpg img_7765120.jpg img_4514598.jpg img_4638336.jpg img_4536131.jpg img_4537240.jpg img_4516728.jpg img_4537620.jpg img_4637449.jpg img_4535962.jpg img_4517486.jpg img_4531694.jpg img_4516867.jpg img_7767450.jpg img_4638603.jpg img_4518363.jpg img_7764768.jpg img_7767311.jpg img_4518251.jpg img_4532799.jpg img_4538992.jpg img_7767408.jpg img_4635987.jpg img_7761878.jpg img_7762221.jpg img_4535296.jpg img_4635531.jpg img_451490.jpg img_453360.jpg img_4538360.jpg img_4536328.jpg img_4633454.jpg img_4517951.jpg img_4537660.jpg img_4531551.jpg img_4636257.jpg img_4517432.jpg img_4636699.jpg img_4518329.jpg img_4638141.jpg img_4536993.jpg img_7766098.jpg img_7764668.jpg img_4636445.jpg img_4635194.jpg img_4516846.jpg img_7766661.jpg img_4638757.jpg img_4517804.jpg img_4636527.jpg img_7763604.jpg img_7768446.jpg img_4538897.jpg img_4536123.jpg img_4515380.jpg img_4637389.jpg img_7765610.jpg img_4514974.jpg img_7768103.jpg img_4638496.jpg img_7767583.jpg img_4636889.jpg img_4638337.jpg img_4535245.jpg img_4536177.jpg img_4538708.jpg img_453178.jpg img_7764614.jpg img_4535337.jpg img_4516880.jpg img_4634342.jpg img_4517434.jpg img_4514658.jpg img_4537477.jpg img_4636380.jpg img_7768734.jpg img_4537578.jpg img_4535256.jpg img_4534880.jpg img_4517985.jpg img_4538798.jpg img_4516647.jpg img_4636259.jpg img_7767860.jpg img_7768786.jpg img_4537631.jpg img_4636945.jpg img_7766214.jpg img_7768831.jpg img_4635047.jpg img_7766243.jpg img_4516303.jpg img_463730.jpg img_7767831.jpg img_4536788.jpg img_4537019.jpg img_4638566.jpg img_4514751.jpg img_4534666.jpg img_4538362.jpg img_4517509.jpg img_4635131.jpg img_4634831.jpg img_4535788.jpg img_4638552.jpg img_4516828.jpg img_4518276.jpg img_4636473.jpg img_4534567.jpg img_4536678.jpg img_4634870.jpg img_7766239.jpg img_7764639.jpg img_7763565.jpg img_7764962.jpg img_4637280.jpg img_7765211.jpg img_7766932.jpg img_4638128.jpg img_4636774.jpg img_7768963.jpg img_4515215.jpg img_4515407.jpg img_4636402.jpg img_4632335.jpg img_4638717.jpg img_4517483.jpg img_4538470.jpg img_4634777.jpg img_4534584.jpg img_7764027.jpg img_4638879.jpg img_4638987.jpg img_7764765.jpg img_4636427.jpg img_4537725.jpg img_4513328.jpg img_4514772.jpg img_7765600.jpg img_4636577.jpg img_7764700.jpg img_7764586.jpg img_463653.jpg img_4638190.jpg img_7765078.jpg img_4536568.jpg img_4537767.jpg img_4538309.jpg img_4515247.jpg img_4637756.jpg img_4535436.jpg img_7766612.jpg img_4635910.jpg img_4517626.jpg img_4638215.jpg img_7761480.jpg img_4538554.jpg img_7765041.jpg img_4537266.jpg img_4637292.jpg img_7764788.jpg img_4636523.jpg img_4517841.jpg img_4638296.jpg img_7768042.jpg img_7765775.jpg img_4638563.jpg img_4535916.jpg img_7763076.jpg img_4538615.jpg img_7768800.jpg img_4635217.jpg img_4517719.jpg img_4638578.jpg img_4637200.jpg img_4634776.jpg img_4513168.jpg img_4636670.jpg img_4515944.jpg img_4635807.jpg img_4635206.jpg img_4518247.jpg img_4635663.jpg img_4636748.jpg img_4515334.jpg img_7768625.jpg img_7768830.jpg img_4517974.jpg img_4637175.jpg img_4517087.jpg img_4634910.jpg img_4535340.jpg img_7765919.jpg img_4516021.jpg img_4638718.jpg img_4516268.jpg img_4635167.jpg img_4637727.jpg img_4632253.jpg img_4514547.jpg img_4515911.jpg img_7766179.jpg img_4638171.jpg img_7763290.jpg img_4635865.jpg img_4516764.jpg img_7768949.jpg img_4518028.jpg img_4632365.jpg img_4637728.jpg img_4518464.jpg img_4634389.jpg img_4517287.jpg img_4538705.jpg img_4637573.jpg img_776823.jpg img_4518858.jpg img_7768590.jpg img_7765233.jpg img_4535859.jpg img_4514696.jpg img_4531097.jpg img_4636092.jpg img_7767504.jpg img_7765718.jpg img_4638518.jpg img_4538312.jpg img_4635220.jpg img_4538179.jpg img_4535554.jpg img_4537091.jpg img_4635494.jpg img_7765176.jpg img_4537268.jpg img_7768376.jpg img_7766373.jpg img_4634857.jpg img_7767865.jpg img_4637619.jpg img_4537534.jpg img_4537220.jpg img_4517763.jpg img_4637315.jpg img_4538985.jpg img_7764977.jpg img_4535897.jpg img_4634943.jpg img_7766571.jpg img_4637028.jpg img_4515836.jpg img_4515232.jpg img_4634566.jpg img_7766704.jpg img_4537810.jpg img_4513009.jpg img_7768237.jpg img_4535132.jpg img_4634983.jpg img_4632733.jpg img_4634621.jpg img_7766895.jpg img_4514893.jpg img_7764927.jpg img_4632958.jpg img_4636051.jpg img_4538458.jpg img_7768951.jpg img_4537561.jpg img_4516833.jpg img_7767445.jpg img_4535793.jpg img_4636012.jpg img_4538265.jpg img_4635607.jpg img_7766870.jpg img_7766719.jpg img_4535615.jpg img_4638613.jpg img_4515581.jpg img_7767471.jpg img_4517645.jpg img_4536090.jpg img_4518867.jpg img_4538469.jpg img_7766356.jpg img_4535758.jpg img_4637617.jpg img_4517571.jpg img_4516408.jpg img_4518084.jpg img_7764738.jpg img_4636135.jpg img_4637514.jpg img_7766907.jpg img_4636110.jpg img_4534506.jpg img_7766825.jpg img_4515172.jpg img_4514715.jpg img_4534531.jpg img_7768601.jpg img_4634563.jpg img_4536302.jpg img_4637086.jpg img_4535327.jpg img_4637500.jpg img_7768622.jpg img_4515569.jpg img_4635198.jpg img_4637095.jpg img_4635955.jpg img_4537473.jpg img_4514561.jpg img_4638484.jpg img_4634763.jpg img_4637536.jpg img_4518270.jpg img_7766013.jpg img_4635721.jpg img_4516483.jpg img_4532681.jpg img_7766056.jpg img_4536383.jpg img_7766666.jpg img_4538861.jpg img_4634600.jpg img_4514606.jpg img_7762972.jpg img_4534636.jpg img_4635963.jpg img_4535042.jpg img_7765362.jpg img_4638186.jpg img_4535932.jpg img_4637739.jpg img_4514709.jpg img_4637214.jpg img_4534736.jpg img_7765049.jpg img_4638686.jpg img_4536195.jpg img_7768082.jpg "
     ]
    },
    {
     "name": "stdout",
     "output_type": "stream",
     "text": [
      "img_4635195.jpg img_4636122.jpg img_4632362.jpg img_45123.jpg img_4538687.jpg img_7764922.jpg img_4538113.jpg img_4516897.jpg img_7768859.jpg img_4635087.jpg img_4516074.jpg img_7766535.jpg img_4516228.jpg img_4535497.jpg img_4635396.jpg img_4635617.jpg img_7764941.jpg img_4635806.jpg img_4635250.jpg img_4635465.jpg img_4538918.jpg img_7767844.jpg img_4534982.jpg img_4634748.jpg img_4537024.jpg img_4517954.jpg img_4538959.jpg img_4535364.jpg img_7766726.jpg img_4637693.jpg img_4538234.jpg img_7768274.jpg img_4537244.jpg img_4536890.jpg img_7765484.jpg img_4518573.jpg img_4636681.jpg img_7768476.jpg img_4535209.jpg img_4534823.jpg img_7765498.jpg img_7764807.jpg img_4635642.jpg img_7767840.jpg img_4536915.jpg img_7765840.jpg img_4535834.jpg img_4636484.jpg img_4518126.jpg img_4631479.jpg img_4517650.jpg img_7767519.jpg img_7764785.jpg img_7763870.jpg img_4638904.jpg img_4635200.jpg img_4536746.jpg img_4537605.jpg img_4516489.jpg img_4635622.jpg img_4635898.jpg img_4538486.jpg img_4535393.jpg img_4537658.jpg img_4638701.jpg img_4516183.jpg img_4518665.jpg img_7766876.jpg img_4632759.jpg img_451186.jpg img_4638322.jpg img_4538742.jpg img_7764685.jpg img_4537687.jpg img_7768568.jpg img_4638487.jpg img_4516133.jpg img_4537944.jpg img_4517137.jpg img_4517013.jpg img_4538003.jpg img_4537167.jpg img_4536997.jpg img_4518755.jpg img_4536282.jpg img_4516171.jpg img_4516912.jpg img_4637722.jpg img_4537703.jpg img_7764966.jpg img_4637531.jpg img_4535427.jpg img_4638884.jpg img_4637423.jpg img_4517305.jpg img_4635410.jpg img_7767729.jpg img_4515754.jpg img_4516252.jpg img_4637680.jpg img_7766717.jpg img_7766478.jpg img_4636466.jpg img_4536532.jpg img_7766034.jpg img_4516119.jpg img_4518933.jpg img_7765604.jpg img_7765585.jpg img_4535419.jpg img_4537145.jpg img_7766400.jpg img_4515759.jpg img_4635781.jpg img_4516319.jpg img_4637438.jpg img_4638978.jpg img_7767755.jpg img_4638182.jpg img_4637989.jpg img_4534669.jpg img_7768574.jpg img_4536503.jpg img_7768762.jpg img_4518929.jpg img_4534889.jpg img_4511041.jpg img_4638542.jpg img_4518268.jpg img_7766802.jpg img_4534592.jpg img_4518452.jpg img_4515282.jpg img_4638805.jpg img_7766720.jpg img_4536255.jpg img_4637443.jpg img_4534585.jpg img_7764657.jpg img_4514957.jpg img_4635558.jpg img_4537835.jpg img_7764878.jpg img_4515301.jpg img_4537174.jpg img_4635529.jpg img_4515734.jpg img_4538958.jpg img_4534825.jpg img_4514612.jpg img_4517749.jpg img_4638463.jpg img_4537993.jpg img_4536649.jpg img_7768191.jpg img_4516286.jpg img_4538033.jpg img_4638023.jpg img_4517683.jpg img_7767402.jpg img_4514749.jpg img_4638091.jpg img_4537670.jpg img_4515300.jpg img_4637513.jpg img_7765693.jpg img_4637195.jpg img_7766015.jpg img_7764604.jpg img_4516386.jpg img_4536164.jpg img_4636868.jpg img_7766330.jpg img_4637079.jpg img_4537105.jpg img_4635564.jpg img_4538821.jpg img_4538739.jpg img_4515506.jpg img_7766060.jpg img_4535711.jpg img_4516805.jpg img_4538797.jpg img_7764577.jpg img_4514663.jpg img_4637790.jpg img_4535143.jpg img_4535673.jpg img_7767299.jpg img_4536822.jpg img_4634694.jpg img_4515455.jpg img_7765012.jpg img_4515536.jpg img_4518965.jpg img_4515082.jpg img_4638367.jpg img_7766559.jpg img_7766691.jpg img_7767776.jpg img_7766831.jpg img_7765424.jpg img_4638152.jpg img_4638144.jpg img_4638688.jpg img_4634938.jpg img_4538550.jpg img_7764865.jpg img_4514646.jpg img_7766808.jpg img_4638178.jpg img_4535647.jpg img_4636232.jpg img_4536758.jpg img_4636416.jpg img_7765866.jpg img_4637643.jpg img_7764931.jpg img_4517584.jpg img_7768235.jpg img_4535075.jpg img_4537363.jpg img_4637873.jpg img_7767360.jpg img_4537378.jpg img_7767368.jpg img_4516476.jpg img_4537822.jpg img_7764945.jpg img_4536813.jpg img_4538290.jpg img_4637370.jpg img_4517490.jpg img_4516939.jpg img_7768285.jpg img_4536839.jpg img_4515475.jpg img_7768310.jpg img_4517357.jpg img_4536632.jpg img_453565.jpg img_4637061.jpg img_4515709.jpg img_4638479.jpg img_7768837.jpg img_4635034.jpg img_4534848.jpg img_4516048.jpg img_4536819.jpg img_4536308.jpg img_4634569.jpg img_4635728.jpg img_4636278.jpg img_4516447.jpg img_4518177.jpg img_4537054.jpg img_4535326.jpg img_4515006.jpg img_4537343.jpg img_4518736.jpg img_4634525.jpg img_4518557.jpg img_4537007.jpg img_4636168.jpg img_4517780.jpg img_4536309.jpg img_4517862.jpg img_4536514.jpg img_4514159.jpg img_4633067.jpg img_4534660.jpg img_4537249.jpg img_4534939.jpg img_4515825.jpg img_4638873.jpg img_7765513.jpg img_7766004.jpg img_4535672.jpg img_4638059.jpg img_4638561.jpg img_4517226.jpg img_7768586.jpg img_7766740.jpg img_4514786.jpg img_4515603.jpg img_4538364.jpg img_4638318.jpg img_4537920.jpg img_7766622.jpg img_4536341.jpg img_4534674.jpg img_4634524.jpg img_4518790.jpg img_7765018.jpg img_4517932.jpg img_4517436.jpg img_4635001.jpg img_7766132.jpg img_4638510.jpg img_7766226.jpg img_4637157.jpg img_4536562.jpg img_4637179.jpg img_4636384.jpg img_4535576.jpg img_4531877.jpg img_7767857.jpg img_4638254.jpg img_4537191.jpg img_4535986.jpg img_4517647.jpg img_7768700.jpg img_4535632.jpg img_4637012.jpg img_4536412.jpg img_4518559.jpg img_4517089.jpg img_4517543.jpg img_4636613.jpg img_4538189.jpg img_4538697.jpg img_4517383.jpg img_7768667.jpg img_7764743.jpg img_7768172.jpg img_4515983.jpg img_4637564.jpg img_4538112.jpg img_7768988.jpg img_7767807.jpg img_4535743.jpg img_7764615.jpg img_7768219.jpg img_4513344.jpg img_4535687.jpg img_7764578.jpg img_7765882.jpg img_4635680.jpg img_7764716.jpg img_4535801.jpg img_4535981.jpg img_7765341.jpg img_4638723.jpg img_4637345.jpg img_4535043.jpg img_4637947.jpg img_4638154.jpg img_4534959.jpg img_4516620.jpg img_4537510.jpg img_4515550.jpg img_4538655.jpg img_4636951.jpg img_4638398.jpg img_4634850.jpg img_4537526.jpg img_4535719.jpg img_7767272.jpg img_7766573.jpg img_4515675.jpg img_453456.jpg img_4638416.jpg img_4635923.jpg img_4517147.jpg img_4634545.jpg img_4537787.jpg img_7766536.jpg img_7766505.jpg img_4634822.jpg img_7768712.jpg img_4536949.jpg img_4637001.jpg img_4637674.jpg img_4637613.jpg img_7761396.jpg img_7766789.jpg img_7765460.jpg img_4516010.jpg img_4518769.jpg img_4517333.jpg img_4537481.jpg img_4513058.jpg img_4536731.jpg img_7766083.jpg img_4518779.jpg img_4535152.jpg img_4535741.jpg img_4537476.jpg img_4515178.jpg img_4538109.jpg img_4516388.jpg img_4536398.jpg img_4538194.jpg img_7766860.jpg img_4637160.jpg img_4635037.jpg img_4537093.jpg img_7765044.jpg img_4535090.jpg img_4517331.jpg img_4636156.jpg img_4538327.jpg img_4517781.jpg img_4537692.jpg img_4517706.jpg img_4515853.jpg img_4516583.jpg img_4538246.jpg img_7766227.jpg img_4538034.jpg img_4534554.jpg img_4514532.jpg img_4637980.jpg img_7768950.jpg img_7767017.jpg img_4637927.jpg img_4515289.jpg img_4637392.jpg img_4514629.jpg img_4516202.jpg img_4636406.jpg img_7766221.jpg img_4635394.jpg img_7765442.jpg img_4637159.jpg img_4637347.jpg img_7765763.jpg img_4538210.jpg img_4535559.jpg img_4535276.jpg img_7765516.jpg img_4635586.jpg img_7765978.jpg img_4536929.jpg img_7768761.jpg img_4638440.jpg img_4513423.jpg img_4638016.jpg img_4636729.jpg img_4535370.jpg img_4635522.jpg img_4534873.jpg img_4536462.jpg img_4636873.jpg img_4634605.jpg img_7764537.jpg img_4638889.jpg img_4636874.jpg img_4518511.jpg img_4515403.jpg img_4517905.jpg img_4536751.jpg img_7765714.jpg img_4632741.jpg img_4537286.jpg img_4537950.jpg img_4538596.jpg img_7766920.jpg img_4634667.jpg img_4538230.jpg img_4518698.jpg img_4516605.jpg img_7764921.jpg img_4538208.jpg img_4536291.jpg img_4636589.jpg img_7768981.jpg img_4514603.jpg img_7766030.jpg img_4636698.jpg img_7767874.jpg img_4538847.jpg img_7767067.jpg img_4534847.jpg img_4635849.jpg img_4538841.jpg img_4515331.jpg img_7765577.jpg img_4638825.jpg img_4515592.jpg img_7768415.jpg img_4637697.jpg img_4536804.jpg img_7766640.jpg img_7767430.jpg img_4516658.jpg img_4538945.jpg img_7765851.jpg img_4536360.jpg img_4517138.jpg img_4635892.jpg img_4515065.jpg img_4637611.jpg img_7766274.jpg img_4636644.jpg img_7768062.jpg img_7764641.jpg img_4638902.jpg img_4536163.jpg img_4536390.jpg img_7768090.jpg img_4535412.jpg img_4518996.jpg img_4538291.jpg img_451397.jpg img_7766798.jpg img_4536673.jpg img_4534904.jpg img_4638025.jpg img_4516444.jpg img_7767655.jpg img_451549.jpg img_4636396.jpg img_4518384.jpg"
     ]
    },
    {
     "name": "stdout",
     "output_type": "stream",
     "text": [
      " img_7764681.jpg img_7766618.jpg img_7765929.jpg img_7768974.jpg img_4518976.jpg img_4636487.jpg img_4536642.jpg img_4536062.jpg img_4517377.jpg img_4637205.jpg img_4636027.jpg img_4636763.jpg img_7769000.jpg img_4537262.jpg img_4537961.jpg img_7766934.jpg img_4538773.jpg img_7766198.jpg img_7765921.jpg img_451799.jpg img_4636065.jpg img_4517037.jpg img_4637313.jpg img_4635305.jpg img_4516142.jpg img_4636924.jpg img_4538491.jpg img_4515238.jpg img_4534991.jpg img_7765008.jpg img_4536853.jpg img_4517828.jpg img_4517867.jpg img_4638816.jpg img_7766492.jpg img_4518887.jpg img_4518055.jpg img_4636546.jpg img_4515772.jpg img_7766611.jpg img_4518280.jpg img_7764686.jpg img_4532276.jpg img_4538000.jpg img_4535097.jpg img_4537039.jpg img_4535435.jpg img_4515058.jpg img_4536983.jpg img_4636081.jpg img_4534672.jpg img_7764804.jpg img_4638449.jpg img_4516834.jpg img_4537896.jpg img_4636849.jpg img_7765503.jpg img_4637735.jpg img_4635183.jpg img_4514527.jpg img_4514894.jpg img_4537128.jpg img_4537429.jpg img_4638067.jpg img_4636687.jpg img_7766733.jpg img_4518901.jpg img_4634885.jpg img_4537058.jpg img_4516919.jpg img_4634565.jpg img_7767858.jpg img_7765611.jpg img_4515722.jpg img_4536250.jpg img_4518130.jpg img_4634888.jpg img_4637051.jpg img_7768834.jpg img_7766260.jpg img_4535815.jpg img_4635567.jpg img_4638853.jpg img_4516724.jpg img_7767403.jpg img_4636095.jpg img_4516671.jpg img_4515942.jpg img_4636917.jpg img_4517649.jpg img_7765420.jpg img_7767215.jpg img_4536696.jpg img_7766946.jpg img_4638508.jpg img_4635995.jpg img_4537253.jpg img_4538815.jpg img_4535766.jpg img_4518801.jpg img_4518142.jpg img_4537166.jpg img_4515227.jpg img_4636510.jpg img_7766421.jpg img_4518543.jpg img_4534699.jpg img_4636584.jpg img_4635578.jpg img_7768060.jpg img_4636375.jpg img_4516507.jpg img_4635954.jpg img_4638758.jpg img_7765003.jpg img_7766995.jpg img_7765307.jpg img_7768334.jpg img_4635527.jpg img_4638286.jpg img_4511569.jpg img_7765426.jpg img_7768165.jpg img_7764883.jpg img_7767957.jpg img_7765486.jpg img_4517635.jpg img_4634599.jpg img_4538731.jpg img_4638392.jpg img_4518994.jpg img_4517246.jpg img_7767148.jpg img_4514648.jpg img_4636159.jpg img_4516885.jpg img_4637274.jpg img_4517603.jpg img_7765381.jpg img_4518317.jpg img_4536693.jpg img_4515205.jpg img_4636285.jpg img_4631978.jpg img_4514653.jpg img_4515179.jpg img_4516312.jpg img_4517533.jpg img_7767062.jpg img_4512529.jpg img_4638465.jpg img_4516496.jpg img_4636711.jpg img_4535459.jpg img_4534728.jpg img_4537999.jpg img_4518454.jpg img_4518793.jpg img_4517878.jpg img_4515952.jpg img_4536339.jpg img_4537962.jpg img_4636680.jpg img_7766264.jpg img_4516582.jpg img_4535640.jpg img_4536128.jpg img_4637595.jpg img_4636461.jpg img_7765913.jpg img_7764906.jpg img_4515244.jpg img_4632689.jpg img_7766630.jpg img_7764722.jpg img_4536610.jpg img_7765016.jpg img_4636502.jpg img_4515408.jpg img_7764067.jpg img_4534783.jpg img_7768562.jpg img_4537465.jpg img_4518225.jpg img_4638711.jpg img_4637608.jpg img_4515908.jpg img_4534543.jpg img_4536716.jpg img_4517337.jpg img_4635850.jpg img_7767484.jpg img_4518299.jpg img_4638388.jpg img_4518289.jpg img_4638400.jpg img_4515895.jpg img_7768342.jpg img_7767995.jpg img_4535538.jpg img_7768500.jpg img_4517320.jpg img_4514864.jpg img_4516301.jpg img_4537895.jpg img_4517765.jpg img_4534820.jpg img_4536180.jpg img_7767358.jpg img_7767135.jpg img_7768183.jpg img_4512307.jpg img_4635562.jpg img_4538903.jpg img_7766117.jpg img_4516248.jpg img_4636783.jpg img_4515664.jpg img_7765469.jpg img_4517871.jpg img_4515002.jpg img_4516553.jpg img_7765945.jpg img_7762023.jpg img_4634227.jpg img_4514501.jpg img_4516307.jpg img_4638264.jpg img_4536648.jpg img_4537020.jpg img_4534972.jpg img_4535790.jpg img_4537126.jpg img_4635588.jpg img_4637557.jpg img_4535141.jpg img_4638824.jpg img_4634579.jpg img_4635842.jpg img_7765785.jpg img_4635210.jpg img_4638203.jpg img_7767441.jpg img_7765153.jpg img_4536797.jpg img_4536637.jpg img_4538093.jpg img_4538940.jpg img_7766266.jpg img_4635824.jpg img_4511208.jpg img_4634684.jpg img_4516418.jpg img_7766289.jpg img_7764918.jpg img_4636101.jpg img_4538845.jpg img_7766097.jpg img_4517388.jpg img_4535269.jpg img_4638428.jpg img_4636459.jpg img_4635689.jpg img_4514832.jpg img_4518854.jpg img_4638768.jpg img_4535755.jpg img_4637237.jpg img_4637000.jpg img_4637503.jpg img_4515101.jpg "
     ]
    }
   ],
   "source": [
    "image_feature = []\n",
    "i=0\n",
    "for index, row in train.iterrows():\n",
    "    print(row['Image_path'],end=' ')\n",
    "    image_feature.append(extract_haralick(cv.imread(row['Image_path'])))\n",
    "    i += 1"
   ]
  },
  {
   "cell_type": "code",
   "execution_count": 37,
   "metadata": {},
   "outputs": [
    {
     "data": {
      "text/html": [
       "<div>\n",
       "<style scoped>\n",
       "    .dataframe tbody tr th:only-of-type {\n",
       "        vertical-align: middle;\n",
       "    }\n",
       "\n",
       "    .dataframe tbody tr th {\n",
       "        vertical-align: top;\n",
       "    }\n",
       "\n",
       "    .dataframe thead th {\n",
       "        text-align: right;\n",
       "    }\n",
       "</style>\n",
       "<table border=\"1\" class=\"dataframe\">\n",
       "  <thead>\n",
       "    <tr style=\"text-align: right;\">\n",
       "      <th></th>\n",
       "      <th>Image_path</th>\n",
       "      <th>Insurance_company</th>\n",
       "      <th>Cost_of_vehicle</th>\n",
       "      <th>Min_coverage</th>\n",
       "      <th>Expiry_date</th>\n",
       "      <th>Max_coverage</th>\n",
       "      <th>Condition</th>\n",
       "      <th>Amount</th>\n",
       "    </tr>\n",
       "  </thead>\n",
       "  <tbody>\n",
       "    <tr>\n",
       "      <th>1296</th>\n",
       "      <td>img_4535755.jpg</td>\n",
       "      <td>AC</td>\n",
       "      <td>51500.0</td>\n",
       "      <td>1287.5</td>\n",
       "      <td>2022-01-07</td>\n",
       "      <td>12953.0</td>\n",
       "      <td>1</td>\n",
       "      <td>4058.0</td>\n",
       "    </tr>\n",
       "    <tr>\n",
       "      <th>1297</th>\n",
       "      <td>img_4637237.jpg</td>\n",
       "      <td>DA</td>\n",
       "      <td>52300.0</td>\n",
       "      <td>1307.5</td>\n",
       "      <td>2025-02-17</td>\n",
       "      <td>13153.0</td>\n",
       "      <td>1</td>\n",
       "      <td>4565.0</td>\n",
       "    </tr>\n",
       "    <tr>\n",
       "      <th>1298</th>\n",
       "      <td>img_4637000.jpg</td>\n",
       "      <td>BQ</td>\n",
       "      <td>41500.0</td>\n",
       "      <td>1037.5</td>\n",
       "      <td>2023-12-30</td>\n",
       "      <td>10453.0</td>\n",
       "      <td>1</td>\n",
       "      <td>3363.0</td>\n",
       "    </tr>\n",
       "    <tr>\n",
       "      <th>1299</th>\n",
       "      <td>img_4637503.jpg</td>\n",
       "      <td>AA</td>\n",
       "      <td>31400.0</td>\n",
       "      <td>785.0</td>\n",
       "      <td>2022-11-25</td>\n",
       "      <td>7928.0</td>\n",
       "      <td>1</td>\n",
       "      <td>5336.0</td>\n",
       "    </tr>\n",
       "    <tr>\n",
       "      <th>1300</th>\n",
       "      <td>img_4515101.jpg</td>\n",
       "      <td>A</td>\n",
       "      <td>33200.0</td>\n",
       "      <td>830.0</td>\n",
       "      <td>2022-10-10</td>\n",
       "      <td>8378.0</td>\n",
       "      <td>1</td>\n",
       "      <td>8734.0</td>\n",
       "    </tr>\n",
       "  </tbody>\n",
       "</table>\n",
       "</div>"
      ],
      "text/plain": [
       "           Image_path Insurance_company  Cost_of_vehicle  Min_coverage  \\\n",
       "1296  img_4535755.jpg                AC          51500.0        1287.5   \n",
       "1297  img_4637237.jpg                DA          52300.0        1307.5   \n",
       "1298  img_4637000.jpg                BQ          41500.0        1037.5   \n",
       "1299  img_4637503.jpg                AA          31400.0         785.0   \n",
       "1300  img_4515101.jpg                 A          33200.0         830.0   \n",
       "\n",
       "     Expiry_date  Max_coverage  Condition  Amount  \n",
       "1296  2022-01-07       12953.0          1  4058.0  \n",
       "1297  2025-02-17       13153.0          1  4565.0  \n",
       "1298  2023-12-30       10453.0          1  3363.0  \n",
       "1299  2022-11-25        7928.0          1  5336.0  \n",
       "1300  2022-10-10        8378.0          1  8734.0  "
      ]
     },
     "execution_count": 37,
     "metadata": {},
     "output_type": "execute_result"
    }
   ],
   "source": [
    "train.tail()"
   ]
  },
  {
   "cell_type": "code",
   "execution_count": 38,
   "metadata": {},
   "outputs": [
    {
     "name": "stdout",
     "output_type": "stream",
     "text": [
      "13\n"
     ]
    }
   ],
   "source": [
    "image_feature = np.transpose(image_feature)\n",
    "print(len(image_feature))"
   ]
  },
  {
   "cell_type": "code",
   "execution_count": 39,
   "metadata": {},
   "outputs": [
    {
     "name": "stdout",
     "output_type": "stream",
     "text": [
      "1301\n"
     ]
    }
   ],
   "source": [
    "print(len(image_feature[0]))"
   ]
  },
  {
   "cell_type": "code",
   "execution_count": 40,
   "metadata": {},
   "outputs": [
    {
     "name": "stdout",
     "output_type": "stream",
     "text": [
      "<class 'numpy.ndarray'>\n"
     ]
    }
   ],
   "source": [
    "print(type(image_feature[0]))"
   ]
  },
  {
   "cell_type": "code",
   "execution_count": 41,
   "metadata": {},
   "outputs": [],
   "source": [
    "HEADER = ['energy','contrast','correlation','variance','inverse difference moment','sum average','sum variance', \n",
    "          'sum entropy','entropy','difference variance','difference entropy','info_corr','maximal_corr_coeff']\n",
    "Feature_list = {}\n",
    "i=0\n",
    "for feature in HEADER:\n",
    "    train[feature] = image_feature[i].tolist()\n",
    "    i += 1"
   ]
  },
  {
   "cell_type": "code",
   "execution_count": 42,
   "metadata": {},
   "outputs": [
    {
     "data": {
      "text/html": [
       "<div>\n",
       "<style scoped>\n",
       "    .dataframe tbody tr th:only-of-type {\n",
       "        vertical-align: middle;\n",
       "    }\n",
       "\n",
       "    .dataframe tbody tr th {\n",
       "        vertical-align: top;\n",
       "    }\n",
       "\n",
       "    .dataframe thead th {\n",
       "        text-align: right;\n",
       "    }\n",
       "</style>\n",
       "<table border=\"1\" class=\"dataframe\">\n",
       "  <thead>\n",
       "    <tr style=\"text-align: right;\">\n",
       "      <th></th>\n",
       "      <th>Image_path</th>\n",
       "      <th>Insurance_company</th>\n",
       "      <th>Cost_of_vehicle</th>\n",
       "      <th>Min_coverage</th>\n",
       "      <th>Expiry_date</th>\n",
       "      <th>Max_coverage</th>\n",
       "      <th>Condition</th>\n",
       "      <th>Amount</th>\n",
       "      <th>energy</th>\n",
       "      <th>contrast</th>\n",
       "      <th>...</th>\n",
       "      <th>variance</th>\n",
       "      <th>inverse difference moment</th>\n",
       "      <th>sum average</th>\n",
       "      <th>sum variance</th>\n",
       "      <th>sum entropy</th>\n",
       "      <th>entropy</th>\n",
       "      <th>difference variance</th>\n",
       "      <th>difference entropy</th>\n",
       "      <th>info_corr</th>\n",
       "      <th>maximal_corr_coeff</th>\n",
       "    </tr>\n",
       "  </thead>\n",
       "  <tbody>\n",
       "    <tr>\n",
       "      <th>0</th>\n",
       "      <td>img_4513976.jpg</td>\n",
       "      <td>BQ</td>\n",
       "      <td>41500.0</td>\n",
       "      <td>1037.5</td>\n",
       "      <td>2026-12-03</td>\n",
       "      <td>36142.68</td>\n",
       "      <td>0</td>\n",
       "      <td>0.0</td>\n",
       "      <td>0.000236</td>\n",
       "      <td>565.744709</td>\n",
       "      <td>...</td>\n",
       "      <td>6096.412275</td>\n",
       "      <td>0.197763</td>\n",
       "      <td>250.326950</td>\n",
       "      <td>23819.904390</td>\n",
       "      <td>8.902012</td>\n",
       "      <td>13.440002</td>\n",
       "      <td>0.000222</td>\n",
       "      <td>4.879668</td>\n",
       "      <td>-0.299620</td>\n",
       "      <td>0.994696</td>\n",
       "    </tr>\n",
       "    <tr>\n",
       "      <th>1</th>\n",
       "      <td>img_7764995.jpg</td>\n",
       "      <td>BQ</td>\n",
       "      <td>50700.0</td>\n",
       "      <td>1267.5</td>\n",
       "      <td>2025-07-10</td>\n",
       "      <td>12753.00</td>\n",
       "      <td>1</td>\n",
       "      <td>6194.0</td>\n",
       "      <td>0.001950</td>\n",
       "      <td>66.767523</td>\n",
       "      <td>...</td>\n",
       "      <td>4287.254128</td>\n",
       "      <td>0.366505</td>\n",
       "      <td>291.455147</td>\n",
       "      <td>17082.248990</td>\n",
       "      <td>8.378480</td>\n",
       "      <td>11.326705</td>\n",
       "      <td>0.000528</td>\n",
       "      <td>3.559293</td>\n",
       "      <td>-0.469178</td>\n",
       "      <td>0.999366</td>\n",
       "    </tr>\n",
       "    <tr>\n",
       "      <th>2</th>\n",
       "      <td>img_451308.jpg</td>\n",
       "      <td>A</td>\n",
       "      <td>49500.0</td>\n",
       "      <td>1237.5</td>\n",
       "      <td>2022-08-11</td>\n",
       "      <td>43102.68</td>\n",
       "      <td>0</td>\n",
       "      <td>0.0</td>\n",
       "      <td>0.000816</td>\n",
       "      <td>29.814763</td>\n",
       "      <td>...</td>\n",
       "      <td>3676.495646</td>\n",
       "      <td>0.438601</td>\n",
       "      <td>230.406154</td>\n",
       "      <td>14676.167821</td>\n",
       "      <td>8.716252</td>\n",
       "      <td>11.467497</td>\n",
       "      <td>0.000719</td>\n",
       "      <td>3.146063</td>\n",
       "      <td>-0.518096</td>\n",
       "      <td>0.999767</td>\n",
       "    </tr>\n",
       "    <tr>\n",
       "      <th>3</th>\n",
       "      <td>img_7768372.jpg</td>\n",
       "      <td>A</td>\n",
       "      <td>33500.0</td>\n",
       "      <td>837.5</td>\n",
       "      <td>2022-08-02</td>\n",
       "      <td>8453.00</td>\n",
       "      <td>1</td>\n",
       "      <td>7699.0</td>\n",
       "      <td>0.004774</td>\n",
       "      <td>222.253400</td>\n",
       "      <td>...</td>\n",
       "      <td>4166.680548</td>\n",
       "      <td>0.351815</td>\n",
       "      <td>201.814955</td>\n",
       "      <td>16444.468793</td>\n",
       "      <td>8.466251</td>\n",
       "      <td>12.078940</td>\n",
       "      <td>0.000425</td>\n",
       "      <td>4.089201</td>\n",
       "      <td>-0.389869</td>\n",
       "      <td>0.998286</td>\n",
       "    </tr>\n",
       "    <tr>\n",
       "      <th>4</th>\n",
       "      <td>img_7765274.jpg</td>\n",
       "      <td>AC</td>\n",
       "      <td>27600.0</td>\n",
       "      <td>690.0</td>\n",
       "      <td>2026-05-01</td>\n",
       "      <td>6978.00</td>\n",
       "      <td>1</td>\n",
       "      <td>8849.0</td>\n",
       "      <td>0.001548</td>\n",
       "      <td>105.839760</td>\n",
       "      <td>...</td>\n",
       "      <td>1268.309340</td>\n",
       "      <td>0.283843</td>\n",
       "      <td>270.214352</td>\n",
       "      <td>4967.397599</td>\n",
       "      <td>7.464594</td>\n",
       "      <td>11.022848</td>\n",
       "      <td>0.000458</td>\n",
       "      <td>3.864858</td>\n",
       "      <td>-0.303799</td>\n",
       "      <td>0.988885</td>\n",
       "    </tr>\n",
       "  </tbody>\n",
       "</table>\n",
       "<p>5 rows × 21 columns</p>\n",
       "</div>"
      ],
      "text/plain": [
       "        Image_path Insurance_company  Cost_of_vehicle  Min_coverage  \\\n",
       "0  img_4513976.jpg                BQ          41500.0        1037.5   \n",
       "1  img_7764995.jpg                BQ          50700.0        1267.5   \n",
       "2   img_451308.jpg                 A          49500.0        1237.5   \n",
       "3  img_7768372.jpg                 A          33500.0         837.5   \n",
       "4  img_7765274.jpg                AC          27600.0         690.0   \n",
       "\n",
       "  Expiry_date  Max_coverage  Condition  Amount    energy    contrast  ...  \\\n",
       "0  2026-12-03      36142.68          0     0.0  0.000236  565.744709  ...   \n",
       "1  2025-07-10      12753.00          1  6194.0  0.001950   66.767523  ...   \n",
       "2  2022-08-11      43102.68          0     0.0  0.000816   29.814763  ...   \n",
       "3  2022-08-02       8453.00          1  7699.0  0.004774  222.253400  ...   \n",
       "4  2026-05-01       6978.00          1  8849.0  0.001548  105.839760  ...   \n",
       "\n",
       "      variance  inverse difference moment  sum average  sum variance  \\\n",
       "0  6096.412275                   0.197763   250.326950  23819.904390   \n",
       "1  4287.254128                   0.366505   291.455147  17082.248990   \n",
       "2  3676.495646                   0.438601   230.406154  14676.167821   \n",
       "3  4166.680548                   0.351815   201.814955  16444.468793   \n",
       "4  1268.309340                   0.283843   270.214352   4967.397599   \n",
       "\n",
       "   sum entropy    entropy  difference variance  difference entropy  info_corr  \\\n",
       "0     8.902012  13.440002             0.000222            4.879668  -0.299620   \n",
       "1     8.378480  11.326705             0.000528            3.559293  -0.469178   \n",
       "2     8.716252  11.467497             0.000719            3.146063  -0.518096   \n",
       "3     8.466251  12.078940             0.000425            4.089201  -0.389869   \n",
       "4     7.464594  11.022848             0.000458            3.864858  -0.303799   \n",
       "\n",
       "   maximal_corr_coeff  \n",
       "0            0.994696  \n",
       "1            0.999366  \n",
       "2            0.999767  \n",
       "3            0.998286  \n",
       "4            0.988885  \n",
       "\n",
       "[5 rows x 21 columns]"
      ]
     },
     "execution_count": 42,
     "metadata": {},
     "output_type": "execute_result"
    }
   ],
   "source": [
    "train.head()"
   ]
  },
  {
   "cell_type": "code",
   "execution_count": 43,
   "metadata": {},
   "outputs": [],
   "source": [
    "train = train.drop('Image_path',axis=1)"
   ]
  },
  {
   "cell_type": "code",
   "execution_count": 44,
   "metadata": {},
   "outputs": [
    {
     "data": {
      "text/html": [
       "<div>\n",
       "<style scoped>\n",
       "    .dataframe tbody tr th:only-of-type {\n",
       "        vertical-align: middle;\n",
       "    }\n",
       "\n",
       "    .dataframe tbody tr th {\n",
       "        vertical-align: top;\n",
       "    }\n",
       "\n",
       "    .dataframe thead th {\n",
       "        text-align: right;\n",
       "    }\n",
       "</style>\n",
       "<table border=\"1\" class=\"dataframe\">\n",
       "  <thead>\n",
       "    <tr style=\"text-align: right;\">\n",
       "      <th></th>\n",
       "      <th>Insurance_company</th>\n",
       "      <th>Cost_of_vehicle</th>\n",
       "      <th>Min_coverage</th>\n",
       "      <th>Expiry_date</th>\n",
       "      <th>Max_coverage</th>\n",
       "      <th>Condition</th>\n",
       "      <th>Amount</th>\n",
       "      <th>energy</th>\n",
       "      <th>contrast</th>\n",
       "      <th>correlation</th>\n",
       "      <th>variance</th>\n",
       "      <th>inverse difference moment</th>\n",
       "      <th>sum average</th>\n",
       "      <th>sum variance</th>\n",
       "      <th>sum entropy</th>\n",
       "      <th>entropy</th>\n",
       "      <th>difference variance</th>\n",
       "      <th>difference entropy</th>\n",
       "      <th>info_corr</th>\n",
       "      <th>maximal_corr_coeff</th>\n",
       "    </tr>\n",
       "  </thead>\n",
       "  <tbody>\n",
       "    <tr>\n",
       "      <th>0</th>\n",
       "      <td>BQ</td>\n",
       "      <td>41500.0</td>\n",
       "      <td>1037.5</td>\n",
       "      <td>2026-12-03</td>\n",
       "      <td>36142.68</td>\n",
       "      <td>0</td>\n",
       "      <td>0.0</td>\n",
       "      <td>0.000236</td>\n",
       "      <td>565.744709</td>\n",
       "      <td>0.953603</td>\n",
       "      <td>6096.412275</td>\n",
       "      <td>0.197763</td>\n",
       "      <td>250.326950</td>\n",
       "      <td>23819.904390</td>\n",
       "      <td>8.902012</td>\n",
       "      <td>13.440002</td>\n",
       "      <td>0.000222</td>\n",
       "      <td>4.879668</td>\n",
       "      <td>-0.299620</td>\n",
       "      <td>0.994696</td>\n",
       "    </tr>\n",
       "    <tr>\n",
       "      <th>1</th>\n",
       "      <td>BQ</td>\n",
       "      <td>50700.0</td>\n",
       "      <td>1267.5</td>\n",
       "      <td>2025-07-10</td>\n",
       "      <td>12753.00</td>\n",
       "      <td>1</td>\n",
       "      <td>6194.0</td>\n",
       "      <td>0.001950</td>\n",
       "      <td>66.767523</td>\n",
       "      <td>0.992215</td>\n",
       "      <td>4287.254128</td>\n",
       "      <td>0.366505</td>\n",
       "      <td>291.455147</td>\n",
       "      <td>17082.248990</td>\n",
       "      <td>8.378480</td>\n",
       "      <td>11.326705</td>\n",
       "      <td>0.000528</td>\n",
       "      <td>3.559293</td>\n",
       "      <td>-0.469178</td>\n",
       "      <td>0.999366</td>\n",
       "    </tr>\n",
       "    <tr>\n",
       "      <th>2</th>\n",
       "      <td>A</td>\n",
       "      <td>49500.0</td>\n",
       "      <td>1237.5</td>\n",
       "      <td>2022-08-11</td>\n",
       "      <td>43102.68</td>\n",
       "      <td>0</td>\n",
       "      <td>0.0</td>\n",
       "      <td>0.000816</td>\n",
       "      <td>29.814763</td>\n",
       "      <td>0.995945</td>\n",
       "      <td>3676.495646</td>\n",
       "      <td>0.438601</td>\n",
       "      <td>230.406154</td>\n",
       "      <td>14676.167821</td>\n",
       "      <td>8.716252</td>\n",
       "      <td>11.467497</td>\n",
       "      <td>0.000719</td>\n",
       "      <td>3.146063</td>\n",
       "      <td>-0.518096</td>\n",
       "      <td>0.999767</td>\n",
       "    </tr>\n",
       "    <tr>\n",
       "      <th>3</th>\n",
       "      <td>A</td>\n",
       "      <td>33500.0</td>\n",
       "      <td>837.5</td>\n",
       "      <td>2022-08-02</td>\n",
       "      <td>8453.00</td>\n",
       "      <td>1</td>\n",
       "      <td>7699.0</td>\n",
       "      <td>0.004774</td>\n",
       "      <td>222.253400</td>\n",
       "      <td>0.973326</td>\n",
       "      <td>4166.680548</td>\n",
       "      <td>0.351815</td>\n",
       "      <td>201.814955</td>\n",
       "      <td>16444.468793</td>\n",
       "      <td>8.466251</td>\n",
       "      <td>12.078940</td>\n",
       "      <td>0.000425</td>\n",
       "      <td>4.089201</td>\n",
       "      <td>-0.389869</td>\n",
       "      <td>0.998286</td>\n",
       "    </tr>\n",
       "    <tr>\n",
       "      <th>4</th>\n",
       "      <td>AC</td>\n",
       "      <td>27600.0</td>\n",
       "      <td>690.0</td>\n",
       "      <td>2026-05-01</td>\n",
       "      <td>6978.00</td>\n",
       "      <td>1</td>\n",
       "      <td>8849.0</td>\n",
       "      <td>0.001548</td>\n",
       "      <td>105.839760</td>\n",
       "      <td>0.958213</td>\n",
       "      <td>1268.309340</td>\n",
       "      <td>0.283843</td>\n",
       "      <td>270.214352</td>\n",
       "      <td>4967.397599</td>\n",
       "      <td>7.464594</td>\n",
       "      <td>11.022848</td>\n",
       "      <td>0.000458</td>\n",
       "      <td>3.864858</td>\n",
       "      <td>-0.303799</td>\n",
       "      <td>0.988885</td>\n",
       "    </tr>\n",
       "  </tbody>\n",
       "</table>\n",
       "</div>"
      ],
      "text/plain": [
       "  Insurance_company  Cost_of_vehicle  Min_coverage Expiry_date  Max_coverage  \\\n",
       "0                BQ          41500.0        1037.5  2026-12-03      36142.68   \n",
       "1                BQ          50700.0        1267.5  2025-07-10      12753.00   \n",
       "2                 A          49500.0        1237.5  2022-08-11      43102.68   \n",
       "3                 A          33500.0         837.5  2022-08-02       8453.00   \n",
       "4                AC          27600.0         690.0  2026-05-01       6978.00   \n",
       "\n",
       "   Condition  Amount    energy    contrast  correlation     variance  \\\n",
       "0          0     0.0  0.000236  565.744709     0.953603  6096.412275   \n",
       "1          1  6194.0  0.001950   66.767523     0.992215  4287.254128   \n",
       "2          0     0.0  0.000816   29.814763     0.995945  3676.495646   \n",
       "3          1  7699.0  0.004774  222.253400     0.973326  4166.680548   \n",
       "4          1  8849.0  0.001548  105.839760     0.958213  1268.309340   \n",
       "\n",
       "   inverse difference moment  sum average  sum variance  sum entropy  \\\n",
       "0                   0.197763   250.326950  23819.904390     8.902012   \n",
       "1                   0.366505   291.455147  17082.248990     8.378480   \n",
       "2                   0.438601   230.406154  14676.167821     8.716252   \n",
       "3                   0.351815   201.814955  16444.468793     8.466251   \n",
       "4                   0.283843   270.214352   4967.397599     7.464594   \n",
       "\n",
       "     entropy  difference variance  difference entropy  info_corr  \\\n",
       "0  13.440002             0.000222            4.879668  -0.299620   \n",
       "1  11.326705             0.000528            3.559293  -0.469178   \n",
       "2  11.467497             0.000719            3.146063  -0.518096   \n",
       "3  12.078940             0.000425            4.089201  -0.389869   \n",
       "4  11.022848             0.000458            3.864858  -0.303799   \n",
       "\n",
       "   maximal_corr_coeff  \n",
       "0            0.994696  \n",
       "1            0.999366  \n",
       "2            0.999767  \n",
       "3            0.998286  \n",
       "4            0.988885  "
      ]
     },
     "execution_count": 44,
     "metadata": {},
     "output_type": "execute_result"
    }
   ],
   "source": [
    "train.head()"
   ]
  },
  {
   "cell_type": "code",
   "execution_count": 45,
   "metadata": {},
   "outputs": [],
   "source": [
    "os.chdir(CURRENT_LOC)"
   ]
  },
  {
   "cell_type": "code",
   "execution_count": 46,
   "metadata": {},
   "outputs": [],
   "source": [
    "TRAIN_IMAGE_PATH = os.path.join(DATASET_LOC,'testImages')\n",
    "os.chdir(TRAIN_IMAGE_PATH)"
   ]
  },
  {
   "cell_type": "code",
   "execution_count": 47,
   "metadata": {},
   "outputs": [],
   "source": [
    "image_feature_test = []\n",
    "i=0\n",
    "for index, row in test.iterrows():\n",
    "    #print(row['Image_path'],end=' ')\n",
    "    image_feature_test.append(extract_haralick(cv.imread(row['Image_path'])))\n",
    "    i += 1"
   ]
  },
  {
   "cell_type": "code",
   "execution_count": 48,
   "metadata": {},
   "outputs": [
    {
     "name": "stdout",
     "output_type": "stream",
     "text": [
      "13 600\n"
     ]
    }
   ],
   "source": [
    "image_feature_test = np.transpose(image_feature_test)\n",
    "print(len(image_feature_test),len(image_feature_test[0]))"
   ]
  },
  {
   "cell_type": "code",
   "execution_count": 49,
   "metadata": {},
   "outputs": [],
   "source": [
    "i=0\n",
    "for feature in HEADER:\n",
    "    test[feature] = image_feature_test[i].tolist()\n",
    "    i += 1"
   ]
  },
  {
   "cell_type": "code",
   "execution_count": 50,
   "metadata": {},
   "outputs": [
    {
     "name": "stdout",
     "output_type": "stream",
     "text": [
      "Train DATASET shape: (1301, 20)\n",
      "Test DATASET shape: (600, 19)\n"
     ]
    }
   ],
   "source": [
    "print(\"Train DATASET shape: {}\".format(train.shape))\n",
    "print(\"Test DATASET shape: {}\".format(test.shape))"
   ]
  },
  {
   "cell_type": "code",
   "execution_count": 51,
   "metadata": {},
   "outputs": [
    {
     "data": {
      "text/html": [
       "<div>\n",
       "<style scoped>\n",
       "    .dataframe tbody tr th:only-of-type {\n",
       "        vertical-align: middle;\n",
       "    }\n",
       "\n",
       "    .dataframe tbody tr th {\n",
       "        vertical-align: top;\n",
       "    }\n",
       "\n",
       "    .dataframe thead th {\n",
       "        text-align: right;\n",
       "    }\n",
       "</style>\n",
       "<table border=\"1\" class=\"dataframe\">\n",
       "  <thead>\n",
       "    <tr style=\"text-align: right;\">\n",
       "      <th></th>\n",
       "      <th>Image_path</th>\n",
       "      <th>Insurance_company</th>\n",
       "      <th>Cost_of_vehicle</th>\n",
       "      <th>Min_coverage</th>\n",
       "      <th>Expiry_date</th>\n",
       "      <th>Max_coverage</th>\n",
       "      <th>energy</th>\n",
       "      <th>contrast</th>\n",
       "      <th>correlation</th>\n",
       "      <th>variance</th>\n",
       "      <th>inverse difference moment</th>\n",
       "      <th>sum average</th>\n",
       "      <th>sum variance</th>\n",
       "      <th>sum entropy</th>\n",
       "      <th>entropy</th>\n",
       "      <th>difference variance</th>\n",
       "      <th>difference entropy</th>\n",
       "      <th>info_corr</th>\n",
       "      <th>maximal_corr_coeff</th>\n",
       "    </tr>\n",
       "  </thead>\n",
       "  <tbody>\n",
       "    <tr>\n",
       "      <th>0</th>\n",
       "      <td>img_4538519.jpg</td>\n",
       "      <td>B</td>\n",
       "      <td>23600</td>\n",
       "      <td>590.0</td>\n",
       "      <td>2025-04-12</td>\n",
       "      <td>5978.0</td>\n",
       "      <td>0.001477</td>\n",
       "      <td>654.826743</td>\n",
       "      <td>0.948814</td>\n",
       "      <td>6396.781658</td>\n",
       "      <td>0.319089</td>\n",
       "      <td>184.959457</td>\n",
       "      <td>24932.299888</td>\n",
       "      <td>8.613059</td>\n",
       "      <td>12.317904</td>\n",
       "      <td>0.000355</td>\n",
       "      <td>4.550926</td>\n",
       "      <td>-0.382139</td>\n",
       "      <td>0.998335</td>\n",
       "    </tr>\n",
       "    <tr>\n",
       "      <th>1</th>\n",
       "      <td>img_7766002.jpg</td>\n",
       "      <td>C</td>\n",
       "      <td>28300</td>\n",
       "      <td>707.5</td>\n",
       "      <td>2028-08-24</td>\n",
       "      <td>7153.0</td>\n",
       "      <td>0.009060</td>\n",
       "      <td>324.454262</td>\n",
       "      <td>0.976505</td>\n",
       "      <td>6904.895728</td>\n",
       "      <td>0.362984</td>\n",
       "      <td>177.955098</td>\n",
       "      <td>27295.128650</td>\n",
       "      <td>8.260946</td>\n",
       "      <td>11.716470</td>\n",
       "      <td>0.000438</td>\n",
       "      <td>4.156768</td>\n",
       "      <td>-0.397488</td>\n",
       "      <td>0.998354</td>\n",
       "    </tr>\n",
       "    <tr>\n",
       "      <th>2</th>\n",
       "      <td>img_4637390.jpg</td>\n",
       "      <td>AC</td>\n",
       "      <td>43700</td>\n",
       "      <td>1092.5</td>\n",
       "      <td>2023-11-28</td>\n",
       "      <td>11003.0</td>\n",
       "      <td>0.001385</td>\n",
       "      <td>16.170430</td>\n",
       "      <td>0.994268</td>\n",
       "      <td>1410.590218</td>\n",
       "      <td>0.367106</td>\n",
       "      <td>267.549308</td>\n",
       "      <td>5626.190442</td>\n",
       "      <td>7.944276</td>\n",
       "      <td>10.666843</td>\n",
       "      <td>0.000768</td>\n",
       "      <td>3.069658</td>\n",
       "      <td>-0.467338</td>\n",
       "      <td>0.999145</td>\n",
       "    </tr>\n",
       "    <tr>\n",
       "      <th>3</th>\n",
       "      <td>img_4516108.jpg</td>\n",
       "      <td>BB</td>\n",
       "      <td>46100</td>\n",
       "      <td>1152.5</td>\n",
       "      <td>2028-02-04</td>\n",
       "      <td>11603.0</td>\n",
       "      <td>0.011060</td>\n",
       "      <td>330.895511</td>\n",
       "      <td>0.976331</td>\n",
       "      <td>6989.236376</td>\n",
       "      <td>0.305744</td>\n",
       "      <td>311.674178</td>\n",
       "      <td>27626.049993</td>\n",
       "      <td>8.193888</td>\n",
       "      <td>11.896729</td>\n",
       "      <td>0.000315</td>\n",
       "      <td>4.577393</td>\n",
       "      <td>-0.372926</td>\n",
       "      <td>0.997576</td>\n",
       "    </tr>\n",
       "    <tr>\n",
       "      <th>4</th>\n",
       "      <td>img_4517008.jpg</td>\n",
       "      <td>BB</td>\n",
       "      <td>40700</td>\n",
       "      <td>1017.5</td>\n",
       "      <td>2022-01-03</td>\n",
       "      <td>10253.0</td>\n",
       "      <td>0.006502</td>\n",
       "      <td>39.629449</td>\n",
       "      <td>0.988315</td>\n",
       "      <td>1697.001236</td>\n",
       "      <td>0.701176</td>\n",
       "      <td>292.217796</td>\n",
       "      <td>6748.375497</td>\n",
       "      <td>7.554898</td>\n",
       "      <td>9.126721</td>\n",
       "      <td>0.001796</td>\n",
       "      <td>2.131943</td>\n",
       "      <td>-0.651793</td>\n",
       "      <td>0.999918</td>\n",
       "    </tr>\n",
       "  </tbody>\n",
       "</table>\n",
       "</div>"
      ],
      "text/plain": [
       "        Image_path Insurance_company  Cost_of_vehicle  Min_coverage  \\\n",
       "0  img_4538519.jpg                 B            23600         590.0   \n",
       "1  img_7766002.jpg                 C            28300         707.5   \n",
       "2  img_4637390.jpg                AC            43700        1092.5   \n",
       "3  img_4516108.jpg                BB            46100        1152.5   \n",
       "4  img_4517008.jpg                BB            40700        1017.5   \n",
       "\n",
       "  Expiry_date  Max_coverage    energy    contrast  correlation     variance  \\\n",
       "0  2025-04-12        5978.0  0.001477  654.826743     0.948814  6396.781658   \n",
       "1  2028-08-24        7153.0  0.009060  324.454262     0.976505  6904.895728   \n",
       "2  2023-11-28       11003.0  0.001385   16.170430     0.994268  1410.590218   \n",
       "3  2028-02-04       11603.0  0.011060  330.895511     0.976331  6989.236376   \n",
       "4  2022-01-03       10253.0  0.006502   39.629449     0.988315  1697.001236   \n",
       "\n",
       "   inverse difference moment  sum average  sum variance  sum entropy  \\\n",
       "0                   0.319089   184.959457  24932.299888     8.613059   \n",
       "1                   0.362984   177.955098  27295.128650     8.260946   \n",
       "2                   0.367106   267.549308   5626.190442     7.944276   \n",
       "3                   0.305744   311.674178  27626.049993     8.193888   \n",
       "4                   0.701176   292.217796   6748.375497     7.554898   \n",
       "\n",
       "     entropy  difference variance  difference entropy  info_corr  \\\n",
       "0  12.317904             0.000355            4.550926  -0.382139   \n",
       "1  11.716470             0.000438            4.156768  -0.397488   \n",
       "2  10.666843             0.000768            3.069658  -0.467338   \n",
       "3  11.896729             0.000315            4.577393  -0.372926   \n",
       "4   9.126721             0.001796            2.131943  -0.651793   \n",
       "\n",
       "   maximal_corr_coeff  \n",
       "0            0.998335  \n",
       "1            0.998354  \n",
       "2            0.999145  \n",
       "3            0.997576  \n",
       "4            0.999918  "
      ]
     },
     "execution_count": 51,
     "metadata": {},
     "output_type": "execute_result"
    }
   ],
   "source": [
    "test.head()"
   ]
  },
  {
   "cell_type": "code",
   "execution_count": 52,
   "metadata": {},
   "outputs": [
    {
     "data": {
      "text/html": [
       "<div>\n",
       "<style scoped>\n",
       "    .dataframe tbody tr th:only-of-type {\n",
       "        vertical-align: middle;\n",
       "    }\n",
       "\n",
       "    .dataframe tbody tr th {\n",
       "        vertical-align: top;\n",
       "    }\n",
       "\n",
       "    .dataframe thead th {\n",
       "        text-align: right;\n",
       "    }\n",
       "</style>\n",
       "<table border=\"1\" class=\"dataframe\">\n",
       "  <thead>\n",
       "    <tr style=\"text-align: right;\">\n",
       "      <th></th>\n",
       "      <th>Insurance_company</th>\n",
       "      <th>Cost_of_vehicle</th>\n",
       "      <th>Min_coverage</th>\n",
       "      <th>Expiry_date</th>\n",
       "      <th>Max_coverage</th>\n",
       "      <th>Condition</th>\n",
       "      <th>Amount</th>\n",
       "      <th>energy</th>\n",
       "      <th>contrast</th>\n",
       "      <th>correlation</th>\n",
       "      <th>variance</th>\n",
       "      <th>inverse difference moment</th>\n",
       "      <th>sum average</th>\n",
       "      <th>sum variance</th>\n",
       "      <th>sum entropy</th>\n",
       "      <th>entropy</th>\n",
       "      <th>difference variance</th>\n",
       "      <th>difference entropy</th>\n",
       "      <th>info_corr</th>\n",
       "      <th>maximal_corr_coeff</th>\n",
       "    </tr>\n",
       "  </thead>\n",
       "  <tbody>\n",
       "    <tr>\n",
       "      <th>0</th>\n",
       "      <td>BQ</td>\n",
       "      <td>41500.0</td>\n",
       "      <td>1037.5</td>\n",
       "      <td>2026-12-03</td>\n",
       "      <td>36142.68</td>\n",
       "      <td>0</td>\n",
       "      <td>0.0</td>\n",
       "      <td>0.000236</td>\n",
       "      <td>565.744709</td>\n",
       "      <td>0.953603</td>\n",
       "      <td>6096.412275</td>\n",
       "      <td>0.197763</td>\n",
       "      <td>250.326950</td>\n",
       "      <td>23819.904390</td>\n",
       "      <td>8.902012</td>\n",
       "      <td>13.440002</td>\n",
       "      <td>0.000222</td>\n",
       "      <td>4.879668</td>\n",
       "      <td>-0.299620</td>\n",
       "      <td>0.994696</td>\n",
       "    </tr>\n",
       "    <tr>\n",
       "      <th>1</th>\n",
       "      <td>BQ</td>\n",
       "      <td>50700.0</td>\n",
       "      <td>1267.5</td>\n",
       "      <td>2025-07-10</td>\n",
       "      <td>12753.00</td>\n",
       "      <td>1</td>\n",
       "      <td>6194.0</td>\n",
       "      <td>0.001950</td>\n",
       "      <td>66.767523</td>\n",
       "      <td>0.992215</td>\n",
       "      <td>4287.254128</td>\n",
       "      <td>0.366505</td>\n",
       "      <td>291.455147</td>\n",
       "      <td>17082.248990</td>\n",
       "      <td>8.378480</td>\n",
       "      <td>11.326705</td>\n",
       "      <td>0.000528</td>\n",
       "      <td>3.559293</td>\n",
       "      <td>-0.469178</td>\n",
       "      <td>0.999366</td>\n",
       "    </tr>\n",
       "    <tr>\n",
       "      <th>2</th>\n",
       "      <td>A</td>\n",
       "      <td>49500.0</td>\n",
       "      <td>1237.5</td>\n",
       "      <td>2022-08-11</td>\n",
       "      <td>43102.68</td>\n",
       "      <td>0</td>\n",
       "      <td>0.0</td>\n",
       "      <td>0.000816</td>\n",
       "      <td>29.814763</td>\n",
       "      <td>0.995945</td>\n",
       "      <td>3676.495646</td>\n",
       "      <td>0.438601</td>\n",
       "      <td>230.406154</td>\n",
       "      <td>14676.167821</td>\n",
       "      <td>8.716252</td>\n",
       "      <td>11.467497</td>\n",
       "      <td>0.000719</td>\n",
       "      <td>3.146063</td>\n",
       "      <td>-0.518096</td>\n",
       "      <td>0.999767</td>\n",
       "    </tr>\n",
       "    <tr>\n",
       "      <th>3</th>\n",
       "      <td>A</td>\n",
       "      <td>33500.0</td>\n",
       "      <td>837.5</td>\n",
       "      <td>2022-08-02</td>\n",
       "      <td>8453.00</td>\n",
       "      <td>1</td>\n",
       "      <td>7699.0</td>\n",
       "      <td>0.004774</td>\n",
       "      <td>222.253400</td>\n",
       "      <td>0.973326</td>\n",
       "      <td>4166.680548</td>\n",
       "      <td>0.351815</td>\n",
       "      <td>201.814955</td>\n",
       "      <td>16444.468793</td>\n",
       "      <td>8.466251</td>\n",
       "      <td>12.078940</td>\n",
       "      <td>0.000425</td>\n",
       "      <td>4.089201</td>\n",
       "      <td>-0.389869</td>\n",
       "      <td>0.998286</td>\n",
       "    </tr>\n",
       "    <tr>\n",
       "      <th>4</th>\n",
       "      <td>AC</td>\n",
       "      <td>27600.0</td>\n",
       "      <td>690.0</td>\n",
       "      <td>2026-05-01</td>\n",
       "      <td>6978.00</td>\n",
       "      <td>1</td>\n",
       "      <td>8849.0</td>\n",
       "      <td>0.001548</td>\n",
       "      <td>105.839760</td>\n",
       "      <td>0.958213</td>\n",
       "      <td>1268.309340</td>\n",
       "      <td>0.283843</td>\n",
       "      <td>270.214352</td>\n",
       "      <td>4967.397599</td>\n",
       "      <td>7.464594</td>\n",
       "      <td>11.022848</td>\n",
       "      <td>0.000458</td>\n",
       "      <td>3.864858</td>\n",
       "      <td>-0.303799</td>\n",
       "      <td>0.988885</td>\n",
       "    </tr>\n",
       "  </tbody>\n",
       "</table>\n",
       "</div>"
      ],
      "text/plain": [
       "  Insurance_company  Cost_of_vehicle  Min_coverage Expiry_date  Max_coverage  \\\n",
       "0                BQ          41500.0        1037.5  2026-12-03      36142.68   \n",
       "1                BQ          50700.0        1267.5  2025-07-10      12753.00   \n",
       "2                 A          49500.0        1237.5  2022-08-11      43102.68   \n",
       "3                 A          33500.0         837.5  2022-08-02       8453.00   \n",
       "4                AC          27600.0         690.0  2026-05-01       6978.00   \n",
       "\n",
       "   Condition  Amount    energy    contrast  correlation     variance  \\\n",
       "0          0     0.0  0.000236  565.744709     0.953603  6096.412275   \n",
       "1          1  6194.0  0.001950   66.767523     0.992215  4287.254128   \n",
       "2          0     0.0  0.000816   29.814763     0.995945  3676.495646   \n",
       "3          1  7699.0  0.004774  222.253400     0.973326  4166.680548   \n",
       "4          1  8849.0  0.001548  105.839760     0.958213  1268.309340   \n",
       "\n",
       "   inverse difference moment  sum average  sum variance  sum entropy  \\\n",
       "0                   0.197763   250.326950  23819.904390     8.902012   \n",
       "1                   0.366505   291.455147  17082.248990     8.378480   \n",
       "2                   0.438601   230.406154  14676.167821     8.716252   \n",
       "3                   0.351815   201.814955  16444.468793     8.466251   \n",
       "4                   0.283843   270.214352   4967.397599     7.464594   \n",
       "\n",
       "     entropy  difference variance  difference entropy  info_corr  \\\n",
       "0  13.440002             0.000222            4.879668  -0.299620   \n",
       "1  11.326705             0.000528            3.559293  -0.469178   \n",
       "2  11.467497             0.000719            3.146063  -0.518096   \n",
       "3  12.078940             0.000425            4.089201  -0.389869   \n",
       "4  11.022848             0.000458            3.864858  -0.303799   \n",
       "\n",
       "   maximal_corr_coeff  \n",
       "0            0.994696  \n",
       "1            0.999366  \n",
       "2            0.999767  \n",
       "3            0.998286  \n",
       "4            0.988885  "
      ]
     },
     "execution_count": 52,
     "metadata": {},
     "output_type": "execute_result"
    }
   ],
   "source": [
    "train.head()"
   ]
  },
  {
   "cell_type": "markdown",
   "metadata": {},
   "source": [
    "### Step 4 : Statistical Analysis for both Test and Train Dataset\n",
    "* Date Handling: (Expiry_date - current_timestamp).\n",
    "* One-hot_encoding of Insurance Company.\n",
    "* Standard Scaling on image Features.\n",
    "#### Contribution and effect of each feature on labels"
   ]
  },
  {
   "cell_type": "code",
   "execution_count": 53,
   "metadata": {},
   "outputs": [
    {
     "name": "stdout",
     "output_type": "stream",
     "text": [
      "<class 'pandas.core.frame.DataFrame'>\n",
      "RangeIndex: 1301 entries, 0 to 1300\n",
      "Data columns (total 20 columns):\n",
      " #   Column                     Non-Null Count  Dtype  \n",
      "---  ------                     --------------  -----  \n",
      " 0   Insurance_company          1301 non-null   object \n",
      " 1   Cost_of_vehicle            1301 non-null   float64\n",
      " 2   Min_coverage               1301 non-null   float64\n",
      " 3   Expiry_date                1301 non-null   object \n",
      " 4   Max_coverage               1301 non-null   float64\n",
      " 5   Condition                  1301 non-null   int64  \n",
      " 6   Amount                     1301 non-null   float64\n",
      " 7   energy                     1301 non-null   float64\n",
      " 8   contrast                   1301 non-null   float64\n",
      " 9   correlation                1301 non-null   float64\n",
      " 10  variance                   1301 non-null   float64\n",
      " 11  inverse difference moment  1301 non-null   float64\n",
      " 12  sum average                1301 non-null   float64\n",
      " 13  sum variance               1301 non-null   float64\n",
      " 14  sum entropy                1301 non-null   float64\n",
      " 15  entropy                    1301 non-null   float64\n",
      " 16  difference variance        1301 non-null   float64\n",
      " 17  difference entropy         1301 non-null   float64\n",
      " 18  info_corr                  1301 non-null   float64\n",
      " 19  maximal_corr_coeff         1301 non-null   float64\n",
      "dtypes: float64(17), int64(1), object(2)\n",
      "memory usage: 203.4+ KB\n"
     ]
    }
   ],
   "source": [
    "train.info()"
   ]
  },
  {
   "cell_type": "code",
   "execution_count": 54,
   "metadata": {},
   "outputs": [
    {
     "data": {
      "text/plain": [
       "Index(['Insurance_company', 'Cost_of_vehicle', 'Min_coverage', 'Expiry_date',\n",
       "       'Max_coverage', 'Condition', 'Amount', 'energy', 'contrast',\n",
       "       'correlation', 'variance', 'inverse difference moment', 'sum average',\n",
       "       'sum variance', 'sum entropy', 'entropy', 'difference variance',\n",
       "       'difference entropy', 'info_corr', 'maximal_corr_coeff'],\n",
       "      dtype='object')"
      ]
     },
     "execution_count": 54,
     "metadata": {},
     "output_type": "execute_result"
    }
   ],
   "source": [
    "train.columns"
   ]
  },
  {
   "cell_type": "code",
   "execution_count": 55,
   "metadata": {},
   "outputs": [
    {
     "data": {
      "text/plain": [
       "str"
      ]
     },
     "execution_count": 55,
     "metadata": {},
     "output_type": "execute_result"
    }
   ],
   "source": [
    "type(train['Expiry_date'][0])"
   ]
  },
  {
   "cell_type": "code",
   "execution_count": 56,
   "metadata": {},
   "outputs": [
    {
     "data": {
      "text/plain": [
       "pandas.core.series.Series"
      ]
     },
     "execution_count": 56,
     "metadata": {},
     "output_type": "execute_result"
    }
   ],
   "source": [
    "WARRANTY_PERIOD = ((pd.to_datetime(train['Expiry_date'],format='%Y-%m-%d') - pd.Timestamp.now())/np.timedelta64(1, 'D')).astype('int')\n",
    "type(WARRANTY_PERIOD)"
   ]
  },
  {
   "cell_type": "code",
   "execution_count": 57,
   "metadata": {},
   "outputs": [
    {
     "data": {
      "text/plain": [
       "numpy.int32"
      ]
     },
     "execution_count": 57,
     "metadata": {},
     "output_type": "execute_result"
    }
   ],
   "source": [
    "type(WARRANTY_PERIOD[0])"
   ]
  },
  {
   "cell_type": "code",
   "execution_count": 58,
   "metadata": {},
   "outputs": [
    {
     "data": {
      "text/plain": [
       "1995"
      ]
     },
     "execution_count": 58,
     "metadata": {},
     "output_type": "execute_result"
    }
   ],
   "source": [
    "WARRANTY_PERIOD[0]"
   ]
  },
  {
   "cell_type": "code",
   "execution_count": 59,
   "metadata": {},
   "outputs": [],
   "source": [
    "train['WARRANTY_PERIOD'] = WARRANTY_PERIOD"
   ]
  },
  {
   "cell_type": "code",
   "execution_count": 60,
   "metadata": {},
   "outputs": [],
   "source": [
    "test['WARRANTY_PERIOD'] = ((pd.to_datetime(test['Expiry_date'],format='%Y-%m-%d') - pd.Timestamp.now())/np.timedelta64(1, 'D')).astype('int')"
   ]
  },
  {
   "cell_type": "code",
   "execution_count": 61,
   "metadata": {},
   "outputs": [],
   "source": [
    "train = train.drop('Expiry_date',axis=1)\n",
    "test = test.drop('Expiry_date',axis=1)"
   ]
  },
  {
   "cell_type": "code",
   "execution_count": 62,
   "metadata": {},
   "outputs": [
    {
     "data": {
      "text/html": [
       "<div>\n",
       "<style scoped>\n",
       "    .dataframe tbody tr th:only-of-type {\n",
       "        vertical-align: middle;\n",
       "    }\n",
       "\n",
       "    .dataframe tbody tr th {\n",
       "        vertical-align: top;\n",
       "    }\n",
       "\n",
       "    .dataframe thead th {\n",
       "        text-align: right;\n",
       "    }\n",
       "</style>\n",
       "<table border=\"1\" class=\"dataframe\">\n",
       "  <thead>\n",
       "    <tr style=\"text-align: right;\">\n",
       "      <th></th>\n",
       "      <th>Insurance_company</th>\n",
       "      <th>Cost_of_vehicle</th>\n",
       "      <th>Min_coverage</th>\n",
       "      <th>Max_coverage</th>\n",
       "      <th>Condition</th>\n",
       "      <th>Amount</th>\n",
       "      <th>energy</th>\n",
       "      <th>contrast</th>\n",
       "      <th>correlation</th>\n",
       "      <th>variance</th>\n",
       "      <th>inverse difference moment</th>\n",
       "      <th>sum average</th>\n",
       "      <th>sum variance</th>\n",
       "      <th>sum entropy</th>\n",
       "      <th>entropy</th>\n",
       "      <th>difference variance</th>\n",
       "      <th>difference entropy</th>\n",
       "      <th>info_corr</th>\n",
       "      <th>maximal_corr_coeff</th>\n",
       "      <th>WARRANTY_PERIOD</th>\n",
       "    </tr>\n",
       "  </thead>\n",
       "  <tbody>\n",
       "    <tr>\n",
       "      <th>0</th>\n",
       "      <td>BQ</td>\n",
       "      <td>41500.0</td>\n",
       "      <td>1037.5</td>\n",
       "      <td>36142.68</td>\n",
       "      <td>0</td>\n",
       "      <td>0.0</td>\n",
       "      <td>0.000236</td>\n",
       "      <td>565.744709</td>\n",
       "      <td>0.953603</td>\n",
       "      <td>6096.412275</td>\n",
       "      <td>0.197763</td>\n",
       "      <td>250.326950</td>\n",
       "      <td>23819.904390</td>\n",
       "      <td>8.902012</td>\n",
       "      <td>13.440002</td>\n",
       "      <td>0.000222</td>\n",
       "      <td>4.879668</td>\n",
       "      <td>-0.299620</td>\n",
       "      <td>0.994696</td>\n",
       "      <td>1995</td>\n",
       "    </tr>\n",
       "    <tr>\n",
       "      <th>1</th>\n",
       "      <td>BQ</td>\n",
       "      <td>50700.0</td>\n",
       "      <td>1267.5</td>\n",
       "      <td>12753.00</td>\n",
       "      <td>1</td>\n",
       "      <td>6194.0</td>\n",
       "      <td>0.001950</td>\n",
       "      <td>66.767523</td>\n",
       "      <td>0.992215</td>\n",
       "      <td>4287.254128</td>\n",
       "      <td>0.366505</td>\n",
       "      <td>291.455147</td>\n",
       "      <td>17082.248990</td>\n",
       "      <td>8.378480</td>\n",
       "      <td>11.326705</td>\n",
       "      <td>0.000528</td>\n",
       "      <td>3.559293</td>\n",
       "      <td>-0.469178</td>\n",
       "      <td>0.999366</td>\n",
       "      <td>1484</td>\n",
       "    </tr>\n",
       "    <tr>\n",
       "      <th>2</th>\n",
       "      <td>A</td>\n",
       "      <td>49500.0</td>\n",
       "      <td>1237.5</td>\n",
       "      <td>43102.68</td>\n",
       "      <td>0</td>\n",
       "      <td>0.0</td>\n",
       "      <td>0.000816</td>\n",
       "      <td>29.814763</td>\n",
       "      <td>0.995945</td>\n",
       "      <td>3676.495646</td>\n",
       "      <td>0.438601</td>\n",
       "      <td>230.406154</td>\n",
       "      <td>14676.167821</td>\n",
       "      <td>8.716252</td>\n",
       "      <td>11.467497</td>\n",
       "      <td>0.000719</td>\n",
       "      <td>3.146063</td>\n",
       "      <td>-0.518096</td>\n",
       "      <td>0.999767</td>\n",
       "      <td>420</td>\n",
       "    </tr>\n",
       "    <tr>\n",
       "      <th>3</th>\n",
       "      <td>A</td>\n",
       "      <td>33500.0</td>\n",
       "      <td>837.5</td>\n",
       "      <td>8453.00</td>\n",
       "      <td>1</td>\n",
       "      <td>7699.0</td>\n",
       "      <td>0.004774</td>\n",
       "      <td>222.253400</td>\n",
       "      <td>0.973326</td>\n",
       "      <td>4166.680548</td>\n",
       "      <td>0.351815</td>\n",
       "      <td>201.814955</td>\n",
       "      <td>16444.468793</td>\n",
       "      <td>8.466251</td>\n",
       "      <td>12.078940</td>\n",
       "      <td>0.000425</td>\n",
       "      <td>4.089201</td>\n",
       "      <td>-0.389869</td>\n",
       "      <td>0.998286</td>\n",
       "      <td>411</td>\n",
       "    </tr>\n",
       "    <tr>\n",
       "      <th>4</th>\n",
       "      <td>AC</td>\n",
       "      <td>27600.0</td>\n",
       "      <td>690.0</td>\n",
       "      <td>6978.00</td>\n",
       "      <td>1</td>\n",
       "      <td>8849.0</td>\n",
       "      <td>0.001548</td>\n",
       "      <td>105.839760</td>\n",
       "      <td>0.958213</td>\n",
       "      <td>1268.309340</td>\n",
       "      <td>0.283843</td>\n",
       "      <td>270.214352</td>\n",
       "      <td>4967.397599</td>\n",
       "      <td>7.464594</td>\n",
       "      <td>11.022848</td>\n",
       "      <td>0.000458</td>\n",
       "      <td>3.864858</td>\n",
       "      <td>-0.303799</td>\n",
       "      <td>0.988885</td>\n",
       "      <td>1779</td>\n",
       "    </tr>\n",
       "  </tbody>\n",
       "</table>\n",
       "</div>"
      ],
      "text/plain": [
       "  Insurance_company  Cost_of_vehicle  Min_coverage  Max_coverage  Condition  \\\n",
       "0                BQ          41500.0        1037.5      36142.68          0   \n",
       "1                BQ          50700.0        1267.5      12753.00          1   \n",
       "2                 A          49500.0        1237.5      43102.68          0   \n",
       "3                 A          33500.0         837.5       8453.00          1   \n",
       "4                AC          27600.0         690.0       6978.00          1   \n",
       "\n",
       "   Amount    energy    contrast  correlation     variance  \\\n",
       "0     0.0  0.000236  565.744709     0.953603  6096.412275   \n",
       "1  6194.0  0.001950   66.767523     0.992215  4287.254128   \n",
       "2     0.0  0.000816   29.814763     0.995945  3676.495646   \n",
       "3  7699.0  0.004774  222.253400     0.973326  4166.680548   \n",
       "4  8849.0  0.001548  105.839760     0.958213  1268.309340   \n",
       "\n",
       "   inverse difference moment  sum average  sum variance  sum entropy  \\\n",
       "0                   0.197763   250.326950  23819.904390     8.902012   \n",
       "1                   0.366505   291.455147  17082.248990     8.378480   \n",
       "2                   0.438601   230.406154  14676.167821     8.716252   \n",
       "3                   0.351815   201.814955  16444.468793     8.466251   \n",
       "4                   0.283843   270.214352   4967.397599     7.464594   \n",
       "\n",
       "     entropy  difference variance  difference entropy  info_corr  \\\n",
       "0  13.440002             0.000222            4.879668  -0.299620   \n",
       "1  11.326705             0.000528            3.559293  -0.469178   \n",
       "2  11.467497             0.000719            3.146063  -0.518096   \n",
       "3  12.078940             0.000425            4.089201  -0.389869   \n",
       "4  11.022848             0.000458            3.864858  -0.303799   \n",
       "\n",
       "   maximal_corr_coeff  WARRANTY_PERIOD  \n",
       "0            0.994696             1995  \n",
       "1            0.999366             1484  \n",
       "2            0.999767              420  \n",
       "3            0.998286              411  \n",
       "4            0.988885             1779  "
      ]
     },
     "execution_count": 62,
     "metadata": {},
     "output_type": "execute_result"
    }
   ],
   "source": [
    "train.head()"
   ]
  },
  {
   "cell_type": "code",
   "execution_count": 63,
   "metadata": {},
   "outputs": [
    {
     "data": {
      "text/html": [
       "<div>\n",
       "<style scoped>\n",
       "    .dataframe tbody tr th:only-of-type {\n",
       "        vertical-align: middle;\n",
       "    }\n",
       "\n",
       "    .dataframe tbody tr th {\n",
       "        vertical-align: top;\n",
       "    }\n",
       "\n",
       "    .dataframe thead th {\n",
       "        text-align: right;\n",
       "    }\n",
       "</style>\n",
       "<table border=\"1\" class=\"dataframe\">\n",
       "  <thead>\n",
       "    <tr style=\"text-align: right;\">\n",
       "      <th></th>\n",
       "      <th>Image_path</th>\n",
       "      <th>Insurance_company</th>\n",
       "      <th>Cost_of_vehicle</th>\n",
       "      <th>Min_coverage</th>\n",
       "      <th>Max_coverage</th>\n",
       "      <th>energy</th>\n",
       "      <th>contrast</th>\n",
       "      <th>correlation</th>\n",
       "      <th>variance</th>\n",
       "      <th>inverse difference moment</th>\n",
       "      <th>sum average</th>\n",
       "      <th>sum variance</th>\n",
       "      <th>sum entropy</th>\n",
       "      <th>entropy</th>\n",
       "      <th>difference variance</th>\n",
       "      <th>difference entropy</th>\n",
       "      <th>info_corr</th>\n",
       "      <th>maximal_corr_coeff</th>\n",
       "      <th>WARRANTY_PERIOD</th>\n",
       "    </tr>\n",
       "  </thead>\n",
       "  <tbody>\n",
       "    <tr>\n",
       "      <th>0</th>\n",
       "      <td>img_4538519.jpg</td>\n",
       "      <td>B</td>\n",
       "      <td>23600</td>\n",
       "      <td>590.0</td>\n",
       "      <td>5978.0</td>\n",
       "      <td>0.001477</td>\n",
       "      <td>654.826743</td>\n",
       "      <td>0.948814</td>\n",
       "      <td>6396.781658</td>\n",
       "      <td>0.319089</td>\n",
       "      <td>184.959457</td>\n",
       "      <td>24932.299888</td>\n",
       "      <td>8.613059</td>\n",
       "      <td>12.317904</td>\n",
       "      <td>0.000355</td>\n",
       "      <td>4.550926</td>\n",
       "      <td>-0.382139</td>\n",
       "      <td>0.998335</td>\n",
       "      <td>1395</td>\n",
       "    </tr>\n",
       "    <tr>\n",
       "      <th>1</th>\n",
       "      <td>img_7766002.jpg</td>\n",
       "      <td>C</td>\n",
       "      <td>28300</td>\n",
       "      <td>707.5</td>\n",
       "      <td>7153.0</td>\n",
       "      <td>0.009060</td>\n",
       "      <td>324.454262</td>\n",
       "      <td>0.976505</td>\n",
       "      <td>6904.895728</td>\n",
       "      <td>0.362984</td>\n",
       "      <td>177.955098</td>\n",
       "      <td>27295.128650</td>\n",
       "      <td>8.260946</td>\n",
       "      <td>11.716470</td>\n",
       "      <td>0.000438</td>\n",
       "      <td>4.156768</td>\n",
       "      <td>-0.397488</td>\n",
       "      <td>0.998354</td>\n",
       "      <td>2625</td>\n",
       "    </tr>\n",
       "    <tr>\n",
       "      <th>2</th>\n",
       "      <td>img_4637390.jpg</td>\n",
       "      <td>AC</td>\n",
       "      <td>43700</td>\n",
       "      <td>1092.5</td>\n",
       "      <td>11003.0</td>\n",
       "      <td>0.001385</td>\n",
       "      <td>16.170430</td>\n",
       "      <td>0.994268</td>\n",
       "      <td>1410.590218</td>\n",
       "      <td>0.367106</td>\n",
       "      <td>267.549308</td>\n",
       "      <td>5626.190442</td>\n",
       "      <td>7.944276</td>\n",
       "      <td>10.666843</td>\n",
       "      <td>0.000768</td>\n",
       "      <td>3.069658</td>\n",
       "      <td>-0.467338</td>\n",
       "      <td>0.999145</td>\n",
       "      <td>894</td>\n",
       "    </tr>\n",
       "    <tr>\n",
       "      <th>3</th>\n",
       "      <td>img_4516108.jpg</td>\n",
       "      <td>BB</td>\n",
       "      <td>46100</td>\n",
       "      <td>1152.5</td>\n",
       "      <td>11603.0</td>\n",
       "      <td>0.011060</td>\n",
       "      <td>330.895511</td>\n",
       "      <td>0.976331</td>\n",
       "      <td>6989.236376</td>\n",
       "      <td>0.305744</td>\n",
       "      <td>311.674178</td>\n",
       "      <td>27626.049993</td>\n",
       "      <td>8.193888</td>\n",
       "      <td>11.896729</td>\n",
       "      <td>0.000315</td>\n",
       "      <td>4.577393</td>\n",
       "      <td>-0.372926</td>\n",
       "      <td>0.997576</td>\n",
       "      <td>2423</td>\n",
       "    </tr>\n",
       "    <tr>\n",
       "      <th>4</th>\n",
       "      <td>img_4517008.jpg</td>\n",
       "      <td>BB</td>\n",
       "      <td>40700</td>\n",
       "      <td>1017.5</td>\n",
       "      <td>10253.0</td>\n",
       "      <td>0.006502</td>\n",
       "      <td>39.629449</td>\n",
       "      <td>0.988315</td>\n",
       "      <td>1697.001236</td>\n",
       "      <td>0.701176</td>\n",
       "      <td>292.217796</td>\n",
       "      <td>6748.375497</td>\n",
       "      <td>7.554898</td>\n",
       "      <td>9.126721</td>\n",
       "      <td>0.001796</td>\n",
       "      <td>2.131943</td>\n",
       "      <td>-0.651793</td>\n",
       "      <td>0.999918</td>\n",
       "      <td>200</td>\n",
       "    </tr>\n",
       "  </tbody>\n",
       "</table>\n",
       "</div>"
      ],
      "text/plain": [
       "        Image_path Insurance_company  Cost_of_vehicle  Min_coverage  \\\n",
       "0  img_4538519.jpg                 B            23600         590.0   \n",
       "1  img_7766002.jpg                 C            28300         707.5   \n",
       "2  img_4637390.jpg                AC            43700        1092.5   \n",
       "3  img_4516108.jpg                BB            46100        1152.5   \n",
       "4  img_4517008.jpg                BB            40700        1017.5   \n",
       "\n",
       "   Max_coverage    energy    contrast  correlation     variance  \\\n",
       "0        5978.0  0.001477  654.826743     0.948814  6396.781658   \n",
       "1        7153.0  0.009060  324.454262     0.976505  6904.895728   \n",
       "2       11003.0  0.001385   16.170430     0.994268  1410.590218   \n",
       "3       11603.0  0.011060  330.895511     0.976331  6989.236376   \n",
       "4       10253.0  0.006502   39.629449     0.988315  1697.001236   \n",
       "\n",
       "   inverse difference moment  sum average  sum variance  sum entropy  \\\n",
       "0                   0.319089   184.959457  24932.299888     8.613059   \n",
       "1                   0.362984   177.955098  27295.128650     8.260946   \n",
       "2                   0.367106   267.549308   5626.190442     7.944276   \n",
       "3                   0.305744   311.674178  27626.049993     8.193888   \n",
       "4                   0.701176   292.217796   6748.375497     7.554898   \n",
       "\n",
       "     entropy  difference variance  difference entropy  info_corr  \\\n",
       "0  12.317904             0.000355            4.550926  -0.382139   \n",
       "1  11.716470             0.000438            4.156768  -0.397488   \n",
       "2  10.666843             0.000768            3.069658  -0.467338   \n",
       "3  11.896729             0.000315            4.577393  -0.372926   \n",
       "4   9.126721             0.001796            2.131943  -0.651793   \n",
       "\n",
       "   maximal_corr_coeff  WARRANTY_PERIOD  \n",
       "0            0.998335             1395  \n",
       "1            0.998354             2625  \n",
       "2            0.999145              894  \n",
       "3            0.997576             2423  \n",
       "4            0.999918              200  "
      ]
     },
     "execution_count": 63,
     "metadata": {},
     "output_type": "execute_result"
    }
   ],
   "source": [
    "test.head()"
   ]
  },
  {
   "cell_type": "code",
   "execution_count": 64,
   "metadata": {},
   "outputs": [],
   "source": [
    "Insurance_company = train['Insurance_company']"
   ]
  },
  {
   "cell_type": "code",
   "execution_count": 65,
   "metadata": {},
   "outputs": [],
   "source": [
    "train = train.drop('Insurance_company',axis=1)\n",
    "Insurance_company_test = test['Insurance_company']\n",
    "test = test.drop('Insurance_company',axis=1)"
   ]
  },
  {
   "cell_type": "code",
   "execution_count": 66,
   "metadata": {},
   "outputs": [
    {
     "data": {
      "text/plain": [
       "(1301, 19)"
      ]
     },
     "execution_count": 66,
     "metadata": {},
     "output_type": "execute_result"
    }
   ],
   "source": [
    "train.shape"
   ]
  },
  {
   "cell_type": "code",
   "execution_count": 67,
   "metadata": {},
   "outputs": [
    {
     "data": {
      "text/plain": [
       "(600, 18)"
      ]
     },
     "execution_count": 67,
     "metadata": {},
     "output_type": "execute_result"
    }
   ],
   "source": [
    "test.shape"
   ]
  },
  {
   "cell_type": "code",
   "execution_count": 68,
   "metadata": {},
   "outputs": [],
   "source": [
    "TEST_IMAGE_PATH=test['Image_path']"
   ]
  },
  {
   "cell_type": "code",
   "execution_count": 69,
   "metadata": {},
   "outputs": [],
   "source": [
    "test = test.drop('Image_path',axis=1)"
   ]
  },
  {
   "cell_type": "code",
   "execution_count": 70,
   "metadata": {},
   "outputs": [
    {
     "data": {
      "text/plain": [
       "(600, 17)"
      ]
     },
     "execution_count": 70,
     "metadata": {},
     "output_type": "execute_result"
    }
   ],
   "source": [
    "test.shape"
   ]
  },
  {
   "cell_type": "code",
   "execution_count": 71,
   "metadata": {},
   "outputs": [
    {
     "data": {
      "text/plain": [
       "Index(['Cost_of_vehicle', 'Min_coverage', 'Max_coverage', 'energy', 'contrast',\n",
       "       'correlation', 'variance', 'inverse difference moment', 'sum average',\n",
       "       'sum variance', 'sum entropy', 'entropy', 'difference variance',\n",
       "       'difference entropy', 'info_corr', 'maximal_corr_coeff',\n",
       "       'WARRANTY_PERIOD'],\n",
       "      dtype='object')"
      ]
     },
     "execution_count": 71,
     "metadata": {},
     "output_type": "execute_result"
    }
   ],
   "source": [
    "test.columns"
   ]
  },
  {
   "cell_type": "code",
   "execution_count": 72,
   "metadata": {},
   "outputs": [
    {
     "data": {
      "text/html": [
       "<div>\n",
       "<style scoped>\n",
       "    .dataframe tbody tr th:only-of-type {\n",
       "        vertical-align: middle;\n",
       "    }\n",
       "\n",
       "    .dataframe tbody tr th {\n",
       "        vertical-align: top;\n",
       "    }\n",
       "\n",
       "    .dataframe thead th {\n",
       "        text-align: right;\n",
       "    }\n",
       "</style>\n",
       "<table border=\"1\" class=\"dataframe\">\n",
       "  <thead>\n",
       "    <tr style=\"text-align: right;\">\n",
       "      <th></th>\n",
       "      <th>Cost_of_vehicle</th>\n",
       "      <th>Min_coverage</th>\n",
       "      <th>Max_coverage</th>\n",
       "      <th>Condition</th>\n",
       "      <th>Amount</th>\n",
       "      <th>energy</th>\n",
       "      <th>contrast</th>\n",
       "      <th>correlation</th>\n",
       "      <th>variance</th>\n",
       "      <th>inverse difference moment</th>\n",
       "      <th>sum average</th>\n",
       "      <th>sum variance</th>\n",
       "      <th>sum entropy</th>\n",
       "      <th>entropy</th>\n",
       "      <th>difference variance</th>\n",
       "      <th>difference entropy</th>\n",
       "      <th>info_corr</th>\n",
       "      <th>maximal_corr_coeff</th>\n",
       "      <th>WARRANTY_PERIOD</th>\n",
       "    </tr>\n",
       "  </thead>\n",
       "  <tbody>\n",
       "    <tr>\n",
       "      <th>0</th>\n",
       "      <td>41500.0</td>\n",
       "      <td>1037.5</td>\n",
       "      <td>36142.68</td>\n",
       "      <td>0</td>\n",
       "      <td>0.0</td>\n",
       "      <td>0.000236</td>\n",
       "      <td>565.744709</td>\n",
       "      <td>0.953603</td>\n",
       "      <td>6096.412275</td>\n",
       "      <td>0.197763</td>\n",
       "      <td>250.326950</td>\n",
       "      <td>23819.904390</td>\n",
       "      <td>8.902012</td>\n",
       "      <td>13.440002</td>\n",
       "      <td>0.000222</td>\n",
       "      <td>4.879668</td>\n",
       "      <td>-0.299620</td>\n",
       "      <td>0.994696</td>\n",
       "      <td>1995</td>\n",
       "    </tr>\n",
       "    <tr>\n",
       "      <th>1</th>\n",
       "      <td>50700.0</td>\n",
       "      <td>1267.5</td>\n",
       "      <td>12753.00</td>\n",
       "      <td>1</td>\n",
       "      <td>6194.0</td>\n",
       "      <td>0.001950</td>\n",
       "      <td>66.767523</td>\n",
       "      <td>0.992215</td>\n",
       "      <td>4287.254128</td>\n",
       "      <td>0.366505</td>\n",
       "      <td>291.455147</td>\n",
       "      <td>17082.248990</td>\n",
       "      <td>8.378480</td>\n",
       "      <td>11.326705</td>\n",
       "      <td>0.000528</td>\n",
       "      <td>3.559293</td>\n",
       "      <td>-0.469178</td>\n",
       "      <td>0.999366</td>\n",
       "      <td>1484</td>\n",
       "    </tr>\n",
       "    <tr>\n",
       "      <th>2</th>\n",
       "      <td>49500.0</td>\n",
       "      <td>1237.5</td>\n",
       "      <td>43102.68</td>\n",
       "      <td>0</td>\n",
       "      <td>0.0</td>\n",
       "      <td>0.000816</td>\n",
       "      <td>29.814763</td>\n",
       "      <td>0.995945</td>\n",
       "      <td>3676.495646</td>\n",
       "      <td>0.438601</td>\n",
       "      <td>230.406154</td>\n",
       "      <td>14676.167821</td>\n",
       "      <td>8.716252</td>\n",
       "      <td>11.467497</td>\n",
       "      <td>0.000719</td>\n",
       "      <td>3.146063</td>\n",
       "      <td>-0.518096</td>\n",
       "      <td>0.999767</td>\n",
       "      <td>420</td>\n",
       "    </tr>\n",
       "    <tr>\n",
       "      <th>3</th>\n",
       "      <td>33500.0</td>\n",
       "      <td>837.5</td>\n",
       "      <td>8453.00</td>\n",
       "      <td>1</td>\n",
       "      <td>7699.0</td>\n",
       "      <td>0.004774</td>\n",
       "      <td>222.253400</td>\n",
       "      <td>0.973326</td>\n",
       "      <td>4166.680548</td>\n",
       "      <td>0.351815</td>\n",
       "      <td>201.814955</td>\n",
       "      <td>16444.468793</td>\n",
       "      <td>8.466251</td>\n",
       "      <td>12.078940</td>\n",
       "      <td>0.000425</td>\n",
       "      <td>4.089201</td>\n",
       "      <td>-0.389869</td>\n",
       "      <td>0.998286</td>\n",
       "      <td>411</td>\n",
       "    </tr>\n",
       "    <tr>\n",
       "      <th>4</th>\n",
       "      <td>27600.0</td>\n",
       "      <td>690.0</td>\n",
       "      <td>6978.00</td>\n",
       "      <td>1</td>\n",
       "      <td>8849.0</td>\n",
       "      <td>0.001548</td>\n",
       "      <td>105.839760</td>\n",
       "      <td>0.958213</td>\n",
       "      <td>1268.309340</td>\n",
       "      <td>0.283843</td>\n",
       "      <td>270.214352</td>\n",
       "      <td>4967.397599</td>\n",
       "      <td>7.464594</td>\n",
       "      <td>11.022848</td>\n",
       "      <td>0.000458</td>\n",
       "      <td>3.864858</td>\n",
       "      <td>-0.303799</td>\n",
       "      <td>0.988885</td>\n",
       "      <td>1779</td>\n",
       "    </tr>\n",
       "  </tbody>\n",
       "</table>\n",
       "</div>"
      ],
      "text/plain": [
       "   Cost_of_vehicle  Min_coverage  Max_coverage  Condition  Amount    energy  \\\n",
       "0          41500.0        1037.5      36142.68          0     0.0  0.000236   \n",
       "1          50700.0        1267.5      12753.00          1  6194.0  0.001950   \n",
       "2          49500.0        1237.5      43102.68          0     0.0  0.000816   \n",
       "3          33500.0         837.5       8453.00          1  7699.0  0.004774   \n",
       "4          27600.0         690.0       6978.00          1  8849.0  0.001548   \n",
       "\n",
       "     contrast  correlation     variance  inverse difference moment  \\\n",
       "0  565.744709     0.953603  6096.412275                   0.197763   \n",
       "1   66.767523     0.992215  4287.254128                   0.366505   \n",
       "2   29.814763     0.995945  3676.495646                   0.438601   \n",
       "3  222.253400     0.973326  4166.680548                   0.351815   \n",
       "4  105.839760     0.958213  1268.309340                   0.283843   \n",
       "\n",
       "   sum average  sum variance  sum entropy    entropy  difference variance  \\\n",
       "0   250.326950  23819.904390     8.902012  13.440002             0.000222   \n",
       "1   291.455147  17082.248990     8.378480  11.326705             0.000528   \n",
       "2   230.406154  14676.167821     8.716252  11.467497             0.000719   \n",
       "3   201.814955  16444.468793     8.466251  12.078940             0.000425   \n",
       "4   270.214352   4967.397599     7.464594  11.022848             0.000458   \n",
       "\n",
       "   difference entropy  info_corr  maximal_corr_coeff  WARRANTY_PERIOD  \n",
       "0            4.879668  -0.299620            0.994696             1995  \n",
       "1            3.559293  -0.469178            0.999366             1484  \n",
       "2            3.146063  -0.518096            0.999767              420  \n",
       "3            4.089201  -0.389869            0.998286              411  \n",
       "4            3.864858  -0.303799            0.988885             1779  "
      ]
     },
     "execution_count": 72,
     "metadata": {},
     "output_type": "execute_result"
    }
   ],
   "source": [
    "train.head()"
   ]
  },
  {
   "cell_type": "code",
   "execution_count": 73,
   "metadata": {},
   "outputs": [],
   "source": [
    "from sklearn.preprocessing import StandardScaler"
   ]
  },
  {
   "cell_type": "code",
   "execution_count": 74,
   "metadata": {},
   "outputs": [],
   "source": [
    "scalar = StandardScaler()"
   ]
  },
  {
   "cell_type": "code",
   "execution_count": 75,
   "metadata": {},
   "outputs": [],
   "source": [
    "Condition = train['Condition']\n",
    "Amount = train['Amount']\n",
    "train = train.drop('Amount',axis=1)\n",
    "train = train.drop('Condition',axis=1)"
   ]
  },
  {
   "cell_type": "code",
   "execution_count": 76,
   "metadata": {},
   "outputs": [
    {
     "data": {
      "text/plain": [
       "(1301, 17)"
      ]
     },
     "execution_count": 76,
     "metadata": {},
     "output_type": "execute_result"
    }
   ],
   "source": [
    "train.shape"
   ]
  },
  {
   "cell_type": "code",
   "execution_count": 77,
   "metadata": {},
   "outputs": [],
   "source": [
    "train = scalar.fit_transform(train)"
   ]
  },
  {
   "cell_type": "code",
   "execution_count": 78,
   "metadata": {},
   "outputs": [
    {
     "data": {
      "text/plain": [
       "(1301, 17)"
      ]
     },
     "execution_count": 78,
     "metadata": {},
     "output_type": "execute_result"
    }
   ],
   "source": [
    "train.shape"
   ]
  },
  {
   "cell_type": "code",
   "execution_count": 79,
   "metadata": {},
   "outputs": [
    {
     "data": {
      "text/plain": [
       "(600, 17)"
      ]
     },
     "execution_count": 79,
     "metadata": {},
     "output_type": "execute_result"
    }
   ],
   "source": [
    "test.shape"
   ]
  },
  {
   "cell_type": "code",
   "execution_count": 80,
   "metadata": {},
   "outputs": [],
   "source": [
    "test = scalar.transform(test)"
   ]
  },
  {
   "cell_type": "code",
   "execution_count": 81,
   "metadata": {},
   "outputs": [
    {
     "data": {
      "text/plain": [
       "(600, 17)"
      ]
     },
     "execution_count": 81,
     "metadata": {},
     "output_type": "execute_result"
    }
   ],
   "source": [
    "test.shape"
   ]
  },
  {
   "cell_type": "code",
   "execution_count": 82,
   "metadata": {},
   "outputs": [],
   "source": [
    "train = np.transpose(train)\n",
    "test = np.transpose(test)"
   ]
  },
  {
   "cell_type": "code",
   "execution_count": 83,
   "metadata": {},
   "outputs": [
    {
     "data": {
      "text/plain": [
       "(17, 1301)"
      ]
     },
     "execution_count": 83,
     "metadata": {},
     "output_type": "execute_result"
    }
   ],
   "source": [
    "train.shape"
   ]
  },
  {
   "cell_type": "code",
   "execution_count": 84,
   "metadata": {},
   "outputs": [],
   "source": [
    "ATTRIBUTE = ['Cost_of_vehicle', 'Min_coverage', 'Max_coverage', 'energy', 'contrast',\n",
    "       'correlation', 'variance', 'inverse difference moment', 'sum average',\n",
    "       'sum variance', 'sum entropy', 'entropy', 'difference variance',\n",
    "       'difference entropy', 'info_corr', 'maximal_corr_coeff',\n",
    "       'WARRANTY_PERIOD']"
   ]
  },
  {
   "cell_type": "code",
   "execution_count": 85,
   "metadata": {},
   "outputs": [
    {
     "data": {
      "text/plain": [
       "17"
      ]
     },
     "execution_count": 85,
     "metadata": {},
     "output_type": "execute_result"
    }
   ],
   "source": [
    "len(ATTRIBUTE)"
   ]
  },
  {
   "cell_type": "code",
   "execution_count": 86,
   "metadata": {},
   "outputs": [],
   "source": [
    "train_dict = {}\n",
    "test_dict = {}\n",
    "i=0\n",
    "for attr in ATTRIBUTE:\n",
    "    train_dict[attr] = pd.Series(train[i])\n",
    "    test_dict[attr] = pd.Series(test[i])\n",
    "    i += 1"
   ]
  },
  {
   "cell_type": "code",
   "execution_count": 87,
   "metadata": {},
   "outputs": [
    {
     "data": {
      "text/plain": [
       "(1301,)"
      ]
     },
     "execution_count": 87,
     "metadata": {},
     "output_type": "execute_result"
    }
   ],
   "source": [
    "train_dict['Cost_of_vehicle'].shape"
   ]
  },
  {
   "cell_type": "code",
   "execution_count": 88,
   "metadata": {},
   "outputs": [],
   "source": [
    "TRAIN_DATAFRAME = pd.DataFrame.from_dict(train_dict)\n",
    "TEST_DATAFRAME = pd.DataFrame.from_dict(test_dict)"
   ]
  },
  {
   "cell_type": "code",
   "execution_count": 89,
   "metadata": {},
   "outputs": [
    {
     "data": {
      "text/plain": [
       "(1301, 17)"
      ]
     },
     "execution_count": 89,
     "metadata": {},
     "output_type": "execute_result"
    }
   ],
   "source": [
    "TRAIN_DATAFRAME.shape"
   ]
  },
  {
   "cell_type": "code",
   "execution_count": 90,
   "metadata": {},
   "outputs": [
    {
     "data": {
      "text/plain": [
       "(600, 17)"
      ]
     },
     "execution_count": 90,
     "metadata": {},
     "output_type": "execute_result"
    }
   ],
   "source": [
    "TEST_DATAFRAME.shape"
   ]
  },
  {
   "cell_type": "code",
   "execution_count": 91,
   "metadata": {},
   "outputs": [
    {
     "data": {
      "text/html": [
       "<div>\n",
       "<style scoped>\n",
       "    .dataframe tbody tr th:only-of-type {\n",
       "        vertical-align: middle;\n",
       "    }\n",
       "\n",
       "    .dataframe tbody tr th {\n",
       "        vertical-align: top;\n",
       "    }\n",
       "\n",
       "    .dataframe thead th {\n",
       "        text-align: right;\n",
       "    }\n",
       "</style>\n",
       "<table border=\"1\" class=\"dataframe\">\n",
       "  <thead>\n",
       "    <tr style=\"text-align: right;\">\n",
       "      <th></th>\n",
       "      <th>Cost_of_vehicle</th>\n",
       "      <th>Min_coverage</th>\n",
       "      <th>Max_coverage</th>\n",
       "      <th>energy</th>\n",
       "      <th>contrast</th>\n",
       "      <th>correlation</th>\n",
       "      <th>variance</th>\n",
       "      <th>inverse difference moment</th>\n",
       "      <th>sum average</th>\n",
       "      <th>sum variance</th>\n",
       "      <th>sum entropy</th>\n",
       "      <th>entropy</th>\n",
       "      <th>difference variance</th>\n",
       "      <th>difference entropy</th>\n",
       "      <th>info_corr</th>\n",
       "      <th>maximal_corr_coeff</th>\n",
       "      <th>WARRANTY_PERIOD</th>\n",
       "    </tr>\n",
       "  </thead>\n",
       "  <tbody>\n",
       "    <tr>\n",
       "      <th>0</th>\n",
       "      <td>0.451768</td>\n",
       "      <td>0.451768</td>\n",
       "      <td>3.465368</td>\n",
       "      <td>-0.259399</td>\n",
       "      <td>0.235741</td>\n",
       "      <td>0.146016</td>\n",
       "      <td>1.170638</td>\n",
       "      <td>-0.822450</td>\n",
       "      <td>0.109269</td>\n",
       "      <td>1.172388</td>\n",
       "      <td>0.940359</td>\n",
       "      <td>1.015981</td>\n",
       "      <td>-0.693199</td>\n",
       "      <td>0.650261</td>\n",
       "      <td>0.633428</td>\n",
       "      <td>0.147934</td>\n",
       "      <td>0.694708</td>\n",
       "    </tr>\n",
       "    <tr>\n",
       "      <th>1</th>\n",
       "      <td>1.483694</td>\n",
       "      <td>1.483694</td>\n",
       "      <td>0.207941</td>\n",
       "      <td>-0.219612</td>\n",
       "      <td>-0.632296</td>\n",
       "      <td>0.686181</td>\n",
       "      <td>0.195964</td>\n",
       "      <td>0.270986</td>\n",
       "      <td>0.800932</td>\n",
       "      <td>0.249169</td>\n",
       "      <td>0.251533</td>\n",
       "      <td>-0.301947</td>\n",
       "      <td>0.081073</td>\n",
       "      <td>-0.633811</td>\n",
       "      <td>-0.767346</td>\n",
       "      <td>0.289924</td>\n",
       "      <td>0.036958</td>\n",
       "    </tr>\n",
       "    <tr>\n",
       "      <th>2</th>\n",
       "      <td>1.349095</td>\n",
       "      <td>1.349095</td>\n",
       "      <td>4.434672</td>\n",
       "      <td>-0.245936</td>\n",
       "      <td>-0.696581</td>\n",
       "      <td>0.738371</td>\n",
       "      <td>-0.133078</td>\n",
       "      <td>0.738159</td>\n",
       "      <td>-0.225743</td>\n",
       "      <td>-0.080521</td>\n",
       "      <td>0.695950</td>\n",
       "      <td>-0.214145</td>\n",
       "      <td>0.564911</td>\n",
       "      <td>-1.035680</td>\n",
       "      <td>-1.171469</td>\n",
       "      <td>0.302113</td>\n",
       "      <td>-1.332603</td>\n",
       "    </tr>\n",
       "    <tr>\n",
       "      <th>3</th>\n",
       "      <td>-0.445560</td>\n",
       "      <td>-0.445560</td>\n",
       "      <td>-0.390911</td>\n",
       "      <td>-0.154017</td>\n",
       "      <td>-0.361808</td>\n",
       "      <td>0.421934</td>\n",
       "      <td>0.131006</td>\n",
       "      <td>0.175796</td>\n",
       "      <td>-0.706569</td>\n",
       "      <td>0.161778</td>\n",
       "      <td>0.367016</td>\n",
       "      <td>0.167173</td>\n",
       "      <td>-0.178268</td>\n",
       "      <td>-0.118472</td>\n",
       "      <td>-0.112141</td>\n",
       "      <td>0.257091</td>\n",
       "      <td>-1.344188</td>\n",
       "    </tr>\n",
       "    <tr>\n",
       "      <th>4</th>\n",
       "      <td>-1.107339</td>\n",
       "      <td>-1.107339</td>\n",
       "      <td>-0.596330</td>\n",
       "      <td>-0.228939</td>\n",
       "      <td>-0.564325</td>\n",
       "      <td>0.210507</td>\n",
       "      <td>-1.430475</td>\n",
       "      <td>-0.264658</td>\n",
       "      <td>0.443721</td>\n",
       "      <td>-1.410854</td>\n",
       "      <td>-0.950894</td>\n",
       "      <td>-0.491443</td>\n",
       "      <td>-0.095562</td>\n",
       "      <td>-0.336647</td>\n",
       "      <td>0.598905</td>\n",
       "      <td>-0.028703</td>\n",
       "      <td>0.416677</td>\n",
       "    </tr>\n",
       "  </tbody>\n",
       "</table>\n",
       "</div>"
      ],
      "text/plain": [
       "   Cost_of_vehicle  Min_coverage  Max_coverage    energy  contrast  \\\n",
       "0         0.451768      0.451768      3.465368 -0.259399  0.235741   \n",
       "1         1.483694      1.483694      0.207941 -0.219612 -0.632296   \n",
       "2         1.349095      1.349095      4.434672 -0.245936 -0.696581   \n",
       "3        -0.445560     -0.445560     -0.390911 -0.154017 -0.361808   \n",
       "4        -1.107339     -1.107339     -0.596330 -0.228939 -0.564325   \n",
       "\n",
       "   correlation  variance  inverse difference moment  sum average  \\\n",
       "0     0.146016  1.170638                  -0.822450     0.109269   \n",
       "1     0.686181  0.195964                   0.270986     0.800932   \n",
       "2     0.738371 -0.133078                   0.738159    -0.225743   \n",
       "3     0.421934  0.131006                   0.175796    -0.706569   \n",
       "4     0.210507 -1.430475                  -0.264658     0.443721   \n",
       "\n",
       "   sum variance  sum entropy   entropy  difference variance  \\\n",
       "0      1.172388     0.940359  1.015981            -0.693199   \n",
       "1      0.249169     0.251533 -0.301947             0.081073   \n",
       "2     -0.080521     0.695950 -0.214145             0.564911   \n",
       "3      0.161778     0.367016  0.167173            -0.178268   \n",
       "4     -1.410854    -0.950894 -0.491443            -0.095562   \n",
       "\n",
       "   difference entropy  info_corr  maximal_corr_coeff  WARRANTY_PERIOD  \n",
       "0            0.650261   0.633428            0.147934         0.694708  \n",
       "1           -0.633811  -0.767346            0.289924         0.036958  \n",
       "2           -1.035680  -1.171469            0.302113        -1.332603  \n",
       "3           -0.118472  -0.112141            0.257091        -1.344188  \n",
       "4           -0.336647   0.598905           -0.028703         0.416677  "
      ]
     },
     "execution_count": 91,
     "metadata": {},
     "output_type": "execute_result"
    }
   ],
   "source": [
    "TRAIN_DATAFRAME.head()"
   ]
  },
  {
   "cell_type": "code",
   "execution_count": 92,
   "metadata": {},
   "outputs": [
    {
     "data": {
      "text/html": [
       "<div>\n",
       "<style scoped>\n",
       "    .dataframe tbody tr th:only-of-type {\n",
       "        vertical-align: middle;\n",
       "    }\n",
       "\n",
       "    .dataframe tbody tr th {\n",
       "        vertical-align: top;\n",
       "    }\n",
       "\n",
       "    .dataframe thead th {\n",
       "        text-align: right;\n",
       "    }\n",
       "</style>\n",
       "<table border=\"1\" class=\"dataframe\">\n",
       "  <thead>\n",
       "    <tr style=\"text-align: right;\">\n",
       "      <th></th>\n",
       "      <th>Cost_of_vehicle</th>\n",
       "      <th>Min_coverage</th>\n",
       "      <th>Max_coverage</th>\n",
       "      <th>energy</th>\n",
       "      <th>contrast</th>\n",
       "      <th>correlation</th>\n",
       "      <th>variance</th>\n",
       "      <th>inverse difference moment</th>\n",
       "      <th>sum average</th>\n",
       "      <th>sum variance</th>\n",
       "      <th>sum entropy</th>\n",
       "      <th>entropy</th>\n",
       "      <th>difference variance</th>\n",
       "      <th>difference entropy</th>\n",
       "      <th>info_corr</th>\n",
       "      <th>maximal_corr_coeff</th>\n",
       "      <th>WARRANTY_PERIOD</th>\n",
       "    </tr>\n",
       "  </thead>\n",
       "  <tbody>\n",
       "    <tr>\n",
       "      <th>0</th>\n",
       "      <td>-1.556003</td>\n",
       "      <td>-1.556003</td>\n",
       "      <td>-0.735598</td>\n",
       "      <td>-0.230587</td>\n",
       "      <td>0.390712</td>\n",
       "      <td>0.079014</td>\n",
       "      <td>1.332461</td>\n",
       "      <td>-0.036266</td>\n",
       "      <td>-0.990032</td>\n",
       "      <td>1.324813</td>\n",
       "      <td>0.560175</td>\n",
       "      <td>0.316200</td>\n",
       "      <td>-0.356596</td>\n",
       "      <td>0.330558</td>\n",
       "      <td>-0.048280</td>\n",
       "      <td>0.258567</td>\n",
       "      <td>-0.077601</td>\n",
       "    </tr>\n",
       "    <tr>\n",
       "      <th>1</th>\n",
       "      <td>-1.028823</td>\n",
       "      <td>-1.028823</td>\n",
       "      <td>-0.571959</td>\n",
       "      <td>-0.054479</td>\n",
       "      <td>-0.184016</td>\n",
       "      <td>0.466408</td>\n",
       "      <td>1.606204</td>\n",
       "      <td>0.248164</td>\n",
       "      <td>-1.107826</td>\n",
       "      <td>1.648577</td>\n",
       "      <td>0.096890</td>\n",
       "      <td>-0.058876</td>\n",
       "      <td>-0.145716</td>\n",
       "      <td>-0.052763</td>\n",
       "      <td>-0.175090</td>\n",
       "      <td>0.259161</td>\n",
       "      <td>1.505632</td>\n",
       "    </tr>\n",
       "    <tr>\n",
       "      <th>2</th>\n",
       "      <td>0.698533</td>\n",
       "      <td>0.698533</td>\n",
       "      <td>-0.035778</td>\n",
       "      <td>-0.232724</td>\n",
       "      <td>-0.720317</td>\n",
       "      <td>0.714901</td>\n",
       "      <td>-1.353822</td>\n",
       "      <td>0.274881</td>\n",
       "      <td>0.398902</td>\n",
       "      <td>-1.320584</td>\n",
       "      <td>-0.319761</td>\n",
       "      <td>-0.713461</td>\n",
       "      <td>0.689536</td>\n",
       "      <td>-1.109983</td>\n",
       "      <td>-0.752139</td>\n",
       "      <td>0.283206</td>\n",
       "      <td>-0.722479</td>\n",
       "    </tr>\n",
       "    <tr>\n",
       "      <th>3</th>\n",
       "      <td>0.967731</td>\n",
       "      <td>0.967731</td>\n",
       "      <td>0.047783</td>\n",
       "      <td>-0.008031</td>\n",
       "      <td>-0.172810</td>\n",
       "      <td>0.463967</td>\n",
       "      <td>1.651642</td>\n",
       "      <td>-0.122745</td>\n",
       "      <td>1.140961</td>\n",
       "      <td>1.693921</td>\n",
       "      <td>0.008659</td>\n",
       "      <td>0.053540</td>\n",
       "      <td>-0.456724</td>\n",
       "      <td>0.356297</td>\n",
       "      <td>0.027823</td>\n",
       "      <td>0.235505</td>\n",
       "      <td>1.245622</td>\n",
       "    </tr>\n",
       "    <tr>\n",
       "      <th>4</th>\n",
       "      <td>0.362035</td>\n",
       "      <td>0.362035</td>\n",
       "      <td>-0.140229</td>\n",
       "      <td>-0.113876</td>\n",
       "      <td>-0.679507</td>\n",
       "      <td>0.631629</td>\n",
       "      <td>-1.199520</td>\n",
       "      <td>2.439618</td>\n",
       "      <td>0.813758</td>\n",
       "      <td>-1.166818</td>\n",
       "      <td>-0.832078</td>\n",
       "      <td>-1.673936</td>\n",
       "      <td>3.294794</td>\n",
       "      <td>-2.021916</td>\n",
       "      <td>-2.275982</td>\n",
       "      <td>0.306707</td>\n",
       "      <td>-1.615783</td>\n",
       "    </tr>\n",
       "  </tbody>\n",
       "</table>\n",
       "</div>"
      ],
      "text/plain": [
       "   Cost_of_vehicle  Min_coverage  Max_coverage    energy  contrast  \\\n",
       "0        -1.556003     -1.556003     -0.735598 -0.230587  0.390712   \n",
       "1        -1.028823     -1.028823     -0.571959 -0.054479 -0.184016   \n",
       "2         0.698533      0.698533     -0.035778 -0.232724 -0.720317   \n",
       "3         0.967731      0.967731      0.047783 -0.008031 -0.172810   \n",
       "4         0.362035      0.362035     -0.140229 -0.113876 -0.679507   \n",
       "\n",
       "   correlation  variance  inverse difference moment  sum average  \\\n",
       "0     0.079014  1.332461                  -0.036266    -0.990032   \n",
       "1     0.466408  1.606204                   0.248164    -1.107826   \n",
       "2     0.714901 -1.353822                   0.274881     0.398902   \n",
       "3     0.463967  1.651642                  -0.122745     1.140961   \n",
       "4     0.631629 -1.199520                   2.439618     0.813758   \n",
       "\n",
       "   sum variance  sum entropy   entropy  difference variance  \\\n",
       "0      1.324813     0.560175  0.316200            -0.356596   \n",
       "1      1.648577     0.096890 -0.058876            -0.145716   \n",
       "2     -1.320584    -0.319761 -0.713461             0.689536   \n",
       "3      1.693921     0.008659  0.053540            -0.456724   \n",
       "4     -1.166818    -0.832078 -1.673936             3.294794   \n",
       "\n",
       "   difference entropy  info_corr  maximal_corr_coeff  WARRANTY_PERIOD  \n",
       "0            0.330558  -0.048280            0.258567        -0.077601  \n",
       "1           -0.052763  -0.175090            0.259161         1.505632  \n",
       "2           -1.109983  -0.752139            0.283206        -0.722479  \n",
       "3            0.356297   0.027823            0.235505         1.245622  \n",
       "4           -2.021916  -2.275982            0.306707        -1.615783  "
      ]
     },
     "execution_count": 92,
     "metadata": {},
     "output_type": "execute_result"
    }
   ],
   "source": [
    "TEST_DATAFRAME.head()"
   ]
  },
  {
   "cell_type": "code",
   "execution_count": 93,
   "metadata": {},
   "outputs": [],
   "source": [
    "TRAIN_DATAFRAME['Insurance_company'] = Insurance_company\n",
    "TEST_DATAFRAME['Insurance_company'] = Insurance_company_test"
   ]
  },
  {
   "cell_type": "code",
   "execution_count": 94,
   "metadata": {},
   "outputs": [
    {
     "data": {
      "text/plain": [
       "(1301, 18)"
      ]
     },
     "execution_count": 94,
     "metadata": {},
     "output_type": "execute_result"
    }
   ],
   "source": [
    "TRAIN_DATAFRAME.shape"
   ]
  },
  {
   "cell_type": "code",
   "execution_count": 95,
   "metadata": {},
   "outputs": [],
   "source": [
    "TRAIN_DATAFRAME = pd.get_dummies(TRAIN_DATAFRAME,drop_first=True)"
   ]
  },
  {
   "cell_type": "code",
   "execution_count": 96,
   "metadata": {},
   "outputs": [
    {
     "data": {
      "text/plain": [
       "(1301, 27)"
      ]
     },
     "execution_count": 96,
     "metadata": {},
     "output_type": "execute_result"
    }
   ],
   "source": [
    "TRAIN_DATAFRAME.shape"
   ]
  },
  {
   "cell_type": "code",
   "execution_count": 97,
   "metadata": {},
   "outputs": [
    {
     "data": {
      "text/plain": [
       "(600, 18)"
      ]
     },
     "execution_count": 97,
     "metadata": {},
     "output_type": "execute_result"
    }
   ],
   "source": [
    "TEST_DATAFRAME.shape"
   ]
  },
  {
   "cell_type": "code",
   "execution_count": 98,
   "metadata": {},
   "outputs": [],
   "source": [
    "TEST_DATAFRAME = pd.get_dummies(TEST_DATAFRAME,drop_first=True)"
   ]
  },
  {
   "cell_type": "code",
   "execution_count": 99,
   "metadata": {},
   "outputs": [
    {
     "data": {
      "text/plain": [
       "(600, 27)"
      ]
     },
     "execution_count": 99,
     "metadata": {},
     "output_type": "execute_result"
    }
   ],
   "source": [
    "TEST_DATAFRAME.shape"
   ]
  },
  {
   "cell_type": "code",
   "execution_count": 100,
   "metadata": {},
   "outputs": [
    {
     "data": {
      "text/plain": [
       "Index(['Cost_of_vehicle', 'Min_coverage', 'Max_coverage', 'energy', 'contrast',\n",
       "       'correlation', 'variance', 'inverse difference moment', 'sum average',\n",
       "       'sum variance', 'sum entropy', 'entropy', 'difference variance',\n",
       "       'difference entropy', 'info_corr', 'maximal_corr_coeff',\n",
       "       'WARRANTY_PERIOD', 'Insurance_company_AA', 'Insurance_company_AC',\n",
       "       'Insurance_company_B', 'Insurance_company_BB', 'Insurance_company_BC',\n",
       "       'Insurance_company_BQ', 'Insurance_company_C', 'Insurance_company_DA',\n",
       "       'Insurance_company_O', 'Insurance_company_RE'],\n",
       "      dtype='object')"
      ]
     },
     "execution_count": 100,
     "metadata": {},
     "output_type": "execute_result"
    }
   ],
   "source": [
    "TEST_DATAFRAME.columns"
   ]
  },
  {
   "cell_type": "code",
   "execution_count": 101,
   "metadata": {},
   "outputs": [
    {
     "data": {
      "text/html": [
       "<div>\n",
       "<style scoped>\n",
       "    .dataframe tbody tr th:only-of-type {\n",
       "        vertical-align: middle;\n",
       "    }\n",
       "\n",
       "    .dataframe tbody tr th {\n",
       "        vertical-align: top;\n",
       "    }\n",
       "\n",
       "    .dataframe thead th {\n",
       "        text-align: right;\n",
       "    }\n",
       "</style>\n",
       "<table border=\"1\" class=\"dataframe\">\n",
       "  <thead>\n",
       "    <tr style=\"text-align: right;\">\n",
       "      <th></th>\n",
       "      <th>Cost_of_vehicle</th>\n",
       "      <th>Min_coverage</th>\n",
       "      <th>Max_coverage</th>\n",
       "      <th>energy</th>\n",
       "      <th>contrast</th>\n",
       "      <th>correlation</th>\n",
       "      <th>variance</th>\n",
       "      <th>inverse difference moment</th>\n",
       "      <th>sum average</th>\n",
       "      <th>sum variance</th>\n",
       "      <th>...</th>\n",
       "      <th>Insurance_company_AA</th>\n",
       "      <th>Insurance_company_AC</th>\n",
       "      <th>Insurance_company_B</th>\n",
       "      <th>Insurance_company_BB</th>\n",
       "      <th>Insurance_company_BC</th>\n",
       "      <th>Insurance_company_BQ</th>\n",
       "      <th>Insurance_company_C</th>\n",
       "      <th>Insurance_company_DA</th>\n",
       "      <th>Insurance_company_O</th>\n",
       "      <th>Insurance_company_RE</th>\n",
       "    </tr>\n",
       "  </thead>\n",
       "  <tbody>\n",
       "    <tr>\n",
       "      <th>0</th>\n",
       "      <td>0.451768</td>\n",
       "      <td>0.451768</td>\n",
       "      <td>3.465368</td>\n",
       "      <td>-0.259399</td>\n",
       "      <td>0.235741</td>\n",
       "      <td>0.146016</td>\n",
       "      <td>1.170638</td>\n",
       "      <td>-0.822450</td>\n",
       "      <td>0.109269</td>\n",
       "      <td>1.172388</td>\n",
       "      <td>...</td>\n",
       "      <td>0</td>\n",
       "      <td>0</td>\n",
       "      <td>0</td>\n",
       "      <td>0</td>\n",
       "      <td>0</td>\n",
       "      <td>1</td>\n",
       "      <td>0</td>\n",
       "      <td>0</td>\n",
       "      <td>0</td>\n",
       "      <td>0</td>\n",
       "    </tr>\n",
       "    <tr>\n",
       "      <th>1</th>\n",
       "      <td>1.483694</td>\n",
       "      <td>1.483694</td>\n",
       "      <td>0.207941</td>\n",
       "      <td>-0.219612</td>\n",
       "      <td>-0.632296</td>\n",
       "      <td>0.686181</td>\n",
       "      <td>0.195964</td>\n",
       "      <td>0.270986</td>\n",
       "      <td>0.800932</td>\n",
       "      <td>0.249169</td>\n",
       "      <td>...</td>\n",
       "      <td>0</td>\n",
       "      <td>0</td>\n",
       "      <td>0</td>\n",
       "      <td>0</td>\n",
       "      <td>0</td>\n",
       "      <td>1</td>\n",
       "      <td>0</td>\n",
       "      <td>0</td>\n",
       "      <td>0</td>\n",
       "      <td>0</td>\n",
       "    </tr>\n",
       "    <tr>\n",
       "      <th>2</th>\n",
       "      <td>1.349095</td>\n",
       "      <td>1.349095</td>\n",
       "      <td>4.434672</td>\n",
       "      <td>-0.245936</td>\n",
       "      <td>-0.696581</td>\n",
       "      <td>0.738371</td>\n",
       "      <td>-0.133078</td>\n",
       "      <td>0.738159</td>\n",
       "      <td>-0.225743</td>\n",
       "      <td>-0.080521</td>\n",
       "      <td>...</td>\n",
       "      <td>0</td>\n",
       "      <td>0</td>\n",
       "      <td>0</td>\n",
       "      <td>0</td>\n",
       "      <td>0</td>\n",
       "      <td>0</td>\n",
       "      <td>0</td>\n",
       "      <td>0</td>\n",
       "      <td>0</td>\n",
       "      <td>0</td>\n",
       "    </tr>\n",
       "    <tr>\n",
       "      <th>3</th>\n",
       "      <td>-0.445560</td>\n",
       "      <td>-0.445560</td>\n",
       "      <td>-0.390911</td>\n",
       "      <td>-0.154017</td>\n",
       "      <td>-0.361808</td>\n",
       "      <td>0.421934</td>\n",
       "      <td>0.131006</td>\n",
       "      <td>0.175796</td>\n",
       "      <td>-0.706569</td>\n",
       "      <td>0.161778</td>\n",
       "      <td>...</td>\n",
       "      <td>0</td>\n",
       "      <td>0</td>\n",
       "      <td>0</td>\n",
       "      <td>0</td>\n",
       "      <td>0</td>\n",
       "      <td>0</td>\n",
       "      <td>0</td>\n",
       "      <td>0</td>\n",
       "      <td>0</td>\n",
       "      <td>0</td>\n",
       "    </tr>\n",
       "    <tr>\n",
       "      <th>4</th>\n",
       "      <td>-1.107339</td>\n",
       "      <td>-1.107339</td>\n",
       "      <td>-0.596330</td>\n",
       "      <td>-0.228939</td>\n",
       "      <td>-0.564325</td>\n",
       "      <td>0.210507</td>\n",
       "      <td>-1.430475</td>\n",
       "      <td>-0.264658</td>\n",
       "      <td>0.443721</td>\n",
       "      <td>-1.410854</td>\n",
       "      <td>...</td>\n",
       "      <td>0</td>\n",
       "      <td>1</td>\n",
       "      <td>0</td>\n",
       "      <td>0</td>\n",
       "      <td>0</td>\n",
       "      <td>0</td>\n",
       "      <td>0</td>\n",
       "      <td>0</td>\n",
       "      <td>0</td>\n",
       "      <td>0</td>\n",
       "    </tr>\n",
       "  </tbody>\n",
       "</table>\n",
       "<p>5 rows × 27 columns</p>\n",
       "</div>"
      ],
      "text/plain": [
       "   Cost_of_vehicle  Min_coverage  Max_coverage    energy  contrast  \\\n",
       "0         0.451768      0.451768      3.465368 -0.259399  0.235741   \n",
       "1         1.483694      1.483694      0.207941 -0.219612 -0.632296   \n",
       "2         1.349095      1.349095      4.434672 -0.245936 -0.696581   \n",
       "3        -0.445560     -0.445560     -0.390911 -0.154017 -0.361808   \n",
       "4        -1.107339     -1.107339     -0.596330 -0.228939 -0.564325   \n",
       "\n",
       "   correlation  variance  inverse difference moment  sum average  \\\n",
       "0     0.146016  1.170638                  -0.822450     0.109269   \n",
       "1     0.686181  0.195964                   0.270986     0.800932   \n",
       "2     0.738371 -0.133078                   0.738159    -0.225743   \n",
       "3     0.421934  0.131006                   0.175796    -0.706569   \n",
       "4     0.210507 -1.430475                  -0.264658     0.443721   \n",
       "\n",
       "   sum variance  ...  Insurance_company_AA  Insurance_company_AC  \\\n",
       "0      1.172388  ...                     0                     0   \n",
       "1      0.249169  ...                     0                     0   \n",
       "2     -0.080521  ...                     0                     0   \n",
       "3      0.161778  ...                     0                     0   \n",
       "4     -1.410854  ...                     0                     1   \n",
       "\n",
       "   Insurance_company_B  Insurance_company_BB  Insurance_company_BC  \\\n",
       "0                    0                     0                     0   \n",
       "1                    0                     0                     0   \n",
       "2                    0                     0                     0   \n",
       "3                    0                     0                     0   \n",
       "4                    0                     0                     0   \n",
       "\n",
       "   Insurance_company_BQ  Insurance_company_C  Insurance_company_DA  \\\n",
       "0                     1                    0                     0   \n",
       "1                     1                    0                     0   \n",
       "2                     0                    0                     0   \n",
       "3                     0                    0                     0   \n",
       "4                     0                    0                     0   \n",
       "\n",
       "   Insurance_company_O  Insurance_company_RE  \n",
       "0                    0                     0  \n",
       "1                    0                     0  \n",
       "2                    0                     0  \n",
       "3                    0                     0  \n",
       "4                    0                     0  \n",
       "\n",
       "[5 rows x 27 columns]"
      ]
     },
     "execution_count": 101,
     "metadata": {},
     "output_type": "execute_result"
    }
   ],
   "source": [
    "TRAIN_DATAFRAME.head()"
   ]
  },
  {
   "cell_type": "code",
   "execution_count": 102,
   "metadata": {},
   "outputs": [
    {
     "data": {
      "text/html": [
       "<div>\n",
       "<style scoped>\n",
       "    .dataframe tbody tr th:only-of-type {\n",
       "        vertical-align: middle;\n",
       "    }\n",
       "\n",
       "    .dataframe tbody tr th {\n",
       "        vertical-align: top;\n",
       "    }\n",
       "\n",
       "    .dataframe thead th {\n",
       "        text-align: right;\n",
       "    }\n",
       "</style>\n",
       "<table border=\"1\" class=\"dataframe\">\n",
       "  <thead>\n",
       "    <tr style=\"text-align: right;\">\n",
       "      <th></th>\n",
       "      <th>Cost_of_vehicle</th>\n",
       "      <th>Min_coverage</th>\n",
       "      <th>Max_coverage</th>\n",
       "      <th>energy</th>\n",
       "      <th>contrast</th>\n",
       "      <th>correlation</th>\n",
       "      <th>variance</th>\n",
       "      <th>inverse difference moment</th>\n",
       "      <th>sum average</th>\n",
       "      <th>sum variance</th>\n",
       "      <th>...</th>\n",
       "      <th>Insurance_company_AA</th>\n",
       "      <th>Insurance_company_AC</th>\n",
       "      <th>Insurance_company_B</th>\n",
       "      <th>Insurance_company_BB</th>\n",
       "      <th>Insurance_company_BC</th>\n",
       "      <th>Insurance_company_BQ</th>\n",
       "      <th>Insurance_company_C</th>\n",
       "      <th>Insurance_company_DA</th>\n",
       "      <th>Insurance_company_O</th>\n",
       "      <th>Insurance_company_RE</th>\n",
       "    </tr>\n",
       "  </thead>\n",
       "  <tbody>\n",
       "    <tr>\n",
       "      <th>0</th>\n",
       "      <td>-1.556003</td>\n",
       "      <td>-1.556003</td>\n",
       "      <td>-0.735598</td>\n",
       "      <td>-0.230587</td>\n",
       "      <td>0.390712</td>\n",
       "      <td>0.079014</td>\n",
       "      <td>1.332461</td>\n",
       "      <td>-0.036266</td>\n",
       "      <td>-0.990032</td>\n",
       "      <td>1.324813</td>\n",
       "      <td>...</td>\n",
       "      <td>0</td>\n",
       "      <td>0</td>\n",
       "      <td>1</td>\n",
       "      <td>0</td>\n",
       "      <td>0</td>\n",
       "      <td>0</td>\n",
       "      <td>0</td>\n",
       "      <td>0</td>\n",
       "      <td>0</td>\n",
       "      <td>0</td>\n",
       "    </tr>\n",
       "    <tr>\n",
       "      <th>1</th>\n",
       "      <td>-1.028823</td>\n",
       "      <td>-1.028823</td>\n",
       "      <td>-0.571959</td>\n",
       "      <td>-0.054479</td>\n",
       "      <td>-0.184016</td>\n",
       "      <td>0.466408</td>\n",
       "      <td>1.606204</td>\n",
       "      <td>0.248164</td>\n",
       "      <td>-1.107826</td>\n",
       "      <td>1.648577</td>\n",
       "      <td>...</td>\n",
       "      <td>0</td>\n",
       "      <td>0</td>\n",
       "      <td>0</td>\n",
       "      <td>0</td>\n",
       "      <td>0</td>\n",
       "      <td>0</td>\n",
       "      <td>1</td>\n",
       "      <td>0</td>\n",
       "      <td>0</td>\n",
       "      <td>0</td>\n",
       "    </tr>\n",
       "    <tr>\n",
       "      <th>2</th>\n",
       "      <td>0.698533</td>\n",
       "      <td>0.698533</td>\n",
       "      <td>-0.035778</td>\n",
       "      <td>-0.232724</td>\n",
       "      <td>-0.720317</td>\n",
       "      <td>0.714901</td>\n",
       "      <td>-1.353822</td>\n",
       "      <td>0.274881</td>\n",
       "      <td>0.398902</td>\n",
       "      <td>-1.320584</td>\n",
       "      <td>...</td>\n",
       "      <td>0</td>\n",
       "      <td>1</td>\n",
       "      <td>0</td>\n",
       "      <td>0</td>\n",
       "      <td>0</td>\n",
       "      <td>0</td>\n",
       "      <td>0</td>\n",
       "      <td>0</td>\n",
       "      <td>0</td>\n",
       "      <td>0</td>\n",
       "    </tr>\n",
       "    <tr>\n",
       "      <th>3</th>\n",
       "      <td>0.967731</td>\n",
       "      <td>0.967731</td>\n",
       "      <td>0.047783</td>\n",
       "      <td>-0.008031</td>\n",
       "      <td>-0.172810</td>\n",
       "      <td>0.463967</td>\n",
       "      <td>1.651642</td>\n",
       "      <td>-0.122745</td>\n",
       "      <td>1.140961</td>\n",
       "      <td>1.693921</td>\n",
       "      <td>...</td>\n",
       "      <td>0</td>\n",
       "      <td>0</td>\n",
       "      <td>0</td>\n",
       "      <td>1</td>\n",
       "      <td>0</td>\n",
       "      <td>0</td>\n",
       "      <td>0</td>\n",
       "      <td>0</td>\n",
       "      <td>0</td>\n",
       "      <td>0</td>\n",
       "    </tr>\n",
       "    <tr>\n",
       "      <th>4</th>\n",
       "      <td>0.362035</td>\n",
       "      <td>0.362035</td>\n",
       "      <td>-0.140229</td>\n",
       "      <td>-0.113876</td>\n",
       "      <td>-0.679507</td>\n",
       "      <td>0.631629</td>\n",
       "      <td>-1.199520</td>\n",
       "      <td>2.439618</td>\n",
       "      <td>0.813758</td>\n",
       "      <td>-1.166818</td>\n",
       "      <td>...</td>\n",
       "      <td>0</td>\n",
       "      <td>0</td>\n",
       "      <td>0</td>\n",
       "      <td>1</td>\n",
       "      <td>0</td>\n",
       "      <td>0</td>\n",
       "      <td>0</td>\n",
       "      <td>0</td>\n",
       "      <td>0</td>\n",
       "      <td>0</td>\n",
       "    </tr>\n",
       "  </tbody>\n",
       "</table>\n",
       "<p>5 rows × 27 columns</p>\n",
       "</div>"
      ],
      "text/plain": [
       "   Cost_of_vehicle  Min_coverage  Max_coverage    energy  contrast  \\\n",
       "0        -1.556003     -1.556003     -0.735598 -0.230587  0.390712   \n",
       "1        -1.028823     -1.028823     -0.571959 -0.054479 -0.184016   \n",
       "2         0.698533      0.698533     -0.035778 -0.232724 -0.720317   \n",
       "3         0.967731      0.967731      0.047783 -0.008031 -0.172810   \n",
       "4         0.362035      0.362035     -0.140229 -0.113876 -0.679507   \n",
       "\n",
       "   correlation  variance  inverse difference moment  sum average  \\\n",
       "0     0.079014  1.332461                  -0.036266    -0.990032   \n",
       "1     0.466408  1.606204                   0.248164    -1.107826   \n",
       "2     0.714901 -1.353822                   0.274881     0.398902   \n",
       "3     0.463967  1.651642                  -0.122745     1.140961   \n",
       "4     0.631629 -1.199520                   2.439618     0.813758   \n",
       "\n",
       "   sum variance  ...  Insurance_company_AA  Insurance_company_AC  \\\n",
       "0      1.324813  ...                     0                     0   \n",
       "1      1.648577  ...                     0                     0   \n",
       "2     -1.320584  ...                     0                     1   \n",
       "3      1.693921  ...                     0                     0   \n",
       "4     -1.166818  ...                     0                     0   \n",
       "\n",
       "   Insurance_company_B  Insurance_company_BB  Insurance_company_BC  \\\n",
       "0                    1                     0                     0   \n",
       "1                    0                     0                     0   \n",
       "2                    0                     0                     0   \n",
       "3                    0                     1                     0   \n",
       "4                    0                     1                     0   \n",
       "\n",
       "   Insurance_company_BQ  Insurance_company_C  Insurance_company_DA  \\\n",
       "0                     0                    0                     0   \n",
       "1                     0                    1                     0   \n",
       "2                     0                    0                     0   \n",
       "3                     0                    0                     0   \n",
       "4                     0                    0                     0   \n",
       "\n",
       "   Insurance_company_O  Insurance_company_RE  \n",
       "0                    0                     0  \n",
       "1                    0                     0  \n",
       "2                    0                     0  \n",
       "3                    0                     0  \n",
       "4                    0                     0  \n",
       "\n",
       "[5 rows x 27 columns]"
      ]
     },
     "execution_count": 102,
     "metadata": {},
     "output_type": "execute_result"
    }
   ],
   "source": [
    "TEST_DATAFRAME.head()"
   ]
  },
  {
   "cell_type": "code",
   "execution_count": 103,
   "metadata": {},
   "outputs": [],
   "source": [
    "TRAIN_DATAFRAME['Condition'] = Condition\n",
    "TRAIN_DATAFRAME['Amount'] = Amount"
   ]
  },
  {
   "cell_type": "code",
   "execution_count": 104,
   "metadata": {},
   "outputs": [
    {
     "data": {
      "text/plain": [
       "(1301, 29)"
      ]
     },
     "execution_count": 104,
     "metadata": {},
     "output_type": "execute_result"
    }
   ],
   "source": [
    "TRAIN_DATAFRAME.shape"
   ]
  },
  {
   "cell_type": "markdown",
   "metadata": {},
   "source": [
    "#### Feature Selection and Visualization"
   ]
  },
  {
   "cell_type": "code",
   "execution_count": 105,
   "metadata": {},
   "outputs": [
    {
     "data": {
      "text/plain": [
       "Index(['Cost_of_vehicle', 'Min_coverage', 'Max_coverage', 'energy', 'contrast',\n",
       "       'correlation', 'variance', 'inverse difference moment', 'sum average',\n",
       "       'sum variance', 'sum entropy', 'entropy', 'difference variance',\n",
       "       'difference entropy', 'info_corr', 'maximal_corr_coeff',\n",
       "       'WARRANTY_PERIOD', 'Insurance_company_AA', 'Insurance_company_AC',\n",
       "       'Insurance_company_B', 'Insurance_company_BB', 'Insurance_company_BC',\n",
       "       'Insurance_company_BQ', 'Insurance_company_C', 'Insurance_company_DA',\n",
       "       'Insurance_company_O', 'Insurance_company_RE', 'Condition', 'Amount'],\n",
       "      dtype='object')"
      ]
     },
     "execution_count": 105,
     "metadata": {},
     "output_type": "execute_result"
    }
   ],
   "source": [
    "TRAIN_DATAFRAME.columns"
   ]
  },
  {
   "cell_type": "code",
   "execution_count": 106,
   "metadata": {},
   "outputs": [
    {
     "data": {
      "image/png": "[encoded data removed]",
      "text/plain": [
       "<Figure size 3060x180 with 17 Axes>"
      ]
     },
     "metadata": {
      "needs_background": "light"
     },
     "output_type": "display_data"
    }
   ],
   "source": [
    "pp = sns.pairplot(data=TRAIN_DATAFRAME,\n",
    "                  y_vars=['Condition'],\n",
    "                  x_vars=['Cost_of_vehicle', 'Min_coverage', 'Max_coverage', 'energy', 'contrast',\n",
    "                          'correlation','variance','inverse difference moment','sum average','sum variance',\n",
    "                          'sum entropy','entropy','difference variance','difference entropy','info_corr',\n",
    "                          'maximal_corr_coeff','WARRANTY_PERIOD'])"
   ]
  },
  {
   "cell_type": "code",
   "execution_count": 107,
   "metadata": {},
   "outputs": [
    {
     "data": {
      "text/plain": [
       "Text(0.5, 1.0, 'Correlation between features')"
      ]
     },
     "execution_count": 107,
     "metadata": {},
     "output_type": "execute_result"
    },
    {
     "data": {
      "image/png": "[encoded data removed]",
      "text/plain": [
       "<Figure size 1440x1440 with 2 Axes>"
      ]
     },
     "metadata": {
      "needs_background": "light"
     },
     "output_type": "display_data"
    }
   ],
   "source": [
    "HEADERS = ['Cost_of_vehicle', 'Min_coverage', 'Max_coverage', 'energy', 'contrast',\n",
    "           'correlation', 'variance', 'inverse difference moment', 'sum average',\n",
    "           'sum variance', 'sum entropy', 'entropy', 'difference variance',\n",
    "           'difference entropy', 'info_corr', 'maximal_corr_coeff',\n",
    "           'WARRANTY_PERIOD','Condition', 'Amount']\n",
    "plt.figure(figsize=(20,20))\n",
    "sns.heatmap(TRAIN_DATAFRAME[HEADERS].corr(), \n",
    "            xticklabels=HEADERS,\n",
    "            yticklabels=HEADERS, square=True,annot=True,linecolor=\"black\") #cmap='YlGnBu',\n",
    "plt.title(\"Correlation between features\")"
   ]
  },
  {
   "cell_type": "code",
   "execution_count": 108,
   "metadata": {},
   "outputs": [
    {
     "data": {
      "text/plain": [
       "['Cost_of_vehicle',\n",
       " 'Min_coverage',\n",
       " 'Max_coverage',\n",
       " 'energy',\n",
       " 'contrast',\n",
       " 'correlation',\n",
       " 'variance',\n",
       " 'inverse difference moment',\n",
       " 'sum average',\n",
       " 'sum variance',\n",
       " 'sum entropy',\n",
       " 'entropy',\n",
       " 'difference variance',\n",
       " 'difference entropy',\n",
       " 'info_corr',\n",
       " 'maximal_corr_coeff',\n",
       " 'WARRANTY_PERIOD',\n",
       " 'Condition',\n",
       " 'Amount']"
      ]
     },
     "execution_count": 108,
     "metadata": {},
     "output_type": "execute_result"
    }
   ],
   "source": [
    "HEADERS"
   ]
  },
  {
   "cell_type": "markdown",
   "metadata": {},
   "source": [
    "* ('Cost_of_vehicle', 'Min_coverage') --- > DROP COST_of_VEHICLE(100% correlated)\n",
    "* ('variance','sum variance') --- > DROP SUM_VARIANCE(100% correlated)\n",
    "* ('entropy', 'sum_entropy') ---- > DROP SUM_ENTROPY(85% correlated)\n",
    "* ('maximal_corr_coeff','correlation')  --- > DROP maximal_corr_coeff(85% correlated)\n",
    "* ('inverse difference moment', 'difference variance') ---> DROP inverse difference moment(95% correlated)\n",
    "* ('difference entropy', 'info_corr') --- > DROP difference entropy(95% correlated)"
   ]
  },
  {
   "cell_type": "code",
   "execution_count": 109,
   "metadata": {},
   "outputs": [
    {
     "data": {
      "text/html": [
       "<div>\n",
       "<style scoped>\n",
       "    .dataframe tbody tr th:only-of-type {\n",
       "        vertical-align: middle;\n",
       "    }\n",
       "\n",
       "    .dataframe tbody tr th {\n",
       "        vertical-align: top;\n",
       "    }\n",
       "\n",
       "    .dataframe thead th {\n",
       "        text-align: right;\n",
       "    }\n",
       "</style>\n",
       "<table border=\"1\" class=\"dataframe\">\n",
       "  <thead>\n",
       "    <tr style=\"text-align: right;\">\n",
       "      <th></th>\n",
       "      <th>Cost_of_vehicle</th>\n",
       "      <th>Min_coverage</th>\n",
       "      <th>Max_coverage</th>\n",
       "      <th>energy</th>\n",
       "      <th>contrast</th>\n",
       "      <th>correlation</th>\n",
       "      <th>variance</th>\n",
       "      <th>inverse difference moment</th>\n",
       "      <th>sum average</th>\n",
       "      <th>sum variance</th>\n",
       "      <th>...</th>\n",
       "      <th>Insurance_company_B</th>\n",
       "      <th>Insurance_company_BB</th>\n",
       "      <th>Insurance_company_BC</th>\n",
       "      <th>Insurance_company_BQ</th>\n",
       "      <th>Insurance_company_C</th>\n",
       "      <th>Insurance_company_DA</th>\n",
       "      <th>Insurance_company_O</th>\n",
       "      <th>Insurance_company_RE</th>\n",
       "      <th>Condition</th>\n",
       "      <th>Amount</th>\n",
       "    </tr>\n",
       "  </thead>\n",
       "  <tbody>\n",
       "    <tr>\n",
       "      <th>0</th>\n",
       "      <td>0.451768</td>\n",
       "      <td>0.451768</td>\n",
       "      <td>3.465368</td>\n",
       "      <td>-0.259399</td>\n",
       "      <td>0.235741</td>\n",
       "      <td>0.146016</td>\n",
       "      <td>1.170638</td>\n",
       "      <td>-0.822450</td>\n",
       "      <td>0.109269</td>\n",
       "      <td>1.172388</td>\n",
       "      <td>...</td>\n",
       "      <td>0</td>\n",
       "      <td>0</td>\n",
       "      <td>0</td>\n",
       "      <td>1</td>\n",
       "      <td>0</td>\n",
       "      <td>0</td>\n",
       "      <td>0</td>\n",
       "      <td>0</td>\n",
       "      <td>0</td>\n",
       "      <td>0.0</td>\n",
       "    </tr>\n",
       "    <tr>\n",
       "      <th>1</th>\n",
       "      <td>1.483694</td>\n",
       "      <td>1.483694</td>\n",
       "      <td>0.207941</td>\n",
       "      <td>-0.219612</td>\n",
       "      <td>-0.632296</td>\n",
       "      <td>0.686181</td>\n",
       "      <td>0.195964</td>\n",
       "      <td>0.270986</td>\n",
       "      <td>0.800932</td>\n",
       "      <td>0.249169</td>\n",
       "      <td>...</td>\n",
       "      <td>0</td>\n",
       "      <td>0</td>\n",
       "      <td>0</td>\n",
       "      <td>1</td>\n",
       "      <td>0</td>\n",
       "      <td>0</td>\n",
       "      <td>0</td>\n",
       "      <td>0</td>\n",
       "      <td>1</td>\n",
       "      <td>6194.0</td>\n",
       "    </tr>\n",
       "    <tr>\n",
       "      <th>2</th>\n",
       "      <td>1.349095</td>\n",
       "      <td>1.349095</td>\n",
       "      <td>4.434672</td>\n",
       "      <td>-0.245936</td>\n",
       "      <td>-0.696581</td>\n",
       "      <td>0.738371</td>\n",
       "      <td>-0.133078</td>\n",
       "      <td>0.738159</td>\n",
       "      <td>-0.225743</td>\n",
       "      <td>-0.080521</td>\n",
       "      <td>...</td>\n",
       "      <td>0</td>\n",
       "      <td>0</td>\n",
       "      <td>0</td>\n",
       "      <td>0</td>\n",
       "      <td>0</td>\n",
       "      <td>0</td>\n",
       "      <td>0</td>\n",
       "      <td>0</td>\n",
       "      <td>0</td>\n",
       "      <td>0.0</td>\n",
       "    </tr>\n",
       "    <tr>\n",
       "      <th>3</th>\n",
       "      <td>-0.445560</td>\n",
       "      <td>-0.445560</td>\n",
       "      <td>-0.390911</td>\n",
       "      <td>-0.154017</td>\n",
       "      <td>-0.361808</td>\n",
       "      <td>0.421934</td>\n",
       "      <td>0.131006</td>\n",
       "      <td>0.175796</td>\n",
       "      <td>-0.706569</td>\n",
       "      <td>0.161778</td>\n",
       "      <td>...</td>\n",
       "      <td>0</td>\n",
       "      <td>0</td>\n",
       "      <td>0</td>\n",
       "      <td>0</td>\n",
       "      <td>0</td>\n",
       "      <td>0</td>\n",
       "      <td>0</td>\n",
       "      <td>0</td>\n",
       "      <td>1</td>\n",
       "      <td>7699.0</td>\n",
       "    </tr>\n",
       "    <tr>\n",
       "      <th>4</th>\n",
       "      <td>-1.107339</td>\n",
       "      <td>-1.107339</td>\n",
       "      <td>-0.596330</td>\n",
       "      <td>-0.228939</td>\n",
       "      <td>-0.564325</td>\n",
       "      <td>0.210507</td>\n",
       "      <td>-1.430475</td>\n",
       "      <td>-0.264658</td>\n",
       "      <td>0.443721</td>\n",
       "      <td>-1.410854</td>\n",
       "      <td>...</td>\n",
       "      <td>0</td>\n",
       "      <td>0</td>\n",
       "      <td>0</td>\n",
       "      <td>0</td>\n",
       "      <td>0</td>\n",
       "      <td>0</td>\n",
       "      <td>0</td>\n",
       "      <td>0</td>\n",
       "      <td>1</td>\n",
       "      <td>8849.0</td>\n",
       "    </tr>\n",
       "  </tbody>\n",
       "</table>\n",
       "<p>5 rows × 29 columns</p>\n",
       "</div>"
      ],
      "text/plain": [
       "   Cost_of_vehicle  Min_coverage  Max_coverage    energy  contrast  \\\n",
       "0         0.451768      0.451768      3.465368 -0.259399  0.235741   \n",
       "1         1.483694      1.483694      0.207941 -0.219612 -0.632296   \n",
       "2         1.349095      1.349095      4.434672 -0.245936 -0.696581   \n",
       "3        -0.445560     -0.445560     -0.390911 -0.154017 -0.361808   \n",
       "4        -1.107339     -1.107339     -0.596330 -0.228939 -0.564325   \n",
       "\n",
       "   correlation  variance  inverse difference moment  sum average  \\\n",
       "0     0.146016  1.170638                  -0.822450     0.109269   \n",
       "1     0.686181  0.195964                   0.270986     0.800932   \n",
       "2     0.738371 -0.133078                   0.738159    -0.225743   \n",
       "3     0.421934  0.131006                   0.175796    -0.706569   \n",
       "4     0.210507 -1.430475                  -0.264658     0.443721   \n",
       "\n",
       "   sum variance  ...  Insurance_company_B  Insurance_company_BB  \\\n",
       "0      1.172388  ...                    0                     0   \n",
       "1      0.249169  ...                    0                     0   \n",
       "2     -0.080521  ...                    0                     0   \n",
       "3      0.161778  ...                    0                     0   \n",
       "4     -1.410854  ...                    0                     0   \n",
       "\n",
       "   Insurance_company_BC  Insurance_company_BQ  Insurance_company_C  \\\n",
       "0                     0                     1                    0   \n",
       "1                     0                     1                    0   \n",
       "2                     0                     0                    0   \n",
       "3                     0                     0                    0   \n",
       "4                     0                     0                    0   \n",
       "\n",
       "   Insurance_company_DA  Insurance_company_O  Insurance_company_RE  Condition  \\\n",
       "0                     0                    0                     0          0   \n",
       "1                     0                    0                     0          1   \n",
       "2                     0                    0                     0          0   \n",
       "3                     0                    0                     0          1   \n",
       "4                     0                    0                     0          1   \n",
       "\n",
       "   Amount  \n",
       "0     0.0  \n",
       "1  6194.0  \n",
       "2     0.0  \n",
       "3  7699.0  \n",
       "4  8849.0  \n",
       "\n",
       "[5 rows x 29 columns]"
      ]
     },
     "execution_count": 109,
     "metadata": {},
     "output_type": "execute_result"
    }
   ],
   "source": [
    "TRAIN_DATAFRAME.head()"
   ]
  },
  {
   "cell_type": "code",
   "execution_count": 110,
   "metadata": {},
   "outputs": [],
   "source": [
    "TRAIN_DATAFRAME = TRAIN_DATAFRAME.drop('Cost_of_vehicle',axis=1)\n",
    "TRAIN_DATAFRAME = TRAIN_DATAFRAME.drop('sum variance',axis=1)\n",
    "TRAIN_DATAFRAME = TRAIN_DATAFRAME.drop('sum entropy',axis=1)\n",
    "TRAIN_DATAFRAME = TRAIN_DATAFRAME.drop('maximal_corr_coeff',axis=1)\n",
    "TRAIN_DATAFRAME = TRAIN_DATAFRAME.drop('inverse difference moment',axis=1)\n",
    "TRAIN_DATAFRAME = TRAIN_DATAFRAME.drop('difference entropy',axis=1)"
   ]
  },
  {
   "cell_type": "code",
   "execution_count": 111,
   "metadata": {},
   "outputs": [
    {
     "data": {
      "text/plain": [
       "(600, 27)"
      ]
     },
     "execution_count": 111,
     "metadata": {},
     "output_type": "execute_result"
    }
   ],
   "source": [
    "TEST_DATAFRAME.shape"
   ]
  },
  {
   "cell_type": "code",
   "execution_count": 112,
   "metadata": {},
   "outputs": [],
   "source": [
    "TEST_DATAFRAME = TEST_DATAFRAME.drop('Cost_of_vehicle',axis=1)\n",
    "TEST_DATAFRAME = TEST_DATAFRAME.drop('sum variance',axis=1)\n",
    "TEST_DATAFRAME = TEST_DATAFRAME.drop('sum entropy',axis=1)\n",
    "TEST_DATAFRAME = TEST_DATAFRAME.drop('maximal_corr_coeff',axis=1)\n",
    "TEST_DATAFRAME = TEST_DATAFRAME.drop('inverse difference moment',axis=1)\n",
    "TEST_DATAFRAME = TEST_DATAFRAME.drop('difference entropy',axis=1)"
   ]
  },
  {
   "cell_type": "code",
   "execution_count": 113,
   "metadata": {},
   "outputs": [
    {
     "data": {
      "text/plain": [
       "(600, 21)"
      ]
     },
     "execution_count": 113,
     "metadata": {},
     "output_type": "execute_result"
    }
   ],
   "source": [
    "TEST_DATAFRAME.shape"
   ]
  },
  {
   "cell_type": "code",
   "execution_count": 114,
   "metadata": {},
   "outputs": [
    {
     "data": {
      "text/html": [
       "<div>\n",
       "<style scoped>\n",
       "    .dataframe tbody tr th:only-of-type {\n",
       "        vertical-align: middle;\n",
       "    }\n",
       "\n",
       "    .dataframe tbody tr th {\n",
       "        vertical-align: top;\n",
       "    }\n",
       "\n",
       "    .dataframe thead th {\n",
       "        text-align: right;\n",
       "    }\n",
       "</style>\n",
       "<table border=\"1\" class=\"dataframe\">\n",
       "  <thead>\n",
       "    <tr style=\"text-align: right;\">\n",
       "      <th></th>\n",
       "      <th>Min_coverage</th>\n",
       "      <th>Max_coverage</th>\n",
       "      <th>energy</th>\n",
       "      <th>contrast</th>\n",
       "      <th>correlation</th>\n",
       "      <th>variance</th>\n",
       "      <th>sum average</th>\n",
       "      <th>entropy</th>\n",
       "      <th>difference variance</th>\n",
       "      <th>info_corr</th>\n",
       "      <th>...</th>\n",
       "      <th>Insurance_company_AA</th>\n",
       "      <th>Insurance_company_AC</th>\n",
       "      <th>Insurance_company_B</th>\n",
       "      <th>Insurance_company_BB</th>\n",
       "      <th>Insurance_company_BC</th>\n",
       "      <th>Insurance_company_BQ</th>\n",
       "      <th>Insurance_company_C</th>\n",
       "      <th>Insurance_company_DA</th>\n",
       "      <th>Insurance_company_O</th>\n",
       "      <th>Insurance_company_RE</th>\n",
       "    </tr>\n",
       "  </thead>\n",
       "  <tbody>\n",
       "    <tr>\n",
       "      <th>0</th>\n",
       "      <td>-1.556003</td>\n",
       "      <td>-0.735598</td>\n",
       "      <td>-0.230587</td>\n",
       "      <td>0.390712</td>\n",
       "      <td>0.079014</td>\n",
       "      <td>1.332461</td>\n",
       "      <td>-0.990032</td>\n",
       "      <td>0.316200</td>\n",
       "      <td>-0.356596</td>\n",
       "      <td>-0.048280</td>\n",
       "      <td>...</td>\n",
       "      <td>0</td>\n",
       "      <td>0</td>\n",
       "      <td>1</td>\n",
       "      <td>0</td>\n",
       "      <td>0</td>\n",
       "      <td>0</td>\n",
       "      <td>0</td>\n",
       "      <td>0</td>\n",
       "      <td>0</td>\n",
       "      <td>0</td>\n",
       "    </tr>\n",
       "    <tr>\n",
       "      <th>1</th>\n",
       "      <td>-1.028823</td>\n",
       "      <td>-0.571959</td>\n",
       "      <td>-0.054479</td>\n",
       "      <td>-0.184016</td>\n",
       "      <td>0.466408</td>\n",
       "      <td>1.606204</td>\n",
       "      <td>-1.107826</td>\n",
       "      <td>-0.058876</td>\n",
       "      <td>-0.145716</td>\n",
       "      <td>-0.175090</td>\n",
       "      <td>...</td>\n",
       "      <td>0</td>\n",
       "      <td>0</td>\n",
       "      <td>0</td>\n",
       "      <td>0</td>\n",
       "      <td>0</td>\n",
       "      <td>0</td>\n",
       "      <td>1</td>\n",
       "      <td>0</td>\n",
       "      <td>0</td>\n",
       "      <td>0</td>\n",
       "    </tr>\n",
       "    <tr>\n",
       "      <th>2</th>\n",
       "      <td>0.698533</td>\n",
       "      <td>-0.035778</td>\n",
       "      <td>-0.232724</td>\n",
       "      <td>-0.720317</td>\n",
       "      <td>0.714901</td>\n",
       "      <td>-1.353822</td>\n",
       "      <td>0.398902</td>\n",
       "      <td>-0.713461</td>\n",
       "      <td>0.689536</td>\n",
       "      <td>-0.752139</td>\n",
       "      <td>...</td>\n",
       "      <td>0</td>\n",
       "      <td>1</td>\n",
       "      <td>0</td>\n",
       "      <td>0</td>\n",
       "      <td>0</td>\n",
       "      <td>0</td>\n",
       "      <td>0</td>\n",
       "      <td>0</td>\n",
       "      <td>0</td>\n",
       "      <td>0</td>\n",
       "    </tr>\n",
       "    <tr>\n",
       "      <th>3</th>\n",
       "      <td>0.967731</td>\n",
       "      <td>0.047783</td>\n",
       "      <td>-0.008031</td>\n",
       "      <td>-0.172810</td>\n",
       "      <td>0.463967</td>\n",
       "      <td>1.651642</td>\n",
       "      <td>1.140961</td>\n",
       "      <td>0.053540</td>\n",
       "      <td>-0.456724</td>\n",
       "      <td>0.027823</td>\n",
       "      <td>...</td>\n",
       "      <td>0</td>\n",
       "      <td>0</td>\n",
       "      <td>0</td>\n",
       "      <td>1</td>\n",
       "      <td>0</td>\n",
       "      <td>0</td>\n",
       "      <td>0</td>\n",
       "      <td>0</td>\n",
       "      <td>0</td>\n",
       "      <td>0</td>\n",
       "    </tr>\n",
       "    <tr>\n",
       "      <th>4</th>\n",
       "      <td>0.362035</td>\n",
       "      <td>-0.140229</td>\n",
       "      <td>-0.113876</td>\n",
       "      <td>-0.679507</td>\n",
       "      <td>0.631629</td>\n",
       "      <td>-1.199520</td>\n",
       "      <td>0.813758</td>\n",
       "      <td>-1.673936</td>\n",
       "      <td>3.294794</td>\n",
       "      <td>-2.275982</td>\n",
       "      <td>...</td>\n",
       "      <td>0</td>\n",
       "      <td>0</td>\n",
       "      <td>0</td>\n",
       "      <td>1</td>\n",
       "      <td>0</td>\n",
       "      <td>0</td>\n",
       "      <td>0</td>\n",
       "      <td>0</td>\n",
       "      <td>0</td>\n",
       "      <td>0</td>\n",
       "    </tr>\n",
       "  </tbody>\n",
       "</table>\n",
       "<p>5 rows × 21 columns</p>\n",
       "</div>"
      ],
      "text/plain": [
       "   Min_coverage  Max_coverage    energy  contrast  correlation  variance  \\\n",
       "0     -1.556003     -0.735598 -0.230587  0.390712     0.079014  1.332461   \n",
       "1     -1.028823     -0.571959 -0.054479 -0.184016     0.466408  1.606204   \n",
       "2      0.698533     -0.035778 -0.232724 -0.720317     0.714901 -1.353822   \n",
       "3      0.967731      0.047783 -0.008031 -0.172810     0.463967  1.651642   \n",
       "4      0.362035     -0.140229 -0.113876 -0.679507     0.631629 -1.199520   \n",
       "\n",
       "   sum average   entropy  difference variance  info_corr  ...  \\\n",
       "0    -0.990032  0.316200            -0.356596  -0.048280  ...   \n",
       "1    -1.107826 -0.058876            -0.145716  -0.175090  ...   \n",
       "2     0.398902 -0.713461             0.689536  -0.752139  ...   \n",
       "3     1.140961  0.053540            -0.456724   0.027823  ...   \n",
       "4     0.813758 -1.673936             3.294794  -2.275982  ...   \n",
       "\n",
       "   Insurance_company_AA  Insurance_company_AC  Insurance_company_B  \\\n",
       "0                     0                     0                    1   \n",
       "1                     0                     0                    0   \n",
       "2                     0                     1                    0   \n",
       "3                     0                     0                    0   \n",
       "4                     0                     0                    0   \n",
       "\n",
       "   Insurance_company_BB  Insurance_company_BC  Insurance_company_BQ  \\\n",
       "0                     0                     0                     0   \n",
       "1                     0                     0                     0   \n",
       "2                     0                     0                     0   \n",
       "3                     1                     0                     0   \n",
       "4                     1                     0                     0   \n",
       "\n",
       "   Insurance_company_C  Insurance_company_DA  Insurance_company_O  \\\n",
       "0                    0                     0                    0   \n",
       "1                    1                     0                    0   \n",
       "2                    0                     0                    0   \n",
       "3                    0                     0                    0   \n",
       "4                    0                     0                    0   \n",
       "\n",
       "   Insurance_company_RE  \n",
       "0                     0  \n",
       "1                     0  \n",
       "2                     0  \n",
       "3                     0  \n",
       "4                     0  \n",
       "\n",
       "[5 rows x 21 columns]"
      ]
     },
     "execution_count": 114,
     "metadata": {},
     "output_type": "execute_result"
    }
   ],
   "source": [
    "TEST_DATAFRAME.head()"
   ]
  },
  {
   "cell_type": "code",
   "execution_count": 115,
   "metadata": {},
   "outputs": [
    {
     "data": {
      "text/html": [
       "<div>\n",
       "<style scoped>\n",
       "    .dataframe tbody tr th:only-of-type {\n",
       "        vertical-align: middle;\n",
       "    }\n",
       "\n",
       "    .dataframe tbody tr th {\n",
       "        vertical-align: top;\n",
       "    }\n",
       "\n",
       "    .dataframe thead th {\n",
       "        text-align: right;\n",
       "    }\n",
       "</style>\n",
       "<table border=\"1\" class=\"dataframe\">\n",
       "  <thead>\n",
       "    <tr style=\"text-align: right;\">\n",
       "      <th></th>\n",
       "      <th>Min_coverage</th>\n",
       "      <th>Max_coverage</th>\n",
       "      <th>energy</th>\n",
       "      <th>contrast</th>\n",
       "      <th>correlation</th>\n",
       "      <th>variance</th>\n",
       "      <th>sum average</th>\n",
       "      <th>entropy</th>\n",
       "      <th>difference variance</th>\n",
       "      <th>info_corr</th>\n",
       "      <th>...</th>\n",
       "      <th>Insurance_company_B</th>\n",
       "      <th>Insurance_company_BB</th>\n",
       "      <th>Insurance_company_BC</th>\n",
       "      <th>Insurance_company_BQ</th>\n",
       "      <th>Insurance_company_C</th>\n",
       "      <th>Insurance_company_DA</th>\n",
       "      <th>Insurance_company_O</th>\n",
       "      <th>Insurance_company_RE</th>\n",
       "      <th>Condition</th>\n",
       "      <th>Amount</th>\n",
       "    </tr>\n",
       "  </thead>\n",
       "  <tbody>\n",
       "    <tr>\n",
       "      <th>0</th>\n",
       "      <td>0.451768</td>\n",
       "      <td>3.465368</td>\n",
       "      <td>-0.259399</td>\n",
       "      <td>0.235741</td>\n",
       "      <td>0.146016</td>\n",
       "      <td>1.170638</td>\n",
       "      <td>0.109269</td>\n",
       "      <td>1.015981</td>\n",
       "      <td>-0.693199</td>\n",
       "      <td>0.633428</td>\n",
       "      <td>...</td>\n",
       "      <td>0</td>\n",
       "      <td>0</td>\n",
       "      <td>0</td>\n",
       "      <td>1</td>\n",
       "      <td>0</td>\n",
       "      <td>0</td>\n",
       "      <td>0</td>\n",
       "      <td>0</td>\n",
       "      <td>0</td>\n",
       "      <td>0.0</td>\n",
       "    </tr>\n",
       "    <tr>\n",
       "      <th>1</th>\n",
       "      <td>1.483694</td>\n",
       "      <td>0.207941</td>\n",
       "      <td>-0.219612</td>\n",
       "      <td>-0.632296</td>\n",
       "      <td>0.686181</td>\n",
       "      <td>0.195964</td>\n",
       "      <td>0.800932</td>\n",
       "      <td>-0.301947</td>\n",
       "      <td>0.081073</td>\n",
       "      <td>-0.767346</td>\n",
       "      <td>...</td>\n",
       "      <td>0</td>\n",
       "      <td>0</td>\n",
       "      <td>0</td>\n",
       "      <td>1</td>\n",
       "      <td>0</td>\n",
       "      <td>0</td>\n",
       "      <td>0</td>\n",
       "      <td>0</td>\n",
       "      <td>1</td>\n",
       "      <td>6194.0</td>\n",
       "    </tr>\n",
       "    <tr>\n",
       "      <th>2</th>\n",
       "      <td>1.349095</td>\n",
       "      <td>4.434672</td>\n",
       "      <td>-0.245936</td>\n",
       "      <td>-0.696581</td>\n",
       "      <td>0.738371</td>\n",
       "      <td>-0.133078</td>\n",
       "      <td>-0.225743</td>\n",
       "      <td>-0.214145</td>\n",
       "      <td>0.564911</td>\n",
       "      <td>-1.171469</td>\n",
       "      <td>...</td>\n",
       "      <td>0</td>\n",
       "      <td>0</td>\n",
       "      <td>0</td>\n",
       "      <td>0</td>\n",
       "      <td>0</td>\n",
       "      <td>0</td>\n",
       "      <td>0</td>\n",
       "      <td>0</td>\n",
       "      <td>0</td>\n",
       "      <td>0.0</td>\n",
       "    </tr>\n",
       "    <tr>\n",
       "      <th>3</th>\n",
       "      <td>-0.445560</td>\n",
       "      <td>-0.390911</td>\n",
       "      <td>-0.154017</td>\n",
       "      <td>-0.361808</td>\n",
       "      <td>0.421934</td>\n",
       "      <td>0.131006</td>\n",
       "      <td>-0.706569</td>\n",
       "      <td>0.167173</td>\n",
       "      <td>-0.178268</td>\n",
       "      <td>-0.112141</td>\n",
       "      <td>...</td>\n",
       "      <td>0</td>\n",
       "      <td>0</td>\n",
       "      <td>0</td>\n",
       "      <td>0</td>\n",
       "      <td>0</td>\n",
       "      <td>0</td>\n",
       "      <td>0</td>\n",
       "      <td>0</td>\n",
       "      <td>1</td>\n",
       "      <td>7699.0</td>\n",
       "    </tr>\n",
       "    <tr>\n",
       "      <th>4</th>\n",
       "      <td>-1.107339</td>\n",
       "      <td>-0.596330</td>\n",
       "      <td>-0.228939</td>\n",
       "      <td>-0.564325</td>\n",
       "      <td>0.210507</td>\n",
       "      <td>-1.430475</td>\n",
       "      <td>0.443721</td>\n",
       "      <td>-0.491443</td>\n",
       "      <td>-0.095562</td>\n",
       "      <td>0.598905</td>\n",
       "      <td>...</td>\n",
       "      <td>0</td>\n",
       "      <td>0</td>\n",
       "      <td>0</td>\n",
       "      <td>0</td>\n",
       "      <td>0</td>\n",
       "      <td>0</td>\n",
       "      <td>0</td>\n",
       "      <td>0</td>\n",
       "      <td>1</td>\n",
       "      <td>8849.0</td>\n",
       "    </tr>\n",
       "  </tbody>\n",
       "</table>\n",
       "<p>5 rows × 23 columns</p>\n",
       "</div>"
      ],
      "text/plain": [
       "   Min_coverage  Max_coverage    energy  contrast  correlation  variance  \\\n",
       "0      0.451768      3.465368 -0.259399  0.235741     0.146016  1.170638   \n",
       "1      1.483694      0.207941 -0.219612 -0.632296     0.686181  0.195964   \n",
       "2      1.349095      4.434672 -0.245936 -0.696581     0.738371 -0.133078   \n",
       "3     -0.445560     -0.390911 -0.154017 -0.361808     0.421934  0.131006   \n",
       "4     -1.107339     -0.596330 -0.228939 -0.564325     0.210507 -1.430475   \n",
       "\n",
       "   sum average   entropy  difference variance  info_corr  ...  \\\n",
       "0     0.109269  1.015981            -0.693199   0.633428  ...   \n",
       "1     0.800932 -0.301947             0.081073  -0.767346  ...   \n",
       "2    -0.225743 -0.214145             0.564911  -1.171469  ...   \n",
       "3    -0.706569  0.167173            -0.178268  -0.112141  ...   \n",
       "4     0.443721 -0.491443            -0.095562   0.598905  ...   \n",
       "\n",
       "   Insurance_company_B  Insurance_company_BB  Insurance_company_BC  \\\n",
       "0                    0                     0                     0   \n",
       "1                    0                     0                     0   \n",
       "2                    0                     0                     0   \n",
       "3                    0                     0                     0   \n",
       "4                    0                     0                     0   \n",
       "\n",
       "   Insurance_company_BQ  Insurance_company_C  Insurance_company_DA  \\\n",
       "0                     1                    0                     0   \n",
       "1                     1                    0                     0   \n",
       "2                     0                    0                     0   \n",
       "3                     0                    0                     0   \n",
       "4                     0                    0                     0   \n",
       "\n",
       "   Insurance_company_O  Insurance_company_RE  Condition  Amount  \n",
       "0                    0                     0          0     0.0  \n",
       "1                    0                     0          1  6194.0  \n",
       "2                    0                     0          0     0.0  \n",
       "3                    0                     0          1  7699.0  \n",
       "4                    0                     0          1  8849.0  \n",
       "\n",
       "[5 rows x 23 columns]"
      ]
     },
     "execution_count": 115,
     "metadata": {},
     "output_type": "execute_result"
    }
   ],
   "source": [
    "TRAIN_DATAFRAME.head()"
   ]
  },
  {
   "cell_type": "markdown",
   "metadata": {},
   "source": [
    "####  Shuffle the TRAIN Dataset:"
   ]
  },
  {
   "cell_type": "code",
   "execution_count": 116,
   "metadata": {},
   "outputs": [],
   "source": [
    "TRAIN_DATAFRAME = TRAIN_DATAFRAME.sample(frac=1)"
   ]
  },
  {
   "cell_type": "code",
   "execution_count": 117,
   "metadata": {},
   "outputs": [
    {
     "data": {
      "text/html": [
       "<div>\n",
       "<style scoped>\n",
       "    .dataframe tbody tr th:only-of-type {\n",
       "        vertical-align: middle;\n",
       "    }\n",
       "\n",
       "    .dataframe tbody tr th {\n",
       "        vertical-align: top;\n",
       "    }\n",
       "\n",
       "    .dataframe thead th {\n",
       "        text-align: right;\n",
       "    }\n",
       "</style>\n",
       "<table border=\"1\" class=\"dataframe\">\n",
       "  <thead>\n",
       "    <tr style=\"text-align: right;\">\n",
       "      <th></th>\n",
       "      <th>Min_coverage</th>\n",
       "      <th>Max_coverage</th>\n",
       "      <th>energy</th>\n",
       "      <th>contrast</th>\n",
       "      <th>correlation</th>\n",
       "      <th>variance</th>\n",
       "      <th>sum average</th>\n",
       "      <th>entropy</th>\n",
       "      <th>difference variance</th>\n",
       "      <th>info_corr</th>\n",
       "      <th>...</th>\n",
       "      <th>Insurance_company_B</th>\n",
       "      <th>Insurance_company_BB</th>\n",
       "      <th>Insurance_company_BC</th>\n",
       "      <th>Insurance_company_BQ</th>\n",
       "      <th>Insurance_company_C</th>\n",
       "      <th>Insurance_company_DA</th>\n",
       "      <th>Insurance_company_O</th>\n",
       "      <th>Insurance_company_RE</th>\n",
       "      <th>Condition</th>\n",
       "      <th>Amount</th>\n",
       "    </tr>\n",
       "  </thead>\n",
       "  <tbody>\n",
       "    <tr>\n",
       "      <th>322</th>\n",
       "      <td>-1.578436</td>\n",
       "      <td>-0.742562</td>\n",
       "      <td>-0.241698</td>\n",
       "      <td>0.337478</td>\n",
       "      <td>-0.630035</td>\n",
       "      <td>-0.463363</td>\n",
       "      <td>0.428764</td>\n",
       "      <td>0.540566</td>\n",
       "      <td>-0.648101</td>\n",
       "      <td>0.505957</td>\n",
       "      <td>...</td>\n",
       "      <td>0</td>\n",
       "      <td>0</td>\n",
       "      <td>0</td>\n",
       "      <td>0</td>\n",
       "      <td>0</td>\n",
       "      <td>0</td>\n",
       "      <td>0</td>\n",
       "      <td>1</td>\n",
       "      <td>1</td>\n",
       "      <td>5585.0</td>\n",
       "    </tr>\n",
       "    <tr>\n",
       "      <th>1076</th>\n",
       "      <td>0.474201</td>\n",
       "      <td>-0.105412</td>\n",
       "      <td>-0.121838</td>\n",
       "      <td>-0.400171</td>\n",
       "      <td>0.450175</td>\n",
       "      <td>0.073507</td>\n",
       "      <td>-1.798426</td>\n",
       "      <td>-0.040817</td>\n",
       "      <td>-0.200849</td>\n",
       "      <td>0.036338</td>\n",
       "      <td>...</td>\n",
       "      <td>0</td>\n",
       "      <td>0</td>\n",
       "      <td>0</td>\n",
       "      <td>0</td>\n",
       "      <td>0</td>\n",
       "      <td>0</td>\n",
       "      <td>0</td>\n",
       "      <td>0</td>\n",
       "      <td>1</td>\n",
       "      <td>4353.0</td>\n",
       "    </tr>\n",
       "    <tr>\n",
       "      <th>1</th>\n",
       "      <td>1.483694</td>\n",
       "      <td>0.207941</td>\n",
       "      <td>-0.219612</td>\n",
       "      <td>-0.632296</td>\n",
       "      <td>0.686181</td>\n",
       "      <td>0.195964</td>\n",
       "      <td>0.800932</td>\n",
       "      <td>-0.301947</td>\n",
       "      <td>0.081073</td>\n",
       "      <td>-0.767346</td>\n",
       "      <td>...</td>\n",
       "      <td>0</td>\n",
       "      <td>0</td>\n",
       "      <td>0</td>\n",
       "      <td>1</td>\n",
       "      <td>0</td>\n",
       "      <td>0</td>\n",
       "      <td>0</td>\n",
       "      <td>0</td>\n",
       "      <td>1</td>\n",
       "      <td>6194.0</td>\n",
       "    </tr>\n",
       "    <tr>\n",
       "      <th>368</th>\n",
       "      <td>-0.927874</td>\n",
       "      <td>-0.540623</td>\n",
       "      <td>-0.254138</td>\n",
       "      <td>0.174012</td>\n",
       "      <td>-0.914608</td>\n",
       "      <td>-0.945268</td>\n",
       "      <td>-0.259782</td>\n",
       "      <td>0.480704</td>\n",
       "      <td>-0.578456</td>\n",
       "      <td>0.789690</td>\n",
       "      <td>...</td>\n",
       "      <td>0</td>\n",
       "      <td>0</td>\n",
       "      <td>0</td>\n",
       "      <td>0</td>\n",
       "      <td>0</td>\n",
       "      <td>0</td>\n",
       "      <td>0</td>\n",
       "      <td>0</td>\n",
       "      <td>1</td>\n",
       "      <td>2360.0</td>\n",
       "    </tr>\n",
       "    <tr>\n",
       "      <th>120</th>\n",
       "      <td>0.799482</td>\n",
       "      <td>-0.004443</td>\n",
       "      <td>5.781703</td>\n",
       "      <td>-0.402690</td>\n",
       "      <td>0.621803</td>\n",
       "      <td>2.207723</td>\n",
       "      <td>2.216030</td>\n",
       "      <td>-3.167906</td>\n",
       "      <td>2.681821</td>\n",
       "      <td>-0.896703</td>\n",
       "      <td>...</td>\n",
       "      <td>0</td>\n",
       "      <td>1</td>\n",
       "      <td>0</td>\n",
       "      <td>0</td>\n",
       "      <td>0</td>\n",
       "      <td>0</td>\n",
       "      <td>0</td>\n",
       "      <td>0</td>\n",
       "      <td>1</td>\n",
       "      <td>7569.0</td>\n",
       "    </tr>\n",
       "  </tbody>\n",
       "</table>\n",
       "<p>5 rows × 23 columns</p>\n",
       "</div>"
      ],
      "text/plain": [
       "      Min_coverage  Max_coverage    energy  contrast  correlation  variance  \\\n",
       "322      -1.578436     -0.742562 -0.241698  0.337478    -0.630035 -0.463363   \n",
       "1076      0.474201     -0.105412 -0.121838 -0.400171     0.450175  0.073507   \n",
       "1         1.483694      0.207941 -0.219612 -0.632296     0.686181  0.195964   \n",
       "368      -0.927874     -0.540623 -0.254138  0.174012    -0.914608 -0.945268   \n",
       "120       0.799482     -0.004443  5.781703 -0.402690     0.621803  2.207723   \n",
       "\n",
       "      sum average   entropy  difference variance  info_corr  ...  \\\n",
       "322      0.428764  0.540566            -0.648101   0.505957  ...   \n",
       "1076    -1.798426 -0.040817            -0.200849   0.036338  ...   \n",
       "1        0.800932 -0.301947             0.081073  -0.767346  ...   \n",
       "368     -0.259782  0.480704            -0.578456   0.789690  ...   \n",
       "120      2.216030 -3.167906             2.681821  -0.896703  ...   \n",
       "\n",
       "      Insurance_company_B  Insurance_company_BB  Insurance_company_BC  \\\n",
       "322                     0                     0                     0   \n",
       "1076                    0                     0                     0   \n",
       "1                       0                     0                     0   \n",
       "368                     0                     0                     0   \n",
       "120                     0                     1                     0   \n",
       "\n",
       "      Insurance_company_BQ  Insurance_company_C  Insurance_company_DA  \\\n",
       "322                      0                    0                     0   \n",
       "1076                     0                    0                     0   \n",
       "1                        1                    0                     0   \n",
       "368                      0                    0                     0   \n",
       "120                      0                    0                     0   \n",
       "\n",
       "      Insurance_company_O  Insurance_company_RE  Condition  Amount  \n",
       "322                     0                     1          1  5585.0  \n",
       "1076                    0                     0          1  4353.0  \n",
       "1                       0                     0          1  6194.0  \n",
       "368                     0                     0          1  2360.0  \n",
       "120                     0                     0          1  7569.0  \n",
       "\n",
       "[5 rows x 23 columns]"
      ]
     },
     "execution_count": 117,
     "metadata": {},
     "output_type": "execute_result"
    }
   ],
   "source": [
    "TRAIN_DATAFRAME.head()"
   ]
  },
  {
   "cell_type": "code",
   "execution_count": 118,
   "metadata": {},
   "outputs": [],
   "source": [
    "TRAIN_DATAFRAME.reset_index(inplace=True)"
   ]
  },
  {
   "cell_type": "code",
   "execution_count": 119,
   "metadata": {},
   "outputs": [
    {
     "data": {
      "text/html": [
       "<div>\n",
       "<style scoped>\n",
       "    .dataframe tbody tr th:only-of-type {\n",
       "        vertical-align: middle;\n",
       "    }\n",
       "\n",
       "    .dataframe tbody tr th {\n",
       "        vertical-align: top;\n",
       "    }\n",
       "\n",
       "    .dataframe thead th {\n",
       "        text-align: right;\n",
       "    }\n",
       "</style>\n",
       "<table border=\"1\" class=\"dataframe\">\n",
       "  <thead>\n",
       "    <tr style=\"text-align: right;\">\n",
       "      <th></th>\n",
       "      <th>index</th>\n",
       "      <th>Min_coverage</th>\n",
       "      <th>Max_coverage</th>\n",
       "      <th>energy</th>\n",
       "      <th>contrast</th>\n",
       "      <th>correlation</th>\n",
       "      <th>variance</th>\n",
       "      <th>sum average</th>\n",
       "      <th>entropy</th>\n",
       "      <th>difference variance</th>\n",
       "      <th>...</th>\n",
       "      <th>Insurance_company_B</th>\n",
       "      <th>Insurance_company_BB</th>\n",
       "      <th>Insurance_company_BC</th>\n",
       "      <th>Insurance_company_BQ</th>\n",
       "      <th>Insurance_company_C</th>\n",
       "      <th>Insurance_company_DA</th>\n",
       "      <th>Insurance_company_O</th>\n",
       "      <th>Insurance_company_RE</th>\n",
       "      <th>Condition</th>\n",
       "      <th>Amount</th>\n",
       "    </tr>\n",
       "  </thead>\n",
       "  <tbody>\n",
       "    <tr>\n",
       "      <th>0</th>\n",
       "      <td>322</td>\n",
       "      <td>-1.578436</td>\n",
       "      <td>-0.742562</td>\n",
       "      <td>-0.241698</td>\n",
       "      <td>0.337478</td>\n",
       "      <td>-0.630035</td>\n",
       "      <td>-0.463363</td>\n",
       "      <td>0.428764</td>\n",
       "      <td>0.540566</td>\n",
       "      <td>-0.648101</td>\n",
       "      <td>...</td>\n",
       "      <td>0</td>\n",
       "      <td>0</td>\n",
       "      <td>0</td>\n",
       "      <td>0</td>\n",
       "      <td>0</td>\n",
       "      <td>0</td>\n",
       "      <td>0</td>\n",
       "      <td>1</td>\n",
       "      <td>1</td>\n",
       "      <td>5585.0</td>\n",
       "    </tr>\n",
       "    <tr>\n",
       "      <th>1</th>\n",
       "      <td>1076</td>\n",
       "      <td>0.474201</td>\n",
       "      <td>-0.105412</td>\n",
       "      <td>-0.121838</td>\n",
       "      <td>-0.400171</td>\n",
       "      <td>0.450175</td>\n",
       "      <td>0.073507</td>\n",
       "      <td>-1.798426</td>\n",
       "      <td>-0.040817</td>\n",
       "      <td>-0.200849</td>\n",
       "      <td>...</td>\n",
       "      <td>0</td>\n",
       "      <td>0</td>\n",
       "      <td>0</td>\n",
       "      <td>0</td>\n",
       "      <td>0</td>\n",
       "      <td>0</td>\n",
       "      <td>0</td>\n",
       "      <td>0</td>\n",
       "      <td>1</td>\n",
       "      <td>4353.0</td>\n",
       "    </tr>\n",
       "    <tr>\n",
       "      <th>2</th>\n",
       "      <td>1</td>\n",
       "      <td>1.483694</td>\n",
       "      <td>0.207941</td>\n",
       "      <td>-0.219612</td>\n",
       "      <td>-0.632296</td>\n",
       "      <td>0.686181</td>\n",
       "      <td>0.195964</td>\n",
       "      <td>0.800932</td>\n",
       "      <td>-0.301947</td>\n",
       "      <td>0.081073</td>\n",
       "      <td>...</td>\n",
       "      <td>0</td>\n",
       "      <td>0</td>\n",
       "      <td>0</td>\n",
       "      <td>1</td>\n",
       "      <td>0</td>\n",
       "      <td>0</td>\n",
       "      <td>0</td>\n",
       "      <td>0</td>\n",
       "      <td>1</td>\n",
       "      <td>6194.0</td>\n",
       "    </tr>\n",
       "    <tr>\n",
       "      <th>3</th>\n",
       "      <td>368</td>\n",
       "      <td>-0.927874</td>\n",
       "      <td>-0.540623</td>\n",
       "      <td>-0.254138</td>\n",
       "      <td>0.174012</td>\n",
       "      <td>-0.914608</td>\n",
       "      <td>-0.945268</td>\n",
       "      <td>-0.259782</td>\n",
       "      <td>0.480704</td>\n",
       "      <td>-0.578456</td>\n",
       "      <td>...</td>\n",
       "      <td>0</td>\n",
       "      <td>0</td>\n",
       "      <td>0</td>\n",
       "      <td>0</td>\n",
       "      <td>0</td>\n",
       "      <td>0</td>\n",
       "      <td>0</td>\n",
       "      <td>0</td>\n",
       "      <td>1</td>\n",
       "      <td>2360.0</td>\n",
       "    </tr>\n",
       "    <tr>\n",
       "      <th>4</th>\n",
       "      <td>120</td>\n",
       "      <td>0.799482</td>\n",
       "      <td>-0.004443</td>\n",
       "      <td>5.781703</td>\n",
       "      <td>-0.402690</td>\n",
       "      <td>0.621803</td>\n",
       "      <td>2.207723</td>\n",
       "      <td>2.216030</td>\n",
       "      <td>-3.167906</td>\n",
       "      <td>2.681821</td>\n",
       "      <td>...</td>\n",
       "      <td>0</td>\n",
       "      <td>1</td>\n",
       "      <td>0</td>\n",
       "      <td>0</td>\n",
       "      <td>0</td>\n",
       "      <td>0</td>\n",
       "      <td>0</td>\n",
       "      <td>0</td>\n",
       "      <td>1</td>\n",
       "      <td>7569.0</td>\n",
       "    </tr>\n",
       "  </tbody>\n",
       "</table>\n",
       "<p>5 rows × 24 columns</p>\n",
       "</div>"
      ],
      "text/plain": [
       "   index  Min_coverage  Max_coverage    energy  contrast  correlation  \\\n",
       "0    322     -1.578436     -0.742562 -0.241698  0.337478    -0.630035   \n",
       "1   1076      0.474201     -0.105412 -0.121838 -0.400171     0.450175   \n",
       "2      1      1.483694      0.207941 -0.219612 -0.632296     0.686181   \n",
       "3    368     -0.927874     -0.540623 -0.254138  0.174012    -0.914608   \n",
       "4    120      0.799482     -0.004443  5.781703 -0.402690     0.621803   \n",
       "\n",
       "   variance  sum average   entropy  difference variance  ...  \\\n",
       "0 -0.463363     0.428764  0.540566            -0.648101  ...   \n",
       "1  0.073507    -1.798426 -0.040817            -0.200849  ...   \n",
       "2  0.195964     0.800932 -0.301947             0.081073  ...   \n",
       "3 -0.945268    -0.259782  0.480704            -0.578456  ...   \n",
       "4  2.207723     2.216030 -3.167906             2.681821  ...   \n",
       "\n",
       "   Insurance_company_B  Insurance_company_BB  Insurance_company_BC  \\\n",
       "0                    0                     0                     0   \n",
       "1                    0                     0                     0   \n",
       "2                    0                     0                     0   \n",
       "3                    0                     0                     0   \n",
       "4                    0                     1                     0   \n",
       "\n",
       "   Insurance_company_BQ  Insurance_company_C  Insurance_company_DA  \\\n",
       "0                     0                    0                     0   \n",
       "1                     0                    0                     0   \n",
       "2                     1                    0                     0   \n",
       "3                     0                    0                     0   \n",
       "4                     0                    0                     0   \n",
       "\n",
       "   Insurance_company_O  Insurance_company_RE  Condition  Amount  \n",
       "0                    0                     1          1  5585.0  \n",
       "1                    0                     0          1  4353.0  \n",
       "2                    0                     0          1  6194.0  \n",
       "3                    0                     0          1  2360.0  \n",
       "4                    0                     0          1  7569.0  \n",
       "\n",
       "[5 rows x 24 columns]"
      ]
     },
     "execution_count": 119,
     "metadata": {},
     "output_type": "execute_result"
    }
   ],
   "source": [
    "TRAIN_DATAFRAME.head()"
   ]
  },
  {
   "cell_type": "code",
   "execution_count": 120,
   "metadata": {},
   "outputs": [],
   "source": [
    "TRAIN_DATAFRAME = TRAIN_DATAFRAME.drop('index',axis=1)"
   ]
  },
  {
   "cell_type": "code",
   "execution_count": 121,
   "metadata": {},
   "outputs": [
    {
     "data": {
      "text/html": [
       "<div>\n",
       "<style scoped>\n",
       "    .dataframe tbody tr th:only-of-type {\n",
       "        vertical-align: middle;\n",
       "    }\n",
       "\n",
       "    .dataframe tbody tr th {\n",
       "        vertical-align: top;\n",
       "    }\n",
       "\n",
       "    .dataframe thead th {\n",
       "        text-align: right;\n",
       "    }\n",
       "</style>\n",
       "<table border=\"1\" class=\"dataframe\">\n",
       "  <thead>\n",
       "    <tr style=\"text-align: right;\">\n",
       "      <th></th>\n",
       "      <th>Min_coverage</th>\n",
       "      <th>Max_coverage</th>\n",
       "      <th>energy</th>\n",
       "      <th>contrast</th>\n",
       "      <th>correlation</th>\n",
       "      <th>variance</th>\n",
       "      <th>sum average</th>\n",
       "      <th>entropy</th>\n",
       "      <th>difference variance</th>\n",
       "      <th>info_corr</th>\n",
       "      <th>...</th>\n",
       "      <th>Insurance_company_B</th>\n",
       "      <th>Insurance_company_BB</th>\n",
       "      <th>Insurance_company_BC</th>\n",
       "      <th>Insurance_company_BQ</th>\n",
       "      <th>Insurance_company_C</th>\n",
       "      <th>Insurance_company_DA</th>\n",
       "      <th>Insurance_company_O</th>\n",
       "      <th>Insurance_company_RE</th>\n",
       "      <th>Condition</th>\n",
       "      <th>Amount</th>\n",
       "    </tr>\n",
       "  </thead>\n",
       "  <tbody>\n",
       "    <tr>\n",
       "      <th>0</th>\n",
       "      <td>-1.578436</td>\n",
       "      <td>-0.742562</td>\n",
       "      <td>-0.241698</td>\n",
       "      <td>0.337478</td>\n",
       "      <td>-0.630035</td>\n",
       "      <td>-0.463363</td>\n",
       "      <td>0.428764</td>\n",
       "      <td>0.540566</td>\n",
       "      <td>-0.648101</td>\n",
       "      <td>0.505957</td>\n",
       "      <td>...</td>\n",
       "      <td>0</td>\n",
       "      <td>0</td>\n",
       "      <td>0</td>\n",
       "      <td>0</td>\n",
       "      <td>0</td>\n",
       "      <td>0</td>\n",
       "      <td>0</td>\n",
       "      <td>1</td>\n",
       "      <td>1</td>\n",
       "      <td>5585.0</td>\n",
       "    </tr>\n",
       "    <tr>\n",
       "      <th>1</th>\n",
       "      <td>0.474201</td>\n",
       "      <td>-0.105412</td>\n",
       "      <td>-0.121838</td>\n",
       "      <td>-0.400171</td>\n",
       "      <td>0.450175</td>\n",
       "      <td>0.073507</td>\n",
       "      <td>-1.798426</td>\n",
       "      <td>-0.040817</td>\n",
       "      <td>-0.200849</td>\n",
       "      <td>0.036338</td>\n",
       "      <td>...</td>\n",
       "      <td>0</td>\n",
       "      <td>0</td>\n",
       "      <td>0</td>\n",
       "      <td>0</td>\n",
       "      <td>0</td>\n",
       "      <td>0</td>\n",
       "      <td>0</td>\n",
       "      <td>0</td>\n",
       "      <td>1</td>\n",
       "      <td>4353.0</td>\n",
       "    </tr>\n",
       "    <tr>\n",
       "      <th>2</th>\n",
       "      <td>1.483694</td>\n",
       "      <td>0.207941</td>\n",
       "      <td>-0.219612</td>\n",
       "      <td>-0.632296</td>\n",
       "      <td>0.686181</td>\n",
       "      <td>0.195964</td>\n",
       "      <td>0.800932</td>\n",
       "      <td>-0.301947</td>\n",
       "      <td>0.081073</td>\n",
       "      <td>-0.767346</td>\n",
       "      <td>...</td>\n",
       "      <td>0</td>\n",
       "      <td>0</td>\n",
       "      <td>0</td>\n",
       "      <td>1</td>\n",
       "      <td>0</td>\n",
       "      <td>0</td>\n",
       "      <td>0</td>\n",
       "      <td>0</td>\n",
       "      <td>1</td>\n",
       "      <td>6194.0</td>\n",
       "    </tr>\n",
       "    <tr>\n",
       "      <th>3</th>\n",
       "      <td>-0.927874</td>\n",
       "      <td>-0.540623</td>\n",
       "      <td>-0.254138</td>\n",
       "      <td>0.174012</td>\n",
       "      <td>-0.914608</td>\n",
       "      <td>-0.945268</td>\n",
       "      <td>-0.259782</td>\n",
       "      <td>0.480704</td>\n",
       "      <td>-0.578456</td>\n",
       "      <td>0.789690</td>\n",
       "      <td>...</td>\n",
       "      <td>0</td>\n",
       "      <td>0</td>\n",
       "      <td>0</td>\n",
       "      <td>0</td>\n",
       "      <td>0</td>\n",
       "      <td>0</td>\n",
       "      <td>0</td>\n",
       "      <td>0</td>\n",
       "      <td>1</td>\n",
       "      <td>2360.0</td>\n",
       "    </tr>\n",
       "    <tr>\n",
       "      <th>4</th>\n",
       "      <td>0.799482</td>\n",
       "      <td>-0.004443</td>\n",
       "      <td>5.781703</td>\n",
       "      <td>-0.402690</td>\n",
       "      <td>0.621803</td>\n",
       "      <td>2.207723</td>\n",
       "      <td>2.216030</td>\n",
       "      <td>-3.167906</td>\n",
       "      <td>2.681821</td>\n",
       "      <td>-0.896703</td>\n",
       "      <td>...</td>\n",
       "      <td>0</td>\n",
       "      <td>1</td>\n",
       "      <td>0</td>\n",
       "      <td>0</td>\n",
       "      <td>0</td>\n",
       "      <td>0</td>\n",
       "      <td>0</td>\n",
       "      <td>0</td>\n",
       "      <td>1</td>\n",
       "      <td>7569.0</td>\n",
       "    </tr>\n",
       "  </tbody>\n",
       "</table>\n",
       "<p>5 rows × 23 columns</p>\n",
       "</div>"
      ],
      "text/plain": [
       "   Min_coverage  Max_coverage    energy  contrast  correlation  variance  \\\n",
       "0     -1.578436     -0.742562 -0.241698  0.337478    -0.630035 -0.463363   \n",
       "1      0.474201     -0.105412 -0.121838 -0.400171     0.450175  0.073507   \n",
       "2      1.483694      0.207941 -0.219612 -0.632296     0.686181  0.195964   \n",
       "3     -0.927874     -0.540623 -0.254138  0.174012    -0.914608 -0.945268   \n",
       "4      0.799482     -0.004443  5.781703 -0.402690     0.621803  2.207723   \n",
       "\n",
       "   sum average   entropy  difference variance  info_corr  ...  \\\n",
       "0     0.428764  0.540566            -0.648101   0.505957  ...   \n",
       "1    -1.798426 -0.040817            -0.200849   0.036338  ...   \n",
       "2     0.800932 -0.301947             0.081073  -0.767346  ...   \n",
       "3    -0.259782  0.480704            -0.578456   0.789690  ...   \n",
       "4     2.216030 -3.167906             2.681821  -0.896703  ...   \n",
       "\n",
       "   Insurance_company_B  Insurance_company_BB  Insurance_company_BC  \\\n",
       "0                    0                     0                     0   \n",
       "1                    0                     0                     0   \n",
       "2                    0                     0                     0   \n",
       "3                    0                     0                     0   \n",
       "4                    0                     1                     0   \n",
       "\n",
       "   Insurance_company_BQ  Insurance_company_C  Insurance_company_DA  \\\n",
       "0                     0                    0                     0   \n",
       "1                     0                    0                     0   \n",
       "2                     1                    0                     0   \n",
       "3                     0                    0                     0   \n",
       "4                     0                    0                     0   \n",
       "\n",
       "   Insurance_company_O  Insurance_company_RE  Condition  Amount  \n",
       "0                    0                     1          1  5585.0  \n",
       "1                    0                     0          1  4353.0  \n",
       "2                    0                     0          1  6194.0  \n",
       "3                    0                     0          1  2360.0  \n",
       "4                    0                     0          1  7569.0  \n",
       "\n",
       "[5 rows x 23 columns]"
      ]
     },
     "execution_count": 121,
     "metadata": {},
     "output_type": "execute_result"
    }
   ],
   "source": [
    "TRAIN_DATAFRAME.head()"
   ]
  },
  {
   "cell_type": "code",
   "execution_count": 122,
   "metadata": {},
   "outputs": [
    {
     "name": "stdout",
     "output_type": "stream",
     "text": [
      "<class 'pandas.core.series.Series'> <class 'pandas.core.series.Series'>\n",
      "0    5585.0\n",
      "1    4353.0\n",
      "2    6194.0\n",
      "3    2360.0\n",
      "4    7569.0\n",
      "Name: Amount, dtype: float64\n",
      "0    1\n",
      "1    1\n",
      "2    1\n",
      "3    1\n",
      "4    1\n",
      "Name: Condition, dtype: int64\n"
     ]
    }
   ],
   "source": [
    "LABEL_Condition = TRAIN_DATAFRAME['Condition']\n",
    "LABEL_Amount = TRAIN_DATAFRAME['Amount']\n",
    "print(type(LABEL_Amount),type(LABEL_Condition))\n",
    "print(LABEL_Amount.head())\n",
    "print(LABEL_Condition.head())"
   ]
  },
  {
   "cell_type": "markdown",
   "metadata": {},
   "source": [
    "#### Classification Problem to Predict the condition(0 or 1)\n",
    "1. SVM ---> Data is less.\n",
    "2. Logistic Regression ---> As it is Binary classification and it is highly scalable models with large number of features."
   ]
  },
  {
   "cell_type": "code",
   "execution_count": 123,
   "metadata": {},
   "outputs": [],
   "source": [
    "TRAIN_DATAFRAME = TRAIN_DATAFRAME.drop('Condition',axis=1)\n",
    "TRAIN_DATAFRAME = TRAIN_DATAFRAME.drop('Amount',axis=1)"
   ]
  },
  {
   "cell_type": "code",
   "execution_count": 124,
   "metadata": {},
   "outputs": [
    {
     "data": {
      "text/plain": [
       "1    1204\n",
       "0      97\n",
       "Name: Condition, dtype: int64"
      ]
     },
     "execution_count": 124,
     "metadata": {},
     "output_type": "execute_result"
    }
   ],
   "source": [
    "LABEL_Condition.value_counts()"
   ]
  },
  {
   "cell_type": "code",
   "execution_count": 125,
   "metadata": {},
   "outputs": [],
   "source": [
    "from sklearn.model_selection import train_test_split\n",
    "from sklearn import svm\n",
    "from sklearn.linear_model import LogisticRegression"
   ]
  },
  {
   "cell_type": "code",
   "execution_count": 126,
   "metadata": {},
   "outputs": [],
   "source": [
    "train_x,validation_x,train_y,validation_y = train_test_split(TRAIN_DATAFRAME,LABEL_Condition,test_size=0.25,random_state=0) "
   ]
  },
  {
   "cell_type": "code",
   "execution_count": 127,
   "metadata": {},
   "outputs": [
    {
     "data": {
      "text/plain": [
       "1    911\n",
       "0     64\n",
       "Name: Condition, dtype: int64"
      ]
     },
     "execution_count": 127,
     "metadata": {},
     "output_type": "execute_result"
    }
   ],
   "source": [
    "train_y.value_counts()"
   ]
  },
  {
   "cell_type": "code",
   "execution_count": 128,
   "metadata": {},
   "outputs": [
    {
     "data": {
      "text/plain": [
       "1    293\n",
       "0     33\n",
       "Name: Condition, dtype: int64"
      ]
     },
     "execution_count": 128,
     "metadata": {},
     "output_type": "execute_result"
    }
   ],
   "source": [
    "validation_y.value_counts()"
   ]
  },
  {
   "cell_type": "code",
   "execution_count": 129,
   "metadata": {},
   "outputs": [],
   "source": [
    "from sklearn.metrics import f1_score"
   ]
  },
  {
   "cell_type": "code",
   "execution_count": 130,
   "metadata": {},
   "outputs": [],
   "source": [
    "f1_score?"
   ]
  },
  {
   "cell_type": "code",
   "execution_count": 131,
   "metadata": {},
   "outputs": [],
   "source": [
    "def performance_classification(actual,pred):\n",
    "    return(max(0,100*f1_score(actual,pred,average='micro')))"
   ]
  },
  {
   "cell_type": "code",
   "execution_count": 132,
   "metadata": {},
   "outputs": [],
   "source": [
    "#### 1. BASELINE SVM"
   ]
  },
  {
   "cell_type": "code",
   "execution_count": 133,
   "metadata": {},
   "outputs": [],
   "source": [
    "baseline_svm = svm.SVC()"
   ]
  },
  {
   "cell_type": "code",
   "execution_count": 134,
   "metadata": {},
   "outputs": [
    {
     "data": {
      "text/plain": [
       "SVC()"
      ]
     },
     "execution_count": 134,
     "metadata": {},
     "output_type": "execute_result"
    }
   ],
   "source": [
    "baseline_svm.fit(train_x,train_y)"
   ]
  },
  {
   "cell_type": "code",
   "execution_count": 135,
   "metadata": {},
   "outputs": [
    {
     "name": "stdout",
     "output_type": "stream",
     "text": [
      "99.38650306748467\n"
     ]
    }
   ],
   "source": [
    "print(performance_classification(validation_y,baseline_svm.predict(validation_x)))"
   ]
  },
  {
   "cell_type": "markdown",
   "metadata": {},
   "source": [
    "#### 2. BASLINE LOGISITIC REGRESSION"
   ]
  },
  {
   "cell_type": "code",
   "execution_count": 136,
   "metadata": {},
   "outputs": [],
   "source": [
    "LogisticRegression?"
   ]
  },
  {
   "cell_type": "code",
   "execution_count": 137,
   "metadata": {},
   "outputs": [],
   "source": [
    "baseline_logistic = LogisticRegression(random_state=0)"
   ]
  },
  {
   "cell_type": "code",
   "execution_count": 138,
   "metadata": {},
   "outputs": [
    {
     "data": {
      "text/plain": [
       "LogisticRegression(random_state=0)"
      ]
     },
     "execution_count": 138,
     "metadata": {},
     "output_type": "execute_result"
    }
   ],
   "source": [
    "baseline_logistic.fit(train_x,train_y)"
   ]
  },
  {
   "cell_type": "code",
   "execution_count": 139,
   "metadata": {},
   "outputs": [
    {
     "name": "stdout",
     "output_type": "stream",
     "text": [
      "99.38650306748467\n"
     ]
    }
   ],
   "source": [
    "print(performance_classification(validation_y,baseline_svm.predict(validation_x)))"
   ]
  },
  {
   "cell_type": "code",
   "execution_count": 140,
   "metadata": {},
   "outputs": [],
   "source": [
    "### SVM.SVC()"
   ]
  },
  {
   "cell_type": "code",
   "execution_count": 141,
   "metadata": {},
   "outputs": [],
   "source": [
    "from sklearn.model_selection import GridSearchCV"
   ]
  },
  {
   "cell_type": "code",
   "execution_count": 142,
   "metadata": {},
   "outputs": [],
   "source": [
    "svm.SVC?"
   ]
  },
  {
   "cell_type": "code",
   "execution_count": 143,
   "metadata": {},
   "outputs": [],
   "source": [
    "kernal = ['linear', 'rbf']\n",
    "C = [0.01,0.01,0.1,1,10,100,100]\n",
    "gamma = [0.02,0.02,0.2,1,10,100,100]\n",
    "class_weight = [None, 'balanced']"
   ]
  },
  {
   "cell_type": "code",
   "execution_count": 144,
   "metadata": {},
   "outputs": [],
   "source": [
    "gride = dict(kernel = kernal,C = C, gamma = gamma, class_weight = class_weight)"
   ]
  },
  {
   "cell_type": "code",
   "execution_count": 145,
   "metadata": {},
   "outputs": [],
   "source": [
    "clf = svm.SVC()"
   ]
  },
  {
   "cell_type": "code",
   "execution_count": 146,
   "metadata": {},
   "outputs": [],
   "source": [
    "grid_clf = GridSearchCV(clf, param_grid = gride, cv=5, scoring='f1_micro', return_train_score=False, n_jobs=-1)"
   ]
  },
  {
   "cell_type": "code",
   "execution_count": 147,
   "metadata": {},
   "outputs": [
    {
     "data": {
      "text/plain": [
       "GridSearchCV(cv=5, estimator=SVC(), n_jobs=-1,\n",
       "             param_grid={'C': [0.01, 0.01, 0.1, 1, 10, 100, 100],\n",
       "                         'class_weight': [None, 'balanced'],\n",
       "                         'gamma': [0.02, 0.02, 0.2, 1, 10, 100, 100],\n",
       "                         'kernel': ['linear', 'rbf']},\n",
       "             scoring='f1_micro')"
      ]
     },
     "execution_count": 147,
     "metadata": {},
     "output_type": "execute_result"
    }
   ],
   "source": [
    "grid_clf.fit(TRAIN_DATAFRAME, LABEL_Condition)"
   ]
  },
  {
   "cell_type": "code",
   "execution_count": 148,
   "metadata": {},
   "outputs": [
    {
     "name": "stdout",
     "output_type": "stream",
     "text": [
      "1.0\n",
      "{'C': 0.01, 'class_weight': None, 'gamma': 0.02, 'kernel': 'linear'}\n",
      "SVC(C=0.01, gamma=0.02, kernel='linear')\n"
     ]
    }
   ],
   "source": [
    "print(grid_clf.best_score_)\n",
    "print(grid_clf.best_params_)\n",
    "print(grid_clf.best_estimator_)"
   ]
  },
  {
   "cell_type": "code",
   "execution_count": 149,
   "metadata": {
    "scrolled": true
   },
   "outputs": [
    {
     "data": {
      "text/html": [
       "<div>\n",
       "<style scoped>\n",
       "    .dataframe tbody tr th:only-of-type {\n",
       "        vertical-align: middle;\n",
       "    }\n",
       "\n",
       "    .dataframe tbody tr th {\n",
       "        vertical-align: top;\n",
       "    }\n",
       "\n",
       "    .dataframe thead th {\n",
       "        text-align: right;\n",
       "    }\n",
       "</style>\n",
       "<table border=\"1\" class=\"dataframe\">\n",
       "  <thead>\n",
       "    <tr style=\"text-align: right;\">\n",
       "      <th></th>\n",
       "      <th>mean_test_score</th>\n",
       "      <th>std_test_score</th>\n",
       "      <th>params</th>\n",
       "    </tr>\n",
       "  </thead>\n",
       "  <tbody>\n",
       "    <tr>\n",
       "      <th>0</th>\n",
       "      <td>1.000000</td>\n",
       "      <td>0.000000</td>\n",
       "      <td>{'C': 0.01, 'class_weight': None, 'gamma': 0.0...</td>\n",
       "    </tr>\n",
       "    <tr>\n",
       "      <th>1</th>\n",
       "      <td>0.925444</td>\n",
       "      <td>0.001814</td>\n",
       "      <td>{'C': 0.01, 'class_weight': None, 'gamma': 0.0...</td>\n",
       "    </tr>\n",
       "    <tr>\n",
       "      <th>2</th>\n",
       "      <td>1.000000</td>\n",
       "      <td>0.000000</td>\n",
       "      <td>{'C': 0.01, 'class_weight': None, 'gamma': 0.0...</td>\n",
       "    </tr>\n",
       "    <tr>\n",
       "      <th>3</th>\n",
       "      <td>0.925444</td>\n",
       "      <td>0.001814</td>\n",
       "      <td>{'C': 0.01, 'class_weight': None, 'gamma': 0.0...</td>\n",
       "    </tr>\n",
       "    <tr>\n",
       "      <th>4</th>\n",
       "      <td>1.000000</td>\n",
       "      <td>0.000000</td>\n",
       "      <td>{'C': 0.01, 'class_weight': None, 'gamma': 0.2...</td>\n",
       "    </tr>\n",
       "    <tr>\n",
       "      <th>...</th>\n",
       "      <td>...</td>\n",
       "      <td>...</td>\n",
       "      <td>...</td>\n",
       "    </tr>\n",
       "    <tr>\n",
       "      <th>191</th>\n",
       "      <td>0.925444</td>\n",
       "      <td>0.001814</td>\n",
       "      <td>{'C': 100, 'class_weight': 'balanced', 'gamma'...</td>\n",
       "    </tr>\n",
       "    <tr>\n",
       "      <th>192</th>\n",
       "      <td>1.000000</td>\n",
       "      <td>0.000000</td>\n",
       "      <td>{'C': 100, 'class_weight': 'balanced', 'gamma'...</td>\n",
       "    </tr>\n",
       "    <tr>\n",
       "      <th>193</th>\n",
       "      <td>0.925444</td>\n",
       "      <td>0.001814</td>\n",
       "      <td>{'C': 100, 'class_weight': 'balanced', 'gamma'...</td>\n",
       "    </tr>\n",
       "    <tr>\n",
       "      <th>194</th>\n",
       "      <td>1.000000</td>\n",
       "      <td>0.000000</td>\n",
       "      <td>{'C': 100, 'class_weight': 'balanced', 'gamma'...</td>\n",
       "    </tr>\n",
       "    <tr>\n",
       "      <th>195</th>\n",
       "      <td>0.925444</td>\n",
       "      <td>0.001814</td>\n",
       "      <td>{'C': 100, 'class_weight': 'balanced', 'gamma'...</td>\n",
       "    </tr>\n",
       "  </tbody>\n",
       "</table>\n",
       "<p>196 rows × 3 columns</p>\n",
       "</div>"
      ],
      "text/plain": [
       "     mean_test_score  std_test_score  \\\n",
       "0           1.000000        0.000000   \n",
       "1           0.925444        0.001814   \n",
       "2           1.000000        0.000000   \n",
       "3           0.925444        0.001814   \n",
       "4           1.000000        0.000000   \n",
       "..               ...             ...   \n",
       "191         0.925444        0.001814   \n",
       "192         1.000000        0.000000   \n",
       "193         0.925444        0.001814   \n",
       "194         1.000000        0.000000   \n",
       "195         0.925444        0.001814   \n",
       "\n",
       "                                                params  \n",
       "0    {'C': 0.01, 'class_weight': None, 'gamma': 0.0...  \n",
       "1    {'C': 0.01, 'class_weight': None, 'gamma': 0.0...  \n",
       "2    {'C': 0.01, 'class_weight': None, 'gamma': 0.0...  \n",
       "3    {'C': 0.01, 'class_weight': None, 'gamma': 0.0...  \n",
       "4    {'C': 0.01, 'class_weight': None, 'gamma': 0.2...  \n",
       "..                                                 ...  \n",
       "191  {'C': 100, 'class_weight': 'balanced', 'gamma'...  \n",
       "192  {'C': 100, 'class_weight': 'balanced', 'gamma'...  \n",
       "193  {'C': 100, 'class_weight': 'balanced', 'gamma'...  \n",
       "194  {'C': 100, 'class_weight': 'balanced', 'gamma'...  \n",
       "195  {'C': 100, 'class_weight': 'balanced', 'gamma'...  \n",
       "\n",
       "[196 rows x 3 columns]"
      ]
     },
     "execution_count": 149,
     "metadata": {},
     "output_type": "execute_result"
    }
   ],
   "source": [
    "pd.DataFrame(grid_clf.cv_results_)[['mean_test_score', 'std_test_score', 'params']]"
   ]
  },
  {
   "cell_type": "code",
   "execution_count": 150,
   "metadata": {},
   "outputs": [
    {
     "name": "stdout",
     "output_type": "stream",
     "text": [
      "SVC(C=0.01, gamma=0.02, kernel='linear')\n"
     ]
    }
   ],
   "source": [
    "print(grid_clf.best_estimator_)"
   ]
  },
  {
   "cell_type": "code",
   "execution_count": 151,
   "metadata": {},
   "outputs": [],
   "source": [
    "#### Choosen Classifier"
   ]
  },
  {
   "cell_type": "code",
   "execution_count": 152,
   "metadata": {},
   "outputs": [],
   "source": [
    "model = svm.SVC(C=0.01, gamma=0.02, kernel='linear')"
   ]
  },
  {
   "cell_type": "code",
   "execution_count": 153,
   "metadata": {},
   "outputs": [],
   "source": [
    "from sklearn.model_selection import cross_val_score"
   ]
  },
  {
   "cell_type": "code",
   "execution_count": 154,
   "metadata": {},
   "outputs": [],
   "source": [
    "scores = cross_val_score(model,TRAIN_DATAFRAME,LABEL_Condition,cv=5)"
   ]
  },
  {
   "cell_type": "code",
   "execution_count": 155,
   "metadata": {},
   "outputs": [
    {
     "data": {
      "text/plain": [
       "array([1., 1., 1., 1., 1.])"
      ]
     },
     "execution_count": 155,
     "metadata": {},
     "output_type": "execute_result"
    }
   ],
   "source": [
    "scores"
   ]
  },
  {
   "cell_type": "code",
   "execution_count": 156,
   "metadata": {},
   "outputs": [
    {
     "data": {
      "text/plain": [
       "1.0"
      ]
     },
     "execution_count": 156,
     "metadata": {},
     "output_type": "execute_result"
    }
   ],
   "source": [
    "scores.mean()"
   ]
  },
  {
   "cell_type": "code",
   "execution_count": 157,
   "metadata": {},
   "outputs": [],
   "source": [
    "FINAL_CLASSIFIER = svm.SVC(C=0.01, gamma=0.02, kernel='linear')"
   ]
  },
  {
   "cell_type": "code",
   "execution_count": 158,
   "metadata": {},
   "outputs": [
    {
     "data": {
      "text/plain": [
       "SVC(C=0.01, gamma=0.02, kernel='linear')"
      ]
     },
     "execution_count": 158,
     "metadata": {},
     "output_type": "execute_result"
    }
   ],
   "source": [
    "FINAL_CLASSIFIER.fit(TRAIN_DATAFRAME,LABEL_Condition)"
   ]
  },
  {
   "cell_type": "code",
   "execution_count": 159,
   "metadata": {},
   "outputs": [
    {
     "data": {
      "text/plain": [
       "'C:\\\\Users\\\\alsrivas\\\\Desktop\\\\LEARN\\\\Hackerearth-ML\\\\Predict the condition and insurance amount\\\\dataset\\\\testImages'"
      ]
     },
     "execution_count": 159,
     "metadata": {},
     "output_type": "execute_result"
    }
   ],
   "source": [
    "os.getcwd()"
   ]
  },
  {
   "cell_type": "code",
   "execution_count": 160,
   "metadata": {},
   "outputs": [],
   "source": [
    "os.chdir(CURRENT_LOC)"
   ]
  },
  {
   "cell_type": "code",
   "execution_count": 161,
   "metadata": {},
   "outputs": [
    {
     "data": {
      "text/plain": [
       "'C:\\\\Users\\\\alsrivas\\\\Desktop\\\\LEARN\\\\Hackerearth-ML\\\\Predict the condition and insurance amount'"
      ]
     },
     "execution_count": 161,
     "metadata": {},
     "output_type": "execute_result"
    }
   ],
   "source": [
    "os.getcwd()"
   ]
  },
  {
   "cell_type": "code",
   "execution_count": 162,
   "metadata": {},
   "outputs": [],
   "source": [
    "ANSWER_Condition = FINAL_CLASSIFIER.predict(TEST_DATAFRAME)"
   ]
  },
  {
   "cell_type": "code",
   "execution_count": 163,
   "metadata": {},
   "outputs": [
    {
     "data": {
      "text/plain": [
       "(600,)"
      ]
     },
     "execution_count": 163,
     "metadata": {},
     "output_type": "execute_result"
    }
   ],
   "source": [
    "ANSWER_Condition.shape"
   ]
  },
  {
   "cell_type": "code",
   "execution_count": 164,
   "metadata": {},
   "outputs": [
    {
     "data": {
      "text/plain": [
       "numpy.ndarray"
      ]
     },
     "execution_count": 164,
     "metadata": {},
     "output_type": "execute_result"
    }
   ],
   "source": [
    "type(ANSWER_Condition)"
   ]
  },
  {
   "cell_type": "code",
   "execution_count": 165,
   "metadata": {},
   "outputs": [
    {
     "data": {
      "text/plain": [
       "(600,)"
      ]
     },
     "execution_count": 165,
     "metadata": {},
     "output_type": "execute_result"
    }
   ],
   "source": [
    "TEST_IMAGE_PATH.shape"
   ]
  },
  {
   "cell_type": "code",
   "execution_count": 166,
   "metadata": {},
   "outputs": [
    {
     "data": {
      "text/plain": [
       "'img_4538519.jpg'"
      ]
     },
     "execution_count": 166,
     "metadata": {},
     "output_type": "execute_result"
    }
   ],
   "source": [
    "TEST_IMAGE_PATH[0]"
   ]
  },
  {
   "cell_type": "code",
   "execution_count": 167,
   "metadata": {},
   "outputs": [],
   "source": [
    "Submission_header = ['Image_path','Condition']"
   ]
  },
  {
   "cell_type": "code",
   "execution_count": 168,
   "metadata": {},
   "outputs": [],
   "source": [
    "Submission_dict = {}\n",
    "for header in Submission_header:\n",
    "    Submission_dict['Image_path'] = pd.Series(TEST_IMAGE_PATH)\n",
    "    Submission_dict['Condition'] = pd.Series(ANSWER_Condition)"
   ]
  },
  {
   "cell_type": "code",
   "execution_count": 169,
   "metadata": {},
   "outputs": [],
   "source": [
    "Submission_part1 = pd.DataFrame(Submission_dict)"
   ]
  },
  {
   "cell_type": "code",
   "execution_count": 170,
   "metadata": {},
   "outputs": [
    {
     "data": {
      "text/html": [
       "<div>\n",
       "<style scoped>\n",
       "    .dataframe tbody tr th:only-of-type {\n",
       "        vertical-align: middle;\n",
       "    }\n",
       "\n",
       "    .dataframe tbody tr th {\n",
       "        vertical-align: top;\n",
       "    }\n",
       "\n",
       "    .dataframe thead th {\n",
       "        text-align: right;\n",
       "    }\n",
       "</style>\n",
       "<table border=\"1\" class=\"dataframe\">\n",
       "  <thead>\n",
       "    <tr style=\"text-align: right;\">\n",
       "      <th></th>\n",
       "      <th>Image_path</th>\n",
       "      <th>Condition</th>\n",
       "    </tr>\n",
       "  </thead>\n",
       "  <tbody>\n",
       "    <tr>\n",
       "      <th>0</th>\n",
       "      <td>img_4538519.jpg</td>\n",
       "      <td>1</td>\n",
       "    </tr>\n",
       "    <tr>\n",
       "      <th>1</th>\n",
       "      <td>img_7766002.jpg</td>\n",
       "      <td>1</td>\n",
       "    </tr>\n",
       "    <tr>\n",
       "      <th>2</th>\n",
       "      <td>img_4637390.jpg</td>\n",
       "      <td>1</td>\n",
       "    </tr>\n",
       "    <tr>\n",
       "      <th>3</th>\n",
       "      <td>img_4516108.jpg</td>\n",
       "      <td>1</td>\n",
       "    </tr>\n",
       "    <tr>\n",
       "      <th>4</th>\n",
       "      <td>img_4517008.jpg</td>\n",
       "      <td>1</td>\n",
       "    </tr>\n",
       "  </tbody>\n",
       "</table>\n",
       "</div>"
      ],
      "text/plain": [
       "        Image_path  Condition\n",
       "0  img_4538519.jpg          1\n",
       "1  img_7766002.jpg          1\n",
       "2  img_4637390.jpg          1\n",
       "3  img_4516108.jpg          1\n",
       "4  img_4517008.jpg          1"
      ]
     },
     "execution_count": 170,
     "metadata": {},
     "output_type": "execute_result"
    }
   ],
   "source": [
    "Submission_part1.head()"
   ]
  },
  {
   "cell_type": "code",
   "execution_count": 171,
   "metadata": {},
   "outputs": [
    {
     "data": {
      "text/plain": [
       "1    558\n",
       "0     42\n",
       "Name: Condition, dtype: int64"
      ]
     },
     "execution_count": 171,
     "metadata": {},
     "output_type": "execute_result"
    }
   ],
   "source": [
    "Submission_part1['Condition'].value_counts()"
   ]
  },
  {
   "cell_type": "code",
   "execution_count": 172,
   "metadata": {},
   "outputs": [],
   "source": [
    "#### Amount ? "
   ]
  },
  {
   "cell_type": "code",
   "execution_count": 173,
   "metadata": {},
   "outputs": [],
   "source": [
    "#TRAIN_DATAFRAME['Condition'] = LABEL_Condition"
   ]
  },
  {
   "cell_type": "code",
   "execution_count": 174,
   "metadata": {},
   "outputs": [],
   "source": [
    "#TEST_DATAFRAME['Condition'] = ANSWER_Condition"
   ]
  },
  {
   "cell_type": "code",
   "execution_count": 175,
   "metadata": {},
   "outputs": [
    {
     "data": {
      "text/plain": [
       "(1301, 21)"
      ]
     },
     "execution_count": 175,
     "metadata": {},
     "output_type": "execute_result"
    }
   ],
   "source": [
    "TRAIN_DATAFRAME.shape"
   ]
  },
  {
   "cell_type": "code",
   "execution_count": 176,
   "metadata": {},
   "outputs": [
    {
     "data": {
      "text/plain": [
       "(600, 21)"
      ]
     },
     "execution_count": 176,
     "metadata": {},
     "output_type": "execute_result"
    }
   ],
   "source": [
    "TEST_DATAFRAME.shape"
   ]
  },
  {
   "cell_type": "code",
   "execution_count": 177,
   "metadata": {},
   "outputs": [
    {
     "data": {
      "text/plain": [
       "0    1\n",
       "1    1\n",
       "2    1\n",
       "3    1\n",
       "4    1\n",
       "Name: Condition, dtype: int64"
      ]
     },
     "execution_count": 177,
     "metadata": {},
     "output_type": "execute_result"
    }
   ],
   "source": [
    "LABEL_Condition.head()"
   ]
  },
  {
   "cell_type": "code",
   "execution_count": 178,
   "metadata": {},
   "outputs": [
    {
     "data": {
      "text/html": [
       "<div>\n",
       "<style scoped>\n",
       "    .dataframe tbody tr th:only-of-type {\n",
       "        vertical-align: middle;\n",
       "    }\n",
       "\n",
       "    .dataframe tbody tr th {\n",
       "        vertical-align: top;\n",
       "    }\n",
       "\n",
       "    .dataframe thead th {\n",
       "        text-align: right;\n",
       "    }\n",
       "</style>\n",
       "<table border=\"1\" class=\"dataframe\">\n",
       "  <thead>\n",
       "    <tr style=\"text-align: right;\">\n",
       "      <th></th>\n",
       "      <th>Min_coverage</th>\n",
       "      <th>Max_coverage</th>\n",
       "      <th>energy</th>\n",
       "      <th>contrast</th>\n",
       "      <th>correlation</th>\n",
       "      <th>variance</th>\n",
       "      <th>sum average</th>\n",
       "      <th>entropy</th>\n",
       "      <th>difference variance</th>\n",
       "      <th>info_corr</th>\n",
       "      <th>...</th>\n",
       "      <th>Insurance_company_AA</th>\n",
       "      <th>Insurance_company_AC</th>\n",
       "      <th>Insurance_company_B</th>\n",
       "      <th>Insurance_company_BB</th>\n",
       "      <th>Insurance_company_BC</th>\n",
       "      <th>Insurance_company_BQ</th>\n",
       "      <th>Insurance_company_C</th>\n",
       "      <th>Insurance_company_DA</th>\n",
       "      <th>Insurance_company_O</th>\n",
       "      <th>Insurance_company_RE</th>\n",
       "    </tr>\n",
       "  </thead>\n",
       "  <tbody>\n",
       "    <tr>\n",
       "      <th>0</th>\n",
       "      <td>-1.578436</td>\n",
       "      <td>-0.742562</td>\n",
       "      <td>-0.241698</td>\n",
       "      <td>0.337478</td>\n",
       "      <td>-0.630035</td>\n",
       "      <td>-0.463363</td>\n",
       "      <td>0.428764</td>\n",
       "      <td>0.540566</td>\n",
       "      <td>-0.648101</td>\n",
       "      <td>0.505957</td>\n",
       "      <td>...</td>\n",
       "      <td>0</td>\n",
       "      <td>0</td>\n",
       "      <td>0</td>\n",
       "      <td>0</td>\n",
       "      <td>0</td>\n",
       "      <td>0</td>\n",
       "      <td>0</td>\n",
       "      <td>0</td>\n",
       "      <td>0</td>\n",
       "      <td>1</td>\n",
       "    </tr>\n",
       "    <tr>\n",
       "      <th>1</th>\n",
       "      <td>0.474201</td>\n",
       "      <td>-0.105412</td>\n",
       "      <td>-0.121838</td>\n",
       "      <td>-0.400171</td>\n",
       "      <td>0.450175</td>\n",
       "      <td>0.073507</td>\n",
       "      <td>-1.798426</td>\n",
       "      <td>-0.040817</td>\n",
       "      <td>-0.200849</td>\n",
       "      <td>0.036338</td>\n",
       "      <td>...</td>\n",
       "      <td>0</td>\n",
       "      <td>0</td>\n",
       "      <td>0</td>\n",
       "      <td>0</td>\n",
       "      <td>0</td>\n",
       "      <td>0</td>\n",
       "      <td>0</td>\n",
       "      <td>0</td>\n",
       "      <td>0</td>\n",
       "      <td>0</td>\n",
       "    </tr>\n",
       "    <tr>\n",
       "      <th>2</th>\n",
       "      <td>1.483694</td>\n",
       "      <td>0.207941</td>\n",
       "      <td>-0.219612</td>\n",
       "      <td>-0.632296</td>\n",
       "      <td>0.686181</td>\n",
       "      <td>0.195964</td>\n",
       "      <td>0.800932</td>\n",
       "      <td>-0.301947</td>\n",
       "      <td>0.081073</td>\n",
       "      <td>-0.767346</td>\n",
       "      <td>...</td>\n",
       "      <td>0</td>\n",
       "      <td>0</td>\n",
       "      <td>0</td>\n",
       "      <td>0</td>\n",
       "      <td>0</td>\n",
       "      <td>1</td>\n",
       "      <td>0</td>\n",
       "      <td>0</td>\n",
       "      <td>0</td>\n",
       "      <td>0</td>\n",
       "    </tr>\n",
       "    <tr>\n",
       "      <th>3</th>\n",
       "      <td>-0.927874</td>\n",
       "      <td>-0.540623</td>\n",
       "      <td>-0.254138</td>\n",
       "      <td>0.174012</td>\n",
       "      <td>-0.914608</td>\n",
       "      <td>-0.945268</td>\n",
       "      <td>-0.259782</td>\n",
       "      <td>0.480704</td>\n",
       "      <td>-0.578456</td>\n",
       "      <td>0.789690</td>\n",
       "      <td>...</td>\n",
       "      <td>1</td>\n",
       "      <td>0</td>\n",
       "      <td>0</td>\n",
       "      <td>0</td>\n",
       "      <td>0</td>\n",
       "      <td>0</td>\n",
       "      <td>0</td>\n",
       "      <td>0</td>\n",
       "      <td>0</td>\n",
       "      <td>0</td>\n",
       "    </tr>\n",
       "    <tr>\n",
       "      <th>4</th>\n",
       "      <td>0.799482</td>\n",
       "      <td>-0.004443</td>\n",
       "      <td>5.781703</td>\n",
       "      <td>-0.402690</td>\n",
       "      <td>0.621803</td>\n",
       "      <td>2.207723</td>\n",
       "      <td>2.216030</td>\n",
       "      <td>-3.167906</td>\n",
       "      <td>2.681821</td>\n",
       "      <td>-0.896703</td>\n",
       "      <td>...</td>\n",
       "      <td>0</td>\n",
       "      <td>0</td>\n",
       "      <td>0</td>\n",
       "      <td>1</td>\n",
       "      <td>0</td>\n",
       "      <td>0</td>\n",
       "      <td>0</td>\n",
       "      <td>0</td>\n",
       "      <td>0</td>\n",
       "      <td>0</td>\n",
       "    </tr>\n",
       "  </tbody>\n",
       "</table>\n",
       "<p>5 rows × 21 columns</p>\n",
       "</div>"
      ],
      "text/plain": [
       "   Min_coverage  Max_coverage    energy  contrast  correlation  variance  \\\n",
       "0     -1.578436     -0.742562 -0.241698  0.337478    -0.630035 -0.463363   \n",
       "1      0.474201     -0.105412 -0.121838 -0.400171     0.450175  0.073507   \n",
       "2      1.483694      0.207941 -0.219612 -0.632296     0.686181  0.195964   \n",
       "3     -0.927874     -0.540623 -0.254138  0.174012    -0.914608 -0.945268   \n",
       "4      0.799482     -0.004443  5.781703 -0.402690     0.621803  2.207723   \n",
       "\n",
       "   sum average   entropy  difference variance  info_corr  ...  \\\n",
       "0     0.428764  0.540566            -0.648101   0.505957  ...   \n",
       "1    -1.798426 -0.040817            -0.200849   0.036338  ...   \n",
       "2     0.800932 -0.301947             0.081073  -0.767346  ...   \n",
       "3    -0.259782  0.480704            -0.578456   0.789690  ...   \n",
       "4     2.216030 -3.167906             2.681821  -0.896703  ...   \n",
       "\n",
       "   Insurance_company_AA  Insurance_company_AC  Insurance_company_B  \\\n",
       "0                     0                     0                    0   \n",
       "1                     0                     0                    0   \n",
       "2                     0                     0                    0   \n",
       "3                     1                     0                    0   \n",
       "4                     0                     0                    0   \n",
       "\n",
       "   Insurance_company_BB  Insurance_company_BC  Insurance_company_BQ  \\\n",
       "0                     0                     0                     0   \n",
       "1                     0                     0                     0   \n",
       "2                     0                     0                     1   \n",
       "3                     0                     0                     0   \n",
       "4                     1                     0                     0   \n",
       "\n",
       "   Insurance_company_C  Insurance_company_DA  Insurance_company_O  \\\n",
       "0                    0                     0                    0   \n",
       "1                    0                     0                    0   \n",
       "2                    0                     0                    0   \n",
       "3                    0                     0                    0   \n",
       "4                    0                     0                    0   \n",
       "\n",
       "   Insurance_company_RE  \n",
       "0                     1  \n",
       "1                     0  \n",
       "2                     0  \n",
       "3                     0  \n",
       "4                     0  \n",
       "\n",
       "[5 rows x 21 columns]"
      ]
     },
     "execution_count": 178,
     "metadata": {},
     "output_type": "execute_result"
    }
   ],
   "source": [
    "TRAIN_DATAFRAME.head()"
   ]
  },
  {
   "cell_type": "code",
   "execution_count": 179,
   "metadata": {},
   "outputs": [],
   "source": [
    "from sklearn.model_selection import train_test_split\n",
    "from sklearn import svm\n",
    "from sklearn.linear_model import LinearRegression"
   ]
  },
  {
   "cell_type": "code",
   "execution_count": 180,
   "metadata": {},
   "outputs": [],
   "source": [
    "train_x,validation_x,train_y,validation_y = train_test_split(TRAIN_DATAFRAME,LABEL_Amount,test_size=0.28,random_state=0) "
   ]
  },
  {
   "cell_type": "code",
   "execution_count": 181,
   "metadata": {},
   "outputs": [
    {
     "name": "stdout",
     "output_type": "stream",
     "text": [
      "length of train data :  936\n",
      "length of validation data :  365\n"
     ]
    }
   ],
   "source": [
    "print(\"length of train data : \", len(train_x))\n",
    "print(\"length of validation data : \", len(validation_x))"
   ]
  },
  {
   "cell_type": "code",
   "execution_count": 182,
   "metadata": {},
   "outputs": [],
   "source": [
    "#### Linear Regression Baseline"
   ]
  },
  {
   "cell_type": "code",
   "execution_count": 183,
   "metadata": {},
   "outputs": [],
   "source": [
    "model1 = LinearRegression()"
   ]
  },
  {
   "cell_type": "code",
   "execution_count": 184,
   "metadata": {},
   "outputs": [
    {
     "data": {
      "text/plain": [
       "LinearRegression()"
      ]
     },
     "execution_count": 184,
     "metadata": {},
     "output_type": "execute_result"
    }
   ],
   "source": [
    "model1.fit(train_x,train_y)"
   ]
  },
  {
   "cell_type": "code",
   "execution_count": 185,
   "metadata": {},
   "outputs": [],
   "source": [
    "predict_y = model1.predict(validation_x)"
   ]
  },
  {
   "cell_type": "code",
   "execution_count": 186,
   "metadata": {},
   "outputs": [],
   "source": [
    "from sklearn.metrics import r2_score"
   ]
  },
  {
   "cell_type": "code",
   "execution_count": 187,
   "metadata": {},
   "outputs": [],
   "source": [
    "r2_score?"
   ]
  },
  {
   "cell_type": "code",
   "execution_count": 188,
   "metadata": {},
   "outputs": [
    {
     "data": {
      "text/plain": [
       "0.16670506452306744"
      ]
     },
     "execution_count": 188,
     "metadata": {},
     "output_type": "execute_result"
    }
   ],
   "source": [
    "r2_score(validation_y,predict_y)"
   ]
  },
  {
   "cell_type": "code",
   "execution_count": 189,
   "metadata": {},
   "outputs": [
    {
     "data": {
      "text/plain": [
       "SVR()"
      ]
     },
     "execution_count": 189,
     "metadata": {},
     "output_type": "execute_result"
    }
   ],
   "source": [
    "model2 = svm.SVR()\n",
    "model2.fit(train_x,train_y)"
   ]
  },
  {
   "cell_type": "code",
   "execution_count": 190,
   "metadata": {},
   "outputs": [],
   "source": [
    "predict_svr = model2.predict(validation_x)"
   ]
  },
  {
   "cell_type": "code",
   "execution_count": 191,
   "metadata": {},
   "outputs": [
    {
     "data": {
      "text/plain": [
       "-0.013289363285604372"
      ]
     },
     "execution_count": 191,
     "metadata": {},
     "output_type": "execute_result"
    }
   ],
   "source": [
    "r2_score(validation_y,predict_svr)"
   ]
  },
  {
   "cell_type": "code",
   "execution_count": 192,
   "metadata": {},
   "outputs": [],
   "source": [
    "from sklearn.linear_model import Ridge"
   ]
  },
  {
   "cell_type": "code",
   "execution_count": 193,
   "metadata": {},
   "outputs": [],
   "source": [
    "model3 = Ridge()"
   ]
  },
  {
   "cell_type": "code",
   "execution_count": 194,
   "metadata": {},
   "outputs": [
    {
     "data": {
      "text/plain": [
       "Ridge()"
      ]
     },
     "execution_count": 194,
     "metadata": {},
     "output_type": "execute_result"
    }
   ],
   "source": [
    "model3.fit(train_x,train_y)"
   ]
  },
  {
   "cell_type": "code",
   "execution_count": 195,
   "metadata": {},
   "outputs": [
    {
     "data": {
      "text/plain": [
       "0.16766543509753118"
      ]
     },
     "execution_count": 195,
     "metadata": {},
     "output_type": "execute_result"
    }
   ],
   "source": [
    "predict_ridge = model3.predict(validation_x)\n",
    "r2_score(validation_y,predict_ridge)"
   ]
  },
  {
   "cell_type": "code",
   "execution_count": 196,
   "metadata": {},
   "outputs": [],
   "source": [
    "from sklearn.linear_model import Lasso"
   ]
  },
  {
   "cell_type": "code",
   "execution_count": 197,
   "metadata": {},
   "outputs": [],
   "source": [
    "model4 = Lasso()"
   ]
  },
  {
   "cell_type": "code",
   "execution_count": 198,
   "metadata": {},
   "outputs": [
    {
     "data": {
      "text/plain": [
       "Lasso()"
      ]
     },
     "execution_count": 198,
     "metadata": {},
     "output_type": "execute_result"
    }
   ],
   "source": [
    "model4.fit(train_x,train_y)"
   ]
  },
  {
   "cell_type": "code",
   "execution_count": 199,
   "metadata": {},
   "outputs": [],
   "source": [
    "predict_lasso = model4.predict(validation_x)"
   ]
  },
  {
   "cell_type": "code",
   "execution_count": 200,
   "metadata": {},
   "outputs": [
    {
     "data": {
      "text/plain": [
       "0.16841386521859636"
      ]
     },
     "execution_count": 200,
     "metadata": {},
     "output_type": "execute_result"
    }
   ],
   "source": [
    "r2_score(validation_y,predict_lasso)"
   ]
  },
  {
   "cell_type": "code",
   "execution_count": 201,
   "metadata": {},
   "outputs": [],
   "source": [
    "from sklearn.linear_model import BayesianRidge"
   ]
  },
  {
   "cell_type": "code",
   "execution_count": 202,
   "metadata": {},
   "outputs": [],
   "source": [
    "model5 = BayesianRidge()"
   ]
  },
  {
   "cell_type": "code",
   "execution_count": 203,
   "metadata": {},
   "outputs": [
    {
     "data": {
      "text/plain": [
       "0.16841386521859636"
      ]
     },
     "execution_count": 203,
     "metadata": {},
     "output_type": "execute_result"
    }
   ],
   "source": [
    "model5.fit(train_x,train_y)\n",
    "predict_bayridge = model5.predict(validation_x)\n",
    "r2_score(validation_y,predict_lasso)"
   ]
  },
  {
   "cell_type": "code",
   "execution_count": 204,
   "metadata": {},
   "outputs": [],
   "source": [
    "from sklearn.linear_model import LassoLars"
   ]
  },
  {
   "cell_type": "code",
   "execution_count": 205,
   "metadata": {},
   "outputs": [
    {
     "data": {
      "text/plain": [
       "0.16841386521859636"
      ]
     },
     "execution_count": 205,
     "metadata": {},
     "output_type": "execute_result"
    }
   ],
   "source": [
    "model6 = LassoLars(alpha=0.1)\n",
    "model6.fit(train_x,train_y)\n",
    "predict_bayridge = model6.predict(validation_x)\n",
    "r2_score(validation_y,predict_lasso)"
   ]
  },
  {
   "cell_type": "code",
   "execution_count": 206,
   "metadata": {},
   "outputs": [],
   "source": [
    "Lasso?"
   ]
  },
  {
   "cell_type": "code",
   "execution_count": 207,
   "metadata": {},
   "outputs": [],
   "source": [
    "alpha_lasso = [0.01, 0.1, 1, 5, 10, 15, 20, 25, 30, 50, 100]\n",
    "fit_lasso = [True, False]\n",
    "iteration_lasso = [1000,2000,3000,5000]\n",
    "tol_lasso = [1e-2,1e-3,1e-4]\n",
    "\n",
    "selection_lasso = ['cyclic', 'random']\n",
    "model_performance = []"
   ]
  },
  {
   "cell_type": "code",
   "execution_count": 208,
   "metadata": {},
   "outputs": [],
   "source": [
    "best_model = None\n",
    "best_performance = None\n",
    "for i in alpha_lasso:\n",
    "    for j in fit_lasso:\n",
    "        for k in iteration_lasso:\n",
    "            for l in tol_lasso:\n",
    "                for m in selection_lasso:\n",
    "                    model = Lasso(alpha=i,fit_intercept=j,max_iter=k,tol=l,selection=m)\n",
    "                    model.fit(train_x,train_y)\n",
    "                    predictY = model.predict(validation_x)\n",
    "                    model_per = r2_score(validation_y,predictY)\n",
    "                    model_performance.append((model_per,model))\n",
    "                    if best_model is None:\n",
    "                        best_model = model\n",
    "                        best_performance = model_per\n",
    "                    elif best_performance < model_per:\n",
    "                        best_performance = model_per\n",
    "                        best_model = model"
   ]
  },
  {
   "cell_type": "code",
   "execution_count": 209,
   "metadata": {},
   "outputs": [
    {
     "data": {
      "text/plain": [
       "Lasso(alpha=50, max_iter=2000, selection='random', tol=0.01)"
      ]
     },
     "execution_count": 209,
     "metadata": {},
     "output_type": "execute_result"
    }
   ],
   "source": [
    "best_model"
   ]
  },
  {
   "cell_type": "code",
   "execution_count": 210,
   "metadata": {},
   "outputs": [
    {
     "data": {
      "text/plain": [
       "0.18748448438354315"
      ]
     },
     "execution_count": 210,
     "metadata": {},
     "output_type": "execute_result"
    }
   ],
   "source": [
    "best_performance"
   ]
  },
  {
   "cell_type": "code",
   "execution_count": 211,
   "metadata": {},
   "outputs": [],
   "source": [
    "FINAL_ESTIMATOR = Lasso(alpha=30, max_iter=3000, selection='random', tol=0.01)"
   ]
  },
  {
   "cell_type": "code",
   "execution_count": 212,
   "metadata": {},
   "outputs": [],
   "source": [
    "scores = cross_val_score(FINAL_ESTIMATOR,TRAIN_DATAFRAME,LABEL_Amount,cv=5)"
   ]
  },
  {
   "cell_type": "code",
   "execution_count": 213,
   "metadata": {},
   "outputs": [
    {
     "data": {
      "text/plain": [
       "array([0.14783885, 0.10645792, 0.14642634, 0.18749592, 0.09589465])"
      ]
     },
     "execution_count": 213,
     "metadata": {},
     "output_type": "execute_result"
    }
   ],
   "source": [
    "scores"
   ]
  },
  {
   "cell_type": "code",
   "execution_count": 214,
   "metadata": {},
   "outputs": [
    {
     "data": {
      "text/plain": [
       "0.13682273436228726"
      ]
     },
     "execution_count": 214,
     "metadata": {},
     "output_type": "execute_result"
    }
   ],
   "source": [
    "scores.mean()"
   ]
  },
  {
   "cell_type": "code",
   "execution_count": 215,
   "metadata": {},
   "outputs": [],
   "source": [
    "FINAL_ESTIMATOR = Lasso(alpha=30, max_iter=3000, selection='random', tol=0.01)"
   ]
  },
  {
   "cell_type": "code",
   "execution_count": 216,
   "metadata": {},
   "outputs": [],
   "source": [
    "alpha_lasso = [25, 26, 27, 28, 29, 30, 31, 32, 33, 34, 35, 40, 50, 100]\n",
    "fit_lasso = [True, False]\n",
    "iteration_lasso = [2500,2600,2700, 2800, 2900,3000, 3100, 3300, 3500, 3700, 3900, 4000, 5000]\n",
    "tol_lasso = [1e-1, 1e-2,1e-3,1e-4]\n",
    "\n",
    "selection_lasso = ['cyclic', 'random']\n",
    "model_performance = []"
   ]
  },
  {
   "cell_type": "code",
   "execution_count": 217,
   "metadata": {},
   "outputs": [],
   "source": [
    "best_model = None\n",
    "best_performance = None\n",
    "for i in alpha_lasso:\n",
    "    for j in fit_lasso:\n",
    "        for k in iteration_lasso:\n",
    "            for l in tol_lasso:\n",
    "                for m in selection_lasso:\n",
    "                    model = Lasso(alpha=i,fit_intercept=j,max_iter=k,tol=l,selection=m)\n",
    "                    model.fit(train_x,train_y)\n",
    "                    predictY = model.predict(validation_x)\n",
    "                    model_per = r2_score(validation_y,predictY)\n",
    "                    model_performance.append((model_per,model))\n",
    "                    if best_model is None:\n",
    "                        best_model = model\n",
    "                        best_performance = model_per\n",
    "                    elif best_performance < model_per:\n",
    "                        best_performance = model_per\n",
    "                        best_model = model"
   ]
  },
  {
   "cell_type": "code",
   "execution_count": 218,
   "metadata": {},
   "outputs": [
    {
     "data": {
      "text/plain": [
       "2912"
      ]
     },
     "execution_count": 218,
     "metadata": {},
     "output_type": "execute_result"
    }
   ],
   "source": [
    "len(model_performance)"
   ]
  },
  {
   "cell_type": "code",
   "execution_count": 219,
   "metadata": {},
   "outputs": [
    {
     "data": {
      "text/plain": [
       "2912"
      ]
     },
     "execution_count": 219,
     "metadata": {},
     "output_type": "execute_result"
    }
   ],
   "source": [
    "len(selection_lasso)*len(tol_lasso)*len(iteration_lasso)*len(fit_lasso)*len(alpha_lasso)"
   ]
  },
  {
   "cell_type": "code",
   "execution_count": 220,
   "metadata": {},
   "outputs": [
    {
     "data": {
      "text/plain": [
       "Lasso(alpha=34, max_iter=2500, selection='random', tol=0.1)"
      ]
     },
     "execution_count": 220,
     "metadata": {},
     "output_type": "execute_result"
    }
   ],
   "source": [
    "best_model"
   ]
  },
  {
   "cell_type": "code",
   "execution_count": 221,
   "metadata": {},
   "outputs": [
    {
     "data": {
      "text/plain": [
       "0.19107947685093252"
      ]
     },
     "execution_count": 221,
     "metadata": {},
     "output_type": "execute_result"
    }
   ],
   "source": [
    "best_performance"
   ]
  },
  {
   "cell_type": "code",
   "execution_count": 222,
   "metadata": {},
   "outputs": [],
   "source": [
    "alpha_lasso = [31, 32, 33, 34, 35, 36,37,38,39,40,41,42,43,44,45,46, 50, 100]\n",
    "fit_lasso = [True, False]\n",
    "iteration_lasso = [2500,2600,2700, 2800, 2900,3000, 3100, 3300, 3500, 3700, 3900, 4000, 5000]\n",
    "tol_lasso = [1e-1, 1e-2,1e-3,1e-4]\n",
    "\n",
    "selection_lasso = ['cyclic', 'random']\n",
    "model_performance = []"
   ]
  },
  {
   "cell_type": "code",
   "execution_count": 223,
   "metadata": {},
   "outputs": [],
   "source": [
    "best_model = None\n",
    "best_performance = None\n",
    "for i in alpha_lasso:\n",
    "    for j in fit_lasso:\n",
    "        for k in iteration_lasso:\n",
    "            for l in tol_lasso:\n",
    "                for m in selection_lasso:\n",
    "                    model = Lasso(alpha=i,fit_intercept=j,max_iter=k,tol=l,selection=m)\n",
    "                    model.fit(train_x,train_y)\n",
    "                    predictY = model.predict(validation_x)\n",
    "                    model_per = r2_score(validation_y,predictY)\n",
    "                    model_performance.append((model_per,model))\n",
    "                    if best_model is None:\n",
    "                        best_model = model\n",
    "                        best_performance = model_per\n",
    "                    elif best_performance < model_per:\n",
    "                        best_performance = model_per\n",
    "                        best_model = model"
   ]
  },
  {
   "cell_type": "code",
   "execution_count": 224,
   "metadata": {},
   "outputs": [
    {
     "data": {
      "text/plain": [
       "Lasso(alpha=50, max_iter=3100, selection='random', tol=0.1)"
      ]
     },
     "execution_count": 224,
     "metadata": {},
     "output_type": "execute_result"
    }
   ],
   "source": [
    "best_model"
   ]
  },
  {
   "cell_type": "code",
   "execution_count": 225,
   "metadata": {},
   "outputs": [
    {
     "data": {
      "text/plain": [
       "0.1915806478458435"
      ]
     },
     "execution_count": 225,
     "metadata": {},
     "output_type": "execute_result"
    }
   ],
   "source": [
    "best_performance"
   ]
  },
  {
   "cell_type": "code",
   "execution_count": 226,
   "metadata": {},
   "outputs": [],
   "source": [
    "FINAL_ESTIMATOR = Lasso(alpha=33, max_iter=3500, selection='random', tol=0.01)"
   ]
  },
  {
   "cell_type": "code",
   "execution_count": 227,
   "metadata": {},
   "outputs": [],
   "source": [
    "scores = cross_val_score(FINAL_ESTIMATOR,TRAIN_DATAFRAME,LABEL_Amount,cv=5)"
   ]
  },
  {
   "cell_type": "code",
   "execution_count": 228,
   "metadata": {},
   "outputs": [
    {
     "data": {
      "text/plain": [
       "0.13706402901756065"
      ]
     },
     "execution_count": 228,
     "metadata": {},
     "output_type": "execute_result"
    }
   ],
   "source": [
    "scores.mean()"
   ]
  },
  {
   "cell_type": "code",
   "execution_count": 229,
   "metadata": {},
   "outputs": [
    {
     "name": "stdout",
     "output_type": "stream",
     "text": [
      "[0.14434926 0.10988308 0.14652524 0.18563111 0.09745754]\n",
      "0.13676924515106445\n"
     ]
    }
   ],
   "source": [
    "FINAL_ESTIMATOR = Lasso(alpha=40, max_iter=3300, selection='random', tol=0.1)\n",
    "scores = cross_val_score(FINAL_ESTIMATOR,TRAIN_DATAFRAME,LABEL_Amount,cv=5)\n",
    "print(scores)\n",
    "print(scores.mean())"
   ]
  },
  {
   "cell_type": "markdown",
   "metadata": {},
   "source": [
    "### FINAL ESTIMATOR"
   ]
  },
  {
   "cell_type": "code",
   "execution_count": 230,
   "metadata": {},
   "outputs": [],
   "source": [
    "FINAL_ESTIMATOR = Lasso(alpha=40, max_iter=3300, selection='random', tol=0.1)"
   ]
  },
  {
   "cell_type": "code",
   "execution_count": 231,
   "metadata": {},
   "outputs": [
    {
     "data": {
      "text/plain": [
       "Lasso(alpha=40, max_iter=3300, selection='random', tol=0.1)"
      ]
     },
     "execution_count": 231,
     "metadata": {},
     "output_type": "execute_result"
    }
   ],
   "source": [
    "FINAL_ESTIMATOR.fit(TRAIN_DATAFRAME,LABEL_Amount)"
   ]
  },
  {
   "cell_type": "code",
   "execution_count": 232,
   "metadata": {},
   "outputs": [],
   "source": [
    "ANSWER_Amount = FINAL_ESTIMATOR.predict(TEST_DATAFRAME)"
   ]
  },
  {
   "cell_type": "code",
   "execution_count": 233,
   "metadata": {},
   "outputs": [
    {
     "name": "stdout",
     "output_type": "stream",
     "text": [
      "(600,)\n"
     ]
    }
   ],
   "source": [
    "print(ANSWER_Amount.shape)"
   ]
  },
  {
   "cell_type": "code",
   "execution_count": 234,
   "metadata": {},
   "outputs": [
    {
     "name": "stdout",
     "output_type": "stream",
     "text": [
      "<class 'numpy.ndarray'>\n"
     ]
    }
   ],
   "source": [
    "print(type(ANSWER_Amount))"
   ]
  },
  {
   "cell_type": "code",
   "execution_count": 235,
   "metadata": {},
   "outputs": [],
   "source": [
    "Submission_part1['Amount'] = pd.Series(ANSWER_Amount)"
   ]
  },
  {
   "cell_type": "code",
   "execution_count": 236,
   "metadata": {},
   "outputs": [
    {
     "data": {
      "text/html": [
       "<div>\n",
       "<style scoped>\n",
       "    .dataframe tbody tr th:only-of-type {\n",
       "        vertical-align: middle;\n",
       "    }\n",
       "\n",
       "    .dataframe tbody tr th {\n",
       "        vertical-align: top;\n",
       "    }\n",
       "\n",
       "    .dataframe thead th {\n",
       "        text-align: right;\n",
       "    }\n",
       "</style>\n",
       "<table border=\"1\" class=\"dataframe\">\n",
       "  <thead>\n",
       "    <tr style=\"text-align: right;\">\n",
       "      <th></th>\n",
       "      <th>Image_path</th>\n",
       "      <th>Condition</th>\n",
       "      <th>Amount</th>\n",
       "    </tr>\n",
       "  </thead>\n",
       "  <tbody>\n",
       "    <tr>\n",
       "      <th>0</th>\n",
       "      <td>img_4538519.jpg</td>\n",
       "      <td>1</td>\n",
       "      <td>4227.441846</td>\n",
       "    </tr>\n",
       "    <tr>\n",
       "      <th>1</th>\n",
       "      <td>img_7766002.jpg</td>\n",
       "      <td>1</td>\n",
       "      <td>4150.007435</td>\n",
       "    </tr>\n",
       "    <tr>\n",
       "      <th>2</th>\n",
       "      <td>img_4637390.jpg</td>\n",
       "      <td>1</td>\n",
       "      <td>4180.680373</td>\n",
       "    </tr>\n",
       "    <tr>\n",
       "      <th>3</th>\n",
       "      <td>img_4516108.jpg</td>\n",
       "      <td>1</td>\n",
       "      <td>4495.936615</td>\n",
       "    </tr>\n",
       "    <tr>\n",
       "      <th>4</th>\n",
       "      <td>img_4517008.jpg</td>\n",
       "      <td>1</td>\n",
       "      <td>3818.387303</td>\n",
       "    </tr>\n",
       "  </tbody>\n",
       "</table>\n",
       "</div>"
      ],
      "text/plain": [
       "        Image_path  Condition       Amount\n",
       "0  img_4538519.jpg          1  4227.441846\n",
       "1  img_7766002.jpg          1  4150.007435\n",
       "2  img_4637390.jpg          1  4180.680373\n",
       "3  img_4516108.jpg          1  4495.936615\n",
       "4  img_4517008.jpg          1  3818.387303"
      ]
     },
     "execution_count": 236,
     "metadata": {},
     "output_type": "execute_result"
    }
   ],
   "source": [
    "Submission_part1.head()"
   ]
  },
  {
   "cell_type": "code",
   "execution_count": 237,
   "metadata": {},
   "outputs": [],
   "source": [
    "Submission_part1['Amount'] = Submission_part1['Amount'].round(2)"
   ]
  },
  {
   "cell_type": "code",
   "execution_count": 238,
   "metadata": {},
   "outputs": [
    {
     "data": {
      "text/html": [
       "<div>\n",
       "<style scoped>\n",
       "    .dataframe tbody tr th:only-of-type {\n",
       "        vertical-align: middle;\n",
       "    }\n",
       "\n",
       "    .dataframe tbody tr th {\n",
       "        vertical-align: top;\n",
       "    }\n",
       "\n",
       "    .dataframe thead th {\n",
       "        text-align: right;\n",
       "    }\n",
       "</style>\n",
       "<table border=\"1\" class=\"dataframe\">\n",
       "  <thead>\n",
       "    <tr style=\"text-align: right;\">\n",
       "      <th></th>\n",
       "      <th>Image_path</th>\n",
       "      <th>Condition</th>\n",
       "      <th>Amount</th>\n",
       "    </tr>\n",
       "  </thead>\n",
       "  <tbody>\n",
       "    <tr>\n",
       "      <th>0</th>\n",
       "      <td>img_4538519.jpg</td>\n",
       "      <td>1</td>\n",
       "      <td>4227.44</td>\n",
       "    </tr>\n",
       "    <tr>\n",
       "      <th>1</th>\n",
       "      <td>img_7766002.jpg</td>\n",
       "      <td>1</td>\n",
       "      <td>4150.01</td>\n",
       "    </tr>\n",
       "    <tr>\n",
       "      <th>2</th>\n",
       "      <td>img_4637390.jpg</td>\n",
       "      <td>1</td>\n",
       "      <td>4180.68</td>\n",
       "    </tr>\n",
       "    <tr>\n",
       "      <th>3</th>\n",
       "      <td>img_4516108.jpg</td>\n",
       "      <td>1</td>\n",
       "      <td>4495.94</td>\n",
       "    </tr>\n",
       "    <tr>\n",
       "      <th>4</th>\n",
       "      <td>img_4517008.jpg</td>\n",
       "      <td>1</td>\n",
       "      <td>3818.39</td>\n",
       "    </tr>\n",
       "  </tbody>\n",
       "</table>\n",
       "</div>"
      ],
      "text/plain": [
       "        Image_path  Condition   Amount\n",
       "0  img_4538519.jpg          1  4227.44\n",
       "1  img_7766002.jpg          1  4150.01\n",
       "2  img_4637390.jpg          1  4180.68\n",
       "3  img_4516108.jpg          1  4495.94\n",
       "4  img_4517008.jpg          1  3818.39"
      ]
     },
     "execution_count": 238,
     "metadata": {},
     "output_type": "execute_result"
    }
   ],
   "source": [
    "Submission_part1.head()"
   ]
  },
  {
   "cell_type": "code",
   "execution_count": 239,
   "metadata": {},
   "outputs": [],
   "source": [
    "# FILTER_AMOUNT_BY_CONDITION"
   ]
  },
  {
   "cell_type": "code",
   "execution_count": 240,
   "metadata": {},
   "outputs": [],
   "source": [
    "Submission_part1.loc [Submission_part1.Condition==0,'Amount']=0.0"
   ]
  },
  {
   "cell_type": "code",
   "execution_count": 241,
   "metadata": {},
   "outputs": [
    {
     "data": {
      "text/html": [
       "<div>\n",
       "<style scoped>\n",
       "    .dataframe tbody tr th:only-of-type {\n",
       "        vertical-align: middle;\n",
       "    }\n",
       "\n",
       "    .dataframe tbody tr th {\n",
       "        vertical-align: top;\n",
       "    }\n",
       "\n",
       "    .dataframe thead th {\n",
       "        text-align: right;\n",
       "    }\n",
       "</style>\n",
       "<table border=\"1\" class=\"dataframe\">\n",
       "  <thead>\n",
       "    <tr style=\"text-align: right;\">\n",
       "      <th></th>\n",
       "      <th>Image_path</th>\n",
       "      <th>Condition</th>\n",
       "      <th>Amount</th>\n",
       "    </tr>\n",
       "  </thead>\n",
       "  <tbody>\n",
       "    <tr>\n",
       "      <th>0</th>\n",
       "      <td>img_4538519.jpg</td>\n",
       "      <td>1</td>\n",
       "      <td>4227.44</td>\n",
       "    </tr>\n",
       "    <tr>\n",
       "      <th>1</th>\n",
       "      <td>img_7766002.jpg</td>\n",
       "      <td>1</td>\n",
       "      <td>4150.01</td>\n",
       "    </tr>\n",
       "    <tr>\n",
       "      <th>2</th>\n",
       "      <td>img_4637390.jpg</td>\n",
       "      <td>1</td>\n",
       "      <td>4180.68</td>\n",
       "    </tr>\n",
       "    <tr>\n",
       "      <th>3</th>\n",
       "      <td>img_4516108.jpg</td>\n",
       "      <td>1</td>\n",
       "      <td>4495.94</td>\n",
       "    </tr>\n",
       "    <tr>\n",
       "      <th>4</th>\n",
       "      <td>img_4517008.jpg</td>\n",
       "      <td>1</td>\n",
       "      <td>3818.39</td>\n",
       "    </tr>\n",
       "    <tr>\n",
       "      <th>...</th>\n",
       "      <td>...</td>\n",
       "      <td>...</td>\n",
       "      <td>...</td>\n",
       "    </tr>\n",
       "    <tr>\n",
       "      <th>595</th>\n",
       "      <td>img_7766518.jpg</td>\n",
       "      <td>1</td>\n",
       "      <td>4393.97</td>\n",
       "    </tr>\n",
       "    <tr>\n",
       "      <th>596</th>\n",
       "      <td>img_4535713.jpg</td>\n",
       "      <td>1</td>\n",
       "      <td>4462.65</td>\n",
       "    </tr>\n",
       "    <tr>\n",
       "      <th>597</th>\n",
       "      <td>img_4511787.jpg</td>\n",
       "      <td>0</td>\n",
       "      <td>0.00</td>\n",
       "    </tr>\n",
       "    <tr>\n",
       "      <th>598</th>\n",
       "      <td>img_4517592.jpg</td>\n",
       "      <td>1</td>\n",
       "      <td>4607.49</td>\n",
       "    </tr>\n",
       "    <tr>\n",
       "      <th>599</th>\n",
       "      <td>img_4635378.jpg</td>\n",
       "      <td>1</td>\n",
       "      <td>4778.66</td>\n",
       "    </tr>\n",
       "  </tbody>\n",
       "</table>\n",
       "<p>600 rows × 3 columns</p>\n",
       "</div>"
      ],
      "text/plain": [
       "          Image_path  Condition   Amount\n",
       "0    img_4538519.jpg          1  4227.44\n",
       "1    img_7766002.jpg          1  4150.01\n",
       "2    img_4637390.jpg          1  4180.68\n",
       "3    img_4516108.jpg          1  4495.94\n",
       "4    img_4517008.jpg          1  3818.39\n",
       "..               ...        ...      ...\n",
       "595  img_7766518.jpg          1  4393.97\n",
       "596  img_4535713.jpg          1  4462.65\n",
       "597  img_4511787.jpg          0     0.00\n",
       "598  img_4517592.jpg          1  4607.49\n",
       "599  img_4635378.jpg          1  4778.66\n",
       "\n",
       "[600 rows x 3 columns]"
      ]
     },
     "execution_count": 241,
     "metadata": {},
     "output_type": "execute_result"
    }
   ],
   "source": [
    "Submission_part1"
   ]
  },
  {
   "cell_type": "code",
   "execution_count": 242,
   "metadata": {},
   "outputs": [],
   "source": [
    "Submission_part1.to_csv('submission.csv',index=False)"
   ]
  }
 ],
 "metadata": {
  "kernelspec": {
   "display_name": "Python 3",
   "language": "python",
   "name": "python3"
  },
  "language_info": {
   "codemirror_mode": {
    "name": "ipython",
    "version": 3
   },
   "file_extension": ".py",
   "mimetype": "text/x-python",
   "name": "python",
   "nbconvert_exporter": "python",
   "pygments_lexer": "ipython3",
   "version": "3.7.1"
  }
 },
 "nbformat": 4,
 "nbformat_minor": 4
}
