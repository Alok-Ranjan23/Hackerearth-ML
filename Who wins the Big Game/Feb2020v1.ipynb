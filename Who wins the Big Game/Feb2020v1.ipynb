{
 "cells": [
  {
   "cell_type": "code",
   "execution_count": 1,
   "metadata": {},
   "outputs": [],
   "source": [
    "import numpy as np\n",
    "import pandas as pd\n",
    "import matplotlib.pyplot as plt\n",
    "import seaborn as sns"
   ]
  },
  {
   "cell_type": "code",
   "execution_count": 2,
   "metadata": {},
   "outputs": [],
   "source": [
    "train = pd.read_csv('Dataset/train.csv')\n",
    "test = pd.read_csv('Dataset/test.csv')"
   ]
  },
  {
   "cell_type": "code",
   "execution_count": 3,
   "metadata": {},
   "outputs": [
    {
     "data": {
      "text/plain": [
       "(6500, 10)"
      ]
     },
     "execution_count": 3,
     "metadata": {},
     "output_type": "execute_result"
    }
   ],
   "source": [
    "train.shape"
   ]
  },
  {
   "cell_type": "code",
   "execution_count": 4,
   "metadata": {},
   "outputs": [
    {
     "data": {
      "text/plain": [
       "(3500, 9)"
      ]
     },
     "execution_count": 4,
     "metadata": {},
     "output_type": "execute_result"
    }
   ],
   "source": [
    "test.shape"
   ]
  },
  {
   "cell_type": "markdown",
   "metadata": {},
   "source": [
    "### We are now going to choose SVM for classification as data is less and the previous logistic classifier is not good."
   ]
  },
  {
   "cell_type": "code",
   "execution_count": 5,
   "metadata": {},
   "outputs": [
    {
     "name": "stdout",
     "output_type": "stream",
     "text": [
      "<class 'pandas.core.frame.DataFrame'>\n",
      "RangeIndex: 6500 entries, 0 to 6499\n",
      "Data columns (total 10 columns):\n",
      "Won_Championship                     6500 non-null int64\n",
      "Previous_SB_Wins                     6500 non-null int64\n",
      "Number_Of_Wins_This_Season           6500 non-null int64\n",
      "Number_Of_First_Round_Draft_Picks    6500 non-null int64\n",
      "Team_Value                           6500 non-null object\n",
      "Playing_Style                        6500 non-null object\n",
      "Average_Player_Age                   6500 non-null int64\n",
      "Number_Of_Injured_Players            6500 non-null object\n",
      "Coach_Experience_Level               6500 non-null object\n",
      "ID                                   6500 non-null int64\n",
      "dtypes: int64(6), object(4)\n",
      "memory usage: 507.9+ KB\n"
     ]
    }
   ],
   "source": [
    "train.info()"
   ]
  },
  {
   "cell_type": "code",
   "execution_count": 6,
   "metadata": {},
   "outputs": [
    {
     "data": {
      "text/html": [
       "<div>\n",
       "<style scoped>\n",
       "    .dataframe tbody tr th:only-of-type {\n",
       "        vertical-align: middle;\n",
       "    }\n",
       "\n",
       "    .dataframe tbody tr th {\n",
       "        vertical-align: top;\n",
       "    }\n",
       "\n",
       "    .dataframe thead th {\n",
       "        text-align: right;\n",
       "    }\n",
       "</style>\n",
       "<table border=\"1\" class=\"dataframe\">\n",
       "  <thead>\n",
       "    <tr style=\"text-align: right;\">\n",
       "      <th></th>\n",
       "      <th>Won_Championship</th>\n",
       "      <th>Previous_SB_Wins</th>\n",
       "      <th>Number_Of_Wins_This_Season</th>\n",
       "      <th>Number_Of_First_Round_Draft_Picks</th>\n",
       "      <th>Team_Value</th>\n",
       "      <th>Playing_Style</th>\n",
       "      <th>Average_Player_Age</th>\n",
       "      <th>Number_Of_Injured_Players</th>\n",
       "      <th>Coach_Experience_Level</th>\n",
       "      <th>ID</th>\n",
       "    </tr>\n",
       "  </thead>\n",
       "  <tbody>\n",
       "    <tr>\n",
       "      <th>0</th>\n",
       "      <td>0</td>\n",
       "      <td>3</td>\n",
       "      <td>13</td>\n",
       "      <td>2</td>\n",
       "      <td>Less_Than_Four_Billion</td>\n",
       "      <td>Balanced</td>\n",
       "      <td>27</td>\n",
       "      <td>five</td>\n",
       "      <td>Intermediate</td>\n",
       "      <td>6056</td>\n",
       "    </tr>\n",
       "    <tr>\n",
       "      <th>1</th>\n",
       "      <td>0</td>\n",
       "      <td>2</td>\n",
       "      <td>14</td>\n",
       "      <td>2</td>\n",
       "      <td>Less_Than_Four_Billion</td>\n",
       "      <td>Aggressive_Offense</td>\n",
       "      <td>26</td>\n",
       "      <td>five</td>\n",
       "      <td>Intermediate</td>\n",
       "      <td>9702</td>\n",
       "    </tr>\n",
       "    <tr>\n",
       "      <th>2</th>\n",
       "      <td>1</td>\n",
       "      <td>2</td>\n",
       "      <td>13</td>\n",
       "      <td>1</td>\n",
       "      <td>Less_Than_Four_Billion</td>\n",
       "      <td>Aggressive_Defense</td>\n",
       "      <td>27</td>\n",
       "      <td>four</td>\n",
       "      <td>Intermediate</td>\n",
       "      <td>1745</td>\n",
       "    </tr>\n",
       "    <tr>\n",
       "      <th>3</th>\n",
       "      <td>0</td>\n",
       "      <td>2</td>\n",
       "      <td>12</td>\n",
       "      <td>2</td>\n",
       "      <td>Above_Four_Billion</td>\n",
       "      <td>Balanced</td>\n",
       "      <td>27</td>\n",
       "      <td>six</td>\n",
       "      <td>Intermediate</td>\n",
       "      <td>4757</td>\n",
       "    </tr>\n",
       "    <tr>\n",
       "      <th>4</th>\n",
       "      <td>0</td>\n",
       "      <td>1</td>\n",
       "      <td>15</td>\n",
       "      <td>2</td>\n",
       "      <td>Less_Than_Four_Billion</td>\n",
       "      <td>Balanced</td>\n",
       "      <td>26</td>\n",
       "      <td>five</td>\n",
       "      <td>Intermediate</td>\n",
       "      <td>7242</td>\n",
       "    </tr>\n",
       "  </tbody>\n",
       "</table>\n",
       "</div>"
      ],
      "text/plain": [
       "   Won_Championship  Previous_SB_Wins  Number_Of_Wins_This_Season  \\\n",
       "0                 0                 3                          13   \n",
       "1                 0                 2                          14   \n",
       "2                 1                 2                          13   \n",
       "3                 0                 2                          12   \n",
       "4                 0                 1                          15   \n",
       "\n",
       "   Number_Of_First_Round_Draft_Picks              Team_Value  \\\n",
       "0                                  2  Less_Than_Four_Billion   \n",
       "1                                  2  Less_Than_Four_Billion   \n",
       "2                                  1  Less_Than_Four_Billion   \n",
       "3                                  2      Above_Four_Billion   \n",
       "4                                  2  Less_Than_Four_Billion   \n",
       "\n",
       "        Playing_Style  Average_Player_Age Number_Of_Injured_Players  \\\n",
       "0            Balanced                  27                      five   \n",
       "1  Aggressive_Offense                  26                      five   \n",
       "2  Aggressive_Defense                  27                      four   \n",
       "3            Balanced                  27                       six   \n",
       "4            Balanced                  26                      five   \n",
       "\n",
       "  Coach_Experience_Level    ID  \n",
       "0           Intermediate  6056  \n",
       "1           Intermediate  9702  \n",
       "2           Intermediate  1745  \n",
       "3           Intermediate  4757  \n",
       "4           Intermediate  7242  "
      ]
     },
     "execution_count": 6,
     "metadata": {},
     "output_type": "execute_result"
    }
   ],
   "source": [
    "train.head()"
   ]
  },
  {
   "cell_type": "code",
   "execution_count": 7,
   "metadata": {},
   "outputs": [
    {
     "data": {
      "text/html": [
       "<div>\n",
       "<style scoped>\n",
       "    .dataframe tbody tr th:only-of-type {\n",
       "        vertical-align: middle;\n",
       "    }\n",
       "\n",
       "    .dataframe tbody tr th {\n",
       "        vertical-align: top;\n",
       "    }\n",
       "\n",
       "    .dataframe thead th {\n",
       "        text-align: right;\n",
       "    }\n",
       "</style>\n",
       "<table border=\"1\" class=\"dataframe\">\n",
       "  <thead>\n",
       "    <tr style=\"text-align: right;\">\n",
       "      <th></th>\n",
       "      <th>Previous_SB_Wins</th>\n",
       "      <th>Number_Of_Wins_This_Season</th>\n",
       "      <th>Number_Of_First_Round_Draft_Picks</th>\n",
       "      <th>Team_Value</th>\n",
       "      <th>Playing_Style</th>\n",
       "      <th>Average_Player_Age</th>\n",
       "      <th>Number_Of_Injured_Players</th>\n",
       "      <th>Coach_Experience_Level</th>\n",
       "      <th>ID</th>\n",
       "    </tr>\n",
       "  </thead>\n",
       "  <tbody>\n",
       "    <tr>\n",
       "      <th>0</th>\n",
       "      <td>3</td>\n",
       "      <td>16</td>\n",
       "      <td>2</td>\n",
       "      <td>Above_Four_Billion</td>\n",
       "      <td>Relaxed</td>\n",
       "      <td>26</td>\n",
       "      <td>two</td>\n",
       "      <td>Intermediate</td>\n",
       "      <td>1</td>\n",
       "    </tr>\n",
       "    <tr>\n",
       "      <th>1</th>\n",
       "      <td>2</td>\n",
       "      <td>15</td>\n",
       "      <td>3</td>\n",
       "      <td>Less_Than_Four_Billion</td>\n",
       "      <td>Balanced</td>\n",
       "      <td>26</td>\n",
       "      <td>six</td>\n",
       "      <td>Advanced</td>\n",
       "      <td>5</td>\n",
       "    </tr>\n",
       "    <tr>\n",
       "      <th>2</th>\n",
       "      <td>2</td>\n",
       "      <td>10</td>\n",
       "      <td>1</td>\n",
       "      <td>Less_Than_Four_Billion</td>\n",
       "      <td>Balanced</td>\n",
       "      <td>27</td>\n",
       "      <td>nine</td>\n",
       "      <td>Beginner</td>\n",
       "      <td>6</td>\n",
       "    </tr>\n",
       "    <tr>\n",
       "      <th>3</th>\n",
       "      <td>3</td>\n",
       "      <td>14</td>\n",
       "      <td>3</td>\n",
       "      <td>Less_Than_Four_Billion</td>\n",
       "      <td>Balanced</td>\n",
       "      <td>26</td>\n",
       "      <td>seven</td>\n",
       "      <td>Intermediate</td>\n",
       "      <td>7</td>\n",
       "    </tr>\n",
       "    <tr>\n",
       "      <th>4</th>\n",
       "      <td>3</td>\n",
       "      <td>13</td>\n",
       "      <td>2</td>\n",
       "      <td>Less_Than_Four_Billion</td>\n",
       "      <td>Balanced</td>\n",
       "      <td>27</td>\n",
       "      <td>three</td>\n",
       "      <td>Intermediate</td>\n",
       "      <td>9</td>\n",
       "    </tr>\n",
       "  </tbody>\n",
       "</table>\n",
       "</div>"
      ],
      "text/plain": [
       "   Previous_SB_Wins  Number_Of_Wins_This_Season  \\\n",
       "0                 3                          16   \n",
       "1                 2                          15   \n",
       "2                 2                          10   \n",
       "3                 3                          14   \n",
       "4                 3                          13   \n",
       "\n",
       "   Number_Of_First_Round_Draft_Picks              Team_Value Playing_Style  \\\n",
       "0                                  2      Above_Four_Billion       Relaxed   \n",
       "1                                  3  Less_Than_Four_Billion      Balanced   \n",
       "2                                  1  Less_Than_Four_Billion      Balanced   \n",
       "3                                  3  Less_Than_Four_Billion      Balanced   \n",
       "4                                  2  Less_Than_Four_Billion      Balanced   \n",
       "\n",
       "   Average_Player_Age Number_Of_Injured_Players Coach_Experience_Level  ID  \n",
       "0                  26                       two           Intermediate   1  \n",
       "1                  26                       six               Advanced   5  \n",
       "2                  27                      nine               Beginner   6  \n",
       "3                  26                     seven           Intermediate   7  \n",
       "4                  27                     three           Intermediate   9  "
      ]
     },
     "execution_count": 7,
     "metadata": {},
     "output_type": "execute_result"
    }
   ],
   "source": [
    "test.head()"
   ]
  },
  {
   "cell_type": "code",
   "execution_count": 8,
   "metadata": {},
   "outputs": [],
   "source": [
    "train = train.drop('ID',axis=1)\n",
    "test = test.drop('ID',axis=1)"
   ]
  },
  {
   "cell_type": "code",
   "execution_count": 9,
   "metadata": {},
   "outputs": [
    {
     "name": "stdout",
     "output_type": "stream",
     "text": [
      "<class 'pandas.core.frame.DataFrame'>\n",
      "RangeIndex: 6500 entries, 0 to 6499\n",
      "Data columns (total 9 columns):\n",
      "Won_Championship                     6500 non-null int64\n",
      "Previous_SB_Wins                     6500 non-null int64\n",
      "Number_Of_Wins_This_Season           6500 non-null int64\n",
      "Number_Of_First_Round_Draft_Picks    6500 non-null int64\n",
      "Team_Value                           6500 non-null object\n",
      "Playing_Style                        6500 non-null object\n",
      "Average_Player_Age                   6500 non-null int64\n",
      "Number_Of_Injured_Players            6500 non-null object\n",
      "Coach_Experience_Level               6500 non-null object\n",
      "dtypes: int64(5), object(4)\n",
      "memory usage: 457.1+ KB\n"
     ]
    }
   ],
   "source": [
    "train.info()"
   ]
  },
  {
   "cell_type": "markdown",
   "metadata": {},
   "source": [
    "### Team_Value, Playing_Style, Number_Of_Injured_Players and Coach_Experience_Level are categorical and Not numeric"
   ]
  },
  {
   "cell_type": "code",
   "execution_count": 10,
   "metadata": {},
   "outputs": [
    {
     "data": {
      "text/plain": [
       "Less_Than_Four_Billion     5130\n",
       "Above_Four_Billion          717\n",
       "Less_Than_Three_Billion     653\n",
       "Name: Team_Value, dtype: int64"
      ]
     },
     "execution_count": 10,
     "metadata": {},
     "output_type": "execute_result"
    }
   ],
   "source": [
    "train['Team_Value'].value_counts()"
   ]
  },
  {
   "cell_type": "code",
   "execution_count": 11,
   "metadata": {},
   "outputs": [
    {
     "data": {
      "text/plain": [
       "Aggressive_Defense    3204\n",
       "Balanced              2908\n",
       "Aggressive_Offense     223\n",
       "Relaxed                165\n",
       "Name: Playing_Style, dtype: int64"
      ]
     },
     "execution_count": 11,
     "metadata": {},
     "output_type": "execute_result"
    }
   ],
   "source": [
    "train['Playing_Style'].value_counts()"
   ]
  },
  {
   "cell_type": "code",
   "execution_count": 12,
   "metadata": {},
   "outputs": [
    {
     "data": {
      "text/plain": [
       "five     1894\n",
       "six      1799\n",
       "four     1069\n",
       "seven     972\n",
       "three     343\n",
       "eight     289\n",
       "two        78\n",
       "nine       44\n",
       "one        10\n",
       "ten         2\n",
       "Name: Number_Of_Injured_Players, dtype: int64"
      ]
     },
     "execution_count": 12,
     "metadata": {},
     "output_type": "execute_result"
    }
   ],
   "source": [
    "train['Number_Of_Injured_Players'].value_counts()"
   ]
  },
  {
   "cell_type": "code",
   "execution_count": 13,
   "metadata": {},
   "outputs": [],
   "source": [
    "train['Number_Of_Injured_Players'] = train['Number_Of_Injured_Players'].map({'one':0,'two':1,'three':2,'four':3,'five':4,'six':5,\n",
    "                                                                           'seven':6,'eight':7,'nine':8,'ten':9})"
   ]
  },
  {
   "cell_type": "code",
   "execution_count": 14,
   "metadata": {},
   "outputs": [],
   "source": [
    "test['Number_Of_Injured_Players'] = test['Number_Of_Injured_Players'].map({'one':0,'two':1,'three':2,'four':3,'five':4,'six':5,\n",
    "                                                                           'seven':6,'eight':7,'nine':8,'ten':9})"
   ]
  },
  {
   "cell_type": "code",
   "execution_count": 15,
   "metadata": {},
   "outputs": [
    {
     "data": {
      "text/plain": [
       "Intermediate    5154\n",
       "Beginner         674\n",
       "Advanced         672\n",
       "Name: Coach_Experience_Level, dtype: int64"
      ]
     },
     "execution_count": 15,
     "metadata": {},
     "output_type": "execute_result"
    }
   ],
   "source": [
    "train['Coach_Experience_Level'].value_counts()"
   ]
  },
  {
   "cell_type": "markdown",
   "metadata": {},
   "source": [
    "### Feature Selection"
   ]
  },
  {
   "cell_type": "code",
   "execution_count": 16,
   "metadata": {},
   "outputs": [
    {
     "data": {
      "text/plain": [
       "Won_Championship                     0\n",
       "Previous_SB_Wins                     0\n",
       "Number_Of_Wins_This_Season           0\n",
       "Number_Of_First_Round_Draft_Picks    0\n",
       "Team_Value                           0\n",
       "Playing_Style                        0\n",
       "Average_Player_Age                   0\n",
       "Number_Of_Injured_Players            0\n",
       "Coach_Experience_Level               0\n",
       "dtype: int64"
      ]
     },
     "execution_count": 16,
     "metadata": {},
     "output_type": "execute_result"
    }
   ],
   "source": [
    "train.isna().sum()"
   ]
  },
  {
   "cell_type": "code",
   "execution_count": 17,
   "metadata": {},
   "outputs": [
    {
     "data": {
      "text/plain": [
       "Text(0.5, 1.0, 'Correlation between features')"
      ]
     },
     "execution_count": 17,
     "metadata": {},
     "output_type": "execute_result"
    },
    {
     "data": {
      "image/png": "[encoded data removed]",
      "text/plain": [
       "<Figure size 1800x1800 with 2 Axes>"
      ]
     },
     "metadata": {
      "needs_background": "light"
     },
     "output_type": "display_data"
    }
   ],
   "source": [
    "plt.figure(figsize=(25,25))\n",
    "corr = train.corr()\n",
    "sns.heatmap(corr, \n",
    "            xticklabels=corr.columns.values,\n",
    "            yticklabels=corr.columns.values, square=True,annot=True,linecolor=\"black\") #cmap='YlGnBu',\n",
    "plt.title(\"Correlation between features\")"
   ]
  },
  {
   "cell_type": "code",
   "execution_count": 18,
   "metadata": {},
   "outputs": [
    {
     "data": {
      "text/html": [
       "<div>\n",
       "<style scoped>\n",
       "    .dataframe tbody tr th:only-of-type {\n",
       "        vertical-align: middle;\n",
       "    }\n",
       "\n",
       "    .dataframe tbody tr th {\n",
       "        vertical-align: top;\n",
       "    }\n",
       "\n",
       "    .dataframe thead th {\n",
       "        text-align: right;\n",
       "    }\n",
       "</style>\n",
       "<table border=\"1\" class=\"dataframe\">\n",
       "  <thead>\n",
       "    <tr style=\"text-align: right;\">\n",
       "      <th></th>\n",
       "      <th>count</th>\n",
       "      <th>mean</th>\n",
       "      <th>std</th>\n",
       "      <th>min</th>\n",
       "      <th>25%</th>\n",
       "      <th>50%</th>\n",
       "      <th>75%</th>\n",
       "      <th>max</th>\n",
       "    </tr>\n",
       "  </thead>\n",
       "  <tbody>\n",
       "    <tr>\n",
       "      <th>Won_Championship</th>\n",
       "      <td>6500.0</td>\n",
       "      <td>0.500769</td>\n",
       "      <td>0.500038</td>\n",
       "      <td>0.0</td>\n",
       "      <td>0.0</td>\n",
       "      <td>1.0</td>\n",
       "      <td>1.0</td>\n",
       "      <td>1.0</td>\n",
       "    </tr>\n",
       "    <tr>\n",
       "      <th>Previous_SB_Wins</th>\n",
       "      <td>6500.0</td>\n",
       "      <td>1.829077</td>\n",
       "      <td>0.582494</td>\n",
       "      <td>0.0</td>\n",
       "      <td>1.0</td>\n",
       "      <td>2.0</td>\n",
       "      <td>2.0</td>\n",
       "      <td>4.0</td>\n",
       "    </tr>\n",
       "    <tr>\n",
       "      <th>Number_Of_Wins_This_Season</th>\n",
       "      <td>6500.0</td>\n",
       "      <td>13.926308</td>\n",
       "      <td>1.135781</td>\n",
       "      <td>10.0</td>\n",
       "      <td>13.0</td>\n",
       "      <td>14.0</td>\n",
       "      <td>15.0</td>\n",
       "      <td>18.0</td>\n",
       "    </tr>\n",
       "    <tr>\n",
       "      <th>Number_Of_First_Round_Draft_Picks</th>\n",
       "      <td>6500.0</td>\n",
       "      <td>2.154615</td>\n",
       "      <td>0.598970</td>\n",
       "      <td>0.0</td>\n",
       "      <td>2.0</td>\n",
       "      <td>2.0</td>\n",
       "      <td>3.0</td>\n",
       "      <td>4.0</td>\n",
       "    </tr>\n",
       "    <tr>\n",
       "      <th>Average_Player_Age</th>\n",
       "      <td>6500.0</td>\n",
       "      <td>26.346615</td>\n",
       "      <td>0.573036</td>\n",
       "      <td>24.0</td>\n",
       "      <td>26.0</td>\n",
       "      <td>26.0</td>\n",
       "      <td>27.0</td>\n",
       "      <td>28.0</td>\n",
       "    </tr>\n",
       "    <tr>\n",
       "      <th>Number_Of_Injured_Players</th>\n",
       "      <td>6500.0</td>\n",
       "      <td>4.425692</td>\n",
       "      <td>1.310832</td>\n",
       "      <td>0.0</td>\n",
       "      <td>4.0</td>\n",
       "      <td>4.0</td>\n",
       "      <td>5.0</td>\n",
       "      <td>9.0</td>\n",
       "    </tr>\n",
       "  </tbody>\n",
       "</table>\n",
       "</div>"
      ],
      "text/plain": [
       "                                    count       mean       std   min   25%  \\\n",
       "Won_Championship                   6500.0   0.500769  0.500038   0.0   0.0   \n",
       "Previous_SB_Wins                   6500.0   1.829077  0.582494   0.0   1.0   \n",
       "Number_Of_Wins_This_Season         6500.0  13.926308  1.135781  10.0  13.0   \n",
       "Number_Of_First_Round_Draft_Picks  6500.0   2.154615  0.598970   0.0   2.0   \n",
       "Average_Player_Age                 6500.0  26.346615  0.573036  24.0  26.0   \n",
       "Number_Of_Injured_Players          6500.0   4.425692  1.310832   0.0   4.0   \n",
       "\n",
       "                                    50%   75%   max  \n",
       "Won_Championship                    1.0   1.0   1.0  \n",
       "Previous_SB_Wins                    2.0   2.0   4.0  \n",
       "Number_Of_Wins_This_Season         14.0  15.0  18.0  \n",
       "Number_Of_First_Round_Draft_Picks   2.0   3.0   4.0  \n",
       "Average_Player_Age                 26.0  27.0  28.0  \n",
       "Number_Of_Injured_Players           4.0   5.0   9.0  "
      ]
     },
     "execution_count": 18,
     "metadata": {},
     "output_type": "execute_result"
    }
   ],
   "source": [
    "train.describe().T"
   ]
  },
  {
   "cell_type": "code",
   "execution_count": 19,
   "metadata": {},
   "outputs": [
    {
     "data": {
      "text/plain": [
       "<matplotlib.axes._subplots.AxesSubplot at 0x2f3b6b28470>"
      ]
     },
     "execution_count": 19,
     "metadata": {},
     "output_type": "execute_result"
    },
    {
     "data": {
      "image/png": "[encoded data removed]",
      "text/plain": [
       "<Figure size 432x288 with 1 Axes>"
      ]
     },
     "metadata": {
      "needs_background": "light"
     },
     "output_type": "display_data"
    }
   ],
   "source": [
    "sns.distplot(train['Previous_SB_Wins'],bins=4)"
   ]
  },
  {
   "cell_type": "code",
   "execution_count": 20,
   "metadata": {},
   "outputs": [],
   "source": [
    "from sklearn.model_selection import train_test_split\n",
    "from sklearn import svm\n",
    "from sklearn.metrics import accuracy_score, confusion_matrix,classification_report"
   ]
  },
  {
   "cell_type": "code",
   "execution_count": 21,
   "metadata": {},
   "outputs": [
    {
     "data": {
      "text/plain": [
       "['Number_Of_Injured_Players',\n",
       " 'Number_Of_First_Round_Draft_Picks',\n",
       " 'Coach_Experience_Level',\n",
       " 'Previous_SB_Wins',\n",
       " 'Playing_Style',\n",
       " 'Team_Value',\n",
       " 'Average_Player_Age',\n",
       " 'Number_Of_Wins_This_Season']"
      ]
     },
     "execution_count": 21,
     "metadata": {},
     "output_type": "execute_result"
    }
   ],
   "source": [
    "col_list_x = list(set(train.columns) - set(['Won_Championship']))\n",
    "col_list_x"
   ]
  },
  {
   "cell_type": "code",
   "execution_count": 22,
   "metadata": {},
   "outputs": [],
   "source": [
    "train = pd.get_dummies(train)"
   ]
  },
  {
   "cell_type": "code",
   "execution_count": 23,
   "metadata": {},
   "outputs": [
    {
     "data": {
      "text/html": [
       "<div>\n",
       "<style scoped>\n",
       "    .dataframe tbody tr th:only-of-type {\n",
       "        vertical-align: middle;\n",
       "    }\n",
       "\n",
       "    .dataframe tbody tr th {\n",
       "        vertical-align: top;\n",
       "    }\n",
       "\n",
       "    .dataframe thead th {\n",
       "        text-align: right;\n",
       "    }\n",
       "</style>\n",
       "<table border=\"1\" class=\"dataframe\">\n",
       "  <thead>\n",
       "    <tr style=\"text-align: right;\">\n",
       "      <th></th>\n",
       "      <th>Won_Championship</th>\n",
       "      <th>Previous_SB_Wins</th>\n",
       "      <th>Number_Of_Wins_This_Season</th>\n",
       "      <th>Number_Of_First_Round_Draft_Picks</th>\n",
       "      <th>Average_Player_Age</th>\n",
       "      <th>Number_Of_Injured_Players</th>\n",
       "      <th>Team_Value_Above_Four_Billion</th>\n",
       "      <th>Team_Value_Less_Than_Four_Billion</th>\n",
       "      <th>Team_Value_Less_Than_Three_Billion</th>\n",
       "      <th>Playing_Style_Aggressive_Defense</th>\n",
       "      <th>Playing_Style_Aggressive_Offense</th>\n",
       "      <th>Playing_Style_Balanced</th>\n",
       "      <th>Playing_Style_Relaxed</th>\n",
       "      <th>Coach_Experience_Level_Advanced</th>\n",
       "      <th>Coach_Experience_Level_Beginner</th>\n",
       "      <th>Coach_Experience_Level_Intermediate</th>\n",
       "    </tr>\n",
       "  </thead>\n",
       "  <tbody>\n",
       "    <tr>\n",
       "      <th>0</th>\n",
       "      <td>0</td>\n",
       "      <td>3</td>\n",
       "      <td>13</td>\n",
       "      <td>2</td>\n",
       "      <td>27</td>\n",
       "      <td>4</td>\n",
       "      <td>0</td>\n",
       "      <td>1</td>\n",
       "      <td>0</td>\n",
       "      <td>0</td>\n",
       "      <td>0</td>\n",
       "      <td>1</td>\n",
       "      <td>0</td>\n",
       "      <td>0</td>\n",
       "      <td>0</td>\n",
       "      <td>1</td>\n",
       "    </tr>\n",
       "    <tr>\n",
       "      <th>1</th>\n",
       "      <td>0</td>\n",
       "      <td>2</td>\n",
       "      <td>14</td>\n",
       "      <td>2</td>\n",
       "      <td>26</td>\n",
       "      <td>4</td>\n",
       "      <td>0</td>\n",
       "      <td>1</td>\n",
       "      <td>0</td>\n",
       "      <td>0</td>\n",
       "      <td>1</td>\n",
       "      <td>0</td>\n",
       "      <td>0</td>\n",
       "      <td>0</td>\n",
       "      <td>0</td>\n",
       "      <td>1</td>\n",
       "    </tr>\n",
       "    <tr>\n",
       "      <th>2</th>\n",
       "      <td>1</td>\n",
       "      <td>2</td>\n",
       "      <td>13</td>\n",
       "      <td>1</td>\n",
       "      <td>27</td>\n",
       "      <td>3</td>\n",
       "      <td>0</td>\n",
       "      <td>1</td>\n",
       "      <td>0</td>\n",
       "      <td>1</td>\n",
       "      <td>0</td>\n",
       "      <td>0</td>\n",
       "      <td>0</td>\n",
       "      <td>0</td>\n",
       "      <td>0</td>\n",
       "      <td>1</td>\n",
       "    </tr>\n",
       "    <tr>\n",
       "      <th>3</th>\n",
       "      <td>0</td>\n",
       "      <td>2</td>\n",
       "      <td>12</td>\n",
       "      <td>2</td>\n",
       "      <td>27</td>\n",
       "      <td>5</td>\n",
       "      <td>1</td>\n",
       "      <td>0</td>\n",
       "      <td>0</td>\n",
       "      <td>0</td>\n",
       "      <td>0</td>\n",
       "      <td>1</td>\n",
       "      <td>0</td>\n",
       "      <td>0</td>\n",
       "      <td>0</td>\n",
       "      <td>1</td>\n",
       "    </tr>\n",
       "    <tr>\n",
       "      <th>4</th>\n",
       "      <td>0</td>\n",
       "      <td>1</td>\n",
       "      <td>15</td>\n",
       "      <td>2</td>\n",
       "      <td>26</td>\n",
       "      <td>4</td>\n",
       "      <td>0</td>\n",
       "      <td>1</td>\n",
       "      <td>0</td>\n",
       "      <td>0</td>\n",
       "      <td>0</td>\n",
       "      <td>1</td>\n",
       "      <td>0</td>\n",
       "      <td>0</td>\n",
       "      <td>0</td>\n",
       "      <td>1</td>\n",
       "    </tr>\n",
       "  </tbody>\n",
       "</table>\n",
       "</div>"
      ],
      "text/plain": [
       "   Won_Championship  Previous_SB_Wins  Number_Of_Wins_This_Season  \\\n",
       "0                 0                 3                          13   \n",
       "1                 0                 2                          14   \n",
       "2                 1                 2                          13   \n",
       "3                 0                 2                          12   \n",
       "4                 0                 1                          15   \n",
       "\n",
       "   Number_Of_First_Round_Draft_Picks  Average_Player_Age  \\\n",
       "0                                  2                  27   \n",
       "1                                  2                  26   \n",
       "2                                  1                  27   \n",
       "3                                  2                  27   \n",
       "4                                  2                  26   \n",
       "\n",
       "   Number_Of_Injured_Players  Team_Value_Above_Four_Billion  \\\n",
       "0                          4                              0   \n",
       "1                          4                              0   \n",
       "2                          3                              0   \n",
       "3                          5                              1   \n",
       "4                          4                              0   \n",
       "\n",
       "   Team_Value_Less_Than_Four_Billion  Team_Value_Less_Than_Three_Billion  \\\n",
       "0                                  1                                   0   \n",
       "1                                  1                                   0   \n",
       "2                                  1                                   0   \n",
       "3                                  0                                   0   \n",
       "4                                  1                                   0   \n",
       "\n",
       "   Playing_Style_Aggressive_Defense  Playing_Style_Aggressive_Offense  \\\n",
       "0                                 0                                 0   \n",
       "1                                 0                                 1   \n",
       "2                                 1                                 0   \n",
       "3                                 0                                 0   \n",
       "4                                 0                                 0   \n",
       "\n",
       "   Playing_Style_Balanced  Playing_Style_Relaxed  \\\n",
       "0                       1                      0   \n",
       "1                       0                      0   \n",
       "2                       0                      0   \n",
       "3                       1                      0   \n",
       "4                       1                      0   \n",
       "\n",
       "   Coach_Experience_Level_Advanced  Coach_Experience_Level_Beginner  \\\n",
       "0                                0                                0   \n",
       "1                                0                                0   \n",
       "2                                0                                0   \n",
       "3                                0                                0   \n",
       "4                                0                                0   \n",
       "\n",
       "   Coach_Experience_Level_Intermediate  \n",
       "0                                    1  \n",
       "1                                    1  \n",
       "2                                    1  \n",
       "3                                    1  \n",
       "4                                    1  "
      ]
     },
     "execution_count": 23,
     "metadata": {},
     "output_type": "execute_result"
    }
   ],
   "source": [
    "train.head()"
   ]
  },
  {
   "cell_type": "code",
   "execution_count": 24,
   "metadata": {},
   "outputs": [
    {
     "data": {
      "text/plain": [
       "['Coach_Experience_Level_Beginner',\n",
       " 'Number_Of_First_Round_Draft_Picks',\n",
       " 'Coach_Experience_Level_Advanced',\n",
       " 'Previous_SB_Wins',\n",
       " 'Team_Value_Less_Than_Four_Billion',\n",
       " 'Playing_Style_Aggressive_Defense',\n",
       " 'Playing_Style_Balanced',\n",
       " 'Average_Player_Age',\n",
       " 'Playing_Style_Aggressive_Offense',\n",
       " 'Number_Of_Injured_Players',\n",
       " 'Coach_Experience_Level_Intermediate',\n",
       " 'Team_Value_Above_Four_Billion',\n",
       " 'Playing_Style_Relaxed',\n",
       " 'Team_Value_Less_Than_Three_Billion',\n",
       " 'Number_Of_Wins_This_Season']"
      ]
     },
     "execution_count": 24,
     "metadata": {},
     "output_type": "execute_result"
    }
   ],
   "source": [
    "col_list_x = list(set(train.columns) - set(['Won_Championship']))\n",
    "col_list_x"
   ]
  },
  {
   "cell_type": "code",
   "execution_count": 25,
   "metadata": {},
   "outputs": [],
   "source": [
    "x = train[col_list_x]\n",
    "y = train['Won_Championship']"
   ]
  },
  {
   "cell_type": "code",
   "execution_count": 26,
   "metadata": {},
   "outputs": [],
   "source": [
    "train_x,test_x,train_y,test_y = train_test_split(x,y,test_size=0.1,random_state=0) "
   ]
  },
  {
   "cell_type": "code",
   "execution_count": 27,
   "metadata": {},
   "outputs": [
    {
     "data": {
      "text/plain": [
       "(5850, 15)"
      ]
     },
     "execution_count": 27,
     "metadata": {},
     "output_type": "execute_result"
    }
   ],
   "source": [
    "train_x.shape"
   ]
  },
  {
   "cell_type": "code",
   "execution_count": 28,
   "metadata": {},
   "outputs": [
    {
     "data": {
      "text/plain": [
       "(650,)"
      ]
     },
     "execution_count": 28,
     "metadata": {},
     "output_type": "execute_result"
    }
   ],
   "source": [
    "test_y.shape"
   ]
  },
  {
   "cell_type": "code",
   "execution_count": 29,
   "metadata": {},
   "outputs": [],
   "source": [
    "model = svm.SVC()"
   ]
  },
  {
   "cell_type": "code",
   "execution_count": 30,
   "metadata": {},
   "outputs": [
    {
     "name": "stderr",
     "output_type": "stream",
     "text": [
      "C:\\Users\\alsrivas\\AppData\\Local\\Continuum\\anaconda3\\lib\\site-packages\\sklearn\\svm\\base.py:196: FutureWarning: The default value of gamma will change from 'auto' to 'scale' in version 0.22 to account better for unscaled features. Set gamma explicitly to 'auto' or 'scale' to avoid this warning.\n",
      "  \"avoid this warning.\", FutureWarning)\n"
     ]
    },
    {
     "data": {
      "text/plain": [
       "SVC(C=1.0, cache_size=200, class_weight=None, coef0=0.0,\n",
       "  decision_function_shape='ovr', degree=3, gamma='auto_deprecated',\n",
       "  kernel='rbf', max_iter=-1, probability=False, random_state=None,\n",
       "  shrinking=True, tol=0.001, verbose=False)"
      ]
     },
     "execution_count": 30,
     "metadata": {},
     "output_type": "execute_result"
    }
   ],
   "source": [
    "model.fit(train_x,train_y)"
   ]
  },
  {
   "cell_type": "code",
   "execution_count": 31,
   "metadata": {},
   "outputs": [],
   "source": [
    "pred2 = model.predict(test_x)"
   ]
  },
  {
   "cell_type": "code",
   "execution_count": 32,
   "metadata": {},
   "outputs": [],
   "source": [
    "accuracy = accuracy_score(test_y,pred2)"
   ]
  },
  {
   "cell_type": "code",
   "execution_count": 33,
   "metadata": {},
   "outputs": [
    {
     "data": {
      "text/plain": [
       "0.7369230769230769"
      ]
     },
     "execution_count": 33,
     "metadata": {},
     "output_type": "execute_result"
    }
   ],
   "source": [
    "accuracy"
   ]
  },
  {
   "cell_type": "markdown",
   "metadata": {},
   "source": [
    "### k-fold cross validation"
   ]
  },
  {
   "cell_type": "code",
   "execution_count": 34,
   "metadata": {},
   "outputs": [],
   "source": [
    "from sklearn.model_selection import cross_val_score\n",
    "from sklearn.model_selection import GridSearchCV"
   ]
  },
  {
   "cell_type": "code",
   "execution_count": 35,
   "metadata": {},
   "outputs": [],
   "source": [
    "clf = svm.SVC()"
   ]
  },
  {
   "cell_type": "code",
   "execution_count": 36,
   "metadata": {},
   "outputs": [],
   "source": [
    "kernal = ['linear','rbf']\n",
    "C = [0.01,0.01,0.1,1,10,100,100]\n",
    "gamma = [0.02,0.02,0.2,1,10,100,100]"
   ]
  },
  {
   "cell_type": "code",
   "execution_count": 37,
   "metadata": {},
   "outputs": [],
   "source": [
    "gride = dict(kernel = kernal,C = C, gamma = gamma)"
   ]
  },
  {
   "cell_type": "code",
   "execution_count": 38,
   "metadata": {},
   "outputs": [],
   "source": [
    "grid_clf = GridSearchCV(clf, param_grid = gride, cv=5, scoring='accuracy', return_train_score=False, n_jobs=-1)"
   ]
  },
  {
   "cell_type": "code",
   "execution_count": 39,
   "metadata": {},
   "outputs": [
    {
     "data": {
      "text/plain": [
       "(6500, 15)"
      ]
     },
     "execution_count": 39,
     "metadata": {},
     "output_type": "execute_result"
    }
   ],
   "source": [
    "x.shape"
   ]
  },
  {
   "cell_type": "code",
   "execution_count": 40,
   "metadata": {},
   "outputs": [
    {
     "data": {
      "text/plain": [
       "(6500,)"
      ]
     },
     "execution_count": 40,
     "metadata": {},
     "output_type": "execute_result"
    }
   ],
   "source": [
    "y.shape"
   ]
  },
  {
   "cell_type": "code",
   "execution_count": 41,
   "metadata": {},
   "outputs": [
    {
     "data": {
      "text/plain": [
       "GridSearchCV(cv=5, error_score='raise-deprecating',\n",
       "       estimator=SVC(C=1.0, cache_size=200, class_weight=None, coef0=0.0,\n",
       "  decision_function_shape='ovr', degree=3, gamma='auto_deprecated',\n",
       "  kernel='rbf', max_iter=-1, probability=False, random_state=None,\n",
       "  shrinking=True, tol=0.001, verbose=False),\n",
       "       fit_params=None, iid='warn', n_jobs=-1,\n",
       "       param_grid={'kernel': ['linear', 'rbf'], 'C': [0.01, 0.01, 0.1, 1, 10, 100, 100], 'gamma': [0.02, 0.02, 0.2, 1, 10, 100, 100]},\n",
       "       pre_dispatch='2*n_jobs', refit=True, return_train_score=False,\n",
       "       scoring='accuracy', verbose=0)"
      ]
     },
     "execution_count": 41,
     "metadata": {},
     "output_type": "execute_result"
    }
   ],
   "source": [
    "grid_clf.fit(x, y)"
   ]
  },
  {
   "cell_type": "code",
   "execution_count": 42,
   "metadata": {},
   "outputs": [
    {
     "name": "stdout",
     "output_type": "stream",
     "text": [
      "0.7578461538461538\n",
      "{'C': 1, 'gamma': 0.2, 'kernel': 'rbf'}\n",
      "SVC(C=1, cache_size=200, class_weight=None, coef0=0.0,\n",
      "  decision_function_shape='ovr', degree=3, gamma=0.2, kernel='rbf',\n",
      "  max_iter=-1, probability=False, random_state=None, shrinking=True,\n",
      "  tol=0.001, verbose=False)\n"
     ]
    }
   ],
   "source": [
    "print(grid_clf.best_score_)\n",
    "print(grid_clf.best_params_)\n",
    "print(grid_clf.best_estimator_)"
   ]
  },
  {
   "cell_type": "code",
   "execution_count": 43,
   "metadata": {},
   "outputs": [
    {
     "data": {
      "text/html": [
       "<div>\n",
       "<style scoped>\n",
       "    .dataframe tbody tr th:only-of-type {\n",
       "        vertical-align: middle;\n",
       "    }\n",
       "\n",
       "    .dataframe tbody tr th {\n",
       "        vertical-align: top;\n",
       "    }\n",
       "\n",
       "    .dataframe thead th {\n",
       "        text-align: right;\n",
       "    }\n",
       "</style>\n",
       "<table border=\"1\" class=\"dataframe\">\n",
       "  <thead>\n",
       "    <tr style=\"text-align: right;\">\n",
       "      <th></th>\n",
       "      <th>mean_test_score</th>\n",
       "      <th>std_test_score</th>\n",
       "      <th>params</th>\n",
       "    </tr>\n",
       "  </thead>\n",
       "  <tbody>\n",
       "    <tr>\n",
       "      <th>0</th>\n",
       "      <td>0.631692</td>\n",
       "      <td>0.014036</td>\n",
       "      <td>{'C': 0.01, 'gamma': 0.02, 'kernel': 'linear'}</td>\n",
       "    </tr>\n",
       "    <tr>\n",
       "      <th>1</th>\n",
       "      <td>0.579231</td>\n",
       "      <td>0.013118</td>\n",
       "      <td>{'C': 0.01, 'gamma': 0.02, 'kernel': 'rbf'}</td>\n",
       "    </tr>\n",
       "    <tr>\n",
       "      <th>2</th>\n",
       "      <td>0.631692</td>\n",
       "      <td>0.014036</td>\n",
       "      <td>{'C': 0.01, 'gamma': 0.02, 'kernel': 'linear'}</td>\n",
       "    </tr>\n",
       "    <tr>\n",
       "      <th>3</th>\n",
       "      <td>0.579231</td>\n",
       "      <td>0.013118</td>\n",
       "      <td>{'C': 0.01, 'gamma': 0.02, 'kernel': 'rbf'}</td>\n",
       "    </tr>\n",
       "    <tr>\n",
       "      <th>4</th>\n",
       "      <td>0.631692</td>\n",
       "      <td>0.014036</td>\n",
       "      <td>{'C': 0.01, 'gamma': 0.2, 'kernel': 'linear'}</td>\n",
       "    </tr>\n",
       "    <tr>\n",
       "      <th>5</th>\n",
       "      <td>0.726000</td>\n",
       "      <td>0.003750</td>\n",
       "      <td>{'C': 0.01, 'gamma': 0.2, 'kernel': 'rbf'}</td>\n",
       "    </tr>\n",
       "    <tr>\n",
       "      <th>6</th>\n",
       "      <td>0.631692</td>\n",
       "      <td>0.014036</td>\n",
       "      <td>{'C': 0.01, 'gamma': 1, 'kernel': 'linear'}</td>\n",
       "    </tr>\n",
       "    <tr>\n",
       "      <th>7</th>\n",
       "      <td>0.501692</td>\n",
       "      <td>0.001846</td>\n",
       "      <td>{'C': 0.01, 'gamma': 1, 'kernel': 'rbf'}</td>\n",
       "    </tr>\n",
       "    <tr>\n",
       "      <th>8</th>\n",
       "      <td>0.631692</td>\n",
       "      <td>0.014036</td>\n",
       "      <td>{'C': 0.01, 'gamma': 10, 'kernel': 'linear'}</td>\n",
       "    </tr>\n",
       "    <tr>\n",
       "      <th>9</th>\n",
       "      <td>0.500769</td>\n",
       "      <td>0.000000</td>\n",
       "      <td>{'C': 0.01, 'gamma': 10, 'kernel': 'rbf'}</td>\n",
       "    </tr>\n",
       "    <tr>\n",
       "      <th>10</th>\n",
       "      <td>0.631692</td>\n",
       "      <td>0.014036</td>\n",
       "      <td>{'C': 0.01, 'gamma': 100, 'kernel': 'linear'}</td>\n",
       "    </tr>\n",
       "    <tr>\n",
       "      <th>11</th>\n",
       "      <td>0.500769</td>\n",
       "      <td>0.000000</td>\n",
       "      <td>{'C': 0.01, 'gamma': 100, 'kernel': 'rbf'}</td>\n",
       "    </tr>\n",
       "    <tr>\n",
       "      <th>12</th>\n",
       "      <td>0.631692</td>\n",
       "      <td>0.014036</td>\n",
       "      <td>{'C': 0.01, 'gamma': 100, 'kernel': 'linear'}</td>\n",
       "    </tr>\n",
       "    <tr>\n",
       "      <th>13</th>\n",
       "      <td>0.500769</td>\n",
       "      <td>0.000000</td>\n",
       "      <td>{'C': 0.01, 'gamma': 100, 'kernel': 'rbf'}</td>\n",
       "    </tr>\n",
       "    <tr>\n",
       "      <th>14</th>\n",
       "      <td>0.631692</td>\n",
       "      <td>0.014036</td>\n",
       "      <td>{'C': 0.01, 'gamma': 0.02, 'kernel': 'linear'}</td>\n",
       "    </tr>\n",
       "    <tr>\n",
       "      <th>15</th>\n",
       "      <td>0.579231</td>\n",
       "      <td>0.013118</td>\n",
       "      <td>{'C': 0.01, 'gamma': 0.02, 'kernel': 'rbf'}</td>\n",
       "    </tr>\n",
       "    <tr>\n",
       "      <th>16</th>\n",
       "      <td>0.631692</td>\n",
       "      <td>0.014036</td>\n",
       "      <td>{'C': 0.01, 'gamma': 0.02, 'kernel': 'linear'}</td>\n",
       "    </tr>\n",
       "    <tr>\n",
       "      <th>17</th>\n",
       "      <td>0.579231</td>\n",
       "      <td>0.013118</td>\n",
       "      <td>{'C': 0.01, 'gamma': 0.02, 'kernel': 'rbf'}</td>\n",
       "    </tr>\n",
       "    <tr>\n",
       "      <th>18</th>\n",
       "      <td>0.631692</td>\n",
       "      <td>0.014036</td>\n",
       "      <td>{'C': 0.01, 'gamma': 0.2, 'kernel': 'linear'}</td>\n",
       "    </tr>\n",
       "    <tr>\n",
       "      <th>19</th>\n",
       "      <td>0.726000</td>\n",
       "      <td>0.003750</td>\n",
       "      <td>{'C': 0.01, 'gamma': 0.2, 'kernel': 'rbf'}</td>\n",
       "    </tr>\n",
       "    <tr>\n",
       "      <th>20</th>\n",
       "      <td>0.631692</td>\n",
       "      <td>0.014036</td>\n",
       "      <td>{'C': 0.01, 'gamma': 1, 'kernel': 'linear'}</td>\n",
       "    </tr>\n",
       "    <tr>\n",
       "      <th>21</th>\n",
       "      <td>0.501692</td>\n",
       "      <td>0.001846</td>\n",
       "      <td>{'C': 0.01, 'gamma': 1, 'kernel': 'rbf'}</td>\n",
       "    </tr>\n",
       "    <tr>\n",
       "      <th>22</th>\n",
       "      <td>0.631692</td>\n",
       "      <td>0.014036</td>\n",
       "      <td>{'C': 0.01, 'gamma': 10, 'kernel': 'linear'}</td>\n",
       "    </tr>\n",
       "    <tr>\n",
       "      <th>23</th>\n",
       "      <td>0.500769</td>\n",
       "      <td>0.000000</td>\n",
       "      <td>{'C': 0.01, 'gamma': 10, 'kernel': 'rbf'}</td>\n",
       "    </tr>\n",
       "    <tr>\n",
       "      <th>24</th>\n",
       "      <td>0.631692</td>\n",
       "      <td>0.014036</td>\n",
       "      <td>{'C': 0.01, 'gamma': 100, 'kernel': 'linear'}</td>\n",
       "    </tr>\n",
       "    <tr>\n",
       "      <th>25</th>\n",
       "      <td>0.500769</td>\n",
       "      <td>0.000000</td>\n",
       "      <td>{'C': 0.01, 'gamma': 100, 'kernel': 'rbf'}</td>\n",
       "    </tr>\n",
       "    <tr>\n",
       "      <th>26</th>\n",
       "      <td>0.631692</td>\n",
       "      <td>0.014036</td>\n",
       "      <td>{'C': 0.01, 'gamma': 100, 'kernel': 'linear'}</td>\n",
       "    </tr>\n",
       "    <tr>\n",
       "      <th>27</th>\n",
       "      <td>0.500769</td>\n",
       "      <td>0.000000</td>\n",
       "      <td>{'C': 0.01, 'gamma': 100, 'kernel': 'rbf'}</td>\n",
       "    </tr>\n",
       "    <tr>\n",
       "      <th>28</th>\n",
       "      <td>0.628462</td>\n",
       "      <td>0.007568</td>\n",
       "      <td>{'C': 0.1, 'gamma': 0.02, 'kernel': 'linear'}</td>\n",
       "    </tr>\n",
       "    <tr>\n",
       "      <th>29</th>\n",
       "      <td>0.702000</td>\n",
       "      <td>0.011550</td>\n",
       "      <td>{'C': 0.1, 'gamma': 0.02, 'kernel': 'rbf'}</td>\n",
       "    </tr>\n",
       "    <tr>\n",
       "      <th>...</th>\n",
       "      <td>...</td>\n",
       "      <td>...</td>\n",
       "      <td>...</td>\n",
       "    </tr>\n",
       "    <tr>\n",
       "      <th>68</th>\n",
       "      <td>0.636615</td>\n",
       "      <td>0.009135</td>\n",
       "      <td>{'C': 10, 'gamma': 100, 'kernel': 'linear'}</td>\n",
       "    </tr>\n",
       "    <tr>\n",
       "      <th>69</th>\n",
       "      <td>0.679231</td>\n",
       "      <td>0.008482</td>\n",
       "      <td>{'C': 10, 'gamma': 100, 'kernel': 'rbf'}</td>\n",
       "    </tr>\n",
       "    <tr>\n",
       "      <th>70</th>\n",
       "      <td>0.636615</td>\n",
       "      <td>0.009135</td>\n",
       "      <td>{'C': 100, 'gamma': 0.02, 'kernel': 'linear'}</td>\n",
       "    </tr>\n",
       "    <tr>\n",
       "      <th>71</th>\n",
       "      <td>0.752462</td>\n",
       "      <td>0.009832</td>\n",
       "      <td>{'C': 100, 'gamma': 0.02, 'kernel': 'rbf'}</td>\n",
       "    </tr>\n",
       "    <tr>\n",
       "      <th>72</th>\n",
       "      <td>0.636615</td>\n",
       "      <td>0.009135</td>\n",
       "      <td>{'C': 100, 'gamma': 0.02, 'kernel': 'linear'}</td>\n",
       "    </tr>\n",
       "    <tr>\n",
       "      <th>73</th>\n",
       "      <td>0.752462</td>\n",
       "      <td>0.009832</td>\n",
       "      <td>{'C': 100, 'gamma': 0.02, 'kernel': 'rbf'}</td>\n",
       "    </tr>\n",
       "    <tr>\n",
       "      <th>74</th>\n",
       "      <td>0.636615</td>\n",
       "      <td>0.009135</td>\n",
       "      <td>{'C': 100, 'gamma': 0.2, 'kernel': 'linear'}</td>\n",
       "    </tr>\n",
       "    <tr>\n",
       "      <th>75</th>\n",
       "      <td>0.732923</td>\n",
       "      <td>0.004252</td>\n",
       "      <td>{'C': 100, 'gamma': 0.2, 'kernel': 'rbf'}</td>\n",
       "    </tr>\n",
       "    <tr>\n",
       "      <th>76</th>\n",
       "      <td>0.636615</td>\n",
       "      <td>0.009135</td>\n",
       "      <td>{'C': 100, 'gamma': 1, 'kernel': 'linear'}</td>\n",
       "    </tr>\n",
       "    <tr>\n",
       "      <th>77</th>\n",
       "      <td>0.742769</td>\n",
       "      <td>0.006185</td>\n",
       "      <td>{'C': 100, 'gamma': 1, 'kernel': 'rbf'}</td>\n",
       "    </tr>\n",
       "    <tr>\n",
       "      <th>78</th>\n",
       "      <td>0.636615</td>\n",
       "      <td>0.009135</td>\n",
       "      <td>{'C': 100, 'gamma': 10, 'kernel': 'linear'}</td>\n",
       "    </tr>\n",
       "    <tr>\n",
       "      <th>79</th>\n",
       "      <td>0.679231</td>\n",
       "      <td>0.008482</td>\n",
       "      <td>{'C': 100, 'gamma': 10, 'kernel': 'rbf'}</td>\n",
       "    </tr>\n",
       "    <tr>\n",
       "      <th>80</th>\n",
       "      <td>0.636615</td>\n",
       "      <td>0.009135</td>\n",
       "      <td>{'C': 100, 'gamma': 100, 'kernel': 'linear'}</td>\n",
       "    </tr>\n",
       "    <tr>\n",
       "      <th>81</th>\n",
       "      <td>0.679231</td>\n",
       "      <td>0.008482</td>\n",
       "      <td>{'C': 100, 'gamma': 100, 'kernel': 'rbf'}</td>\n",
       "    </tr>\n",
       "    <tr>\n",
       "      <th>82</th>\n",
       "      <td>0.636615</td>\n",
       "      <td>0.009135</td>\n",
       "      <td>{'C': 100, 'gamma': 100, 'kernel': 'linear'}</td>\n",
       "    </tr>\n",
       "    <tr>\n",
       "      <th>83</th>\n",
       "      <td>0.679231</td>\n",
       "      <td>0.008482</td>\n",
       "      <td>{'C': 100, 'gamma': 100, 'kernel': 'rbf'}</td>\n",
       "    </tr>\n",
       "    <tr>\n",
       "      <th>84</th>\n",
       "      <td>0.636615</td>\n",
       "      <td>0.009135</td>\n",
       "      <td>{'C': 100, 'gamma': 0.02, 'kernel': 'linear'}</td>\n",
       "    </tr>\n",
       "    <tr>\n",
       "      <th>85</th>\n",
       "      <td>0.752462</td>\n",
       "      <td>0.009832</td>\n",
       "      <td>{'C': 100, 'gamma': 0.02, 'kernel': 'rbf'}</td>\n",
       "    </tr>\n",
       "    <tr>\n",
       "      <th>86</th>\n",
       "      <td>0.636615</td>\n",
       "      <td>0.009135</td>\n",
       "      <td>{'C': 100, 'gamma': 0.02, 'kernel': 'linear'}</td>\n",
       "    </tr>\n",
       "    <tr>\n",
       "      <th>87</th>\n",
       "      <td>0.752462</td>\n",
       "      <td>0.009832</td>\n",
       "      <td>{'C': 100, 'gamma': 0.02, 'kernel': 'rbf'}</td>\n",
       "    </tr>\n",
       "    <tr>\n",
       "      <th>88</th>\n",
       "      <td>0.636615</td>\n",
       "      <td>0.009135</td>\n",
       "      <td>{'C': 100, 'gamma': 0.2, 'kernel': 'linear'}</td>\n",
       "    </tr>\n",
       "    <tr>\n",
       "      <th>89</th>\n",
       "      <td>0.732923</td>\n",
       "      <td>0.004252</td>\n",
       "      <td>{'C': 100, 'gamma': 0.2, 'kernel': 'rbf'}</td>\n",
       "    </tr>\n",
       "    <tr>\n",
       "      <th>90</th>\n",
       "      <td>0.636615</td>\n",
       "      <td>0.009135</td>\n",
       "      <td>{'C': 100, 'gamma': 1, 'kernel': 'linear'}</td>\n",
       "    </tr>\n",
       "    <tr>\n",
       "      <th>91</th>\n",
       "      <td>0.742769</td>\n",
       "      <td>0.006185</td>\n",
       "      <td>{'C': 100, 'gamma': 1, 'kernel': 'rbf'}</td>\n",
       "    </tr>\n",
       "    <tr>\n",
       "      <th>92</th>\n",
       "      <td>0.636615</td>\n",
       "      <td>0.009135</td>\n",
       "      <td>{'C': 100, 'gamma': 10, 'kernel': 'linear'}</td>\n",
       "    </tr>\n",
       "    <tr>\n",
       "      <th>93</th>\n",
       "      <td>0.679231</td>\n",
       "      <td>0.008482</td>\n",
       "      <td>{'C': 100, 'gamma': 10, 'kernel': 'rbf'}</td>\n",
       "    </tr>\n",
       "    <tr>\n",
       "      <th>94</th>\n",
       "      <td>0.636615</td>\n",
       "      <td>0.009135</td>\n",
       "      <td>{'C': 100, 'gamma': 100, 'kernel': 'linear'}</td>\n",
       "    </tr>\n",
       "    <tr>\n",
       "      <th>95</th>\n",
       "      <td>0.679231</td>\n",
       "      <td>0.008482</td>\n",
       "      <td>{'C': 100, 'gamma': 100, 'kernel': 'rbf'}</td>\n",
       "    </tr>\n",
       "    <tr>\n",
       "      <th>96</th>\n",
       "      <td>0.636615</td>\n",
       "      <td>0.009135</td>\n",
       "      <td>{'C': 100, 'gamma': 100, 'kernel': 'linear'}</td>\n",
       "    </tr>\n",
       "    <tr>\n",
       "      <th>97</th>\n",
       "      <td>0.679231</td>\n",
       "      <td>0.008482</td>\n",
       "      <td>{'C': 100, 'gamma': 100, 'kernel': 'rbf'}</td>\n",
       "    </tr>\n",
       "  </tbody>\n",
       "</table>\n",
       "<p>98 rows × 3 columns</p>\n",
       "</div>"
      ],
      "text/plain": [
       "    mean_test_score  std_test_score  \\\n",
       "0          0.631692        0.014036   \n",
       "1          0.579231        0.013118   \n",
       "2          0.631692        0.014036   \n",
       "3          0.579231        0.013118   \n",
       "4          0.631692        0.014036   \n",
       "5          0.726000        0.003750   \n",
       "6          0.631692        0.014036   \n",
       "7          0.501692        0.001846   \n",
       "8          0.631692        0.014036   \n",
       "9          0.500769        0.000000   \n",
       "10         0.631692        0.014036   \n",
       "11         0.500769        0.000000   \n",
       "12         0.631692        0.014036   \n",
       "13         0.500769        0.000000   \n",
       "14         0.631692        0.014036   \n",
       "15         0.579231        0.013118   \n",
       "16         0.631692        0.014036   \n",
       "17         0.579231        0.013118   \n",
       "18         0.631692        0.014036   \n",
       "19         0.726000        0.003750   \n",
       "20         0.631692        0.014036   \n",
       "21         0.501692        0.001846   \n",
       "22         0.631692        0.014036   \n",
       "23         0.500769        0.000000   \n",
       "24         0.631692        0.014036   \n",
       "25         0.500769        0.000000   \n",
       "26         0.631692        0.014036   \n",
       "27         0.500769        0.000000   \n",
       "28         0.628462        0.007568   \n",
       "29         0.702000        0.011550   \n",
       "..              ...             ...   \n",
       "68         0.636615        0.009135   \n",
       "69         0.679231        0.008482   \n",
       "70         0.636615        0.009135   \n",
       "71         0.752462        0.009832   \n",
       "72         0.636615        0.009135   \n",
       "73         0.752462        0.009832   \n",
       "74         0.636615        0.009135   \n",
       "75         0.732923        0.004252   \n",
       "76         0.636615        0.009135   \n",
       "77         0.742769        0.006185   \n",
       "78         0.636615        0.009135   \n",
       "79         0.679231        0.008482   \n",
       "80         0.636615        0.009135   \n",
       "81         0.679231        0.008482   \n",
       "82         0.636615        0.009135   \n",
       "83         0.679231        0.008482   \n",
       "84         0.636615        0.009135   \n",
       "85         0.752462        0.009832   \n",
       "86         0.636615        0.009135   \n",
       "87         0.752462        0.009832   \n",
       "88         0.636615        0.009135   \n",
       "89         0.732923        0.004252   \n",
       "90         0.636615        0.009135   \n",
       "91         0.742769        0.006185   \n",
       "92         0.636615        0.009135   \n",
       "93         0.679231        0.008482   \n",
       "94         0.636615        0.009135   \n",
       "95         0.679231        0.008482   \n",
       "96         0.636615        0.009135   \n",
       "97         0.679231        0.008482   \n",
       "\n",
       "                                            params  \n",
       "0   {'C': 0.01, 'gamma': 0.02, 'kernel': 'linear'}  \n",
       "1      {'C': 0.01, 'gamma': 0.02, 'kernel': 'rbf'}  \n",
       "2   {'C': 0.01, 'gamma': 0.02, 'kernel': 'linear'}  \n",
       "3      {'C': 0.01, 'gamma': 0.02, 'kernel': 'rbf'}  \n",
       "4    {'C': 0.01, 'gamma': 0.2, 'kernel': 'linear'}  \n",
       "5       {'C': 0.01, 'gamma': 0.2, 'kernel': 'rbf'}  \n",
       "6      {'C': 0.01, 'gamma': 1, 'kernel': 'linear'}  \n",
       "7         {'C': 0.01, 'gamma': 1, 'kernel': 'rbf'}  \n",
       "8     {'C': 0.01, 'gamma': 10, 'kernel': 'linear'}  \n",
       "9        {'C': 0.01, 'gamma': 10, 'kernel': 'rbf'}  \n",
       "10   {'C': 0.01, 'gamma': 100, 'kernel': 'linear'}  \n",
       "11      {'C': 0.01, 'gamma': 100, 'kernel': 'rbf'}  \n",
       "12   {'C': 0.01, 'gamma': 100, 'kernel': 'linear'}  \n",
       "13      {'C': 0.01, 'gamma': 100, 'kernel': 'rbf'}  \n",
       "14  {'C': 0.01, 'gamma': 0.02, 'kernel': 'linear'}  \n",
       "15     {'C': 0.01, 'gamma': 0.02, 'kernel': 'rbf'}  \n",
       "16  {'C': 0.01, 'gamma': 0.02, 'kernel': 'linear'}  \n",
       "17     {'C': 0.01, 'gamma': 0.02, 'kernel': 'rbf'}  \n",
       "18   {'C': 0.01, 'gamma': 0.2, 'kernel': 'linear'}  \n",
       "19      {'C': 0.01, 'gamma': 0.2, 'kernel': 'rbf'}  \n",
       "20     {'C': 0.01, 'gamma': 1, 'kernel': 'linear'}  \n",
       "21        {'C': 0.01, 'gamma': 1, 'kernel': 'rbf'}  \n",
       "22    {'C': 0.01, 'gamma': 10, 'kernel': 'linear'}  \n",
       "23       {'C': 0.01, 'gamma': 10, 'kernel': 'rbf'}  \n",
       "24   {'C': 0.01, 'gamma': 100, 'kernel': 'linear'}  \n",
       "25      {'C': 0.01, 'gamma': 100, 'kernel': 'rbf'}  \n",
       "26   {'C': 0.01, 'gamma': 100, 'kernel': 'linear'}  \n",
       "27      {'C': 0.01, 'gamma': 100, 'kernel': 'rbf'}  \n",
       "28   {'C': 0.1, 'gamma': 0.02, 'kernel': 'linear'}  \n",
       "29      {'C': 0.1, 'gamma': 0.02, 'kernel': 'rbf'}  \n",
       "..                                             ...  \n",
       "68     {'C': 10, 'gamma': 100, 'kernel': 'linear'}  \n",
       "69        {'C': 10, 'gamma': 100, 'kernel': 'rbf'}  \n",
       "70   {'C': 100, 'gamma': 0.02, 'kernel': 'linear'}  \n",
       "71      {'C': 100, 'gamma': 0.02, 'kernel': 'rbf'}  \n",
       "72   {'C': 100, 'gamma': 0.02, 'kernel': 'linear'}  \n",
       "73      {'C': 100, 'gamma': 0.02, 'kernel': 'rbf'}  \n",
       "74    {'C': 100, 'gamma': 0.2, 'kernel': 'linear'}  \n",
       "75       {'C': 100, 'gamma': 0.2, 'kernel': 'rbf'}  \n",
       "76      {'C': 100, 'gamma': 1, 'kernel': 'linear'}  \n",
       "77         {'C': 100, 'gamma': 1, 'kernel': 'rbf'}  \n",
       "78     {'C': 100, 'gamma': 10, 'kernel': 'linear'}  \n",
       "79        {'C': 100, 'gamma': 10, 'kernel': 'rbf'}  \n",
       "80    {'C': 100, 'gamma': 100, 'kernel': 'linear'}  \n",
       "81       {'C': 100, 'gamma': 100, 'kernel': 'rbf'}  \n",
       "82    {'C': 100, 'gamma': 100, 'kernel': 'linear'}  \n",
       "83       {'C': 100, 'gamma': 100, 'kernel': 'rbf'}  \n",
       "84   {'C': 100, 'gamma': 0.02, 'kernel': 'linear'}  \n",
       "85      {'C': 100, 'gamma': 0.02, 'kernel': 'rbf'}  \n",
       "86   {'C': 100, 'gamma': 0.02, 'kernel': 'linear'}  \n",
       "87      {'C': 100, 'gamma': 0.02, 'kernel': 'rbf'}  \n",
       "88    {'C': 100, 'gamma': 0.2, 'kernel': 'linear'}  \n",
       "89       {'C': 100, 'gamma': 0.2, 'kernel': 'rbf'}  \n",
       "90      {'C': 100, 'gamma': 1, 'kernel': 'linear'}  \n",
       "91         {'C': 100, 'gamma': 1, 'kernel': 'rbf'}  \n",
       "92     {'C': 100, 'gamma': 10, 'kernel': 'linear'}  \n",
       "93        {'C': 100, 'gamma': 10, 'kernel': 'rbf'}  \n",
       "94    {'C': 100, 'gamma': 100, 'kernel': 'linear'}  \n",
       "95       {'C': 100, 'gamma': 100, 'kernel': 'rbf'}  \n",
       "96    {'C': 100, 'gamma': 100, 'kernel': 'linear'}  \n",
       "97       {'C': 100, 'gamma': 100, 'kernel': 'rbf'}  \n",
       "\n",
       "[98 rows x 3 columns]"
      ]
     },
     "execution_count": 43,
     "metadata": {},
     "output_type": "execute_result"
    }
   ],
   "source": [
    "pd.DataFrame(grid_clf.cv_results_)[['mean_test_score', 'std_test_score', 'params']]"
   ]
  },
  {
   "cell_type": "markdown",
   "metadata": {},
   "source": [
    "### Choosen Model"
   ]
  },
  {
   "cell_type": "code",
   "execution_count": 63,
   "metadata": {},
   "outputs": [],
   "source": [
    "classifier = svm.SVC(C=1, cache_size=200, class_weight=None, coef0=0.0,\n",
    "  decision_function_shape='ovr', degree=3, gamma=0.2, kernel='rbf',\n",
    "  max_iter=-1, probability=False, random_state=None, shrinking=True,\n",
    "  tol=0.001, verbose=False)"
   ]
  },
  {
   "cell_type": "code",
   "execution_count": 45,
   "metadata": {},
   "outputs": [
    {
     "data": {
      "text/plain": [
       "SVC(C=1, cache_size=200, class_weight=None, coef0=0.0,\n",
       "  decision_function_shape='ovr', degree=3, gamma=0.2, kernel='rbf',\n",
       "  max_iter=-1, probability=False, random_state=None, shrinking=True,\n",
       "  tol=0.001, verbose=False)"
      ]
     },
     "execution_count": 45,
     "metadata": {},
     "output_type": "execute_result"
    }
   ],
   "source": [
    "classifier.fit(train_x,train_y)"
   ]
  },
  {
   "cell_type": "code",
   "execution_count": 46,
   "metadata": {},
   "outputs": [],
   "source": [
    "pred = classifier.predict(test_x)"
   ]
  },
  {
   "cell_type": "code",
   "execution_count": 47,
   "metadata": {},
   "outputs": [],
   "source": [
    "accuracy = accuracy_score(test_y,pred)"
   ]
  },
  {
   "cell_type": "code",
   "execution_count": 48,
   "metadata": {},
   "outputs": [
    {
     "name": "stdout",
     "output_type": "stream",
     "text": [
      "74.3076923076923\n"
     ]
    }
   ],
   "source": [
    "print(accuracy*100)"
   ]
  },
  {
   "cell_type": "code",
   "execution_count": 49,
   "metadata": {},
   "outputs": [
    {
     "data": {
      "text/plain": [
       "array([[241,  84],\n",
       "       [ 83, 242]], dtype=int64)"
      ]
     },
     "execution_count": 49,
     "metadata": {},
     "output_type": "execute_result"
    }
   ],
   "source": [
    "confusion_matrix(test_y,pred)"
   ]
  },
  {
   "cell_type": "code",
   "execution_count": 50,
   "metadata": {},
   "outputs": [
    {
     "name": "stdout",
     "output_type": "stream",
     "text": [
      "              precision    recall  f1-score   support\n",
      "\n",
      "           0       0.74      0.74      0.74       325\n",
      "           1       0.74      0.74      0.74       325\n",
      "\n",
      "   micro avg       0.74      0.74      0.74       650\n",
      "   macro avg       0.74      0.74      0.74       650\n",
      "weighted avg       0.74      0.74      0.74       650\n",
      "\n"
     ]
    }
   ],
   "source": [
    "print(classification_report(test_y,pred))"
   ]
  },
  {
   "cell_type": "code",
   "execution_count": 51,
   "metadata": {},
   "outputs": [
    {
     "name": "stdout",
     "output_type": "stream",
     "text": [
      "f1-score is 0.74\n"
     ]
    }
   ],
   "source": [
    "print('f1-score is {}'.format(0.74))"
   ]
  },
  {
   "cell_type": "markdown",
   "metadata": {},
   "source": [
    "### Result on CSV"
   ]
  },
  {
   "cell_type": "code",
   "execution_count": 52,
   "metadata": {},
   "outputs": [
    {
     "data": {
      "text/html": [
       "<div>\n",
       "<style scoped>\n",
       "    .dataframe tbody tr th:only-of-type {\n",
       "        vertical-align: middle;\n",
       "    }\n",
       "\n",
       "    .dataframe tbody tr th {\n",
       "        vertical-align: top;\n",
       "    }\n",
       "\n",
       "    .dataframe thead th {\n",
       "        text-align: right;\n",
       "    }\n",
       "</style>\n",
       "<table border=\"1\" class=\"dataframe\">\n",
       "  <thead>\n",
       "    <tr style=\"text-align: right;\">\n",
       "      <th></th>\n",
       "      <th>Previous_SB_Wins</th>\n",
       "      <th>Number_Of_Wins_This_Season</th>\n",
       "      <th>Number_Of_First_Round_Draft_Picks</th>\n",
       "      <th>Team_Value</th>\n",
       "      <th>Playing_Style</th>\n",
       "      <th>Average_Player_Age</th>\n",
       "      <th>Number_Of_Injured_Players</th>\n",
       "      <th>Coach_Experience_Level</th>\n",
       "    </tr>\n",
       "  </thead>\n",
       "  <tbody>\n",
       "    <tr>\n",
       "      <th>0</th>\n",
       "      <td>3</td>\n",
       "      <td>16</td>\n",
       "      <td>2</td>\n",
       "      <td>Above_Four_Billion</td>\n",
       "      <td>Relaxed</td>\n",
       "      <td>26</td>\n",
       "      <td>1</td>\n",
       "      <td>Intermediate</td>\n",
       "    </tr>\n",
       "    <tr>\n",
       "      <th>1</th>\n",
       "      <td>2</td>\n",
       "      <td>15</td>\n",
       "      <td>3</td>\n",
       "      <td>Less_Than_Four_Billion</td>\n",
       "      <td>Balanced</td>\n",
       "      <td>26</td>\n",
       "      <td>5</td>\n",
       "      <td>Advanced</td>\n",
       "    </tr>\n",
       "    <tr>\n",
       "      <th>2</th>\n",
       "      <td>2</td>\n",
       "      <td>10</td>\n",
       "      <td>1</td>\n",
       "      <td>Less_Than_Four_Billion</td>\n",
       "      <td>Balanced</td>\n",
       "      <td>27</td>\n",
       "      <td>8</td>\n",
       "      <td>Beginner</td>\n",
       "    </tr>\n",
       "    <tr>\n",
       "      <th>3</th>\n",
       "      <td>3</td>\n",
       "      <td>14</td>\n",
       "      <td>3</td>\n",
       "      <td>Less_Than_Four_Billion</td>\n",
       "      <td>Balanced</td>\n",
       "      <td>26</td>\n",
       "      <td>6</td>\n",
       "      <td>Intermediate</td>\n",
       "    </tr>\n",
       "    <tr>\n",
       "      <th>4</th>\n",
       "      <td>3</td>\n",
       "      <td>13</td>\n",
       "      <td>2</td>\n",
       "      <td>Less_Than_Four_Billion</td>\n",
       "      <td>Balanced</td>\n",
       "      <td>27</td>\n",
       "      <td>2</td>\n",
       "      <td>Intermediate</td>\n",
       "    </tr>\n",
       "  </tbody>\n",
       "</table>\n",
       "</div>"
      ],
      "text/plain": [
       "   Previous_SB_Wins  Number_Of_Wins_This_Season  \\\n",
       "0                 3                          16   \n",
       "1                 2                          15   \n",
       "2                 2                          10   \n",
       "3                 3                          14   \n",
       "4                 3                          13   \n",
       "\n",
       "   Number_Of_First_Round_Draft_Picks              Team_Value Playing_Style  \\\n",
       "0                                  2      Above_Four_Billion       Relaxed   \n",
       "1                                  3  Less_Than_Four_Billion      Balanced   \n",
       "2                                  1  Less_Than_Four_Billion      Balanced   \n",
       "3                                  3  Less_Than_Four_Billion      Balanced   \n",
       "4                                  2  Less_Than_Four_Billion      Balanced   \n",
       "\n",
       "   Average_Player_Age  Number_Of_Injured_Players Coach_Experience_Level  \n",
       "0                  26                          1           Intermediate  \n",
       "1                  26                          5               Advanced  \n",
       "2                  27                          8               Beginner  \n",
       "3                  26                          6           Intermediate  \n",
       "4                  27                          2           Intermediate  "
      ]
     },
     "execution_count": 52,
     "metadata": {},
     "output_type": "execute_result"
    }
   ],
   "source": [
    "test.head()"
   ]
  },
  {
   "cell_type": "code",
   "execution_count": 53,
   "metadata": {},
   "outputs": [],
   "source": [
    "test = pd.get_dummies(test)"
   ]
  },
  {
   "cell_type": "code",
   "execution_count": 54,
   "metadata": {},
   "outputs": [
    {
     "data": {
      "text/plain": [
       "(3500, 15)"
      ]
     },
     "execution_count": 54,
     "metadata": {},
     "output_type": "execute_result"
    }
   ],
   "source": [
    "test.shape"
   ]
  },
  {
   "cell_type": "code",
   "execution_count": 55,
   "metadata": {},
   "outputs": [],
   "source": [
    "test = test[col_list_x]"
   ]
  },
  {
   "cell_type": "code",
   "execution_count": 56,
   "metadata": {},
   "outputs": [],
   "source": [
    "answer = classifier.predict(test)"
   ]
  },
  {
   "cell_type": "code",
   "execution_count": 57,
   "metadata": {},
   "outputs": [
    {
     "data": {
      "text/plain": [
       "(3500,)"
      ]
     },
     "execution_count": 57,
     "metadata": {},
     "output_type": "execute_result"
    }
   ],
   "source": [
    "answer.shape"
   ]
  },
  {
   "cell_type": "code",
   "execution_count": 58,
   "metadata": {},
   "outputs": [],
   "source": [
    "check = pd.read_csv('Dataset/test.csv')\n",
    "x = check['ID']"
   ]
  },
  {
   "cell_type": "code",
   "execution_count": 59,
   "metadata": {},
   "outputs": [],
   "source": [
    "answer_dict = {}\n",
    "for i in range(3500):\n",
    "    answer_dict[x[i]]= answer[i]"
   ]
  },
  {
   "cell_type": "code",
   "execution_count": 60,
   "metadata": {},
   "outputs": [
    {
     "name": "stdout",
     "output_type": "stream",
     "text": [
      "3500\n"
     ]
    }
   ],
   "source": [
    "print(len(answer_dict.keys()))"
   ]
  },
  {
   "cell_type": "code",
   "execution_count": 61,
   "metadata": {},
   "outputs": [],
   "source": [
    "sorted_answer=[['ID','Won_Championship']]\n",
    "for key in (answer_dict):\n",
    "    sorted_answer.append([key,answer_dict[key]])"
   ]
  },
  {
   "cell_type": "code",
   "execution_count": 62,
   "metadata": {},
   "outputs": [],
   "source": [
    "import csv\n",
    "with open('resultV1.csv','w',newline='') as f:\n",
    "    writer = csv.writer(f)\n",
    "    writer.writerows(sorted_answer)"
   ]
  },
  {
   "cell_type": "markdown",
   "metadata": {},
   "source": [
    "### One Refined Model"
   ]
  },
  {
   "cell_type": "code",
   "execution_count": 64,
   "metadata": {},
   "outputs": [
    {
     "data": {
      "text/plain": [
       "pandas.core.frame.DataFrame"
      ]
     },
     "execution_count": 64,
     "metadata": {},
     "output_type": "execute_result"
    }
   ],
   "source": [
    "type(train)"
   ]
  },
  {
   "cell_type": "code",
   "execution_count": 65,
   "metadata": {},
   "outputs": [
    {
     "data": {
      "text/html": [
       "<div>\n",
       "<style scoped>\n",
       "    .dataframe tbody tr th:only-of-type {\n",
       "        vertical-align: middle;\n",
       "    }\n",
       "\n",
       "    .dataframe tbody tr th {\n",
       "        vertical-align: top;\n",
       "    }\n",
       "\n",
       "    .dataframe thead th {\n",
       "        text-align: right;\n",
       "    }\n",
       "</style>\n",
       "<table border=\"1\" class=\"dataframe\">\n",
       "  <thead>\n",
       "    <tr style=\"text-align: right;\">\n",
       "      <th></th>\n",
       "      <th>Won_Championship</th>\n",
       "      <th>Previous_SB_Wins</th>\n",
       "      <th>Number_Of_Wins_This_Season</th>\n",
       "      <th>Number_Of_First_Round_Draft_Picks</th>\n",
       "      <th>Average_Player_Age</th>\n",
       "      <th>Number_Of_Injured_Players</th>\n",
       "      <th>Team_Value_Above_Four_Billion</th>\n",
       "      <th>Team_Value_Less_Than_Four_Billion</th>\n",
       "      <th>Team_Value_Less_Than_Three_Billion</th>\n",
       "      <th>Playing_Style_Aggressive_Defense</th>\n",
       "      <th>Playing_Style_Aggressive_Offense</th>\n",
       "      <th>Playing_Style_Balanced</th>\n",
       "      <th>Playing_Style_Relaxed</th>\n",
       "      <th>Coach_Experience_Level_Advanced</th>\n",
       "      <th>Coach_Experience_Level_Beginner</th>\n",
       "      <th>Coach_Experience_Level_Intermediate</th>\n",
       "    </tr>\n",
       "  </thead>\n",
       "  <tbody>\n",
       "    <tr>\n",
       "      <th>0</th>\n",
       "      <td>0</td>\n",
       "      <td>3</td>\n",
       "      <td>13</td>\n",
       "      <td>2</td>\n",
       "      <td>27</td>\n",
       "      <td>4</td>\n",
       "      <td>0</td>\n",
       "      <td>1</td>\n",
       "      <td>0</td>\n",
       "      <td>0</td>\n",
       "      <td>0</td>\n",
       "      <td>1</td>\n",
       "      <td>0</td>\n",
       "      <td>0</td>\n",
       "      <td>0</td>\n",
       "      <td>1</td>\n",
       "    </tr>\n",
       "    <tr>\n",
       "      <th>1</th>\n",
       "      <td>0</td>\n",
       "      <td>2</td>\n",
       "      <td>14</td>\n",
       "      <td>2</td>\n",
       "      <td>26</td>\n",
       "      <td>4</td>\n",
       "      <td>0</td>\n",
       "      <td>1</td>\n",
       "      <td>0</td>\n",
       "      <td>0</td>\n",
       "      <td>1</td>\n",
       "      <td>0</td>\n",
       "      <td>0</td>\n",
       "      <td>0</td>\n",
       "      <td>0</td>\n",
       "      <td>1</td>\n",
       "    </tr>\n",
       "    <tr>\n",
       "      <th>2</th>\n",
       "      <td>1</td>\n",
       "      <td>2</td>\n",
       "      <td>13</td>\n",
       "      <td>1</td>\n",
       "      <td>27</td>\n",
       "      <td>3</td>\n",
       "      <td>0</td>\n",
       "      <td>1</td>\n",
       "      <td>0</td>\n",
       "      <td>1</td>\n",
       "      <td>0</td>\n",
       "      <td>0</td>\n",
       "      <td>0</td>\n",
       "      <td>0</td>\n",
       "      <td>0</td>\n",
       "      <td>1</td>\n",
       "    </tr>\n",
       "    <tr>\n",
       "      <th>3</th>\n",
       "      <td>0</td>\n",
       "      <td>2</td>\n",
       "      <td>12</td>\n",
       "      <td>2</td>\n",
       "      <td>27</td>\n",
       "      <td>5</td>\n",
       "      <td>1</td>\n",
       "      <td>0</td>\n",
       "      <td>0</td>\n",
       "      <td>0</td>\n",
       "      <td>0</td>\n",
       "      <td>1</td>\n",
       "      <td>0</td>\n",
       "      <td>0</td>\n",
       "      <td>0</td>\n",
       "      <td>1</td>\n",
       "    </tr>\n",
       "    <tr>\n",
       "      <th>4</th>\n",
       "      <td>0</td>\n",
       "      <td>1</td>\n",
       "      <td>15</td>\n",
       "      <td>2</td>\n",
       "      <td>26</td>\n",
       "      <td>4</td>\n",
       "      <td>0</td>\n",
       "      <td>1</td>\n",
       "      <td>0</td>\n",
       "      <td>0</td>\n",
       "      <td>0</td>\n",
       "      <td>1</td>\n",
       "      <td>0</td>\n",
       "      <td>0</td>\n",
       "      <td>0</td>\n",
       "      <td>1</td>\n",
       "    </tr>\n",
       "  </tbody>\n",
       "</table>\n",
       "</div>"
      ],
      "text/plain": [
       "   Won_Championship  Previous_SB_Wins  Number_Of_Wins_This_Season  \\\n",
       "0                 0                 3                          13   \n",
       "1                 0                 2                          14   \n",
       "2                 1                 2                          13   \n",
       "3                 0                 2                          12   \n",
       "4                 0                 1                          15   \n",
       "\n",
       "   Number_Of_First_Round_Draft_Picks  Average_Player_Age  \\\n",
       "0                                  2                  27   \n",
       "1                                  2                  26   \n",
       "2                                  1                  27   \n",
       "3                                  2                  27   \n",
       "4                                  2                  26   \n",
       "\n",
       "   Number_Of_Injured_Players  Team_Value_Above_Four_Billion  \\\n",
       "0                          4                              0   \n",
       "1                          4                              0   \n",
       "2                          3                              0   \n",
       "3                          5                              1   \n",
       "4                          4                              0   \n",
       "\n",
       "   Team_Value_Less_Than_Four_Billion  Team_Value_Less_Than_Three_Billion  \\\n",
       "0                                  1                                   0   \n",
       "1                                  1                                   0   \n",
       "2                                  1                                   0   \n",
       "3                                  0                                   0   \n",
       "4                                  1                                   0   \n",
       "\n",
       "   Playing_Style_Aggressive_Defense  Playing_Style_Aggressive_Offense  \\\n",
       "0                                 0                                 0   \n",
       "1                                 0                                 1   \n",
       "2                                 1                                 0   \n",
       "3                                 0                                 0   \n",
       "4                                 0                                 0   \n",
       "\n",
       "   Playing_Style_Balanced  Playing_Style_Relaxed  \\\n",
       "0                       1                      0   \n",
       "1                       0                      0   \n",
       "2                       0                      0   \n",
       "3                       1                      0   \n",
       "4                       1                      0   \n",
       "\n",
       "   Coach_Experience_Level_Advanced  Coach_Experience_Level_Beginner  \\\n",
       "0                                0                                0   \n",
       "1                                0                                0   \n",
       "2                                0                                0   \n",
       "3                                0                                0   \n",
       "4                                0                                0   \n",
       "\n",
       "   Coach_Experience_Level_Intermediate  \n",
       "0                                    1  \n",
       "1                                    1  \n",
       "2                                    1  \n",
       "3                                    1  \n",
       "4                                    1  "
      ]
     },
     "execution_count": 65,
     "metadata": {},
     "output_type": "execute_result"
    }
   ],
   "source": [
    "train.head()"
   ]
  },
  {
   "cell_type": "code",
   "execution_count": 66,
   "metadata": {},
   "outputs": [
    {
     "data": {
      "text/plain": [
       "(6500, 16)"
      ]
     },
     "execution_count": 66,
     "metadata": {},
     "output_type": "execute_result"
    }
   ],
   "source": [
    "train.shape"
   ]
  },
  {
   "cell_type": "code",
   "execution_count": 67,
   "metadata": {},
   "outputs": [],
   "source": [
    "train = train.drop('Previous_SB_Wins',axis=1)"
   ]
  },
  {
   "cell_type": "code",
   "execution_count": 68,
   "metadata": {},
   "outputs": [
    {
     "data": {
      "text/plain": [
       "(6500, 15)"
      ]
     },
     "execution_count": 68,
     "metadata": {},
     "output_type": "execute_result"
    }
   ],
   "source": [
    "train.shape"
   ]
  },
  {
   "cell_type": "code",
   "execution_count": 69,
   "metadata": {},
   "outputs": [],
   "source": [
    "y = train['Won_Championship']"
   ]
  },
  {
   "cell_type": "code",
   "execution_count": 70,
   "metadata": {},
   "outputs": [],
   "source": [
    "train = train.drop('Won_Championship',axis=1)"
   ]
  },
  {
   "cell_type": "code",
   "execution_count": 71,
   "metadata": {},
   "outputs": [
    {
     "data": {
      "text/plain": [
       "(6500, 14)"
      ]
     },
     "execution_count": 71,
     "metadata": {},
     "output_type": "execute_result"
    }
   ],
   "source": [
    "train.shape"
   ]
  },
  {
   "cell_type": "code",
   "execution_count": 72,
   "metadata": {},
   "outputs": [],
   "source": [
    "x = train[train.columns]"
   ]
  },
  {
   "cell_type": "code",
   "execution_count": 73,
   "metadata": {},
   "outputs": [
    {
     "data": {
      "text/plain": [
       "(6500, 14)"
      ]
     },
     "execution_count": 73,
     "metadata": {},
     "output_type": "execute_result"
    }
   ],
   "source": [
    "x.shape"
   ]
  },
  {
   "cell_type": "markdown",
   "metadata": {},
   "source": [
    "## Grid Serach "
   ]
  },
  {
   "cell_type": "code",
   "execution_count": 74,
   "metadata": {},
   "outputs": [],
   "source": [
    "clf2 = svm.SVC()"
   ]
  },
  {
   "cell_type": "code",
   "execution_count": 75,
   "metadata": {},
   "outputs": [],
   "source": [
    "kernal = ['linear','rbf']\n",
    "C = [0.001,0.01,0.01,0.1,1,10,100,100,1000]\n",
    "gamma = [0.002,0.02,0.02,0.2,1,10,100,100,1000]"
   ]
  },
  {
   "cell_type": "code",
   "execution_count": 76,
   "metadata": {},
   "outputs": [],
   "source": [
    "gride = dict(kernel = kernal,C = C, gamma = gamma)"
   ]
  },
  {
   "cell_type": "code",
   "execution_count": 77,
   "metadata": {},
   "outputs": [],
   "source": [
    "grid_clf2 = GridSearchCV(clf, param_grid = gride, cv=5, scoring='accuracy', return_train_score=False, n_jobs=-1)"
   ]
  },
  {
   "cell_type": "code",
   "execution_count": 78,
   "metadata": {},
   "outputs": [
    {
     "data": {
      "text/plain": [
       "(6500, 14)"
      ]
     },
     "execution_count": 78,
     "metadata": {},
     "output_type": "execute_result"
    }
   ],
   "source": [
    "x.shape"
   ]
  },
  {
   "cell_type": "code",
   "execution_count": 79,
   "metadata": {},
   "outputs": [
    {
     "data": {
      "text/plain": [
       "(6500,)"
      ]
     },
     "execution_count": 79,
     "metadata": {},
     "output_type": "execute_result"
    }
   ],
   "source": [
    "y.shape"
   ]
  },
  {
   "cell_type": "code",
   "execution_count": 80,
   "metadata": {},
   "outputs": [
    {
     "data": {
      "text/plain": [
       "GridSearchCV(cv=5, error_score='raise-deprecating',\n",
       "       estimator=SVC(C=1.0, cache_size=200, class_weight=None, coef0=0.0,\n",
       "  decision_function_shape='ovr', degree=3, gamma='auto_deprecated',\n",
       "  kernel='rbf', max_iter=-1, probability=False, random_state=None,\n",
       "  shrinking=True, tol=0.001, verbose=False),\n",
       "       fit_params=None, iid='warn', n_jobs=-1,\n",
       "       param_grid={'kernel': ['linear', 'rbf'], 'C': [0.001, 0.01, 0.01, 0.1, 1, 10, 100, 100, 1000], 'gamma': [0.002, 0.02, 0.02, 0.2, 1, 10, 100, 100, 1000]},\n",
       "       pre_dispatch='2*n_jobs', refit=True, return_train_score=False,\n",
       "       scoring='accuracy', verbose=0)"
      ]
     },
     "execution_count": 80,
     "metadata": {},
     "output_type": "execute_result"
    }
   ],
   "source": [
    "grid_clf2.fit(x, y)"
   ]
  },
  {
   "cell_type": "code",
   "execution_count": 81,
   "metadata": {},
   "outputs": [
    {
     "name": "stdout",
     "output_type": "stream",
     "text": [
      "0.7578461538461538\n",
      "{'C': 0.1, 'gamma': 1, 'kernel': 'rbf'}\n",
      "SVC(C=0.1, cache_size=200, class_weight=None, coef0=0.0,\n",
      "  decision_function_shape='ovr', degree=3, gamma=1, kernel='rbf',\n",
      "  max_iter=-1, probability=False, random_state=None, shrinking=True,\n",
      "  tol=0.001, verbose=False)\n"
     ]
    }
   ],
   "source": [
    "print(grid_clf2.best_score_)\n",
    "print(grid_clf2.best_params_)\n",
    "print(grid_clf2.best_estimator_)"
   ]
  },
  {
   "cell_type": "markdown",
   "metadata": {},
   "source": [
    "#### Choosen Model"
   ]
  },
  {
   "cell_type": "code",
   "execution_count": 82,
   "metadata": {},
   "outputs": [],
   "source": [
    "train_x,test_x,train_y,test_y = train_test_split(x,y,test_size=0.1,random_state=0)"
   ]
  },
  {
   "cell_type": "code",
   "execution_count": 91,
   "metadata": {},
   "outputs": [],
   "source": [
    "classifier2 = svm.SVC(C=0.1, cache_size=200, class_weight=None, coef0=0.0,\n",
    "  decision_function_shape='ovr', degree=3, gamma=1, kernel='rbf',\n",
    "  max_iter=-1, probability=False, random_state=None, shrinking=True,\n",
    "  tol=0.001, verbose=False)"
   ]
  },
  {
   "cell_type": "code",
   "execution_count": 92,
   "metadata": {},
   "outputs": [
    {
     "data": {
      "text/plain": [
       "SVC(C=0.1, cache_size=200, class_weight=None, coef0=0.0,\n",
       "  decision_function_shape='ovr', degree=3, gamma=1, kernel='rbf',\n",
       "  max_iter=-1, probability=False, random_state=None, shrinking=True,\n",
       "  tol=0.001, verbose=False)"
      ]
     },
     "execution_count": 92,
     "metadata": {},
     "output_type": "execute_result"
    }
   ],
   "source": [
    "classifier2.fit(train_x,train_y)"
   ]
  },
  {
   "cell_type": "code",
   "execution_count": 93,
   "metadata": {},
   "outputs": [],
   "source": [
    "pred_final = classifier2.predict(test_x)"
   ]
  },
  {
   "cell_type": "code",
   "execution_count": 94,
   "metadata": {},
   "outputs": [],
   "source": [
    "accuracy_final = accuracy_score(test_y,pred_final)"
   ]
  },
  {
   "cell_type": "code",
   "execution_count": 95,
   "metadata": {},
   "outputs": [
    {
     "name": "stdout",
     "output_type": "stream",
     "text": [
      "75.07692307692308\n"
     ]
    }
   ],
   "source": [
    "print(accuracy_final*100)"
   ]
  },
  {
   "cell_type": "code",
   "execution_count": 99,
   "metadata": {},
   "outputs": [
    {
     "data": {
      "text/plain": [
       "array([[238,  87],\n",
       "       [ 75, 250]], dtype=int64)"
      ]
     },
     "execution_count": 99,
     "metadata": {},
     "output_type": "execute_result"
    }
   ],
   "source": [
    "confusion_matrix(test_y,pred_final)"
   ]
  },
  {
   "cell_type": "code",
   "execution_count": 101,
   "metadata": {},
   "outputs": [
    {
     "name": "stdout",
     "output_type": "stream",
     "text": [
      "              precision    recall  f1-score   support\n",
      "\n",
      "           0       0.76      0.73      0.75       325\n",
      "           1       0.74      0.77      0.76       325\n",
      "\n",
      "   micro avg       0.75      0.75      0.75       650\n",
      "   macro avg       0.75      0.75      0.75       650\n",
      "weighted avg       0.75      0.75      0.75       650\n",
      "\n"
     ]
    }
   ],
   "source": [
    "print(classification_report(test_y,pred_final))"
   ]
  },
  {
   "cell_type": "code",
   "execution_count": 102,
   "metadata": {},
   "outputs": [
    {
     "name": "stdout",
     "output_type": "stream",
     "text": [
      "f1-score is 0.75\n"
     ]
    }
   ],
   "source": [
    "print('f1-score is {}'.format(0.75))"
   ]
  },
  {
   "cell_type": "markdown",
   "metadata": {},
   "source": [
    "### Output CSV"
   ]
  },
  {
   "cell_type": "code",
   "execution_count": 103,
   "metadata": {},
   "outputs": [
    {
     "data": {
      "text/plain": [
       "(3500, 15)"
      ]
     },
     "execution_count": 103,
     "metadata": {},
     "output_type": "execute_result"
    }
   ],
   "source": [
    "test.shape"
   ]
  },
  {
   "cell_type": "code",
   "execution_count": 104,
   "metadata": {},
   "outputs": [
    {
     "data": {
      "text/html": [
       "<div>\n",
       "<style scoped>\n",
       "    .dataframe tbody tr th:only-of-type {\n",
       "        vertical-align: middle;\n",
       "    }\n",
       "\n",
       "    .dataframe tbody tr th {\n",
       "        vertical-align: top;\n",
       "    }\n",
       "\n",
       "    .dataframe thead th {\n",
       "        text-align: right;\n",
       "    }\n",
       "</style>\n",
       "<table border=\"1\" class=\"dataframe\">\n",
       "  <thead>\n",
       "    <tr style=\"text-align: right;\">\n",
       "      <th></th>\n",
       "      <th>Coach_Experience_Level_Beginner</th>\n",
       "      <th>Number_Of_First_Round_Draft_Picks</th>\n",
       "      <th>Coach_Experience_Level_Advanced</th>\n",
       "      <th>Previous_SB_Wins</th>\n",
       "      <th>Team_Value_Less_Than_Four_Billion</th>\n",
       "      <th>Playing_Style_Aggressive_Defense</th>\n",
       "      <th>Playing_Style_Balanced</th>\n",
       "      <th>Average_Player_Age</th>\n",
       "      <th>Playing_Style_Aggressive_Offense</th>\n",
       "      <th>Number_Of_Injured_Players</th>\n",
       "      <th>Coach_Experience_Level_Intermediate</th>\n",
       "      <th>Team_Value_Above_Four_Billion</th>\n",
       "      <th>Playing_Style_Relaxed</th>\n",
       "      <th>Team_Value_Less_Than_Three_Billion</th>\n",
       "      <th>Number_Of_Wins_This_Season</th>\n",
       "    </tr>\n",
       "  </thead>\n",
       "  <tbody>\n",
       "    <tr>\n",
       "      <th>0</th>\n",
       "      <td>0</td>\n",
       "      <td>2</td>\n",
       "      <td>0</td>\n",
       "      <td>3</td>\n",
       "      <td>0</td>\n",
       "      <td>0</td>\n",
       "      <td>0</td>\n",
       "      <td>26</td>\n",
       "      <td>0</td>\n",
       "      <td>1</td>\n",
       "      <td>1</td>\n",
       "      <td>1</td>\n",
       "      <td>1</td>\n",
       "      <td>0</td>\n",
       "      <td>16</td>\n",
       "    </tr>\n",
       "    <tr>\n",
       "      <th>1</th>\n",
       "      <td>0</td>\n",
       "      <td>3</td>\n",
       "      <td>1</td>\n",
       "      <td>2</td>\n",
       "      <td>1</td>\n",
       "      <td>0</td>\n",
       "      <td>1</td>\n",
       "      <td>26</td>\n",
       "      <td>0</td>\n",
       "      <td>5</td>\n",
       "      <td>0</td>\n",
       "      <td>0</td>\n",
       "      <td>0</td>\n",
       "      <td>0</td>\n",
       "      <td>15</td>\n",
       "    </tr>\n",
       "    <tr>\n",
       "      <th>2</th>\n",
       "      <td>1</td>\n",
       "      <td>1</td>\n",
       "      <td>0</td>\n",
       "      <td>2</td>\n",
       "      <td>1</td>\n",
       "      <td>0</td>\n",
       "      <td>1</td>\n",
       "      <td>27</td>\n",
       "      <td>0</td>\n",
       "      <td>8</td>\n",
       "      <td>0</td>\n",
       "      <td>0</td>\n",
       "      <td>0</td>\n",
       "      <td>0</td>\n",
       "      <td>10</td>\n",
       "    </tr>\n",
       "    <tr>\n",
       "      <th>3</th>\n",
       "      <td>0</td>\n",
       "      <td>3</td>\n",
       "      <td>0</td>\n",
       "      <td>3</td>\n",
       "      <td>1</td>\n",
       "      <td>0</td>\n",
       "      <td>1</td>\n",
       "      <td>26</td>\n",
       "      <td>0</td>\n",
       "      <td>6</td>\n",
       "      <td>1</td>\n",
       "      <td>0</td>\n",
       "      <td>0</td>\n",
       "      <td>0</td>\n",
       "      <td>14</td>\n",
       "    </tr>\n",
       "    <tr>\n",
       "      <th>4</th>\n",
       "      <td>0</td>\n",
       "      <td>2</td>\n",
       "      <td>0</td>\n",
       "      <td>3</td>\n",
       "      <td>1</td>\n",
       "      <td>0</td>\n",
       "      <td>1</td>\n",
       "      <td>27</td>\n",
       "      <td>0</td>\n",
       "      <td>2</td>\n",
       "      <td>1</td>\n",
       "      <td>0</td>\n",
       "      <td>0</td>\n",
       "      <td>0</td>\n",
       "      <td>13</td>\n",
       "    </tr>\n",
       "  </tbody>\n",
       "</table>\n",
       "</div>"
      ],
      "text/plain": [
       "   Coach_Experience_Level_Beginner  Number_Of_First_Round_Draft_Picks  \\\n",
       "0                                0                                  2   \n",
       "1                                0                                  3   \n",
       "2                                1                                  1   \n",
       "3                                0                                  3   \n",
       "4                                0                                  2   \n",
       "\n",
       "   Coach_Experience_Level_Advanced  Previous_SB_Wins  \\\n",
       "0                                0                 3   \n",
       "1                                1                 2   \n",
       "2                                0                 2   \n",
       "3                                0                 3   \n",
       "4                                0                 3   \n",
       "\n",
       "   Team_Value_Less_Than_Four_Billion  Playing_Style_Aggressive_Defense  \\\n",
       "0                                  0                                 0   \n",
       "1                                  1                                 0   \n",
       "2                                  1                                 0   \n",
       "3                                  1                                 0   \n",
       "4                                  1                                 0   \n",
       "\n",
       "   Playing_Style_Balanced  Average_Player_Age  \\\n",
       "0                       0                  26   \n",
       "1                       1                  26   \n",
       "2                       1                  27   \n",
       "3                       1                  26   \n",
       "4                       1                  27   \n",
       "\n",
       "   Playing_Style_Aggressive_Offense  Number_Of_Injured_Players  \\\n",
       "0                                 0                          1   \n",
       "1                                 0                          5   \n",
       "2                                 0                          8   \n",
       "3                                 0                          6   \n",
       "4                                 0                          2   \n",
       "\n",
       "   Coach_Experience_Level_Intermediate  Team_Value_Above_Four_Billion  \\\n",
       "0                                    1                              1   \n",
       "1                                    0                              0   \n",
       "2                                    0                              0   \n",
       "3                                    1                              0   \n",
       "4                                    1                              0   \n",
       "\n",
       "   Playing_Style_Relaxed  Team_Value_Less_Than_Three_Billion  \\\n",
       "0                      1                                   0   \n",
       "1                      0                                   0   \n",
       "2                      0                                   0   \n",
       "3                      0                                   0   \n",
       "4                      0                                   0   \n",
       "\n",
       "   Number_Of_Wins_This_Season  \n",
       "0                          16  \n",
       "1                          15  \n",
       "2                          10  \n",
       "3                          14  \n",
       "4                          13  "
      ]
     },
     "execution_count": 104,
     "metadata": {},
     "output_type": "execute_result"
    }
   ],
   "source": [
    "test.head()"
   ]
  },
  {
   "cell_type": "code",
   "execution_count": 105,
   "metadata": {},
   "outputs": [],
   "source": [
    "test = test.drop('Previous_SB_Wins',axis=1)"
   ]
  },
  {
   "cell_type": "code",
   "execution_count": 106,
   "metadata": {},
   "outputs": [
    {
     "data": {
      "text/plain": [
       "(3500, 14)"
      ]
     },
     "execution_count": 106,
     "metadata": {},
     "output_type": "execute_result"
    }
   ],
   "source": [
    "test.shape"
   ]
  },
  {
   "cell_type": "code",
   "execution_count": 107,
   "metadata": {},
   "outputs": [],
   "source": [
    "pred_test = classifier2.predict(test)"
   ]
  },
  {
   "cell_type": "code",
   "execution_count": 108,
   "metadata": {},
   "outputs": [],
   "source": [
    "check = pd.read_csv('Dataset/test.csv')\n",
    "X = check['ID']"
   ]
  },
  {
   "cell_type": "code",
   "execution_count": 109,
   "metadata": {},
   "outputs": [],
   "source": [
    "answer_dict = {}\n",
    "for i in range(3500):\n",
    "    answer_dict[X[i]]= answer[i]"
   ]
  },
  {
   "cell_type": "code",
   "execution_count": 110,
   "metadata": {},
   "outputs": [],
   "source": [
    "sorted_answer=[['ID','Won_Championship']]\n",
    "for key in (answer_dict):\n",
    "    sorted_answer.append([key,answer_dict[key]])"
   ]
  },
  {
   "cell_type": "code",
   "execution_count": 111,
   "metadata": {},
   "outputs": [],
   "source": [
    "import csv\n",
    "with open('resultActual.csv','w',newline='') as f:\n",
    "    writer = csv.writer(f)\n",
    "    writer.writerows(sorted_answer)"
   ]
  },
  {
   "cell_type": "code",
   "execution_count": null,
   "metadata": {},
   "outputs": [],
   "source": []
  }
 ],
 "metadata": {
  "kernelspec": {
   "display_name": "Python 3",
   "language": "python",
   "name": "python3"
  },
  "language_info": {
   "codemirror_mode": {
    "name": "ipython",
    "version": 3
   },
   "file_extension": ".py",
   "mimetype": "text/x-python",
   "name": "python",
   "nbconvert_exporter": "python",
   "pygments_lexer": "ipython3",
   "version": "3.7.3"
  }
 },
 "nbformat": 4,
 "nbformat_minor": 2
}
