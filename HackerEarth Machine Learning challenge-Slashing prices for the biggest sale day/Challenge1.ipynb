{
 "cells": [
  {
   "cell_type": "code",
   "execution_count": 60,
   "metadata": {},
   "outputs": [],
   "source": [
    "import numpy as np\n",
    "import matplotlib.pyplot as plt\n",
    "import pandas as pd"
   ]
  },
  {
   "cell_type": "code",
   "execution_count": 61,
   "metadata": {},
   "outputs": [],
   "source": [
    "train_path='Dataset/Train.csv'\n",
    "test_path='Dataset/Test.csv'"
   ]
  },
  {
   "cell_type": "code",
   "execution_count": 62,
   "metadata": {},
   "outputs": [],
   "source": [
    "train = pd.read_csv(train_path)\n",
    "test = pd.read_csv(test_path)"
   ]
  },
  {
   "cell_type": "code",
   "execution_count": 63,
   "metadata": {},
   "outputs": [
    {
     "data": {
      "text/html": [
       "<div>\n",
       "<style scoped>\n",
       "    .dataframe tbody tr th:only-of-type {\n",
       "        vertical-align: middle;\n",
       "    }\n",
       "\n",
       "    .dataframe tbody tr th {\n",
       "        vertical-align: top;\n",
       "    }\n",
       "\n",
       "    .dataframe thead th {\n",
       "        text-align: right;\n",
       "    }\n",
       "</style>\n",
       "<table border=\"1\" class=\"dataframe\">\n",
       "  <thead>\n",
       "    <tr style=\"text-align: right;\">\n",
       "      <th></th>\n",
       "      <th>Item_Id</th>\n",
       "      <th>Date</th>\n",
       "      <th>State_of_Country</th>\n",
       "      <th>Market_Category</th>\n",
       "      <th>Product_Category</th>\n",
       "      <th>Grade</th>\n",
       "      <th>Demand</th>\n",
       "      <th>Low_Cap_Price</th>\n",
       "      <th>High_Cap_Price</th>\n",
       "    </tr>\n",
       "  </thead>\n",
       "  <tbody>\n",
       "    <tr>\n",
       "      <th>0</th>\n",
       "      <td>IT_1</td>\n",
       "      <td>2007-07-05</td>\n",
       "      <td>0</td>\n",
       "      <td>0</td>\n",
       "      <td>0</td>\n",
       "      <td>0</td>\n",
       "      <td>0.5</td>\n",
       "      <td>2785</td>\n",
       "      <td>4240</td>\n",
       "    </tr>\n",
       "    <tr>\n",
       "      <th>1</th>\n",
       "      <td>IT_2</td>\n",
       "      <td>2007-07-05</td>\n",
       "      <td>0</td>\n",
       "      <td>1</td>\n",
       "      <td>0</td>\n",
       "      <td>0</td>\n",
       "      <td>0.7</td>\n",
       "      <td>3574</td>\n",
       "      <td>4756</td>\n",
       "    </tr>\n",
       "    <tr>\n",
       "      <th>2</th>\n",
       "      <td>IT_3</td>\n",
       "      <td>2007-07-05</td>\n",
       "      <td>0</td>\n",
       "      <td>103</td>\n",
       "      <td>0</td>\n",
       "      <td>1</td>\n",
       "      <td>1.6</td>\n",
       "      <td>5978</td>\n",
       "      <td>9669</td>\n",
       "    </tr>\n",
       "    <tr>\n",
       "      <th>3</th>\n",
       "      <td>IT_4</td>\n",
       "      <td>2007-07-05</td>\n",
       "      <td>0</td>\n",
       "      <td>103</td>\n",
       "      <td>0</td>\n",
       "      <td>0</td>\n",
       "      <td>0.0</td>\n",
       "      <td>5681</td>\n",
       "      <td>8313</td>\n",
       "    </tr>\n",
       "    <tr>\n",
       "      <th>4</th>\n",
       "      <td>IT_5</td>\n",
       "      <td>2007-07-05</td>\n",
       "      <td>0</td>\n",
       "      <td>103</td>\n",
       "      <td>0</td>\n",
       "      <td>2</td>\n",
       "      <td>0.0</td>\n",
       "      <td>4924</td>\n",
       "      <td>7257</td>\n",
       "    </tr>\n",
       "  </tbody>\n",
       "</table>\n",
       "</div>"
      ],
      "text/plain": [
       "  Item_Id        Date  State_of_Country  Market_Category  Product_Category  \\\n",
       "0    IT_1  2007-07-05                 0                0                 0   \n",
       "1    IT_2  2007-07-05                 0                1                 0   \n",
       "2    IT_3  2007-07-05                 0              103                 0   \n",
       "3    IT_4  2007-07-05                 0              103                 0   \n",
       "4    IT_5  2007-07-05                 0              103                 0   \n",
       "\n",
       "   Grade  Demand  Low_Cap_Price  High_Cap_Price  \n",
       "0      0     0.5           2785            4240  \n",
       "1      0     0.7           3574            4756  \n",
       "2      1     1.6           5978            9669  \n",
       "3      0     0.0           5681            8313  \n",
       "4      2     0.0           4924            7257  "
      ]
     },
     "execution_count": 63,
     "metadata": {},
     "output_type": "execute_result"
    }
   ],
   "source": [
    "train.head()"
   ]
  },
  {
   "cell_type": "code",
   "execution_count": 64,
   "metadata": {},
   "outputs": [
    {
     "data": {
      "text/plain": [
       "9"
      ]
     },
     "execution_count": 64,
     "metadata": {},
     "output_type": "execute_result"
    }
   ],
   "source": [
    "len(list(train.keys()))"
   ]
  },
  {
   "cell_type": "code",
   "execution_count": 65,
   "metadata": {},
   "outputs": [
    {
     "data": {
      "text/plain": [
       "['Item_Id',\n",
       " 'Date',\n",
       " 'State_of_Country',\n",
       " 'Market_Category',\n",
       " 'Product_Category',\n",
       " 'Grade',\n",
       " 'Demand',\n",
       " 'Low_Cap_Price',\n",
       " 'High_Cap_Price']"
      ]
     },
     "execution_count": 65,
     "metadata": {},
     "output_type": "execute_result"
    }
   ],
   "source": [
    "list(train.keys())"
   ]
  },
  {
   "cell_type": "markdown",
   "metadata": {},
   "source": [
    "#### Step 1 : Pre-processing Steps"
   ]
  },
  {
   "cell_type": "code",
   "execution_count": 66,
   "metadata": {},
   "outputs": [
    {
     "name": "stdout",
     "output_type": "stream",
     "text": [
      "<class 'pandas.core.frame.DataFrame'>\n",
      "RangeIndex: 9798 entries, 0 to 9797\n",
      "Data columns (total 9 columns):\n",
      "Item_Id             9798 non-null object\n",
      "Date                9798 non-null object\n",
      "State_of_Country    9798 non-null int64\n",
      "Market_Category     9798 non-null int64\n",
      "Product_Category    9798 non-null int64\n",
      "Grade               9798 non-null int64\n",
      "Demand              9798 non-null float64\n",
      "Low_Cap_Price       9798 non-null int64\n",
      "High_Cap_Price      9798 non-null int64\n",
      "dtypes: float64(1), int64(6), object(2)\n",
      "memory usage: 689.0+ KB\n"
     ]
    }
   ],
   "source": [
    "train.info()"
   ]
  },
  {
   "cell_type": "code",
   "execution_count": 67,
   "metadata": {},
   "outputs": [
    {
     "data": {
      "text/plain": [
       "Item_Id             0\n",
       "Date                0\n",
       "State_of_Country    0\n",
       "Market_Category     0\n",
       "Product_Category    0\n",
       "Grade               0\n",
       "Demand              0\n",
       "Low_Cap_Price       0\n",
       "High_Cap_Price      0\n",
       "dtype: int64"
      ]
     },
     "execution_count": 67,
     "metadata": {},
     "output_type": "execute_result"
    }
   ],
   "source": [
    "train.isna().sum()"
   ]
  },
  {
   "cell_type": "markdown",
   "metadata": {},
   "source": [
    "#### No Empty Cell"
   ]
  },
  {
   "cell_type": "code",
   "execution_count": 68,
   "metadata": {},
   "outputs": [
    {
     "data": {
      "text/html": [
       "<div>\n",
       "<style scoped>\n",
       "    .dataframe tbody tr th:only-of-type {\n",
       "        vertical-align: middle;\n",
       "    }\n",
       "\n",
       "    .dataframe tbody tr th {\n",
       "        vertical-align: top;\n",
       "    }\n",
       "\n",
       "    .dataframe thead th {\n",
       "        text-align: right;\n",
       "    }\n",
       "</style>\n",
       "<table border=\"1\" class=\"dataframe\">\n",
       "  <thead>\n",
       "    <tr style=\"text-align: right;\">\n",
       "      <th></th>\n",
       "      <th>Item_Id</th>\n",
       "      <th>Date</th>\n",
       "      <th>State_of_Country</th>\n",
       "      <th>Market_Category</th>\n",
       "      <th>Product_Category</th>\n",
       "      <th>Grade</th>\n",
       "      <th>Demand</th>\n",
       "      <th>Low_Cap_Price</th>\n",
       "      <th>High_Cap_Price</th>\n",
       "    </tr>\n",
       "  </thead>\n",
       "  <tbody>\n",
       "    <tr>\n",
       "      <th>0</th>\n",
       "      <td>IT_1</td>\n",
       "      <td>2007-07-05</td>\n",
       "      <td>0</td>\n",
       "      <td>0</td>\n",
       "      <td>0</td>\n",
       "      <td>0</td>\n",
       "      <td>0.5</td>\n",
       "      <td>2785</td>\n",
       "      <td>4240</td>\n",
       "    </tr>\n",
       "    <tr>\n",
       "      <th>1</th>\n",
       "      <td>IT_2</td>\n",
       "      <td>2007-07-05</td>\n",
       "      <td>0</td>\n",
       "      <td>1</td>\n",
       "      <td>0</td>\n",
       "      <td>0</td>\n",
       "      <td>0.7</td>\n",
       "      <td>3574</td>\n",
       "      <td>4756</td>\n",
       "    </tr>\n",
       "    <tr>\n",
       "      <th>2</th>\n",
       "      <td>IT_3</td>\n",
       "      <td>2007-07-05</td>\n",
       "      <td>0</td>\n",
       "      <td>103</td>\n",
       "      <td>0</td>\n",
       "      <td>1</td>\n",
       "      <td>1.6</td>\n",
       "      <td>5978</td>\n",
       "      <td>9669</td>\n",
       "    </tr>\n",
       "    <tr>\n",
       "      <th>3</th>\n",
       "      <td>IT_4</td>\n",
       "      <td>2007-07-05</td>\n",
       "      <td>0</td>\n",
       "      <td>103</td>\n",
       "      <td>0</td>\n",
       "      <td>0</td>\n",
       "      <td>0.0</td>\n",
       "      <td>5681</td>\n",
       "      <td>8313</td>\n",
       "    </tr>\n",
       "    <tr>\n",
       "      <th>4</th>\n",
       "      <td>IT_5</td>\n",
       "      <td>2007-07-05</td>\n",
       "      <td>0</td>\n",
       "      <td>103</td>\n",
       "      <td>0</td>\n",
       "      <td>2</td>\n",
       "      <td>0.0</td>\n",
       "      <td>4924</td>\n",
       "      <td>7257</td>\n",
       "    </tr>\n",
       "  </tbody>\n",
       "</table>\n",
       "</div>"
      ],
      "text/plain": [
       "  Item_Id        Date  State_of_Country  Market_Category  Product_Category  \\\n",
       "0    IT_1  2007-07-05                 0                0                 0   \n",
       "1    IT_2  2007-07-05                 0                1                 0   \n",
       "2    IT_3  2007-07-05                 0              103                 0   \n",
       "3    IT_4  2007-07-05                 0              103                 0   \n",
       "4    IT_5  2007-07-05                 0              103                 0   \n",
       "\n",
       "   Grade  Demand  Low_Cap_Price  High_Cap_Price  \n",
       "0      0     0.5           2785            4240  \n",
       "1      0     0.7           3574            4756  \n",
       "2      1     1.6           5978            9669  \n",
       "3      0     0.0           5681            8313  \n",
       "4      2     0.0           4924            7257  "
      ]
     },
     "execution_count": 68,
     "metadata": {},
     "output_type": "execute_result"
    }
   ],
   "source": [
    "train.head()"
   ]
  },
  {
   "cell_type": "markdown",
   "metadata": {},
   "source": [
    "##### Drop Item_Id from training and testing"
   ]
  },
  {
   "cell_type": "code",
   "execution_count": 69,
   "metadata": {},
   "outputs": [],
   "source": [
    "train=train.drop('Item_Id',axis=1)\n",
    "Item_test=test['Item_Id']\n",
    "test=test.drop('Item_Id',axis=1)"
   ]
  },
  {
   "cell_type": "code",
   "execution_count": 70,
   "metadata": {},
   "outputs": [
    {
     "name": "stdout",
     "output_type": "stream",
     "text": [
      "<class 'pandas.core.frame.DataFrame'>\n",
      "RangeIndex: 9798 entries, 0 to 9797\n",
      "Data columns (total 8 columns):\n",
      "Date                9798 non-null object\n",
      "State_of_Country    9798 non-null int64\n",
      "Market_Category     9798 non-null int64\n",
      "Product_Category    9798 non-null int64\n",
      "Grade               9798 non-null int64\n",
      "Demand              9798 non-null float64\n",
      "Low_Cap_Price       9798 non-null int64\n",
      "High_Cap_Price      9798 non-null int64\n",
      "dtypes: float64(1), int64(6), object(1)\n",
      "memory usage: 612.5+ KB\n"
     ]
    }
   ],
   "source": [
    "train.info()"
   ]
  },
  {
   "cell_type": "markdown",
   "metadata": {},
   "source": [
    "##### How to handle date:\n",
    "* %Y-%m-%d -----> struture with attributes (by time.strptime())\n",
    "* Structure with attributes -----> time(passed in seconds) since 1 JAN, 1970 (by time.mktime())"
   ]
  },
  {
   "cell_type": "code",
   "execution_count": 71,
   "metadata": {},
   "outputs": [
    {
     "name": "stdout",
     "output_type": "stream",
     "text": [
      "0    2007-07-05\n",
      "1    2007-07-05\n",
      "2    2007-07-05\n",
      "3    2007-07-05\n",
      "4    2007-07-05\n",
      "Name: Date, dtype: object\n",
      "<class 'str'>\n"
     ]
    }
   ],
   "source": [
    "import time\n",
    "print(train['Date'].head())\n",
    "print(type(train['Date'][0]))"
   ]
  },
  {
   "cell_type": "code",
   "execution_count": 72,
   "metadata": {},
   "outputs": [],
   "source": [
    "def format_time(data):\n",
    "    object_time = time.strptime(data, \"%Y-%m-%d\")\n",
    "    return int(format(time.mktime(object_time),'.0f'))"
   ]
  },
  {
   "cell_type": "code",
   "execution_count": 73,
   "metadata": {},
   "outputs": [],
   "source": [
    "train['format_date'] = pd.Series(map(format_time,train['Date']))"
   ]
  },
  {
   "cell_type": "code",
   "execution_count": 74,
   "metadata": {},
   "outputs": [],
   "source": [
    "test['format_date'] = pd.Series(map(format_time,test['Date']))"
   ]
  },
  {
   "cell_type": "code",
   "execution_count": 75,
   "metadata": {},
   "outputs": [
    {
     "data": {
      "text/plain": [
       "pandas.core.series.Series"
      ]
     },
     "execution_count": 75,
     "metadata": {},
     "output_type": "execute_result"
    }
   ],
   "source": [
    "type(train['Date'])"
   ]
  },
  {
   "cell_type": "code",
   "execution_count": 76,
   "metadata": {},
   "outputs": [
    {
     "data": {
      "text/html": [
       "<div>\n",
       "<style scoped>\n",
       "    .dataframe tbody tr th:only-of-type {\n",
       "        vertical-align: middle;\n",
       "    }\n",
       "\n",
       "    .dataframe tbody tr th {\n",
       "        vertical-align: top;\n",
       "    }\n",
       "\n",
       "    .dataframe thead th {\n",
       "        text-align: right;\n",
       "    }\n",
       "</style>\n",
       "<table border=\"1\" class=\"dataframe\">\n",
       "  <thead>\n",
       "    <tr style=\"text-align: right;\">\n",
       "      <th></th>\n",
       "      <th>Date</th>\n",
       "      <th>State_of_Country</th>\n",
       "      <th>Market_Category</th>\n",
       "      <th>Product_Category</th>\n",
       "      <th>Grade</th>\n",
       "      <th>Demand</th>\n",
       "      <th>Low_Cap_Price</th>\n",
       "      <th>High_Cap_Price</th>\n",
       "      <th>format_date</th>\n",
       "    </tr>\n",
       "  </thead>\n",
       "  <tbody>\n",
       "    <tr>\n",
       "      <th>0</th>\n",
       "      <td>2007-07-05</td>\n",
       "      <td>0</td>\n",
       "      <td>0</td>\n",
       "      <td>0</td>\n",
       "      <td>0</td>\n",
       "      <td>0.5</td>\n",
       "      <td>2785</td>\n",
       "      <td>4240</td>\n",
       "      <td>1183573800</td>\n",
       "    </tr>\n",
       "    <tr>\n",
       "      <th>1</th>\n",
       "      <td>2007-07-05</td>\n",
       "      <td>0</td>\n",
       "      <td>1</td>\n",
       "      <td>0</td>\n",
       "      <td>0</td>\n",
       "      <td>0.7</td>\n",
       "      <td>3574</td>\n",
       "      <td>4756</td>\n",
       "      <td>1183573800</td>\n",
       "    </tr>\n",
       "    <tr>\n",
       "      <th>2</th>\n",
       "      <td>2007-07-05</td>\n",
       "      <td>0</td>\n",
       "      <td>103</td>\n",
       "      <td>0</td>\n",
       "      <td>1</td>\n",
       "      <td>1.6</td>\n",
       "      <td>5978</td>\n",
       "      <td>9669</td>\n",
       "      <td>1183573800</td>\n",
       "    </tr>\n",
       "    <tr>\n",
       "      <th>3</th>\n",
       "      <td>2007-07-05</td>\n",
       "      <td>0</td>\n",
       "      <td>103</td>\n",
       "      <td>0</td>\n",
       "      <td>0</td>\n",
       "      <td>0.0</td>\n",
       "      <td>5681</td>\n",
       "      <td>8313</td>\n",
       "      <td>1183573800</td>\n",
       "    </tr>\n",
       "    <tr>\n",
       "      <th>4</th>\n",
       "      <td>2007-07-05</td>\n",
       "      <td>0</td>\n",
       "      <td>103</td>\n",
       "      <td>0</td>\n",
       "      <td>2</td>\n",
       "      <td>0.0</td>\n",
       "      <td>4924</td>\n",
       "      <td>7257</td>\n",
       "      <td>1183573800</td>\n",
       "    </tr>\n",
       "  </tbody>\n",
       "</table>\n",
       "</div>"
      ],
      "text/plain": [
       "         Date  State_of_Country  Market_Category  Product_Category  Grade  \\\n",
       "0  2007-07-05                 0                0                 0      0   \n",
       "1  2007-07-05                 0                1                 0      0   \n",
       "2  2007-07-05                 0              103                 0      1   \n",
       "3  2007-07-05                 0              103                 0      0   \n",
       "4  2007-07-05                 0              103                 0      2   \n",
       "\n",
       "   Demand  Low_Cap_Price  High_Cap_Price  format_date  \n",
       "0     0.5           2785            4240   1183573800  \n",
       "1     0.7           3574            4756   1183573800  \n",
       "2     1.6           5978            9669   1183573800  \n",
       "3     0.0           5681            8313   1183573800  \n",
       "4     0.0           4924            7257   1183573800  "
      ]
     },
     "execution_count": 76,
     "metadata": {},
     "output_type": "execute_result"
    }
   ],
   "source": [
    "train.head()"
   ]
  },
  {
   "cell_type": "code",
   "execution_count": 77,
   "metadata": {},
   "outputs": [
    {
     "data": {
      "text/html": [
       "<div>\n",
       "<style scoped>\n",
       "    .dataframe tbody tr th:only-of-type {\n",
       "        vertical-align: middle;\n",
       "    }\n",
       "\n",
       "    .dataframe tbody tr th {\n",
       "        vertical-align: top;\n",
       "    }\n",
       "\n",
       "    .dataframe thead th {\n",
       "        text-align: right;\n",
       "    }\n",
       "</style>\n",
       "<table border=\"1\" class=\"dataframe\">\n",
       "  <thead>\n",
       "    <tr style=\"text-align: right;\">\n",
       "      <th></th>\n",
       "      <th>Date</th>\n",
       "      <th>State_of_Country</th>\n",
       "      <th>Market_Category</th>\n",
       "      <th>Product_Category</th>\n",
       "      <th>Grade</th>\n",
       "      <th>Demand</th>\n",
       "      <th>High_Cap_Price</th>\n",
       "      <th>format_date</th>\n",
       "    </tr>\n",
       "  </thead>\n",
       "  <tbody>\n",
       "    <tr>\n",
       "      <th>0</th>\n",
       "      <td>2014-01-19</td>\n",
       "      <td>0</td>\n",
       "      <td>3</td>\n",
       "      <td>0</td>\n",
       "      <td>0</td>\n",
       "      <td>0.1</td>\n",
       "      <td>5303</td>\n",
       "      <td>1390069800</td>\n",
       "    </tr>\n",
       "    <tr>\n",
       "      <th>1</th>\n",
       "      <td>2014-01-19</td>\n",
       "      <td>0</td>\n",
       "      <td>268</td>\n",
       "      <td>0</td>\n",
       "      <td>2</td>\n",
       "      <td>1.4</td>\n",
       "      <td>10492</td>\n",
       "      <td>1390069800</td>\n",
       "    </tr>\n",
       "    <tr>\n",
       "      <th>2</th>\n",
       "      <td>2014-01-19</td>\n",
       "      <td>0</td>\n",
       "      <td>320</td>\n",
       "      <td>0</td>\n",
       "      <td>0</td>\n",
       "      <td>13.4</td>\n",
       "      <td>24706</td>\n",
       "      <td>1390069800</td>\n",
       "    </tr>\n",
       "    <tr>\n",
       "      <th>3</th>\n",
       "      <td>2014-01-19</td>\n",
       "      <td>17</td>\n",
       "      <td>358</td>\n",
       "      <td>0</td>\n",
       "      <td>3</td>\n",
       "      <td>5.5</td>\n",
       "      <td>23464</td>\n",
       "      <td>1390069800</td>\n",
       "    </tr>\n",
       "    <tr>\n",
       "      <th>4</th>\n",
       "      <td>2014-01-19</td>\n",
       "      <td>18</td>\n",
       "      <td>23</td>\n",
       "      <td>5</td>\n",
       "      <td>2</td>\n",
       "      <td>0.0</td>\n",
       "      <td>6222</td>\n",
       "      <td>1390069800</td>\n",
       "    </tr>\n",
       "  </tbody>\n",
       "</table>\n",
       "</div>"
      ],
      "text/plain": [
       "         Date  State_of_Country  Market_Category  Product_Category  Grade  \\\n",
       "0  2014-01-19                 0                3                 0      0   \n",
       "1  2014-01-19                 0              268                 0      2   \n",
       "2  2014-01-19                 0              320                 0      0   \n",
       "3  2014-01-19                17              358                 0      3   \n",
       "4  2014-01-19                18               23                 5      2   \n",
       "\n",
       "   Demand  High_Cap_Price  format_date  \n",
       "0     0.1            5303   1390069800  \n",
       "1     1.4           10492   1390069800  \n",
       "2    13.4           24706   1390069800  \n",
       "3     5.5           23464   1390069800  \n",
       "4     0.0            6222   1390069800  "
      ]
     },
     "execution_count": 77,
     "metadata": {},
     "output_type": "execute_result"
    }
   ],
   "source": [
    "test.head()"
   ]
  },
  {
   "cell_type": "code",
   "execution_count": 78,
   "metadata": {},
   "outputs": [],
   "source": [
    "train=train.drop('Date',axis=1)\n",
    "test=test.drop('Date',axis=1)"
   ]
  },
  {
   "cell_type": "code",
   "execution_count": 79,
   "metadata": {},
   "outputs": [
    {
     "data": {
      "text/plain": [
       "['State_of_Country',\n",
       " 'Market_Category',\n",
       " 'Product_Category',\n",
       " 'Grade',\n",
       " 'Demand',\n",
       " 'Low_Cap_Price',\n",
       " 'High_Cap_Price',\n",
       " 'format_date']"
      ]
     },
     "execution_count": 79,
     "metadata": {},
     "output_type": "execute_result"
    }
   ],
   "source": [
    "list(train.keys())"
   ]
  },
  {
   "cell_type": "code",
   "execution_count": 80,
   "metadata": {},
   "outputs": [
    {
     "name": "stdout",
     "output_type": "stream",
     "text": [
      "<class 'pandas.core.frame.DataFrame'>\n",
      "RangeIndex: 9798 entries, 0 to 9797\n",
      "Data columns (total 8 columns):\n",
      "State_of_Country    9798 non-null int64\n",
      "Market_Category     9798 non-null int64\n",
      "Product_Category    9798 non-null int64\n",
      "Grade               9798 non-null int64\n",
      "Demand              9798 non-null float64\n",
      "Low_Cap_Price       9798 non-null int64\n",
      "High_Cap_Price      9798 non-null int64\n",
      "format_date         9798 non-null int64\n",
      "dtypes: float64(1), int64(7)\n",
      "memory usage: 612.5 KB\n"
     ]
    }
   ],
   "source": [
    "train.info()"
   ]
  },
  {
   "cell_type": "markdown",
   "metadata": {},
   "source": [
    "##### Check for Categorical Features"
   ]
  },
  {
   "cell_type": "code",
   "execution_count": 82,
   "metadata": {},
   "outputs": [],
   "source": [
    "def check_categorical_features(data):\n",
    "    temp=[]\n",
    "    for i in list(data):\n",
    "        if i not in temp or len(temp)==0:\n",
    "            temp.append(i)\n",
    "    return len(temp)<20"
   ]
  },
  {
   "cell_type": "code",
   "execution_count": 88,
   "metadata": {},
   "outputs": [
    {
     "name": "stdout",
     "output_type": "stream",
     "text": [
      "Check of Categorical Features\n",
      "\n",
      "State_of_Country  ---->  False\n",
      "Market_Category   ---->  False\n",
      "Product_Category  ---->  True\n",
      "Grade             ---->  True\n",
      "Demand            ---->  False\n",
      "Low_Cap_price     ---->  False\n",
      "High_Cap_Price    ---->  False\n",
      "Format_date       ---->  False\n"
     ]
    }
   ],
   "source": [
    "print(\"Check of Categorical Features\",end='\\n\\n')\n",
    "print(\"State_of_Country  ----> \",check_categorical_features(train['State_of_Country']))\n",
    "print(\"Market_Category   ----> \",check_categorical_features(train['Market_Category']))\n",
    "print(\"Product_Category  ----> \",check_categorical_features(train['Product_Category']))\n",
    "print(\"Grade             ----> \",check_categorical_features(train['Grade']))\n",
    "print(\"Demand            ----> \",check_categorical_features(train['Demand']))\n",
    "print(\"Low_Cap_price     ----> \",check_categorical_features(train['Low_Cap_Price']))\n",
    "print(\"High_Cap_Price    ----> \",check_categorical_features(train['High_Cap_Price']))\n",
    "print(\"Format_date       ----> \",check_categorical_features(train['format_date']))"
   ]
  },
  {
   "cell_type": "code",
   "execution_count": 89,
   "metadata": {},
   "outputs": [
    {
     "data": {
      "text/plain": [
       "0     7167\n",
       "10    1050\n",
       "1      524\n",
       "13     408\n",
       "12     204\n",
       "15     168\n",
       "16      79\n",
       "11      62\n",
       "14      43\n",
       "7       30\n",
       "5       23\n",
       "6       18\n",
       "3        9\n",
       "4        5\n",
       "17       4\n",
       "9        2\n",
       "8        2\n",
       "Name: Product_Category, dtype: int64"
      ]
     },
     "execution_count": 89,
     "metadata": {},
     "output_type": "execute_result"
    }
   ],
   "source": [
    "train['Product_Category'].value_counts()"
   ]
  },
  {
   "cell_type": "code",
   "execution_count": 90,
   "metadata": {},
   "outputs": [
    {
     "data": {
      "text/plain": [
       "0    6715\n",
       "2    1698\n",
       "3     804\n",
       "1     581\n",
       "Name: Grade, dtype: int64"
      ]
     },
     "execution_count": 90,
     "metadata": {},
     "output_type": "execute_result"
    }
   ],
   "source": [
    "train['Grade'].value_counts()"
   ]
  },
  {
   "cell_type": "markdown",
   "metadata": {},
   "source": [
    "#### No Need for in one-hot encoding or other transformation"
   ]
  },
  {
   "cell_type": "markdown",
   "metadata": {},
   "source": [
    "### Step2 : Statistical Analysis"
   ]
  },
  {
   "cell_type": "code",
   "execution_count": 94,
   "metadata": {},
   "outputs": [
    {
     "data": {
      "text/html": [
       "<div>\n",
       "<style scoped>\n",
       "    .dataframe tbody tr th:only-of-type {\n",
       "        vertical-align: middle;\n",
       "    }\n",
       "\n",
       "    .dataframe tbody tr th {\n",
       "        vertical-align: top;\n",
       "    }\n",
       "\n",
       "    .dataframe thead th {\n",
       "        text-align: right;\n",
       "    }\n",
       "</style>\n",
       "<table border=\"1\" class=\"dataframe\">\n",
       "  <thead>\n",
       "    <tr style=\"text-align: right;\">\n",
       "      <th></th>\n",
       "      <th>count</th>\n",
       "      <th>mean</th>\n",
       "      <th>std</th>\n",
       "      <th>min</th>\n",
       "      <th>25%</th>\n",
       "      <th>50%</th>\n",
       "      <th>75%</th>\n",
       "      <th>max</th>\n",
       "    </tr>\n",
       "  </thead>\n",
       "  <tbody>\n",
       "    <tr>\n",
       "      <th>State_of_Country</th>\n",
       "      <td>9,798.00</td>\n",
       "      <td>14.28</td>\n",
       "      <td>8.76</td>\n",
       "      <td>0.00</td>\n",
       "      <td>3.00</td>\n",
       "      <td>20.00</td>\n",
       "      <td>21.00</td>\n",
       "      <td>23.00</td>\n",
       "    </tr>\n",
       "    <tr>\n",
       "      <th>Market_Category</th>\n",
       "      <td>9,798.00</td>\n",
       "      <td>198.41</td>\n",
       "      <td>169.77</td>\n",
       "      <td>0.00</td>\n",
       "      <td>55.00</td>\n",
       "      <td>129.00</td>\n",
       "      <td>389.00</td>\n",
       "      <td>471.00</td>\n",
       "    </tr>\n",
       "    <tr>\n",
       "      <th>Product_Category</th>\n",
       "      <td>9,798.00</td>\n",
       "      <td>2.49</td>\n",
       "      <td>4.75</td>\n",
       "      <td>0.00</td>\n",
       "      <td>0.00</td>\n",
       "      <td>0.00</td>\n",
       "      <td>1.00</td>\n",
       "      <td>17.00</td>\n",
       "    </tr>\n",
       "    <tr>\n",
       "      <th>Grade</th>\n",
       "      <td>9,798.00</td>\n",
       "      <td>0.65</td>\n",
       "      <td>1.03</td>\n",
       "      <td>0.00</td>\n",
       "      <td>0.00</td>\n",
       "      <td>0.00</td>\n",
       "      <td>2.00</td>\n",
       "      <td>3.00</td>\n",
       "    </tr>\n",
       "    <tr>\n",
       "      <th>Demand</th>\n",
       "      <td>9,798.00</td>\n",
       "      <td>71.98</td>\n",
       "      <td>927.19</td>\n",
       "      <td>0.00</td>\n",
       "      <td>0.50</td>\n",
       "      <td>2.00</td>\n",
       "      <td>10.17</td>\n",
       "      <td>64,160.50</td>\n",
       "    </tr>\n",
       "    <tr>\n",
       "      <th>Low_Cap_Price</th>\n",
       "      <td>9,798.00</td>\n",
       "      <td>3,500.27</td>\n",
       "      <td>2,188.05</td>\n",
       "      <td>1.00</td>\n",
       "      <td>1,863.25</td>\n",
       "      <td>3,124.00</td>\n",
       "      <td>4,667.50</td>\n",
       "      <td>17,580.00</td>\n",
       "    </tr>\n",
       "    <tr>\n",
       "      <th>High_Cap_Price</th>\n",
       "      <td>9,798.00</td>\n",
       "      <td>6,349.84</td>\n",
       "      <td>3,652.78</td>\n",
       "      <td>163.00</td>\n",
       "      <td>3,878.25</td>\n",
       "      <td>5,552.50</td>\n",
       "      <td>7,993.75</td>\n",
       "      <td>58,812.00</td>\n",
       "    </tr>\n",
       "    <tr>\n",
       "      <th>format_date</th>\n",
       "      <td>9,798.00</td>\n",
       "      <td>1,222,862,052.79</td>\n",
       "      <td>26,861,078.20</td>\n",
       "      <td>1,183,573,800.00</td>\n",
       "      <td>1,201,717,800.00</td>\n",
       "      <td>1,217,788,200.00</td>\n",
       "      <td>1,244,485,800.00</td>\n",
       "      <td>1,276,021,800.00</td>\n",
       "    </tr>\n",
       "  </tbody>\n",
       "</table>\n",
       "</div>"
      ],
      "text/plain": [
       "                    count             mean           std              min  \\\n",
       "State_of_Country 9,798.00            14.28          8.76             0.00   \n",
       "Market_Category  9,798.00           198.41        169.77             0.00   \n",
       "Product_Category 9,798.00             2.49          4.75             0.00   \n",
       "Grade            9,798.00             0.65          1.03             0.00   \n",
       "Demand           9,798.00            71.98        927.19             0.00   \n",
       "Low_Cap_Price    9,798.00         3,500.27      2,188.05             1.00   \n",
       "High_Cap_Price   9,798.00         6,349.84      3,652.78           163.00   \n",
       "format_date      9,798.00 1,222,862,052.79 26,861,078.20 1,183,573,800.00   \n",
       "\n",
       "                              25%              50%              75%  \\\n",
       "State_of_Country             3.00            20.00            21.00   \n",
       "Market_Category             55.00           129.00           389.00   \n",
       "Product_Category             0.00             0.00             1.00   \n",
       "Grade                        0.00             0.00             2.00   \n",
       "Demand                       0.50             2.00            10.17   \n",
       "Low_Cap_Price            1,863.25         3,124.00         4,667.50   \n",
       "High_Cap_Price           3,878.25         5,552.50         7,993.75   \n",
       "format_date      1,201,717,800.00 1,217,788,200.00 1,244,485,800.00   \n",
       "\n",
       "                              max  \n",
       "State_of_Country            23.00  \n",
       "Market_Category            471.00  \n",
       "Product_Category            17.00  \n",
       "Grade                        3.00  \n",
       "Demand                  64,160.50  \n",
       "Low_Cap_Price           17,580.00  \n",
       "High_Cap_Price          58,812.00  \n",
       "format_date      1,276,021,800.00  "
      ]
     },
     "execution_count": 94,
     "metadata": {},
     "output_type": "execute_result"
    }
   ],
   "source": [
    "pd.options.display.float_format = '{:,.2f}'.format\n",
    "train.describe().T"
   ]
  },
  {
   "cell_type": "code",
   "execution_count": 95,
   "metadata": {},
   "outputs": [],
   "source": [
    "import seaborn as sns"
   ]
  },
  {
   "cell_type": "code",
   "execution_count": 96,
   "metadata": {},
   "outputs": [
    {
     "data": {
      "text/plain": [
       "Text(0.5, 1.0, 'Correlation between features')"
      ]
     },
     "execution_count": 96,
     "metadata": {},
     "output_type": "execute_result"
    },
    {
     "data": {
      "image/png": "[encoded data removed]",
      "text/plain": [
       "<Figure size 720x720 with 2 Axes>"
      ]
     },
     "metadata": {
      "needs_background": "light"
     },
     "output_type": "display_data"
    }
   ],
   "source": [
    "plt.figure(figsize=(10,10))\n",
    "corr = train.corr()\n",
    "sns.heatmap(corr, \n",
    "            xticklabels=corr.columns.values,\n",
    "            yticklabels=corr.columns.values, square=True,annot=True,linecolor=\"black\") #cmap='YlGnBu',\n",
    "plt.title(\"Correlation between features\")"
   ]
  },
  {
   "cell_type": "code",
   "execution_count": 97,
   "metadata": {},
   "outputs": [],
   "source": [
    "train['format_date']=(train['format_date']-train['format_date'].mean())/(train['format_date'].max()-train['format_date'].min())"
   ]
  },
  {
   "cell_type": "code",
   "execution_count": 98,
   "metadata": {},
   "outputs": [
    {
     "data": {
      "text/plain": [
       "Text(0.5, 1.0, 'Correlation between features')"
      ]
     },
     "execution_count": 98,
     "metadata": {},
     "output_type": "execute_result"
    },
    {
     "data": {
      "image/png": "[encoded data removed]",
      "text/plain": [
       "<Figure size 720x720 with 2 Axes>"
      ]
     },
     "metadata": {
      "needs_background": "light"
     },
     "output_type": "display_data"
    }
   ],
   "source": [
    "plt.figure(figsize=(10,10))\n",
    "corr = train.corr()\n",
    "sns.heatmap(corr, \n",
    "            xticklabels=corr.columns.values,\n",
    "            yticklabels=corr.columns.values, square=True,annot=True,linecolor=\"black\") #cmap='YlGnBu',\n",
    "plt.title(\"Correlation between features\")"
   ]
  },
  {
   "cell_type": "code",
   "execution_count": 99,
   "metadata": {},
   "outputs": [
    {
     "data": {
      "text/plain": [
       "0   -0.42\n",
       "1   -0.42\n",
       "2   -0.42\n",
       "3   -0.42\n",
       "4   -0.42\n",
       "Name: format_date, dtype: float64"
      ]
     },
     "execution_count": 99,
     "metadata": {},
     "output_type": "execute_result"
    }
   ],
   "source": [
    "train['format_date'].head()"
   ]
  },
  {
   "cell_type": "markdown",
   "metadata": {},
   "source": [
    "##### Step-3 :Feature Selection\n",
    " * Train with All feature and observe result on validation data\n",
    " * Train with All feature except format_date and observe result on validation data\n",
    " * Train with four best features(State_of_country,mArket_Category,Product_Category,High_Cap_price) and observe result on validation data\n"
   ]
  },
  {
   "cell_type": "code",
   "execution_count": 103,
   "metadata": {},
   "outputs": [],
   "source": [
    "train_label = train['Low_Cap_Price']\n",
    "train_data = train.drop('Low_Cap_Price',axis=1)"
   ]
  },
  {
   "cell_type": "code",
   "execution_count": 104,
   "metadata": {},
   "outputs": [
    {
     "data": {
      "text/html": [
       "<div>\n",
       "<style scoped>\n",
       "    .dataframe tbody tr th:only-of-type {\n",
       "        vertical-align: middle;\n",
       "    }\n",
       "\n",
       "    .dataframe tbody tr th {\n",
       "        vertical-align: top;\n",
       "    }\n",
       "\n",
       "    .dataframe thead th {\n",
       "        text-align: right;\n",
       "    }\n",
       "</style>\n",
       "<table border=\"1\" class=\"dataframe\">\n",
       "  <thead>\n",
       "    <tr style=\"text-align: right;\">\n",
       "      <th></th>\n",
       "      <th>State_of_Country</th>\n",
       "      <th>Market_Category</th>\n",
       "      <th>Product_Category</th>\n",
       "      <th>Grade</th>\n",
       "      <th>Demand</th>\n",
       "      <th>High_Cap_Price</th>\n",
       "      <th>format_date</th>\n",
       "    </tr>\n",
       "  </thead>\n",
       "  <tbody>\n",
       "    <tr>\n",
       "      <th>0</th>\n",
       "      <td>0</td>\n",
       "      <td>0</td>\n",
       "      <td>0</td>\n",
       "      <td>0</td>\n",
       "      <td>0.50</td>\n",
       "      <td>4240</td>\n",
       "      <td>-0.42</td>\n",
       "    </tr>\n",
       "    <tr>\n",
       "      <th>1</th>\n",
       "      <td>0</td>\n",
       "      <td>1</td>\n",
       "      <td>0</td>\n",
       "      <td>0</td>\n",
       "      <td>0.70</td>\n",
       "      <td>4756</td>\n",
       "      <td>-0.42</td>\n",
       "    </tr>\n",
       "    <tr>\n",
       "      <th>2</th>\n",
       "      <td>0</td>\n",
       "      <td>103</td>\n",
       "      <td>0</td>\n",
       "      <td>1</td>\n",
       "      <td>1.60</td>\n",
       "      <td>9669</td>\n",
       "      <td>-0.42</td>\n",
       "    </tr>\n",
       "    <tr>\n",
       "      <th>3</th>\n",
       "      <td>0</td>\n",
       "      <td>103</td>\n",
       "      <td>0</td>\n",
       "      <td>0</td>\n",
       "      <td>0.00</td>\n",
       "      <td>8313</td>\n",
       "      <td>-0.42</td>\n",
       "    </tr>\n",
       "    <tr>\n",
       "      <th>4</th>\n",
       "      <td>0</td>\n",
       "      <td>103</td>\n",
       "      <td>0</td>\n",
       "      <td>2</td>\n",
       "      <td>0.00</td>\n",
       "      <td>7257</td>\n",
       "      <td>-0.42</td>\n",
       "    </tr>\n",
       "  </tbody>\n",
       "</table>\n",
       "</div>"
      ],
      "text/plain": [
       "   State_of_Country  Market_Category  Product_Category  Grade  Demand  \\\n",
       "0                 0                0                 0      0    0.50   \n",
       "1                 0                1                 0      0    0.70   \n",
       "2                 0              103                 0      1    1.60   \n",
       "3                 0              103                 0      0    0.00   \n",
       "4                 0              103                 0      2    0.00   \n",
       "\n",
       "   High_Cap_Price  format_date  \n",
       "0            4240        -0.42  \n",
       "1            4756        -0.42  \n",
       "2            9669        -0.42  \n",
       "3            8313        -0.42  \n",
       "4            7257        -0.42  "
      ]
     },
     "execution_count": 104,
     "metadata": {},
     "output_type": "execute_result"
    }
   ],
   "source": [
    "train_data.head()"
   ]
  },
  {
   "cell_type": "code",
   "execution_count": 149,
   "metadata": {},
   "outputs": [],
   "source": [
    "from sklearn.model_selection import train_test_split\n",
    "from sklearn import svm\n",
    "from sklearn.linear_model import LinearRegression\n",
    "from sklearn.metrics import mean_squared_log_error"
   ]
  },
  {
   "cell_type": "code",
   "execution_count": 150,
   "metadata": {},
   "outputs": [],
   "source": [
    "train_x,validation_x,train_y,validation_y = train_test_split(train_data,train_label,test_size=0.28,random_state=0) "
   ]
  },
  {
   "cell_type": "code",
   "execution_count": 151,
   "metadata": {},
   "outputs": [
    {
     "name": "stdout",
     "output_type": "stream",
     "text": [
      "length of train data :  7054\n",
      "length of validation data :  2744\n"
     ]
    }
   ],
   "source": [
    "print(\"length of train data : \", len(train_x))\n",
    "print(\"length of validation data : \", len(validation_x))"
   ]
  },
  {
   "cell_type": "markdown",
   "metadata": {},
   "source": [
    "#### Performance Criteria"
   ]
  },
  {
   "cell_type": "code",
   "execution_count": 152,
   "metadata": {},
   "outputs": [],
   "source": [
    "import math"
   ]
  },
  {
   "cell_type": "code",
   "execution_count": 172,
   "metadata": {},
   "outputs": [],
   "source": [
    "def performance(actual,predict):\n",
    "    return max(0,(100-mean_squared_log_error(validation_y, predict_y)))"
   ]
  },
  {
   "cell_type": "markdown",
   "metadata": {},
   "source": [
    "##### Linear Regression Baseline"
   ]
  },
  {
   "cell_type": "code",
   "execution_count": 155,
   "metadata": {},
   "outputs": [],
   "source": [
    "model1 = LinearRegression()"
   ]
  },
  {
   "cell_type": "code",
   "execution_count": 156,
   "metadata": {},
   "outputs": [
    {
     "data": {
      "text/plain": [
       "LinearRegression(copy_X=True, fit_intercept=True, n_jobs=None,\n",
       "         normalize=False)"
      ]
     },
     "execution_count": 156,
     "metadata": {},
     "output_type": "execute_result"
    }
   ],
   "source": [
    "model1.fit(train_x,train_y)"
   ]
  },
  {
   "cell_type": "code",
   "execution_count": 157,
   "metadata": {},
   "outputs": [],
   "source": [
    "predict_y = model1.predict(validation_x)"
   ]
  },
  {
   "cell_type": "code",
   "execution_count": 158,
   "metadata": {},
   "outputs": [
    {
     "data": {
      "text/plain": [
       "numpy.ndarray"
      ]
     },
     "execution_count": 158,
     "metadata": {},
     "output_type": "execute_result"
    }
   ],
   "source": [
    "type(predict_y)"
   ]
  },
  {
   "cell_type": "code",
   "execution_count": 159,
   "metadata": {},
   "outputs": [
    {
     "data": {
      "text/plain": [
       "array([4575.45534358, 3116.34884821, 2630.59804924, ..., 2460.58434641,\n",
       "       1450.59698823, 4921.26692805])"
      ]
     },
     "execution_count": 159,
     "metadata": {},
     "output_type": "execute_result"
    }
   ],
   "source": [
    "predict_y"
   ]
  },
  {
   "cell_type": "code",
   "execution_count": 160,
   "metadata": {},
   "outputs": [],
   "source": [
    "predict = predict_y+1"
   ]
  },
  {
   "cell_type": "code",
   "execution_count": 167,
   "metadata": {},
   "outputs": [],
   "source": [
    "predict_y[predict_y<0]=0.0"
   ]
  },
  {
   "cell_type": "code",
   "execution_count": 168,
   "metadata": {},
   "outputs": [],
   "source": [
    "valid = np.array(validation_y.tolist())+1"
   ]
  },
  {
   "cell_type": "code",
   "execution_count": 169,
   "metadata": {},
   "outputs": [
    {
     "data": {
      "text/plain": [
       "array([4986, 4007,  990, ..., 3110, 1663, 3696])"
      ]
     },
     "execution_count": 169,
     "metadata": {},
     "output_type": "execute_result"
    }
   ],
   "source": [
    "valid"
   ]
  },
  {
   "cell_type": "code",
   "execution_count": 170,
   "metadata": {},
   "outputs": [
    {
     "data": {
      "text/plain": [
       "array([], dtype=int32)"
      ]
     },
     "execution_count": 170,
     "metadata": {},
     "output_type": "execute_result"
    }
   ],
   "source": [
    "valid[valid<0]"
   ]
  },
  {
   "cell_type": "code",
   "execution_count": 171,
   "metadata": {},
   "outputs": [
    {
     "data": {
      "text/plain": [
       "0.43538502607924673"
      ]
     },
     "execution_count": 171,
     "metadata": {},
     "output_type": "execute_result"
    }
   ],
   "source": [
    "mean_squared_log_error(validation_y, predict_y)"
   ]
  },
  {
   "cell_type": "code",
   "execution_count": 173,
   "metadata": {},
   "outputs": [
    {
     "data": {
      "text/plain": [
       "99.56461497392075"
      ]
     },
     "execution_count": 173,
     "metadata": {},
     "output_type": "execute_result"
    }
   ],
   "source": [
    "performance(validation_y,predict_y)"
   ]
  },
  {
   "cell_type": "markdown",
   "metadata": {},
   "source": [
    "##### SVR Baseline Model"
   ]
  },
  {
   "cell_type": "code",
   "execution_count": 174,
   "metadata": {},
   "outputs": [
    {
     "name": "stderr",
     "output_type": "stream",
     "text": [
      "C:\\Users\\alsrivas\\AppData\\Local\\Continuum\\anaconda3\\lib\\site-packages\\sklearn\\svm\\base.py:196: FutureWarning: The default value of gamma will change from 'auto' to 'scale' in version 0.22 to account better for unscaled features. Set gamma explicitly to 'auto' or 'scale' to avoid this warning.\n",
      "  \"avoid this warning.\", FutureWarning)\n"
     ]
    },
    {
     "data": {
      "text/plain": [
       "SVR(C=1.0, cache_size=200, coef0=0.0, degree=3, epsilon=0.1,\n",
       "  gamma='auto_deprecated', kernel='rbf', max_iter=-1, shrinking=True,\n",
       "  tol=0.001, verbose=False)"
      ]
     },
     "execution_count": 174,
     "metadata": {},
     "output_type": "execute_result"
    }
   ],
   "source": [
    "model2 = svm.SVR()\n",
    "model2.fit(train_x,train_y)"
   ]
  },
  {
   "cell_type": "code",
   "execution_count": 175,
   "metadata": {},
   "outputs": [],
   "source": [
    "predict_svr = model2.predict(validation_x)"
   ]
  },
  {
   "cell_type": "code",
   "execution_count": 176,
   "metadata": {},
   "outputs": [],
   "source": [
    "predict_svr[predict_svr<0]=0.0"
   ]
  },
  {
   "cell_type": "code",
   "execution_count": 177,
   "metadata": {},
   "outputs": [
    {
     "data": {
      "text/plain": [
       "99.56461497392075"
      ]
     },
     "execution_count": 177,
     "metadata": {},
     "output_type": "execute_result"
    }
   ],
   "source": [
    "performance(validation_y,predict_svr)"
   ]
  },
  {
   "cell_type": "markdown",
   "metadata": {},
   "source": [
    "##### Ridge Regression Baseline: "
   ]
  },
  {
   "cell_type": "code",
   "execution_count": 179,
   "metadata": {},
   "outputs": [],
   "source": [
    "from sklearn.linear_model import Ridge"
   ]
  },
  {
   "cell_type": "code",
   "execution_count": 180,
   "metadata": {},
   "outputs": [],
   "source": [
    "model3 = Ridge()"
   ]
  },
  {
   "cell_type": "code",
   "execution_count": 181,
   "metadata": {},
   "outputs": [
    {
     "data": {
      "text/plain": [
       "Ridge(alpha=1.0, copy_X=True, fit_intercept=True, max_iter=None,\n",
       "   normalize=False, random_state=None, solver='auto', tol=0.001)"
      ]
     },
     "execution_count": 181,
     "metadata": {},
     "output_type": "execute_result"
    }
   ],
   "source": [
    "model3.fit(train_x,train_y)"
   ]
  },
  {
   "cell_type": "code",
   "execution_count": 182,
   "metadata": {},
   "outputs": [
    {
     "data": {
      "text/plain": [
       "99.56461497392075"
      ]
     },
     "execution_count": 182,
     "metadata": {},
     "output_type": "execute_result"
    }
   ],
   "source": [
    "predict_ridge = model3.predict(validation_x)\n",
    "performance(validation_y,predict_ridge)"
   ]
  },
  {
   "cell_type": "markdown",
   "metadata": {},
   "source": [
    "##### Lasso Model Baseline"
   ]
  },
  {
   "cell_type": "code",
   "execution_count": 183,
   "metadata": {},
   "outputs": [],
   "source": [
    "from sklearn.linear_model import Lasso"
   ]
  },
  {
   "cell_type": "code",
   "execution_count": 184,
   "metadata": {},
   "outputs": [],
   "source": [
    "model4 = Lasso()"
   ]
  },
  {
   "cell_type": "code",
   "execution_count": 185,
   "metadata": {},
   "outputs": [
    {
     "data": {
      "text/plain": [
       "Lasso(alpha=1.0, copy_X=True, fit_intercept=True, max_iter=1000,\n",
       "   normalize=False, positive=False, precompute=False, random_state=None,\n",
       "   selection='cyclic', tol=0.0001, warm_start=False)"
      ]
     },
     "execution_count": 185,
     "metadata": {},
     "output_type": "execute_result"
    }
   ],
   "source": [
    "model4.fit(train_x,train_y)"
   ]
  },
  {
   "cell_type": "code",
   "execution_count": 186,
   "metadata": {},
   "outputs": [],
   "source": [
    "predict_lasso = model4.predict(validation_x)"
   ]
  },
  {
   "cell_type": "code",
   "execution_count": 187,
   "metadata": {},
   "outputs": [
    {
     "data": {
      "text/plain": [
       "99.56461497392075"
      ]
     },
     "execution_count": 187,
     "metadata": {},
     "output_type": "execute_result"
    }
   ],
   "source": [
    "performance(validation_y,predict_lasso)"
   ]
  },
  {
   "cell_type": "markdown",
   "metadata": {},
   "source": [
    "#### MLP Model Baseline"
   ]
  },
  {
   "cell_type": "code",
   "execution_count": 189,
   "metadata": {},
   "outputs": [
    {
     "data": {
      "text/plain": [
       "'2.0.0-beta1'"
      ]
     },
     "execution_count": 189,
     "metadata": {},
     "output_type": "execute_result"
    }
   ],
   "source": [
    "import tensorflow as tf\n",
    "tf.__version__"
   ]
  },
  {
   "cell_type": "code",
   "execution_count": 190,
   "metadata": {},
   "outputs": [],
   "source": [
    "from tensorflow.keras.models import Sequential\n",
    "from tensorflow.keras.layers import Dense"
   ]
  },
  {
   "cell_type": "code",
   "execution_count": 252,
   "metadata": {},
   "outputs": [],
   "source": [
    "def get_model(input_shape):\n",
    "    model = Sequential([Dense(64,activation='relu',input_shape=(input_shape,)),\n",
    "                        Dense(64,activation='relu'),\n",
    "                        Dense(64,activation='relu'),\n",
    "                        Dense(64,activation='relu'),\n",
    "                        Dense(64,activation='relu'),\n",
    "                        Dense(16,activation='relu'),\n",
    "                        Dense(16,activation='relu'),\n",
    "                        Dense(16,activation='relu'),\n",
    "                        Dense(16,activation='relu'),\n",
    "                        Dense(16,activation='relu'),\n",
    "                        Dense(1)\n",
    "    ])\n",
    "    \n",
    "    model.compile(optimizer=tf.keras.optimizers.Adam(learning_rate=0.01),\n",
    "                  loss='mean_squared_logarithmic_error')\n",
    "    return model"
   ]
  },
  {
   "cell_type": "code",
   "execution_count": 253,
   "metadata": {},
   "outputs": [
    {
     "data": {
      "text/plain": [
       "(7054, 7)"
      ]
     },
     "execution_count": 253,
     "metadata": {},
     "output_type": "execute_result"
    }
   ],
   "source": [
    "train_x.shape"
   ]
  },
  {
   "cell_type": "code",
   "execution_count": 254,
   "metadata": {},
   "outputs": [],
   "source": [
    "model5 = get_model(train_x.shape[1])"
   ]
  },
  {
   "cell_type": "code",
   "execution_count": 255,
   "metadata": {},
   "outputs": [
    {
     "data": {
      "text/plain": [
       "3"
      ]
     },
     "execution_count": 255,
     "metadata": {},
     "output_type": "execute_result"
    }
   ],
   "source": [
    "x=3\n",
    "x"
   ]
  },
  {
   "cell_type": "code",
   "execution_count": 256,
   "metadata": {},
   "outputs": [
    {
     "name": "stdout",
     "output_type": "stream",
     "text": [
      "Train on 7054 samples\n",
      "Epoch 1/100\n",
      "7054/7054 [==============================] - 2s 246us/sample - loss: 0.3918\n",
      "Epoch 2/100\n",
      "7054/7054 [==============================] - 1s 125us/sample - loss: 0.2140\n",
      "Epoch 3/100\n",
      "7054/7054 [==============================] - 1s 117us/sample - loss: 0.2079\n",
      "Epoch 4/100\n",
      "7054/7054 [==============================] - 1s 119us/sample - loss: 0.2001\n",
      "Epoch 5/100\n",
      "7054/7054 [==============================] - 1s 121us/sample - loss: 0.1962\n",
      "Epoch 6/100\n",
      "7054/7054 [==============================] - 1s 123us/sample - loss: 0.2018\n",
      "Epoch 7/100\n",
      "7054/7054 [==============================] - 1s 124us/sample - loss: 0.1937\n",
      "Epoch 8/100\n",
      "7054/7054 [==============================] - 1s 123us/sample - loss: 0.1908\n",
      "Epoch 9/100\n",
      "7054/7054 [==============================] - 1s 121us/sample - loss: 0.1841\n",
      "Epoch 10/100\n",
      "7054/7054 [==============================] - 1s 137us/sample - loss: 0.1785\n",
      "Epoch 11/100\n",
      "7054/7054 [==============================] - 1s 131us/sample - loss: 0.1812\n",
      "Epoch 12/100\n",
      "7054/7054 [==============================] - 1s 122us/sample - loss: 0.1800\n",
      "Epoch 13/100\n",
      "7054/7054 [==============================] - 1s 136us/sample - loss: 0.1772\n",
      "Epoch 14/100\n",
      "7054/7054 [==============================] - 1s 128us/sample - loss: 0.1768\n",
      "Epoch 15/100\n",
      "7054/7054 [==============================] - 1s 128us/sample - loss: 0.1780\n",
      "Epoch 16/100\n",
      "7054/7054 [==============================] - 1s 124us/sample - loss: 0.1799\n",
      "Epoch 17/100\n",
      "7054/7054 [==============================] - 1s 121us/sample - loss: 0.1777\n",
      "Epoch 18/100\n",
      "7054/7054 [==============================] - 1s 121us/sample - loss: 0.1765\n",
      "Epoch 19/100\n",
      "7054/7054 [==============================] - 1s 124us/sample - loss: 0.1785\n",
      "Epoch 20/100\n",
      "7054/7054 [==============================] - 1s 124us/sample - loss: 0.1766\n",
      "Epoch 21/100\n",
      "7054/7054 [==============================] - 1s 125us/sample - loss: 0.1753\n",
      "Epoch 22/100\n",
      "7054/7054 [==============================] - 1s 122us/sample - loss: 0.1678\n",
      "Epoch 23/100\n",
      "7054/7054 [==============================] - 1s 125us/sample - loss: 0.1750\n",
      "Epoch 24/100\n",
      "7054/7054 [==============================] - 1s 123us/sample - loss: 0.1675\n",
      "Epoch 25/100\n",
      "7054/7054 [==============================] - 1s 132us/sample - loss: 0.1711\n",
      "Epoch 26/100\n",
      "7054/7054 [==============================] - 1s 137us/sample - loss: 0.1643\n",
      "Epoch 27/100\n",
      "7054/7054 [==============================] - 1s 133us/sample - loss: 0.1705\n",
      "Epoch 28/100\n",
      "7054/7054 [==============================] - 1s 137us/sample - loss: 0.1697\n",
      "Epoch 29/100\n",
      "7054/7054 [==============================] - 1s 125us/sample - loss: 0.1616\n",
      "Epoch 30/100\n",
      "7054/7054 [==============================] - 1s 137us/sample - loss: 0.1654\n",
      "Epoch 31/100\n",
      "7054/7054 [==============================] - 1s 135us/sample - loss: 0.1617\n",
      "Epoch 32/100\n",
      "7054/7054 [==============================] - 1s 128us/sample - loss: 0.1675\n",
      "Epoch 33/100\n",
      "7054/7054 [==============================] - 1s 127us/sample - loss: 0.1681\n",
      "Epoch 34/100\n",
      "7054/7054 [==============================] - 1s 133us/sample - loss: 0.1621\n",
      "Epoch 35/100\n",
      "7054/7054 [==============================] - 1s 133us/sample - loss: 0.1594\n",
      "Epoch 36/100\n",
      "7054/7054 [==============================] - 1s 126us/sample - loss: 0.1641\n",
      "Epoch 37/100\n",
      "7054/7054 [==============================] - 1s 133us/sample - loss: 0.1702\n",
      "Epoch 38/100\n",
      "7054/7054 [==============================] - 1s 132us/sample - loss: 0.1759\n",
      "Epoch 39/100\n",
      "7054/7054 [==============================] - 1s 132us/sample - loss: 0.1751\n",
      "Epoch 40/100\n",
      "7054/7054 [==============================] - 1s 135us/sample - loss: 0.1729\n",
      "Epoch 41/100\n",
      "7054/7054 [==============================] - 1s 136us/sample - loss: 0.1732\n",
      "Epoch 42/100\n",
      "7054/7054 [==============================] - 1s 132us/sample - loss: 0.1720\n",
      "Epoch 43/100\n",
      "7054/7054 [==============================] - 1s 130us/sample - loss: 0.1750\n",
      "Epoch 44/100\n",
      "7054/7054 [==============================] - 1s 142us/sample - loss: 0.1654\n",
      "Epoch 45/100\n",
      "7054/7054 [==============================] - 1s 155us/sample - loss: 0.1621\n",
      "Epoch 46/100\n",
      "7054/7054 [==============================] - 1s 148us/sample - loss: 0.1557\n",
      "Epoch 47/100\n",
      "7054/7054 [==============================] - 1s 137us/sample - loss: 0.1625\n",
      "Epoch 48/100\n",
      "7054/7054 [==============================] - 1s 133us/sample - loss: 0.1564\n",
      "Epoch 49/100\n",
      "7054/7054 [==============================] - 1s 125us/sample - loss: 0.1526\n",
      "Epoch 50/100\n",
      "7054/7054 [==============================] - 1s 124us/sample - loss: 0.1591\n",
      "Epoch 51/100\n",
      "7054/7054 [==============================] - 1s 126us/sample - loss: 0.1586\n",
      "Epoch 52/100\n",
      "7054/7054 [==============================] - 1s 127us/sample - loss: 0.1562\n",
      "Epoch 53/100\n",
      "7054/7054 [==============================] - 1s 125us/sample - loss: 0.1625\n",
      "Epoch 54/100\n",
      "7054/7054 [==============================] - 1s 128us/sample - loss: 0.1587\n",
      "Epoch 55/100\n",
      "7054/7054 [==============================] - 1s 128us/sample - loss: 0.1613\n",
      "Epoch 56/100\n",
      "7054/7054 [==============================] - 1s 133us/sample - loss: 0.1543\n",
      "Epoch 57/100\n",
      "7054/7054 [==============================] - 1s 132us/sample - loss: 0.1531\n",
      "Epoch 58/100\n",
      "7054/7054 [==============================] - 1s 130us/sample - loss: 0.1572\n",
      "Epoch 59/100\n",
      "7054/7054 [==============================] - 1s 125us/sample - loss: 0.1614\n",
      "Epoch 60/100\n",
      "7054/7054 [==============================] - 1s 123us/sample - loss: 0.1544\n",
      "Epoch 61/100\n",
      "7054/7054 [==============================] - 1s 124us/sample - loss: 0.1549\n",
      "Epoch 62/100\n",
      "7054/7054 [==============================] - 1s 123us/sample - loss: 0.1831\n",
      "Epoch 63/100\n",
      "7054/7054 [==============================] - 1s 126us/sample - loss: 0.1839\n",
      "Epoch 64/100\n",
      "7054/7054 [==============================] - 1s 125us/sample - loss: 0.1796\n",
      "Epoch 65/100\n",
      "7054/7054 [==============================] - 1s 123us/sample - loss: 0.1811\n",
      "Epoch 66/100\n",
      "7054/7054 [==============================] - 1s 124us/sample - loss: 0.1817\n",
      "Epoch 67/100\n",
      "7054/7054 [==============================] - 1s 127us/sample - loss: 0.1840\n",
      "Epoch 68/100\n",
      "7054/7054 [==============================] - 1s 124us/sample - loss: 0.1813\n",
      "Epoch 69/100\n",
      "7054/7054 [==============================] - 1s 124us/sample - loss: 0.1812\n",
      "Epoch 70/100\n",
      "7054/7054 [==============================] - 1s 124us/sample - loss: 0.1796\n",
      "Epoch 71/100\n",
      "7054/7054 [==============================] - 1s 134us/sample - loss: 0.1796\n",
      "Epoch 72/100\n",
      "7054/7054 [==============================] - 1s 137us/sample - loss: 0.1667\n",
      "Epoch 73/100\n",
      "7054/7054 [==============================] - 1s 127us/sample - loss: 0.1547\n",
      "Epoch 74/100\n",
      "7054/7054 [==============================] - 1s 124us/sample - loss: 0.1497\n",
      "Epoch 75/100\n",
      "7054/7054 [==============================] - 1s 130us/sample - loss: 0.1505\n",
      "Epoch 76/100\n",
      "7054/7054 [==============================] - 1s 138us/sample - loss: 0.1529\n",
      "Epoch 77/100\n",
      "7054/7054 [==============================] - 1s 153us/sample - loss: 0.1504\n",
      "Epoch 78/100\n",
      "7054/7054 [==============================] - 1s 127us/sample - loss: 0.1688\n",
      "Epoch 79/100\n",
      "7054/7054 [==============================] - 1s 125us/sample - loss: 0.1564\n",
      "Epoch 80/100\n",
      "7054/7054 [==============================] - 1s 130us/sample - loss: 0.1572\n",
      "Epoch 81/100\n",
      "7054/7054 [==============================] - 1s 141us/sample - loss: 0.1473\n",
      "Epoch 82/100\n",
      "7054/7054 [==============================] - 1s 131us/sample - loss: 0.1484\n",
      "Epoch 83/100\n",
      "7054/7054 [==============================] - 1s 130us/sample - loss: 0.1492\n",
      "Epoch 84/100\n",
      "7054/7054 [==============================] - 1s 129us/sample - loss: 0.1440\n",
      "Epoch 85/100\n",
      "7054/7054 [==============================] - 1s 124us/sample - loss: 0.1440\n",
      "Epoch 86/100\n",
      "7054/7054 [==============================] - 1s 124us/sample - loss: 0.1444\n",
      "Epoch 87/100\n",
      "7054/7054 [==============================] - 1s 126us/sample - loss: 0.1467\n",
      "Epoch 88/100\n",
      "7054/7054 [==============================] - 1s 135us/sample - loss: 0.1509\n",
      "Epoch 89/100\n",
      "7054/7054 [==============================] - 1s 128us/sample - loss: 0.1506\n",
      "Epoch 90/100\n",
      "7054/7054 [==============================] - 1s 124us/sample - loss: 0.1464\n",
      "Epoch 91/100\n",
      "7054/7054 [==============================] - 1s 126us/sample - loss: 0.1447\n",
      "Epoch 92/100\n",
      "7054/7054 [==============================] - 1s 125us/sample - loss: 0.1476\n"
     ]
    },
    {
     "name": "stdout",
     "output_type": "stream",
     "text": [
      "Epoch 93/100\n",
      "7054/7054 [==============================] - 1s 122us/sample - loss: 0.1410\n",
      "Epoch 94/100\n",
      "7054/7054 [==============================] - 1s 122us/sample - loss: 0.1439\n",
      "Epoch 95/100\n",
      "7054/7054 [==============================] - 1s 121us/sample - loss: 0.1450\n",
      "Epoch 96/100\n",
      "7054/7054 [==============================] - 1s 127us/sample - loss: 0.1420\n",
      "Epoch 97/100\n",
      "7054/7054 [==============================] - 1s 127us/sample - loss: 0.1492\n",
      "Epoch 98/100\n",
      "7054/7054 [==============================] - 1s 123us/sample - loss: 0.1458\n",
      "Epoch 99/100\n",
      "7054/7054 [==============================] - 1s 131us/sample - loss: 0.1423\n",
      "Epoch 100/100\n",
      "7054/7054 [==============================] - 1s 120us/sample - loss: 0.1473\n"
     ]
    }
   ],
   "source": [
    "history = model5.fit(train_x,train_y,epochs=100)"
   ]
  },
  {
   "cell_type": "code",
   "execution_count": 257,
   "metadata": {},
   "outputs": [],
   "source": [
    "predict_mlp = model5.predict(validation_x)"
   ]
  },
  {
   "cell_type": "code",
   "execution_count": 258,
   "metadata": {},
   "outputs": [
    {
     "data": {
      "text/plain": [
       "99.56461497392075"
      ]
     },
     "execution_count": 258,
     "metadata": {},
     "output_type": "execute_result"
    }
   ],
   "source": [
    "performance(validation_y,predict_mlp)"
   ]
  },
  {
   "cell_type": "markdown",
   "metadata": {},
   "source": [
    "##### Train the MLP with FUll training data and monitor the validation performance"
   ]
  },
  {
   "cell_type": "code",
   "execution_count": 259,
   "metadata": {},
   "outputs": [],
   "source": [
    "model_full = get_model(train_data.shape[1])"
   ]
  },
  {
   "cell_type": "code",
   "execution_count": 260,
   "metadata": {},
   "outputs": [
    {
     "name": "stdout",
     "output_type": "stream",
     "text": [
      "Train on 7348 samples, validate on 2450 samples\n",
      "Epoch 1/1000\n",
      "7072/7348 [===========================>..] - ETA: 0s - loss: 0.6308\n",
      "Epoch 00001: val_loss improved from inf to 0.33178, saving model to Weight_best/checkpoint\n",
      "7348/7348 [==============================] - 2s 297us/sample - loss: 0.6133 - val_loss: 0.3318\n",
      "Epoch 2/1000\n",
      "6912/7348 [===========================>..] - ETA: 0s - loss: 0.1793\n",
      "Epoch 00002: val_loss improved from 0.33178 to 0.31331, saving model to Weight_best/checkpoint\n",
      "7348/7348 [==============================] - 1s 150us/sample - loss: 0.1782 - val_loss: 0.3133\n",
      "Epoch 3/1000\n",
      "7296/7348 [============================>.] - ETA: 0s - loss: 0.1739\n",
      "Epoch 00003: val_loss did not improve from 0.31331\n",
      "7348/7348 [==============================] - 1s 151us/sample - loss: 0.1732 - val_loss: 0.3191\n",
      "Epoch 4/1000\n",
      "7136/7348 [============================>.] - ETA: 0s - loss: 0.1725\n",
      "Epoch 00004: val_loss did not improve from 0.31331\n",
      "7348/7348 [==============================] - 1s 137us/sample - loss: 0.1722 - val_loss: 0.3417\n",
      "Epoch 5/1000\n",
      "7328/7348 [============================>.] - ETA: 0s - loss: 0.1661\n",
      "Epoch 00005: val_loss did not improve from 0.31331\n",
      "7348/7348 [==============================] - 1s 147us/sample - loss: 0.1661 - val_loss: 0.3291\n",
      "Epoch 6/1000\n",
      "7072/7348 [===========================>..] - ETA: 0s - loss: 0.1626\n",
      "Epoch 00006: val_loss improved from 0.31331 to 0.29667, saving model to Weight_best/checkpoint\n",
      "7348/7348 [==============================] - 1s 150us/sample - loss: 0.1630 - val_loss: 0.2967\n",
      "Epoch 7/1000\n",
      "7072/7348 [===========================>..] - ETA: 0s - loss: 0.1680\n",
      "Epoch 00007: val_loss improved from 0.29667 to 0.29553, saving model to Weight_best/checkpoint\n",
      "7348/7348 [==============================] - 1s 161us/sample - loss: 0.1672 - val_loss: 0.2955\n",
      "Epoch 8/1000\n",
      "6944/7348 [===========================>..] - ETA: 0s - loss: 0.1622\n",
      "Epoch 00008: val_loss improved from 0.29553 to 0.29004, saving model to Weight_best/checkpoint\n",
      "7348/7348 [==============================] - 1s 166us/sample - loss: 0.1613 - val_loss: 0.2900\n",
      "Epoch 9/1000\n",
      "6912/7348 [===========================>..] - ETA: 0s - loss: 0.1921\n",
      "Epoch 00009: val_loss did not improve from 0.29004\n",
      "7348/7348 [==============================] - 1s 145us/sample - loss: 0.1897 - val_loss: 0.3142\n",
      "Epoch 10/1000\n",
      "7328/7348 [============================>.] - ETA: 0s - loss: 0.1894\n",
      "Epoch 00010: val_loss did not improve from 0.29004\n",
      "7348/7348 [==============================] - 1s 145us/sample - loss: 0.1896 - val_loss: 0.3155\n",
      "Epoch 11/1000\n",
      "6976/7348 [===========================>..] - ETA: 0s - loss: 0.1813\n",
      "Epoch 00011: val_loss did not improve from 0.29004\n",
      "7348/7348 [==============================] - 1s 137us/sample - loss: 0.1887 - val_loss: 0.3033\n",
      "Epoch 12/1000\n",
      "6976/7348 [===========================>..] - ETA: 0s - loss: 0.1875\n",
      "Epoch 00012: val_loss improved from 0.29004 to 0.28035, saving model to Weight_best/checkpoint\n",
      "7348/7348 [==============================] - 1s 153us/sample - loss: 0.1847 - val_loss: 0.2803\n",
      "Epoch 13/1000\n",
      "7168/7348 [============================>.] - ETA: 0s - loss: 0.1834\n",
      "Epoch 00013: val_loss did not improve from 0.28035\n",
      "7348/7348 [==============================] - 1s 146us/sample - loss: 0.1817 - val_loss: 0.2930\n",
      "Epoch 14/1000\n",
      "7008/7348 [===========================>..] - ETA: 0s - loss: 0.1846\n",
      "Epoch 00014: val_loss improved from 0.28035 to 0.27782, saving model to Weight_best/checkpoint\n",
      "7348/7348 [==============================] - 1s 163us/sample - loss: 0.1831 - val_loss: 0.2778\n",
      "Epoch 15/1000\n",
      "6912/7348 [===========================>..] - ETA: 0s - loss: 0.1809\n",
      "Epoch 00015: val_loss improved from 0.27782 to 0.27748, saving model to Weight_best/checkpoint\n",
      "7348/7348 [==============================] - 1s 155us/sample - loss: 0.1845 - val_loss: 0.2775\n",
      "Epoch 16/1000\n",
      "7136/7348 [============================>.] - ETA: 0s - loss: 0.1824\n",
      "Epoch 00016: val_loss did not improve from 0.27748\n",
      "7348/7348 [==============================] - 1s 154us/sample - loss: 0.1810 - val_loss: 0.2791\n",
      "Epoch 17/1000\n",
      "7232/7348 [============================>.] - ETA: 0s - loss: 0.1503\n",
      "Epoch 00017: val_loss improved from 0.27748 to 0.27448, saving model to Weight_best/checkpoint\n",
      "7348/7348 [==============================] - 1s 173us/sample - loss: 0.1503 - val_loss: 0.2745\n",
      "Epoch 18/1000\n",
      "7168/7348 [============================>.] - ETA: 0s - loss: 0.1445\n",
      "Epoch 00018: val_loss did not improve from 0.27448\n",
      "7348/7348 [==============================] - 1s 160us/sample - loss: 0.1449 - val_loss: 0.2999\n",
      "Epoch 19/1000\n",
      "7296/7348 [============================>.] - ETA: 0s - loss: 0.1546\n",
      "Epoch 00019: val_loss did not improve from 0.27448\n",
      "7348/7348 [==============================] - 1s 160us/sample - loss: 0.1549 - val_loss: 0.3010\n",
      "Epoch 20/1000\n",
      "7264/7348 [============================>.] - ETA: 0s - loss: 0.1464\n",
      "Epoch 00020: val_loss improved from 0.27448 to 0.27179, saving model to Weight_best/checkpoint\n",
      "7348/7348 [==============================] - 1s 163us/sample - loss: 0.1469 - val_loss: 0.2718\n",
      "Epoch 21/1000\n",
      "7136/7348 [============================>.] - ETA: 0s - loss: 0.1455\n",
      "Epoch 00021: val_loss improved from 0.27179 to 0.26953, saving model to Weight_best/checkpoint\n",
      "7348/7348 [==============================] - 1s 178us/sample - loss: 0.1456 - val_loss: 0.2695\n",
      "Epoch 22/1000\n",
      "7296/7348 [============================>.] - ETA: 0s - loss: 0.1410\n",
      "Epoch 00022: val_loss did not improve from 0.26953\n",
      "7348/7348 [==============================] - 1s 178us/sample - loss: 0.1407 - val_loss: 0.2760\n",
      "Epoch 23/1000\n",
      "7008/7348 [===========================>..] - ETA: 0s - loss: 0.1369\n",
      "Epoch 00023: val_loss did not improve from 0.26953\n",
      "7348/7348 [==============================] - 1s 156us/sample - loss: 0.1367 - val_loss: 0.2963\n",
      "Epoch 24/1000\n",
      "7168/7348 [============================>.] - ETA: 0s - loss: 0.1402\n",
      "Epoch 00024: val_loss did not improve from 0.26953\n",
      "7348/7348 [==============================] - 1s 145us/sample - loss: 0.1400 - val_loss: 0.2778\n",
      "Epoch 25/1000\n",
      "6976/7348 [===========================>..] - ETA: 0s - loss: 0.1422\n",
      "Epoch 00025: val_loss did not improve from 0.26953\n",
      "7348/7348 [==============================] - 1s 147us/sample - loss: 0.1414 - val_loss: 0.3025\n",
      "Epoch 26/1000\n",
      "6880/7348 [===========================>..] - ETA: 0s - loss: 0.1448\n",
      "Epoch 00026: val_loss did not improve from 0.26953\n",
      "7348/7348 [==============================] - 1s 140us/sample - loss: 0.1427 - val_loss: 0.3026\n",
      "Epoch 27/1000\n",
      "6944/7348 [===========================>..] - ETA: 0s - loss: 0.1395\n",
      "Epoch 00027: val_loss improved from 0.26953 to 0.26746, saving model to Weight_best/checkpoint\n",
      "7348/7348 [==============================] - 1s 150us/sample - loss: 0.1388 - val_loss: 0.2675\n",
      "Epoch 28/1000\n",
      "6912/7348 [===========================>..] - ETA: 0s - loss: 0.1527\n",
      "Epoch 00028: val_loss did not improve from 0.26746\n",
      "7348/7348 [==============================] - 1s 142us/sample - loss: 0.1516 - val_loss: 0.2897\n",
      "Epoch 29/1000\n",
      "7232/7348 [============================>.] - ETA: 0s - loss: 0.1371\n",
      "Epoch 00029: val_loss did not improve from 0.26746\n",
      "7348/7348 [==============================] - 1s 152us/sample - loss: 0.1378 - val_loss: 0.2749\n",
      "Epoch 30/1000\n",
      "7040/7348 [===========================>..] - ETA: 0s - loss: 0.1523\n",
      "Epoch 00030: val_loss did not improve from 0.26746\n",
      "7348/7348 [==============================] - 1s 139us/sample - loss: 0.1513 - val_loss: 0.2898\n",
      "Epoch 31/1000\n",
      "7104/7348 [============================>.] - ETA: 0s - loss: 0.1405\n",
      "Epoch 00031: val_loss improved from 0.26746 to 0.25903, saving model to Weight_best/checkpoint\n",
      "7348/7348 [==============================] - 1s 147us/sample - loss: 0.1394 - val_loss: 0.2590\n",
      "Epoch 32/1000\n",
      "7136/7348 [============================>.] - ETA: 0s - loss: 0.1389\n",
      "Epoch 00032: val_loss did not improve from 0.25903\n",
      "7348/7348 [==============================] - 1s 154us/sample - loss: 0.1385 - val_loss: 0.2621\n",
      "Epoch 33/1000\n",
      "6976/7348 [===========================>..] - ETA: 0s - loss: 0.1358\n",
      "Epoch 00033: val_loss did not improve from 0.25903\n",
      "7348/7348 [==============================] - 1s 160us/sample - loss: 0.1423 - val_loss: 0.2974\n",
      "Epoch 34/1000\n"
     ]
    },
    {
     "name": "stdout",
     "output_type": "stream",
     "text": [
      "6976/7348 [===========================>..] - ETA: 0s - loss: 0.1526\n",
      "Epoch 00034: val_loss did not improve from 0.25903\n",
      "7348/7348 [==============================] - 1s 148us/sample - loss: 0.1527 - val_loss: 0.2635\n",
      "Epoch 35/1000\n",
      "7040/7348 [===========================>..] - ETA: 0s - loss: 0.1420\n",
      "Epoch 00035: val_loss did not improve from 0.25903\n",
      "7348/7348 [==============================] - 1s 144us/sample - loss: 0.1406 - val_loss: 0.2838\n",
      "Epoch 36/1000\n",
      "7008/7348 [===========================>..] - ETA: 0s - loss: 0.1380\n",
      "Epoch 00036: val_loss did not improve from 0.25903\n",
      "7348/7348 [==============================] - 1s 138us/sample - loss: 0.1376 - val_loss: 0.2816\n",
      "Epoch 37/1000\n",
      "7200/7348 [============================>.] - ETA: 0s - loss: 0.1350\n",
      "Epoch 00037: val_loss improved from 0.25903 to 0.25401, saving model to Weight_best/checkpoint\n",
      "7348/7348 [==============================] - 1s 152us/sample - loss: 0.1352 - val_loss: 0.2540\n",
      "Epoch 38/1000\n",
      "7072/7348 [===========================>..] - ETA: 0s - loss: 0.1343\n",
      "Epoch 00038: val_loss did not improve from 0.25401\n",
      "7348/7348 [==============================] - 1s 140us/sample - loss: 0.1331 - val_loss: 0.2754\n",
      "Epoch 39/1000\n",
      "7328/7348 [============================>.] - ETA: 0s - loss: 0.1329\n",
      "Epoch 00039: val_loss improved from 0.25401 to 0.25335, saving model to Weight_best/checkpoint\n",
      "7348/7348 [==============================] - 1s 160us/sample - loss: 0.1330 - val_loss: 0.2533\n",
      "Epoch 40/1000\n",
      "6976/7348 [===========================>..] - ETA: 0s - loss: 0.1291\n",
      "Epoch 00040: val_loss did not improve from 0.25335\n",
      "7348/7348 [==============================] - 1s 144us/sample - loss: 0.1293 - val_loss: 0.2614\n",
      "Epoch 41/1000\n",
      "6912/7348 [===========================>..] - ETA: 0s - loss: 0.1306\n",
      "Epoch 00041: val_loss did not improve from 0.25335\n",
      "7348/7348 [==============================] - 1s 151us/sample - loss: 0.1296 - val_loss: 0.3193\n",
      "Epoch 42/1000\n",
      "7264/7348 [============================>.] - ETA: 0s - loss: 0.1323\n",
      "Epoch 00042: val_loss did not improve from 0.25335\n",
      "7348/7348 [==============================] - 1s 152us/sample - loss: 0.1319 - val_loss: 0.2909\n",
      "Epoch 43/1000\n",
      "6976/7348 [===========================>..] - ETA: 0s - loss: 0.1324\n",
      "Epoch 00043: val_loss did not improve from 0.25335\n",
      "7348/7348 [==============================] - 1s 152us/sample - loss: 0.1319 - val_loss: 0.2614\n",
      "Epoch 44/1000\n",
      "7136/7348 [============================>.] - ETA: 0s - loss: 0.1355\n",
      "Epoch 00044: val_loss did not improve from 0.25335\n",
      "7348/7348 [==============================] - 1s 152us/sample - loss: 0.1354 - val_loss: 0.2625\n",
      "Epoch 45/1000\n",
      "7040/7348 [===========================>..] - ETA: 0s - loss: 0.1287\n",
      "Epoch 00045: val_loss did not improve from 0.25335\n",
      "7348/7348 [==============================] - 1s 144us/sample - loss: 0.1285 - val_loss: 0.2750\n",
      "Epoch 46/1000\n",
      "7200/7348 [============================>.] - ETA: 0s - loss: 0.1293\n",
      "Epoch 00046: val_loss improved from 0.25335 to 0.25140, saving model to Weight_best/checkpoint\n",
      "7348/7348 [==============================] - 1s 159us/sample - loss: 0.1291 - val_loss: 0.2514\n",
      "Epoch 47/1000\n",
      "7168/7348 [============================>.] - ETA: 0s - loss: 0.1232\n",
      "Epoch 00047: val_loss did not improve from 0.25140\n",
      "7348/7348 [==============================] - 1s 146us/sample - loss: 0.1244 - val_loss: 0.2668\n",
      "Epoch 48/1000\n",
      "7040/7348 [===========================>..] - ETA: 0s - loss: 0.1341\n",
      "Epoch 00048: val_loss improved from 0.25140 to 0.25037, saving model to Weight_best/checkpoint\n",
      "7348/7348 [==============================] - 1s 166us/sample - loss: 0.1335 - val_loss: 0.2504\n",
      "Epoch 49/1000\n",
      "7296/7348 [============================>.] - ETA: 0s - loss: 0.1262\n",
      "Epoch 00049: val_loss improved from 0.25037 to 0.24935, saving model to Weight_best/checkpoint\n",
      "7348/7348 [==============================] - 1s 158us/sample - loss: 0.1262 - val_loss: 0.2494\n",
      "Epoch 50/1000\n",
      "6976/7348 [===========================>..] - ETA: 0s - loss: 0.1280\n",
      "Epoch 00050: val_loss improved from 0.24935 to 0.24913, saving model to Weight_best/checkpoint\n",
      "7348/7348 [==============================] - 1s 159us/sample - loss: 0.1269 - val_loss: 0.2491\n",
      "Epoch 51/1000\n",
      "6944/7348 [===========================>..] - ETA: 0s - loss: 0.1232\n",
      "Epoch 00051: val_loss improved from 0.24913 to 0.24852, saving model to Weight_best/checkpoint\n",
      "7348/7348 [==============================] - 1s 173us/sample - loss: 0.1235 - val_loss: 0.2485\n",
      "Epoch 52/1000\n",
      "7072/7348 [===========================>..] - ETA: 0s - loss: 0.1280\n",
      "Epoch 00052: val_loss did not improve from 0.24852\n",
      "7348/7348 [==============================] - 1s 151us/sample - loss: 0.1272 - val_loss: 0.2665\n",
      "Epoch 53/1000\n",
      "7072/7348 [===========================>..] - ETA: 0s - loss: 0.1290\n",
      "Epoch 00053: val_loss did not improve from 0.24852\n",
      "7348/7348 [==============================] - 1s 146us/sample - loss: 0.1283 - val_loss: 0.2551\n",
      "Epoch 54/1000\n",
      "7008/7348 [===========================>..] - ETA: 0s - loss: 0.1274\n",
      "Epoch 00054: val_loss did not improve from 0.24852\n",
      "7348/7348 [==============================] - 1s 138us/sample - loss: 0.1260 - val_loss: 0.2645\n",
      "Epoch 55/1000\n",
      "7136/7348 [============================>.] - ETA: 0s - loss: 0.1262\n",
      "Epoch 00055: val_loss did not improve from 0.24852\n",
      "7348/7348 [==============================] - 1s 146us/sample - loss: 0.1253 - val_loss: 0.2842\n",
      "Epoch 56/1000\n",
      "7040/7348 [===========================>..] - ETA: 0s - loss: 0.1282\n",
      "Epoch 00056: val_loss did not improve from 0.24852\n",
      "7348/7348 [==============================] - 1s 144us/sample - loss: 0.1273 - val_loss: 0.2806\n",
      "Epoch 57/1000\n",
      "7136/7348 [============================>.] - ETA: 0s - loss: 0.1293\n",
      "Epoch 00057: val_loss did not improve from 0.24852\n",
      "7348/7348 [==============================] - 1s 144us/sample - loss: 0.1294 - val_loss: 0.2685\n",
      "Epoch 58/1000\n",
      "6912/7348 [===========================>..] - ETA: 0s - loss: 0.1266\n",
      "Epoch 00058: val_loss did not improve from 0.24852\n",
      "7348/7348 [==============================] - 1s 141us/sample - loss: 0.1269 - val_loss: 0.2603\n",
      "Epoch 59/1000\n",
      "6976/7348 [===========================>..] - ETA: 0s - loss: 0.1294\n",
      "Epoch 00059: val_loss did not improve from 0.24852\n",
      "7348/7348 [==============================] - 1s 139us/sample - loss: 0.1301 - val_loss: 0.2577\n"
     ]
    }
   ],
   "source": [
    "history = model_full.fit(train_data,\n",
    "                         train_label,\n",
    "                         epochs=1000,\n",
    "                         validation_split=0.25,\n",
    "                         callbacks=[tf.keras.callbacks.EarlyStopping(monitor='val_loss',patience=8,mode='min'),\n",
    "                                    tf.keras.callbacks.ModelCheckpoint(filepath='Weight_best/checkpoint',\n",
    "                                                                       save_weights_only=True,\n",
    "                                                                       save_freq='epoch',\n",
    "                                                                       monitor='val_loss',\n",
    "                                                                       save_best_only=True,\n",
    "                                                                       verbose=1)])"
   ]
  },
  {
   "cell_type": "code",
   "execution_count": 261,
   "metadata": {},
   "outputs": [],
   "source": [
    "predict_mlp2=model_full.predict(validation_x)"
   ]
  },
  {
   "cell_type": "code",
   "execution_count": 262,
   "metadata": {},
   "outputs": [
    {
     "data": {
      "text/plain": [
       "array([99.83331], dtype=float32)"
      ]
     },
     "execution_count": 262,
     "metadata": {},
     "output_type": "execute_result"
    }
   ],
   "source": [
    "peformance(validation_y,predict_mlp2)"
   ]
  },
  {
   "cell_type": "code",
   "execution_count": 263,
   "metadata": {},
   "outputs": [
    {
     "data": {
      "text/html": [
       "<div>\n",
       "<style scoped>\n",
       "    .dataframe tbody tr th:only-of-type {\n",
       "        vertical-align: middle;\n",
       "    }\n",
       "\n",
       "    .dataframe tbody tr th {\n",
       "        vertical-align: top;\n",
       "    }\n",
       "\n",
       "    .dataframe thead th {\n",
       "        text-align: right;\n",
       "    }\n",
       "</style>\n",
       "<table border=\"1\" class=\"dataframe\">\n",
       "  <thead>\n",
       "    <tr style=\"text-align: right;\">\n",
       "      <th></th>\n",
       "      <th>State_of_Country</th>\n",
       "      <th>Market_Category</th>\n",
       "      <th>Product_Category</th>\n",
       "      <th>Grade</th>\n",
       "      <th>Demand</th>\n",
       "      <th>High_Cap_Price</th>\n",
       "      <th>format_date</th>\n",
       "    </tr>\n",
       "  </thead>\n",
       "  <tbody>\n",
       "    <tr>\n",
       "      <th>0</th>\n",
       "      <td>0</td>\n",
       "      <td>0</td>\n",
       "      <td>0</td>\n",
       "      <td>0</td>\n",
       "      <td>0.50</td>\n",
       "      <td>4240</td>\n",
       "      <td>-0.42</td>\n",
       "    </tr>\n",
       "    <tr>\n",
       "      <th>1</th>\n",
       "      <td>0</td>\n",
       "      <td>1</td>\n",
       "      <td>0</td>\n",
       "      <td>0</td>\n",
       "      <td>0.70</td>\n",
       "      <td>4756</td>\n",
       "      <td>-0.42</td>\n",
       "    </tr>\n",
       "    <tr>\n",
       "      <th>2</th>\n",
       "      <td>0</td>\n",
       "      <td>103</td>\n",
       "      <td>0</td>\n",
       "      <td>1</td>\n",
       "      <td>1.60</td>\n",
       "      <td>9669</td>\n",
       "      <td>-0.42</td>\n",
       "    </tr>\n",
       "    <tr>\n",
       "      <th>3</th>\n",
       "      <td>0</td>\n",
       "      <td>103</td>\n",
       "      <td>0</td>\n",
       "      <td>0</td>\n",
       "      <td>0.00</td>\n",
       "      <td>8313</td>\n",
       "      <td>-0.42</td>\n",
       "    </tr>\n",
       "    <tr>\n",
       "      <th>4</th>\n",
       "      <td>0</td>\n",
       "      <td>103</td>\n",
       "      <td>0</td>\n",
       "      <td>2</td>\n",
       "      <td>0.00</td>\n",
       "      <td>7257</td>\n",
       "      <td>-0.42</td>\n",
       "    </tr>\n",
       "  </tbody>\n",
       "</table>\n",
       "</div>"
      ],
      "text/plain": [
       "   State_of_Country  Market_Category  Product_Category  Grade  Demand  \\\n",
       "0                 0                0                 0      0    0.50   \n",
       "1                 0                1                 0      0    0.70   \n",
       "2                 0              103                 0      1    1.60   \n",
       "3                 0              103                 0      0    0.00   \n",
       "4                 0              103                 0      2    0.00   \n",
       "\n",
       "   High_Cap_Price  format_date  \n",
       "0            4240        -0.42  \n",
       "1            4756        -0.42  \n",
       "2            9669        -0.42  \n",
       "3            8313        -0.42  \n",
       "4            7257        -0.42  "
      ]
     },
     "execution_count": 263,
     "metadata": {},
     "output_type": "execute_result"
    }
   ],
   "source": [
    "train_data.head()"
   ]
  },
  {
   "cell_type": "code",
   "execution_count": 265,
   "metadata": {},
   "outputs": [
    {
     "data": {
      "text/html": [
       "<div>\n",
       "<style scoped>\n",
       "    .dataframe tbody tr th:only-of-type {\n",
       "        vertical-align: middle;\n",
       "    }\n",
       "\n",
       "    .dataframe tbody tr th {\n",
       "        vertical-align: top;\n",
       "    }\n",
       "\n",
       "    .dataframe thead th {\n",
       "        text-align: right;\n",
       "    }\n",
       "</style>\n",
       "<table border=\"1\" class=\"dataframe\">\n",
       "  <thead>\n",
       "    <tr style=\"text-align: right;\">\n",
       "      <th></th>\n",
       "      <th>State_of_Country</th>\n",
       "      <th>Market_Category</th>\n",
       "      <th>Product_Category</th>\n",
       "      <th>Grade</th>\n",
       "      <th>Demand</th>\n",
       "      <th>High_Cap_Price</th>\n",
       "      <th>format_date</th>\n",
       "    </tr>\n",
       "  </thead>\n",
       "  <tbody>\n",
       "    <tr>\n",
       "      <th>0</th>\n",
       "      <td>0</td>\n",
       "      <td>3</td>\n",
       "      <td>0</td>\n",
       "      <td>0</td>\n",
       "      <td>0.10</td>\n",
       "      <td>5303</td>\n",
       "      <td>-0.51</td>\n",
       "    </tr>\n",
       "    <tr>\n",
       "      <th>1</th>\n",
       "      <td>0</td>\n",
       "      <td>268</td>\n",
       "      <td>0</td>\n",
       "      <td>2</td>\n",
       "      <td>1.40</td>\n",
       "      <td>10492</td>\n",
       "      <td>-0.51</td>\n",
       "    </tr>\n",
       "    <tr>\n",
       "      <th>2</th>\n",
       "      <td>0</td>\n",
       "      <td>320</td>\n",
       "      <td>0</td>\n",
       "      <td>0</td>\n",
       "      <td>13.40</td>\n",
       "      <td>24706</td>\n",
       "      <td>-0.51</td>\n",
       "    </tr>\n",
       "    <tr>\n",
       "      <th>3</th>\n",
       "      <td>17</td>\n",
       "      <td>358</td>\n",
       "      <td>0</td>\n",
       "      <td>3</td>\n",
       "      <td>5.50</td>\n",
       "      <td>23464</td>\n",
       "      <td>-0.51</td>\n",
       "    </tr>\n",
       "    <tr>\n",
       "      <th>4</th>\n",
       "      <td>18</td>\n",
       "      <td>23</td>\n",
       "      <td>5</td>\n",
       "      <td>2</td>\n",
       "      <td>0.00</td>\n",
       "      <td>6222</td>\n",
       "      <td>-0.51</td>\n",
       "    </tr>\n",
       "  </tbody>\n",
       "</table>\n",
       "</div>"
      ],
      "text/plain": [
       "   State_of_Country  Market_Category  Product_Category  Grade  Demand  \\\n",
       "0                 0                3                 0      0    0.10   \n",
       "1                 0              268                 0      2    1.40   \n",
       "2                 0              320                 0      0   13.40   \n",
       "3                17              358                 0      3    5.50   \n",
       "4                18               23                 5      2    0.00   \n",
       "\n",
       "   High_Cap_Price  format_date  \n",
       "0            5303        -0.51  \n",
       "1           10492        -0.51  \n",
       "2           24706        -0.51  \n",
       "3           23464        -0.51  \n",
       "4            6222        -0.51  "
      ]
     },
     "execution_count": 265,
     "metadata": {},
     "output_type": "execute_result"
    }
   ],
   "source": [
    "test.head()\n",
    "test['format_date']=(test['format_date']-test['format_date'].mean())/(test['format_date'].max()-test['format_date'].min())\n",
    "test.head()                                                                      "
   ]
  },
  {
   "cell_type": "code",
   "execution_count": 266,
   "metadata": {},
   "outputs": [],
   "source": [
    "model_mlp_final = get_model(test.shape[1])"
   ]
  },
  {
   "cell_type": "code",
   "execution_count": 267,
   "metadata": {},
   "outputs": [
    {
     "data": {
      "text/plain": [
       "<tensorflow.python.training.tracking.util.CheckpointLoadStatus at 0x1f50cee2978>"
      ]
     },
     "execution_count": 267,
     "metadata": {},
     "output_type": "execute_result"
    }
   ],
   "source": [
    "model_mlp_final.load_weights(tf.train.latest_checkpoint('Weight_best'))"
   ]
  },
  {
   "cell_type": "code",
   "execution_count": 268,
   "metadata": {},
   "outputs": [],
   "source": [
    "result = model_mlp_final.predict(test)"
   ]
  },
  {
   "cell_type": "code",
   "execution_count": 270,
   "metadata": {},
   "outputs": [
    {
     "data": {
      "text/plain": [
       "5763"
      ]
     },
     "execution_count": 270,
     "metadata": {},
     "output_type": "execute_result"
    }
   ],
   "source": [
    "test.shape[0]"
   ]
  },
  {
   "cell_type": "code",
   "execution_count": 273,
   "metadata": {},
   "outputs": [],
   "source": [
    "final_data=[]\n",
    "for i in result:\n",
    "    if i-int(i)-0.5>=0.1:\n",
    "        final_data.append(math.ceil(i))\n",
    "    else:\n",
    "        final_data.append(math.floor(i))"
   ]
  },
  {
   "cell_type": "code",
   "execution_count": 274,
   "metadata": {},
   "outputs": [],
   "source": [
    "import csv\n",
    "with open('submission.csv', 'w', newline='') as file:\n",
    "    writer = csv.writer(file)\n",
    "    writer.writerow([\"Item_Id\", \"Low_Cap_Price\"])\n",
    "    for i in range(test.shape[0]):\n",
    "        writer.writerow([Item_test[i],final_data[i]])"
   ]
  }
 ],
 "metadata": {
  "kernelspec": {
   "display_name": "Python 3",
   "language": "python",
   "name": "python3"
  },
  "language_info": {
   "codemirror_mode": {
    "name": "ipython",
    "version": 3
   },
   "file_extension": ".py",
   "mimetype": "text/x-python",
   "name": "python",
   "nbconvert_exporter": "python",
   "pygments_lexer": "ipython3",
   "version": "3.7.3"
  }
 },
 "nbformat": 4,
 "nbformat_minor": 2
}
